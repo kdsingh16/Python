{
 "cells": [
  {
   "cell_type": "code",
   "execution_count": 1,
   "id": "125dd21d",
   "metadata": {},
   "outputs": [],
   "source": [
    "import pandas as pd \n",
    "import numpy as np\n",
    "import matplotlib.pyplot as plt\n",
    "from scipy.stats import poisson,binom\n",
    "import statistics as st"
   ]
  },
  {
   "cell_type": "markdown",
   "id": "7e1d1874",
   "metadata": {},
   "source": [
    "## Task 1"
   ]
  },
  {
   "cell_type": "code",
   "execution_count": 2,
   "id": "d66dec4d",
   "metadata": {},
   "outputs": [
    {
     "data": {
      "text/html": [
       "<div>\n",
       "<style scoped>\n",
       "    .dataframe tbody tr th:only-of-type {\n",
       "        vertical-align: middle;\n",
       "    }\n",
       "\n",
       "    .dataframe tbody tr th {\n",
       "        vertical-align: top;\n",
       "    }\n",
       "\n",
       "    .dataframe thead th {\n",
       "        text-align: right;\n",
       "    }\n",
       "</style>\n",
       "<table border=\"1\" class=\"dataframe\">\n",
       "  <thead>\n",
       "    <tr style=\"text-align: right;\">\n",
       "      <th></th>\n",
       "      <th>X</th>\n",
       "      <th>P(X)</th>\n",
       "    </tr>\n",
       "  </thead>\n",
       "  <tbody>\n",
       "    <tr>\n",
       "      <th>0</th>\n",
       "      <td>6</td>\n",
       "      <td>0.03</td>\n",
       "    </tr>\n",
       "    <tr>\n",
       "      <th>1</th>\n",
       "      <td>7</td>\n",
       "      <td>0.08</td>\n",
       "    </tr>\n",
       "    <tr>\n",
       "      <th>2</th>\n",
       "      <td>8</td>\n",
       "      <td>0.15</td>\n",
       "    </tr>\n",
       "    <tr>\n",
       "      <th>3</th>\n",
       "      <td>9</td>\n",
       "      <td>0.20</td>\n",
       "    </tr>\n",
       "    <tr>\n",
       "      <th>4</th>\n",
       "      <td>10</td>\n",
       "      <td>0.19</td>\n",
       "    </tr>\n",
       "    <tr>\n",
       "      <th>5</th>\n",
       "      <td>11</td>\n",
       "      <td>0.16</td>\n",
       "    </tr>\n",
       "    <tr>\n",
       "      <th>6</th>\n",
       "      <td>12</td>\n",
       "      <td>0.10</td>\n",
       "    </tr>\n",
       "    <tr>\n",
       "      <th>7</th>\n",
       "      <td>13</td>\n",
       "      <td>0.07</td>\n",
       "    </tr>\n",
       "    <tr>\n",
       "      <th>8</th>\n",
       "      <td>14</td>\n",
       "      <td>0.02</td>\n",
       "    </tr>\n",
       "  </tbody>\n",
       "</table>\n",
       "</div>"
      ],
      "text/plain": [
       "    X  P(X)\n",
       "0   6  0.03\n",
       "1   7  0.08\n",
       "2   8  0.15\n",
       "3   9  0.20\n",
       "4  10  0.19\n",
       "5  11  0.16\n",
       "6  12  0.10\n",
       "7  13  0.07\n",
       "8  14  0.02"
      ]
     },
     "execution_count": 2,
     "metadata": {},
     "output_type": "execute_result"
    }
   ],
   "source": [
    "X = [6,7,8,9,10,11,12,13,14]\n",
    "P_X = [0.03,0.08,0.15,0.20,0.19,0.16,0.10,0.07,0.02]\n",
    "\n",
    "x = pd.DataFrame(list(zip(X,P_X)), columns = ['X','P(X)'])\n",
    "x"
   ]
  },
  {
   "cell_type": "markdown",
   "id": "0fc521bd",
   "metadata": {},
   "source": [
    "## Task - 1(A)"
   ]
  },
  {
   "cell_type": "code",
   "execution_count": 3,
   "id": "ff3b3360",
   "metadata": {},
   "outputs": [
    {
     "name": "stdout",
     "output_type": "stream",
     "text": [
      "The probability of number of days lost due to extrme weather conditions does not exceed 10 days the next summer is :  0.65\n"
     ]
    }
   ],
   "source": [
    "data = x[x.X <= 10]\n",
    "data = data['P(X)'].sum()\n",
    "print(\"The probability of number of days lost due to extrme weather conditions does not exceed 10 days the next summer is : \",data)"
   ]
  },
  {
   "cell_type": "markdown",
   "id": "3150842b",
   "metadata": {},
   "source": [
    "## (B)"
   ]
  },
  {
   "cell_type": "code",
   "execution_count": 4,
   "id": "5319fbe9",
   "metadata": {},
   "outputs": [
    {
     "name": "stdout",
     "output_type": "stream",
     "text": [
      "The probability of thats you will lose 8 to 12 days next summer is : 0.8\n"
     ]
    }
   ],
   "source": [
    "data = x[(x.X >= 8) & (x.X <= 12)]\n",
    "data = data['P(X)'].sum()\n",
    "print(\"The probability of thats you will lose 8 to 12 days next summer is :\",data)\n"
   ]
  },
  {
   "cell_type": "markdown",
   "id": "963ad1fc",
   "metadata": {},
   "source": [
    "## (C)"
   ]
  },
  {
   "cell_type": "code",
   "execution_count": 5,
   "id": "70231b3c",
   "metadata": {},
   "outputs": [
    {
     "name": "stdout",
     "output_type": "stream",
     "text": [
      "The probablity that the number of days will not be lost at all next summer is :  0.0\n"
     ]
    }
   ],
   "source": [
    "data = x['P(X)'].sum()\n",
    "prob = 1-data\n",
    "print(\"The probablity that the number of days will not be lost at all next summer is : \",prob)"
   ]
  },
  {
   "cell_type": "markdown",
   "id": "f0dab6b1",
   "metadata": {},
   "source": [
    "# (D)\n"
   ]
  },
  {
   "cell_type": "code",
   "execution_count": 6,
   "id": "0bebdc8b",
   "metadata": {},
   "outputs": [
    {
     "name": "stdout",
     "output_type": "stream",
     "text": [
      "mean is : 9.790000000000001\n",
      "variance is :  3.4659\n",
      "std dev is : 1.8616927780920245\n"
     ]
    }
   ],
   "source": [
    "x1=np.array(X)\n",
    "x2=np.array(P_X)\n",
    "mean = sum (x1*(x2))\n",
    "print(\"mean is :\",mean)\n",
    "var=sum((x1-mean)**2*x2)\n",
    "print(\"variance is : \",var)\n",
    "std=np.sqrt(var)\n",
    "print(\"std dev is :\",std)"
   ]
  },
  {
   "cell_type": "markdown",
   "id": "8eff6591",
   "metadata": {},
   "source": [
    "## (E)"
   ]
  },
  {
   "cell_type": "code",
   "execution_count": 7,
   "id": "b63c017b",
   "metadata": {},
   "outputs": [
    {
     "data": {
      "image/png": "[encoded data removed]",
      "text/plain": [
       "<Figure size 432x288 with 1 Axes>"
      ]
     },
     "metadata": {
      "needs_background": "light"
     },
     "output_type": "display_data"
    }
   ],
   "source": [
    "plt.plot(x['X'],x['P(X)'],'o--',color='orange',label='Number of days lost probability')\n",
    "plt.legend(shadow=True)\n",
    "plt.grid()\n",
    "plt.title('no. of the prob')\n",
    "plt.xlabel('lost days due to weather condition')\n",
    "plt.ylabel('Prob of day lost')\n",
    "plt.show()"
   ]
  },
  {
   "cell_type": "markdown",
   "id": "b6d9e874",
   "metadata": {},
   "source": [
    "## Task - 2(A)"
   ]
  },
  {
   "cell_type": "code",
   "execution_count": 8,
   "id": "6b538d15",
   "metadata": {},
   "outputs": [
    {
     "name": "stdout",
     "output_type": "stream",
     "text": [
      "[0 1 2 3]\n"
     ]
    }
   ],
   "source": [
    "p=0.1\n",
    "q=1-p\n",
    "n=20\n",
    "k=np.arange(0,4)\n",
    "print(k)"
   ]
  },
  {
   "cell_type": "code",
   "execution_count": 9,
   "id": "78315313",
   "metadata": {},
   "outputs": [
    {
     "data": {
      "text/plain": [
       "0.8670466765656651"
      ]
     },
     "execution_count": 9,
     "metadata": {},
     "output_type": "execute_result"
    }
   ],
   "source": [
    "binomial=binom.pmf(k,n,p)\n",
    "binomial.sum()"
   ]
  },
  {
   "cell_type": "markdown",
   "id": "c274a33d",
   "metadata": {},
   "source": [
    "## 2(B)"
   ]
  },
  {
   "cell_type": "code",
   "execution_count": 10,
   "id": "7cb7a2a2",
   "metadata": {},
   "outputs": [
    {
     "data": {
      "text/plain": [
       "2.0"
      ]
     },
     "execution_count": 10,
     "metadata": {},
     "output_type": "execute_result"
    }
   ],
   "source": [
    "mean = n*p\n",
    "mean"
   ]
  },
  {
   "cell_type": "code",
   "execution_count": 11,
   "id": "cd613929",
   "metadata": {},
   "outputs": [
    {
     "data": {
      "text/plain": [
       "1.3416407864998738"
      ]
     },
     "execution_count": 11,
     "metadata": {},
     "output_type": "execute_result"
    }
   ],
   "source": [
    "std= np.sqrt(n*p*q)\n",
    "std"
   ]
  },
  {
   "cell_type": "markdown",
   "id": "c11072de",
   "metadata": {},
   "source": [
    "## 2(C)"
   ]
  },
  {
   "cell_type": "code",
   "execution_count": 12,
   "id": "50f6fee6",
   "metadata": {},
   "outputs": [
    {
     "name": "stderr",
     "output_type": "stream",
     "text": [
      "No artists with labels found to put in legend.  Note that artists whose label start with an underscore are ignored when legend() is called with no argument.\n"
     ]
    },
    {
     "data": {
      "image/png": "[encoded data removed]",
      "text/plain": [
       "<Figure size 432x288 with 1 Axes>"
      ]
     },
     "metadata": {
      "needs_background": "light"
     },
     "output_type": "display_data"
    }
   ],
   "source": [
    "plt.plot(k,binomial, 'o--',color='orange')\n",
    "plt.legend(shadow=True)\n",
    "plt.grid()\n",
    "plt.title('binomial pro. Disttribution')\n",
    "plt.show()"
   ]
  },
  {
   "cell_type": "markdown",
   "id": "70d31241",
   "metadata": {},
   "source": [
    "## Task 3"
   ]
  },
  {
   "cell_type": "markdown",
   "id": "0a9d0835",
   "metadata": {},
   "source": [
    "## A :- Exactly five overseas outsourcing companies "
   ]
  },
  {
   "cell_type": "code",
   "execution_count": 13,
   "id": "75967d60",
   "metadata": {},
   "outputs": [
    {
     "data": {
      "text/plain": [
       "0.1032"
      ]
     },
     "execution_count": 13,
     "metadata": {},
     "output_type": "execute_result"
    }
   ],
   "source": [
    "x=0.2 #20% overseas outsourcing comp.\n",
    "y=1-p\n",
    "z=15\n",
    "zz=5\n",
    "us_comp=binom.pmf(zz,z,x)\n",
    "l=us_comp.sum().round(4)\n",
    "l\n"
   ]
  },
  {
   "cell_type": "markdown",
   "id": "5a06f762",
   "metadata": {},
   "source": [
    "## B:- More than 9 years overseas outsourcing companies"
   ]
  },
  {
   "cell_type": "code",
   "execution_count": 14,
   "id": "ec07203c",
   "metadata": {},
   "outputs": [
    {
     "data": {
      "text/plain": [
       "0.00011322566246400013"
      ]
     },
     "execution_count": 14,
     "metadata": {},
     "output_type": "execute_result"
    }
   ],
   "source": [
    "xx=0.2 #20% overseas outsourcing comp.\n",
    "yy=1-p\n",
    "zz=15\n",
    "zzz=np.arange(10,16)\n",
    "more_than_9=binom.pmf(zzz,zz,xx)\n",
    "i=more_than_9.sum()\n",
    "i"
   ]
  },
  {
   "cell_type": "markdown",
   "id": "5df059f0",
   "metadata": {},
   "source": [
    "## C:- None of the overseas outsourcing companiesuse counsultant"
   ]
  },
  {
   "cell_type": "code",
   "execution_count": 15,
   "id": "e99b892a",
   "metadata": {},
   "outputs": [
    {
     "name": "stdout",
     "output_type": "stream",
     "text": [
      "probablity of none outsourcing is 0.03518437208883203\n"
     ]
    }
   ],
   "source": [
    "p4=0.2 #20% overseas outsourcing comp.\n",
    "q4=1-p\n",
    "n4=15\n",
    "k4=0\n",
    "outsourcing_comp=binom.pmf(k4,n4,p4)\n",
    "j=outsourcing_comp.sum()\n",
    "non_outsourcing =1-j\n",
    "print('probablity of none outsourcing is',j)"
   ]
  },
  {
   "cell_type": "markdown",
   "id": "699f7e06",
   "metadata": {},
   "source": [
    "## D :- probablity of four to seven (inclusive) outsoursing comp"
   ]
  },
  {
   "cell_type": "code",
   "execution_count": 16,
   "id": "870736c8",
   "metadata": {},
   "outputs": [
    {
     "name": "stdout",
     "output_type": "stream",
     "text": [
      "[0.18760417 0.10318229 0.04299262 0.01381906]\n",
      "probablity of outsourcing comp. between 4 to 7 is :  0.3475981457162242\n"
     ]
    }
   ],
   "source": [
    "p5=0.2  #20% overseas outsourcing comp.\n",
    "q5=1-p\n",
    "n5=15\n",
    "k5=np.arange(4,8)\n",
    "four_seven = binom.pmf(k5,n5,p5)\n",
    "k=four_seven.sum()\n",
    "print(four_seven)\n",
    "print(\"probablity of outsourcing comp. between 4 to 7 is : \",k)\n"
   ]
  },
  {
   "cell_type": "markdown",
   "id": "447c98df",
   "metadata": {},
   "source": [
    "## E"
   ]
  },
  {
   "cell_type": "code",
   "execution_count": 20,
   "id": "425c5642",
   "metadata": {},
   "outputs": [
    {
     "data": {
      "text/plain": [
       "[<matplotlib.lines.Line2D at 0x14931ff5e20>]"
      ]
     },
     "execution_count": 20,
     "metadata": {},
     "output_type": "execute_result"
    },
    {
     "data": {
      "image/png": "[encoded data removed]",
      "text/plain": [
       "<Figure size 1080x1080 with 4 Axes>"
      ]
     },
     "metadata": {
      "needs_background": "light"
     },
     "output_type": "display_data"
    }
   ],
   "source": [
    "plt.figure(figsize=(15,15))\n",
    "plt.subplot(421)\n",
    "plt.tight_layout(pad=5.08)\n",
    "plt.title('exactly 5 outsourcing companies')\n",
    "plt.plot(zz,us_comp,'*--',color='red',label='Exactly 5 overseas pd')\n",
    "\n",
    "#----------------------------------------------------------------------------------------------------------\n",
    "\n",
    "plt.subplot(422)\n",
    "plt.title('more than 9 outsourcing companies')\n",
    "plt.plot(zzz,more_than_9,'*--',color='blue',label='more than 9 overseas pd')\n",
    "\n",
    "#-----------------------------------------------------------------------------------------------------------\n",
    "\n",
    "plt.subplot(423)\n",
    "plt.title('4 to 7 outsourcing companies')\n",
    "plt.plot(k5,four_seven,'*--',color='green',label='4 to 7 overseas pd')\n",
    "\n",
    "#-----------------------------------------------------------------------------------------------------------\n",
    "\n",
    "plt.subplot(424)\n",
    "plt.title('none outsourcing companies')\n",
    "plt.plot(k4,non_outsourcing,'*--',color='pink',label='None overseas pd')\n",
    "\n",
    "#-----------------------------------------------------------------------------------------------------------"
   ]
  },
  {
   "cell_type": "markdown",
   "id": "b65bf317",
   "metadata": {},
   "source": [
    "## Task :- 4"
   ]
  },
  {
   "cell_type": "code",
   "execution_count": 21,
   "id": "43e8b63c",
   "metadata": {},
   "outputs": [
    {
     "name": "stdout",
     "output_type": "stream",
     "text": [
      "3.4999999999999996\n"
     ]
    }
   ],
   "source": [
    "w1=np.array([3,6,4,6,2,3,1,5,1,0,3,3])\n",
    "w2=np.array([1,2,4,0,2,6,5,4,2,5,3,4])\n",
    "w3=np.array([5,3,5,3,5,4,7,3,4,8,3,1])\n",
    "t=np.mean((w1+w2+w3)/3)\n",
    "print(t)"
   ]
  },
  {
   "cell_type": "markdown",
   "id": "3b565bc4",
   "metadata": {},
   "source": [
    "## A"
   ]
  },
  {
   "cell_type": "code",
   "execution_count": 22,
   "id": "26f06085",
   "metadata": {},
   "outputs": [
    {
     "name": "stdout",
     "output_type": "stream",
     "text": [
      "0.0301973834223185\n"
     ]
    }
   ],
   "source": [
    "rate = 3.5 #mean\n",
    "n = 0\n",
    "poission_data=poisson.pmf(n,rate)\n",
    "print(poission_data)"
   ]
  },
  {
   "cell_type": "markdown",
   "id": "af91cc9d",
   "metadata": {},
   "source": [
    "## B"
   ]
  },
  {
   "cell_type": "code",
   "execution_count": 23,
   "id": "5c8dd16b",
   "metadata": {},
   "outputs": [
    {
     "name": "stdout",
     "output_type": "stream",
     "text": [
      "[7.70983499e-02 3.85491749e-02 1.68652640e-02 6.55871379e-03\n",
      " 2.29554983e-03 7.30402218e-04 2.13033980e-04 5.73553024e-05\n",
      " 1.43388256e-05]\n",
      "0.07709834987526801\n",
      "0.11564752481290201\n",
      "0.13251278884811687\n",
      "0.13907150263958934\n",
      "0.1413670524666047\n",
      "0.14209745468429139\n",
      "0.14231048866445\n",
      "0.1423678439668004\n",
      "0.142382182792388\n"
     ]
    }
   ],
   "source": [
    "rate = 3.5 \n",
    "n = np.arange(6,15)\n",
    "poission_data1=poisson.pmf(n,rate)\n",
    "print(poission_data1)\n",
    "sum=0\n",
    "for i in poission_data1:\n",
    "    sum=sum+i\n",
    "    print(sum)"
   ]
  },
  {
   "cell_type": "code",
   "execution_count": 24,
   "id": "9db5687d",
   "metadata": {},
   "outputs": [
    {
     "data": {
      "image/png": "[encoded data removed]",
      "text/plain": [
       "<Figure size 432x288 with 1 Axes>"
      ]
     },
     "metadata": {
      "needs_background": "light"
     },
     "output_type": "display_data"
    }
   ],
   "source": [
    "plt.plot(n,poission_data1,'o--');"
   ]
  },
  {
   "cell_type": "markdown",
   "id": "23591219",
   "metadata": {},
   "source": [
    "## C"
   ]
  },
  {
   "cell_type": "code",
   "execution_count": 25,
   "id": "b8dced8d",
   "metadata": {},
   "outputs": [
    {
     "data": {
      "text/plain": [
       "0.08176541624472157"
      ]
     },
     "execution_count": 25,
     "metadata": {},
     "output_type": "execute_result"
    }
   ],
   "source": [
    "rate = 3.5*2\n",
    "n = np.arange(0,4)\n",
    "poission_data3=poisson.pmf(n,rate)\n",
    "poission_data3.sum()\n"
   ]
  },
  {
   "cell_type": "code",
   "execution_count": 26,
   "id": "70a74f76",
   "metadata": {},
   "outputs": [
    {
     "data": {
      "image/png": "[encoded data removed]",
      "text/plain": [
       "<Figure size 432x288 with 1 Axes>"
      ]
     },
     "metadata": {
      "needs_background": "light"
     },
     "output_type": "display_data"
    }
   ],
   "source": [
    "plt.plot(n,poission_data3,'*--',color='orange');"
   ]
  },
  {
   "cell_type": "markdown",
   "id": "29031870",
   "metadata": {},
   "source": [
    "## D"
   ]
  },
  {
   "cell_type": "code",
   "execution_count": 27,
   "id": "652e920e",
   "metadata": {},
   "outputs": [
    {
     "data": {
      "text/plain": [
       "0.42007489196817666"
      ]
     },
     "execution_count": 27,
     "metadata": {},
     "output_type": "execute_result"
    }
   ],
   "source": [
    "rate = (3.5)*2\n",
    "n = np.arange(3,7)\n",
    "poission_data4=poisson.pmf(n,rate)\n",
    "poission_data4.sum()"
   ]
  },
  {
   "cell_type": "code",
   "execution_count": 28,
   "id": "ca6fceaa",
   "metadata": {},
   "outputs": [
    {
     "data": {
      "image/png": "[encoded data removed]",
      "text/plain": [
       "<Figure size 432x288 with 1 Axes>"
      ]
     },
     "metadata": {
      "needs_background": "light"
     },
     "output_type": "display_data"
    }
   ],
   "source": [
    "plt.plot(n,poission_data4,'o--');"
   ]
  },
  {
   "cell_type": "markdown",
   "id": "63824b4d",
   "metadata": {},
   "source": [
    "## E"
   ]
  },
  {
   "cell_type": "code",
   "execution_count": 29,
   "id": "4a025ffe",
   "metadata": {},
   "outputs": [
    {
     "data": {
      "text/plain": [
       "0.10090247270437917"
      ]
     },
     "execution_count": 29,
     "metadata": {},
     "output_type": "execute_result"
    }
   ],
   "source": [
    "rate = 3.5*3\n",
    "n = 8\n",
    "poission_data5=poisson.pmf(n,rate)\n",
    "poission_data5"
   ]
  },
  {
   "cell_type": "code",
   "execution_count": 30,
   "id": "6c205f41",
   "metadata": {},
   "outputs": [
    {
     "data": {
      "image/png": "[encoded data removed]",
      "text/plain": [
       "<Figure size 432x288 with 1 Axes>"
      ]
     },
     "metadata": {
      "needs_background": "light"
     },
     "output_type": "display_data"
    }
   ],
   "source": [
    "plt.plot(n,poission_data5,'o--');"
   ]
  },
  {
   "cell_type": "markdown",
   "id": "82bd93f8",
   "metadata": {},
   "source": [
    "## F :- poisson distribution"
   ]
  },
  {
   "cell_type": "code",
   "execution_count": 33,
   "id": "adeeac8f",
   "metadata": {},
   "outputs": [],
   "source": [
    "n=np.arange(0,20)\n",
    "rate_1=3.5\n",
    "rate_2=3.5*3\n",
    "rate_3=3.5*6\n",
    "\n",
    "poission_data1 = poisson.pmf(n,rate_1)\n",
    "poission_data2 = poisson.pmf(n,rate_2)\n",
    "poission_data3 = poisson.pmf(n,rate_3)"
   ]
  },
  {
   "cell_type": "code",
   "execution_count": 37,
   "id": "c6883ab0",
   "metadata": {},
   "outputs": [
    {
     "data": {
      "image/png": "[encoded data removed]",
      "text/plain": [
       "<Figure size 432x288 with 1 Axes>"
      ]
     },
     "metadata": {
      "needs_background": "light"
     },
     "output_type": "display_data"
    }
   ],
   "source": [
    "plt.plot(n,poission_data1,'o--',color = 'green');\n",
    "plt.plot(n,poission_data2,'o--',color = 'pink');\n",
    "plt.plot(n,poission_data3,'o--',color = 'blue');"
   ]
  },
  {
   "cell_type": "code",
   "execution_count": null,
   "id": "d4742ec4",
   "metadata": {},
   "outputs": [],
   "source": []
  },
  {
   "cell_type": "code",
   "execution_count": null,
   "id": "755cf60c",
   "metadata": {},
   "outputs": [],
   "source": []
  }
 ],
 "metadata": {
  "kernelspec": {
   "display_name": "Python 3 (ipykernel)",
   "language": "python",
   "name": "python3"
  },
  "language_info": {
   "codemirror_mode": {
    "name": "ipython",
    "version": 3
   },
   "file_extension": ".py",
   "mimetype": "text/x-python",
   "name": "python",
   "nbconvert_exporter": "python",
   "pygments_lexer": "ipython3",
   "version": "3.9.12"
  }
 },
 "nbformat": 4,
 "nbformat_minor": 5
}
