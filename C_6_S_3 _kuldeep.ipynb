{
 "cells": [
  {
   "cell_type": "code",
   "execution_count": 1,
   "id": "6047a2f8",
   "metadata": {},
   "outputs": [],
   "source": [
    "\n",
    "import matplotlib.pyplot as plt          # to visualize\n",
    "from tabulate import tabulate            # to print the table\n",
    "import matplotlib as mat                 # to visualize\n",
    "import seaborn as sns                    # to visualize\n",
    "import pandas as pd                      # for data reading\n",
    "import numpy as np                       # for numerical computation"
   ]
  },
  {
   "cell_type": "code",
   "execution_count": 2,
   "id": "c3f153a1",
   "metadata": {},
   "outputs": [],
   "source": [
    "df=pd.read_csv(\"data (1).csv\")  #brazil_housing data "
   ]
  },
  {
   "cell_type": "markdown",
   "id": "3b4bfdae",
   "metadata": {},
   "source": [
    "### Level 0 Analysis"
   ]
  },
  {
   "cell_type": "code",
   "execution_count": 3,
   "id": "343fb887",
   "metadata": {},
   "outputs": [
    {
     "data": {
      "text/html": [
       "<div>\n",
       "<style scoped>\n",
       "    .dataframe tbody tr th:only-of-type {\n",
       "        vertical-align: middle;\n",
       "    }\n",
       "\n",
       "    .dataframe tbody tr th {\n",
       "        vertical-align: top;\n",
       "    }\n",
       "\n",
       "    .dataframe thead th {\n",
       "        text-align: right;\n",
       "    }\n",
       "</style>\n",
       "<table border=\"1\" class=\"dataframe\">\n",
       "  <thead>\n",
       "    <tr style=\"text-align: right;\">\n",
       "      <th></th>\n",
       "      <th>city</th>\n",
       "      <th>area</th>\n",
       "      <th>rooms</th>\n",
       "      <th>bathroom</th>\n",
       "      <th>parking spaces</th>\n",
       "      <th>floor</th>\n",
       "      <th>animal</th>\n",
       "      <th>furniture</th>\n",
       "      <th>hoa (R$)</th>\n",
       "      <th>rent amount (R$)</th>\n",
       "      <th>property tax (R$)</th>\n",
       "      <th>fire insurance (R$)</th>\n",
       "      <th>total (R$)</th>\n",
       "    </tr>\n",
       "  </thead>\n",
       "  <tbody>\n",
       "    <tr>\n",
       "      <th>0</th>\n",
       "      <td>São Paulo</td>\n",
       "      <td>70</td>\n",
       "      <td>2</td>\n",
       "      <td>1</td>\n",
       "      <td>1</td>\n",
       "      <td>7</td>\n",
       "      <td>acept</td>\n",
       "      <td>furnished</td>\n",
       "      <td>2065</td>\n",
       "      <td>3300</td>\n",
       "      <td>211</td>\n",
       "      <td>42</td>\n",
       "      <td>5618</td>\n",
       "    </tr>\n",
       "    <tr>\n",
       "      <th>1</th>\n",
       "      <td>São Paulo</td>\n",
       "      <td>320</td>\n",
       "      <td>4</td>\n",
       "      <td>4</td>\n",
       "      <td>0</td>\n",
       "      <td>20</td>\n",
       "      <td>acept</td>\n",
       "      <td>not furnished</td>\n",
       "      <td>1200</td>\n",
       "      <td>4960</td>\n",
       "      <td>1750</td>\n",
       "      <td>63</td>\n",
       "      <td>7973</td>\n",
       "    </tr>\n",
       "  </tbody>\n",
       "</table>\n",
       "</div>"
      ],
      "text/plain": [
       "        city  area  rooms  bathroom  parking spaces  floor animal  \\\n",
       "0  São Paulo    70      2         1               1      7  acept   \n",
       "1  São Paulo   320      4         4               0     20  acept   \n",
       "\n",
       "       furniture  hoa (R$)  rent amount (R$)  property tax (R$)  \\\n",
       "0      furnished      2065              3300                211   \n",
       "1  not furnished      1200              4960               1750   \n",
       "\n",
       "   fire insurance (R$)  total (R$)  \n",
       "0                   42        5618  \n",
       "1                   63        7973  "
      ]
     },
     "execution_count": 3,
     "metadata": {},
     "output_type": "execute_result"
    }
   ],
   "source": [
    "df.head(2)  # we take top 2  rows by head call function"
   ]
  },
  {
   "cell_type": "code",
   "execution_count": 4,
   "id": "a90f06c3",
   "metadata": {},
   "outputs": [
    {
     "data": {
      "text/html": [
       "<div>\n",
       "<style scoped>\n",
       "    .dataframe tbody tr th:only-of-type {\n",
       "        vertical-align: middle;\n",
       "    }\n",
       "\n",
       "    .dataframe tbody tr th {\n",
       "        vertical-align: top;\n",
       "    }\n",
       "\n",
       "    .dataframe thead th {\n",
       "        text-align: right;\n",
       "    }\n",
       "</style>\n",
       "<table border=\"1\" class=\"dataframe\">\n",
       "  <thead>\n",
       "    <tr style=\"text-align: right;\">\n",
       "      <th></th>\n",
       "      <th>city</th>\n",
       "      <th>area</th>\n",
       "      <th>rooms</th>\n",
       "      <th>bathroom</th>\n",
       "      <th>parking spaces</th>\n",
       "      <th>floor</th>\n",
       "      <th>animal</th>\n",
       "      <th>furniture</th>\n",
       "      <th>hoa (R$)</th>\n",
       "      <th>rent amount (R$)</th>\n",
       "      <th>property tax (R$)</th>\n",
       "      <th>fire insurance (R$)</th>\n",
       "      <th>total (R$)</th>\n",
       "    </tr>\n",
       "  </thead>\n",
       "  <tbody>\n",
       "    <tr>\n",
       "      <th>10687</th>\n",
       "      <td>Porto Alegre</td>\n",
       "      <td>63</td>\n",
       "      <td>2</td>\n",
       "      <td>1</td>\n",
       "      <td>1</td>\n",
       "      <td>5</td>\n",
       "      <td>not acept</td>\n",
       "      <td>furnished</td>\n",
       "      <td>402</td>\n",
       "      <td>1478</td>\n",
       "      <td>24</td>\n",
       "      <td>22</td>\n",
       "      <td>1926</td>\n",
       "    </tr>\n",
       "    <tr>\n",
       "      <th>10688</th>\n",
       "      <td>São Paulo</td>\n",
       "      <td>285</td>\n",
       "      <td>4</td>\n",
       "      <td>4</td>\n",
       "      <td>4</td>\n",
       "      <td>17</td>\n",
       "      <td>acept</td>\n",
       "      <td>not furnished</td>\n",
       "      <td>3100</td>\n",
       "      <td>15000</td>\n",
       "      <td>973</td>\n",
       "      <td>191</td>\n",
       "      <td>19260</td>\n",
       "    </tr>\n",
       "    <tr>\n",
       "      <th>10689</th>\n",
       "      <td>Rio de Janeiro</td>\n",
       "      <td>70</td>\n",
       "      <td>3</td>\n",
       "      <td>3</td>\n",
       "      <td>0</td>\n",
       "      <td>8</td>\n",
       "      <td>not acept</td>\n",
       "      <td>furnished</td>\n",
       "      <td>980</td>\n",
       "      <td>6000</td>\n",
       "      <td>332</td>\n",
       "      <td>78</td>\n",
       "      <td>7390</td>\n",
       "    </tr>\n",
       "    <tr>\n",
       "      <th>10690</th>\n",
       "      <td>Rio de Janeiro</td>\n",
       "      <td>120</td>\n",
       "      <td>2</td>\n",
       "      <td>2</td>\n",
       "      <td>2</td>\n",
       "      <td>8</td>\n",
       "      <td>acept</td>\n",
       "      <td>furnished</td>\n",
       "      <td>1585</td>\n",
       "      <td>12000</td>\n",
       "      <td>279</td>\n",
       "      <td>155</td>\n",
       "      <td>14020</td>\n",
       "    </tr>\n",
       "    <tr>\n",
       "      <th>10691</th>\n",
       "      <td>São Paulo</td>\n",
       "      <td>80</td>\n",
       "      <td>2</td>\n",
       "      <td>1</td>\n",
       "      <td>0</td>\n",
       "      <td>0</td>\n",
       "      <td>acept</td>\n",
       "      <td>not furnished</td>\n",
       "      <td>0</td>\n",
       "      <td>1400</td>\n",
       "      <td>165</td>\n",
       "      <td>22</td>\n",
       "      <td>1587</td>\n",
       "    </tr>\n",
       "  </tbody>\n",
       "</table>\n",
       "</div>"
      ],
      "text/plain": [
       "                 city  area  rooms  bathroom  parking spaces  floor  \\\n",
       "10687    Porto Alegre    63      2         1               1      5   \n",
       "10688       São Paulo   285      4         4               4     17   \n",
       "10689  Rio de Janeiro    70      3         3               0      8   \n",
       "10690  Rio de Janeiro   120      2         2               2      8   \n",
       "10691       São Paulo    80      2         1               0      0   \n",
       "\n",
       "          animal      furniture  hoa (R$)  rent amount (R$)  \\\n",
       "10687  not acept      furnished       402              1478   \n",
       "10688      acept  not furnished      3100             15000   \n",
       "10689  not acept      furnished       980              6000   \n",
       "10690      acept      furnished      1585             12000   \n",
       "10691      acept  not furnished         0              1400   \n",
       "\n",
       "       property tax (R$)  fire insurance (R$)  total (R$)  \n",
       "10687                 24                   22        1926  \n",
       "10688                973                  191       19260  \n",
       "10689                332                   78        7390  \n",
       "10690                279                  155       14020  \n",
       "10691                165                   22        1587  "
      ]
     },
     "execution_count": 4,
     "metadata": {},
     "output_type": "execute_result"
    }
   ],
   "source": [
    "df.tail() # take bottom 5 rows by tail "
   ]
  },
  {
   "cell_type": "code",
   "execution_count": 5,
   "id": "9b7c8852",
   "metadata": {},
   "outputs": [
    {
     "name": "stdout",
     "output_type": "stream",
     "text": [
      "(10692, 13)\n"
     ]
    }
   ],
   "source": [
    "print(df.shape) #Number of rows and columan "
   ]
  },
  {
   "cell_type": "code",
   "execution_count": 6,
   "id": "8b7d76ab",
   "metadata": {},
   "outputs": [
    {
     "name": "stdout",
     "output_type": "stream",
     "text": [
      "Index(['city', 'area', 'rooms', 'bathroom', 'parking spaces', 'floor',\n",
      "       'animal', 'furniture', 'hoa (R$)', 'rent amount (R$)',\n",
      "       'property tax (R$)', 'fire insurance (R$)', 'total (R$)'],\n",
      "      dtype='object')\n"
     ]
    }
   ],
   "source": [
    "print(df.columns) # all columns name"
   ]
  },
  {
   "cell_type": "code",
   "execution_count": 7,
   "id": "19e41f1f",
   "metadata": {},
   "outputs": [
    {
     "name": "stdout",
     "output_type": "stream",
     "text": [
      "<class 'pandas.core.frame.DataFrame'>\n",
      "RangeIndex: 10692 entries, 0 to 10691\n",
      "Data columns (total 13 columns):\n",
      " #   Column               Non-Null Count  Dtype \n",
      "---  ------               --------------  ----- \n",
      " 0   city                 10692 non-null  object\n",
      " 1   area                 10692 non-null  int64 \n",
      " 2   rooms                10692 non-null  int64 \n",
      " 3   bathroom             10692 non-null  int64 \n",
      " 4   parking spaces       10692 non-null  int64 \n",
      " 5   floor                10692 non-null  int64 \n",
      " 6   animal               10692 non-null  object\n",
      " 7   furniture            10692 non-null  object\n",
      " 8   hoa (R$)             10692 non-null  int64 \n",
      " 9   rent amount (R$)     10692 non-null  int64 \n",
      " 10  property tax (R$)    10692 non-null  int64 \n",
      " 11  fire insurance (R$)  10692 non-null  int64 \n",
      " 12  total (R$)           10692 non-null  int64 \n",
      "dtypes: int64(10), object(3)\n",
      "memory usage: 1.1+ MB\n"
     ]
    }
   ],
   "source": [
    "df.info() # information of data set"
   ]
  },
  {
   "cell_type": "code",
   "execution_count": 8,
   "id": "ac62d6ff",
   "metadata": {},
   "outputs": [
    {
     "data": {
      "text/plain": [
       "city                   0\n",
       "area                   0\n",
       "rooms                  0\n",
       "bathroom               0\n",
       "parking spaces         0\n",
       "floor                  0\n",
       "animal                 0\n",
       "furniture              0\n",
       "hoa (R$)               0\n",
       "rent amount (R$)       0\n",
       "property tax (R$)      0\n",
       "fire insurance (R$)    0\n",
       "total (R$)             0\n",
       "dtype: int64"
      ]
     },
     "execution_count": 8,
     "metadata": {},
     "output_type": "execute_result"
    }
   ],
   "source": [
    "df.isnull().sum() # isnull retuen the true/false dataframe And sum count the number of true in column"
   ]
  },
  {
   "cell_type": "markdown",
   "id": "a8b24743",
   "metadata": {},
   "source": [
    "## Analysis by level"
   ]
  },
  {
   "cell_type": "markdown",
   "id": "b9597dc7",
   "metadata": {},
   "source": [
    "## level 1\n",
    "Identify the type of data in each column (categorical or numerical)?                         \n",
    "1.Seperate out the categorical columns  from the numerical types"
   ]
  },
  {
   "cell_type": "markdown",
   "id": "4d8dc2df",
   "metadata": {},
   "source": [
    "### Following are the kinds of analysis that can be performed on categorical data :\n",
    "1.Check if the variable is nominal or ordinal.                                      \n",
    "2.Check how many categories are present in a variable.                                              \n",
    "3.Check the mode of variable.                                                                         \n",
    "4.Check the missing values of a variable.                                                         \n",
    "5.Think how the missing values could be treated                                        \n",
    "6.What kind of graph/chart can be plotted using this data.                          "
   ]
  },
  {
   "cell_type": "code",
   "execution_count": 9,
   "id": "0915e74a",
   "metadata": {},
   "outputs": [],
   "source": [
    "a = df.select_dtypes(exclude='object')"
   ]
  },
  {
   "cell_type": "code",
   "execution_count": 10,
   "id": "dc58b7ae",
   "metadata": {},
   "outputs": [],
   "source": [
    "b = df.select_dtypes(include='object')"
   ]
  },
  {
   "cell_type": "code",
   "execution_count": 11,
   "id": "c7da7942",
   "metadata": {},
   "outputs": [
    {
     "data": {
      "text/html": [
       "<div>\n",
       "<style scoped>\n",
       "    .dataframe tbody tr th:only-of-type {\n",
       "        vertical-align: middle;\n",
       "    }\n",
       "\n",
       "    .dataframe tbody tr th {\n",
       "        vertical-align: top;\n",
       "    }\n",
       "\n",
       "    .dataframe thead th {\n",
       "        text-align: right;\n",
       "    }\n",
       "</style>\n",
       "<table border=\"1\" class=\"dataframe\">\n",
       "  <thead>\n",
       "    <tr style=\"text-align: right;\">\n",
       "      <th></th>\n",
       "      <th>area</th>\n",
       "      <th>rooms</th>\n",
       "      <th>bathroom</th>\n",
       "      <th>parking spaces</th>\n",
       "      <th>floor</th>\n",
       "      <th>hoa (R$)</th>\n",
       "      <th>rent amount (R$)</th>\n",
       "      <th>property tax (R$)</th>\n",
       "      <th>fire insurance (R$)</th>\n",
       "      <th>total (R$)</th>\n",
       "    </tr>\n",
       "  </thead>\n",
       "  <tbody>\n",
       "    <tr>\n",
       "      <th>0</th>\n",
       "      <td>70</td>\n",
       "      <td>2</td>\n",
       "      <td>1</td>\n",
       "      <td>1</td>\n",
       "      <td>7</td>\n",
       "      <td>2065</td>\n",
       "      <td>3300</td>\n",
       "      <td>211</td>\n",
       "      <td>42</td>\n",
       "      <td>5618</td>\n",
       "    </tr>\n",
       "    <tr>\n",
       "      <th>1</th>\n",
       "      <td>320</td>\n",
       "      <td>4</td>\n",
       "      <td>4</td>\n",
       "      <td>0</td>\n",
       "      <td>20</td>\n",
       "      <td>1200</td>\n",
       "      <td>4960</td>\n",
       "      <td>1750</td>\n",
       "      <td>63</td>\n",
       "      <td>7973</td>\n",
       "    </tr>\n",
       "  </tbody>\n",
       "</table>\n",
       "</div>"
      ],
      "text/plain": [
       "   area  rooms  bathroom  parking spaces  floor  hoa (R$)  rent amount (R$)  \\\n",
       "0    70      2         1               1      7      2065              3300   \n",
       "1   320      4         4               0     20      1200              4960   \n",
       "\n",
       "   property tax (R$)  fire insurance (R$)  total (R$)  \n",
       "0                211                   42        5618  \n",
       "1               1750                   63        7973  "
      ]
     },
     "execution_count": 11,
     "metadata": {},
     "output_type": "execute_result"
    }
   ],
   "source": [
    "a.head(2)"
   ]
  },
  {
   "cell_type": "code",
   "execution_count": 12,
   "id": "a9b6eaf2",
   "metadata": {},
   "outputs": [
    {
     "data": {
      "text/html": [
       "<div>\n",
       "<style scoped>\n",
       "    .dataframe tbody tr th:only-of-type {\n",
       "        vertical-align: middle;\n",
       "    }\n",
       "\n",
       "    .dataframe tbody tr th {\n",
       "        vertical-align: top;\n",
       "    }\n",
       "\n",
       "    .dataframe thead th {\n",
       "        text-align: right;\n",
       "    }\n",
       "</style>\n",
       "<table border=\"1\" class=\"dataframe\">\n",
       "  <thead>\n",
       "    <tr style=\"text-align: right;\">\n",
       "      <th></th>\n",
       "      <th>city</th>\n",
       "      <th>animal</th>\n",
       "      <th>furniture</th>\n",
       "    </tr>\n",
       "  </thead>\n",
       "  <tbody>\n",
       "    <tr>\n",
       "      <th>0</th>\n",
       "      <td>São Paulo</td>\n",
       "      <td>acept</td>\n",
       "      <td>furnished</td>\n",
       "    </tr>\n",
       "    <tr>\n",
       "      <th>1</th>\n",
       "      <td>São Paulo</td>\n",
       "      <td>acept</td>\n",
       "      <td>not furnished</td>\n",
       "    </tr>\n",
       "    <tr>\n",
       "      <th>2</th>\n",
       "      <td>Porto Alegre</td>\n",
       "      <td>acept</td>\n",
       "      <td>not furnished</td>\n",
       "    </tr>\n",
       "  </tbody>\n",
       "</table>\n",
       "</div>"
      ],
      "text/plain": [
       "           city animal      furniture\n",
       "0     São Paulo  acept      furnished\n",
       "1     São Paulo  acept  not furnished\n",
       "2  Porto Alegre  acept  not furnished"
      ]
     },
     "execution_count": 12,
     "metadata": {},
     "output_type": "execute_result"
    }
   ],
   "source": [
    "b.head(3)"
   ]
  },
  {
   "cell_type": "code",
   "execution_count": 13,
   "id": "9a52ffe0",
   "metadata": {},
   "outputs": [
    {
     "data": {
      "text/html": [
       "<div>\n",
       "<style scoped>\n",
       "    .dataframe tbody tr th:only-of-type {\n",
       "        vertical-align: middle;\n",
       "    }\n",
       "\n",
       "    .dataframe tbody tr th {\n",
       "        vertical-align: top;\n",
       "    }\n",
       "\n",
       "    .dataframe thead th {\n",
       "        text-align: right;\n",
       "    }\n",
       "</style>\n",
       "<table border=\"1\" class=\"dataframe\">\n",
       "  <thead>\n",
       "    <tr style=\"text-align: right;\">\n",
       "      <th></th>\n",
       "      <th>count</th>\n",
       "      <th>mean</th>\n",
       "      <th>std</th>\n",
       "      <th>min</th>\n",
       "      <th>25%</th>\n",
       "      <th>50%</th>\n",
       "      <th>75%</th>\n",
       "      <th>max</th>\n",
       "    </tr>\n",
       "  </thead>\n",
       "  <tbody>\n",
       "    <tr>\n",
       "      <th>area</th>\n",
       "      <td>10692.0</td>\n",
       "      <td>149.217920</td>\n",
       "      <td>537.016942</td>\n",
       "      <td>11.0</td>\n",
       "      <td>56.00</td>\n",
       "      <td>90.0</td>\n",
       "      <td>182.0</td>\n",
       "      <td>46335.0</td>\n",
       "    </tr>\n",
       "    <tr>\n",
       "      <th>rooms</th>\n",
       "      <td>10692.0</td>\n",
       "      <td>2.506079</td>\n",
       "      <td>1.171266</td>\n",
       "      <td>1.0</td>\n",
       "      <td>2.00</td>\n",
       "      <td>2.0</td>\n",
       "      <td>3.0</td>\n",
       "      <td>13.0</td>\n",
       "    </tr>\n",
       "    <tr>\n",
       "      <th>bathroom</th>\n",
       "      <td>10692.0</td>\n",
       "      <td>2.236813</td>\n",
       "      <td>1.407198</td>\n",
       "      <td>1.0</td>\n",
       "      <td>1.00</td>\n",
       "      <td>2.0</td>\n",
       "      <td>3.0</td>\n",
       "      <td>10.0</td>\n",
       "    </tr>\n",
       "    <tr>\n",
       "      <th>parking spaces</th>\n",
       "      <td>10692.0</td>\n",
       "      <td>1.609147</td>\n",
       "      <td>1.589521</td>\n",
       "      <td>0.0</td>\n",
       "      <td>0.00</td>\n",
       "      <td>1.0</td>\n",
       "      <td>2.0</td>\n",
       "      <td>12.0</td>\n",
       "    </tr>\n",
       "    <tr>\n",
       "      <th>floor</th>\n",
       "      <td>10692.0</td>\n",
       "      <td>5.067995</td>\n",
       "      <td>6.069050</td>\n",
       "      <td>0.0</td>\n",
       "      <td>1.00</td>\n",
       "      <td>3.0</td>\n",
       "      <td>8.0</td>\n",
       "      <td>301.0</td>\n",
       "    </tr>\n",
       "    <tr>\n",
       "      <th>hoa (R$)</th>\n",
       "      <td>10692.0</td>\n",
       "      <td>1174.021698</td>\n",
       "      <td>15592.305248</td>\n",
       "      <td>0.0</td>\n",
       "      <td>170.00</td>\n",
       "      <td>560.0</td>\n",
       "      <td>1237.5</td>\n",
       "      <td>1117000.0</td>\n",
       "    </tr>\n",
       "    <tr>\n",
       "      <th>rent amount (R$)</th>\n",
       "      <td>10692.0</td>\n",
       "      <td>3896.247194</td>\n",
       "      <td>3408.545518</td>\n",
       "      <td>450.0</td>\n",
       "      <td>1530.00</td>\n",
       "      <td>2661.0</td>\n",
       "      <td>5000.0</td>\n",
       "      <td>45000.0</td>\n",
       "    </tr>\n",
       "    <tr>\n",
       "      <th>property tax (R$)</th>\n",
       "      <td>10692.0</td>\n",
       "      <td>366.704358</td>\n",
       "      <td>3107.832321</td>\n",
       "      <td>0.0</td>\n",
       "      <td>38.00</td>\n",
       "      <td>125.0</td>\n",
       "      <td>375.0</td>\n",
       "      <td>313700.0</td>\n",
       "    </tr>\n",
       "    <tr>\n",
       "      <th>fire insurance (R$)</th>\n",
       "      <td>10692.0</td>\n",
       "      <td>53.300879</td>\n",
       "      <td>47.768031</td>\n",
       "      <td>3.0</td>\n",
       "      <td>21.00</td>\n",
       "      <td>36.0</td>\n",
       "      <td>68.0</td>\n",
       "      <td>677.0</td>\n",
       "    </tr>\n",
       "    <tr>\n",
       "      <th>total (R$)</th>\n",
       "      <td>10692.0</td>\n",
       "      <td>5490.487000</td>\n",
       "      <td>16484.725912</td>\n",
       "      <td>499.0</td>\n",
       "      <td>2061.75</td>\n",
       "      <td>3581.5</td>\n",
       "      <td>6768.0</td>\n",
       "      <td>1120000.0</td>\n",
       "    </tr>\n",
       "  </tbody>\n",
       "</table>\n",
       "</div>"
      ],
      "text/plain": [
       "                       count         mean           std    min      25%  \\\n",
       "area                 10692.0   149.217920    537.016942   11.0    56.00   \n",
       "rooms                10692.0     2.506079      1.171266    1.0     2.00   \n",
       "bathroom             10692.0     2.236813      1.407198    1.0     1.00   \n",
       "parking spaces       10692.0     1.609147      1.589521    0.0     0.00   \n",
       "floor                10692.0     5.067995      6.069050    0.0     1.00   \n",
       "hoa (R$)             10692.0  1174.021698  15592.305248    0.0   170.00   \n",
       "rent amount (R$)     10692.0  3896.247194   3408.545518  450.0  1530.00   \n",
       "property tax (R$)    10692.0   366.704358   3107.832321    0.0    38.00   \n",
       "fire insurance (R$)  10692.0    53.300879     47.768031    3.0    21.00   \n",
       "total (R$)           10692.0  5490.487000  16484.725912  499.0  2061.75   \n",
       "\n",
       "                        50%     75%        max  \n",
       "area                   90.0   182.0    46335.0  \n",
       "rooms                   2.0     3.0       13.0  \n",
       "bathroom                2.0     3.0       10.0  \n",
       "parking spaces          1.0     2.0       12.0  \n",
       "floor                   3.0     8.0      301.0  \n",
       "hoa (R$)              560.0  1237.5  1117000.0  \n",
       "rent amount (R$)     2661.0  5000.0    45000.0  \n",
       "property tax (R$)     125.0   375.0   313700.0  \n",
       "fire insurance (R$)    36.0    68.0      677.0  \n",
       "total (R$)           3581.5  6768.0  1120000.0  "
      ]
     },
     "execution_count": 13,
     "metadata": {},
     "output_type": "execute_result"
    }
   ],
   "source": [
    "df.describe().T"
   ]
  },
  {
   "cell_type": "code",
   "execution_count": 14,
   "id": "1ada1ecd",
   "metadata": {},
   "outputs": [
    {
     "name": "stdout",
     "output_type": "stream",
     "text": [
      "categorical    continuous\n",
      "-------------  -------------------\n",
      "city           area\n",
      "animal         rooms\n",
      "furniture      bathroom\n",
      "               parking spaces\n",
      "               floor\n",
      "               hoa (R$)\n",
      "               rent amount (R$)\n",
      "               property tax (R$)\n",
      "               fire insurance (R$)\n",
      "               total (R$)\n"
     ]
    }
   ],
   "source": [
    "a_lst=list(a.columns)\n",
    "b_lst=list(b.columns)\n",
    "\n",
    "table = [b_lst, a_lst]\n",
    "\n",
    "print(tabulate({\"Categorical\":b_lst,\n",
    "               \"continuous\":a_lst}, headers =[\"categorical\",\"continuous\"]))"
   ]
  },
  {
   "cell_type": "markdown",
   "id": "64771559",
   "metadata": {},
   "source": [
    "### Univariate Analysis of Categorical Variables"
   ]
  },
  {
   "cell_type": "markdown",
   "id": "0bff2759",
   "metadata": {},
   "source": [
    "#### User defined functions for level 1 analysis of categorical columns\n",
    "This funcation will check for the following :\n",
    "* Unique values\n",
    "* mode \n",
    "* sum of all the null values \n",
    "* Total count of missing values "
   ]
  },
  {
   "cell_type": "code",
   "execution_count": 15,
   "id": "0ee70609",
   "metadata": {},
   "outputs": [],
   "source": [
    "def info_of_cat(col):\n",
    "    print(f\"Unique values in {col} are :{df[col].unique()}\") # unique : returns the values in the col\n",
    "    print(f\"Mode of {col} is {df[col].mode()[0]}\")    # mode: return the mode of the column\n",
    "    print(f\"Number of missing values in {col} is  {df[col].isnull().sum()}\") #isnull().sum() counts the number of null in dataframe\n",
    "    if df[col].isnull().sum() > 0: # check if null values are present \n",
    "        print(f\"\\nThere are null values in the {col} column\")"
   ]
  },
  {
   "cell_type": "markdown",
   "id": "f6cf4120",
   "metadata": {},
   "source": [
    "## 1. Analysis of city :\n",
    "Level 1 Analysis of Categorical data (Univariant Analysis)"
   ]
  },
  {
   "cell_type": "code",
   "execution_count": 16,
   "id": "4322c546",
   "metadata": {},
   "outputs": [
    {
     "name": "stdout",
     "output_type": "stream",
     "text": [
      "Unique values in city are :['São Paulo' 'Porto Alegre' 'Rio de Janeiro' 'Campinas' 'Belo Horizonte']\n",
      "Mode of city is São Paulo\n",
      "Number of missing values in city is  0\n"
     ]
    }
   ],
   "source": [
    "info_of_cat('city')"
   ]
  },
  {
   "cell_type": "code",
   "execution_count": 17,
   "id": "bc08039f",
   "metadata": {},
   "outputs": [
    {
     "data": {
      "image/png": "[encoded data removed]",
      "text/plain": [
       "<Figure size 1080x504 with 2 Axes>"
      ]
     },
     "metadata": {
      "needs_background": "light"
     },
     "output_type": "display_data"
    }
   ],
   "source": [
    "fig, ax = plt.subplots(1,2,figsize = (15,7))\n",
    "ax[0].set_title(\"Count of citys\")             #Set the title of graph \n",
    "percentage = df[\"city\"].value_counts()        # Value_counts : returns the count of values in series : return series\n",
    "labels = list(df[\"city\"].value_counts().index) # Converting the index of value count into list\n",
    "\n",
    "sns.countplot(x = df[\"city\"],ax = ax[0])\n",
    "plt.pie(percentage,labels = labels, autopct = \"%0.2f%%\")\n",
    "plt.legend()\n",
    "plt.show()"
   ]
  },
  {
   "cell_type": "markdown",
   "id": "6f4b4331",
   "metadata": {},
   "source": [
    "### Interpretation : The result show that 55.06% of population live in sau paulo and rest in other 4 city."
   ]
  },
  {
   "cell_type": "markdown",
   "id": "bd684d66",
   "metadata": {},
   "source": [
    "## 2.Analysis of animal :\n",
    "Level 1 Analysis of Categorical data "
   ]
  },
  {
   "cell_type": "code",
   "execution_count": 18,
   "id": "071d09d9",
   "metadata": {},
   "outputs": [
    {
     "name": "stdout",
     "output_type": "stream",
     "text": [
      "Unique values in animal are :['acept' 'not acept']\n",
      "Mode of animal is acept\n",
      "Number of missing values in animal is  0\n"
     ]
    }
   ],
   "source": [
    "info_of_cat('animal')"
   ]
  },
  {
   "cell_type": "code",
   "execution_count": 19,
   "id": "b597e9d0",
   "metadata": {},
   "outputs": [
    {
     "data": {
      "image/png": "[encoded data removed]",
      "text/plain": [
       "<Figure size 1080x504 with 2 Axes>"
      ]
     },
     "metadata": {
      "needs_background": "light"
     },
     "output_type": "display_data"
    }
   ],
   "source": [
    "fig, ax = plt.subplots(1,2,figsize = (15,7)) \n",
    "data= df[\"animal\"].value_counts()   \n",
    "labels = data.keys()\n",
    "\n",
    "sns.countplot(x = df[\"animal\"],ax = ax[0])\n",
    "plt.pie(x=data, autopct  = \"%0.2f%%\",labels=labels,pctdistance= 0.5)\n",
    "\n",
    "plt.show()"
   ]
  },
  {
   "cell_type": "markdown",
   "id": "b650965d",
   "metadata": {},
   "source": [
    "### Interpretation : The result show that only 22.2% who does not accept the animal in there area."
   ]
  },
  {
   "cell_type": "markdown",
   "id": "3e54e439",
   "metadata": {},
   "source": [
    "# 3.Analysis of furniture :\n",
    "    Level 1 Analysis of Categorical data (Univariant Analysis)"
   ]
  },
  {
   "cell_type": "code",
   "execution_count": 20,
   "id": "eb3edfd1",
   "metadata": {},
   "outputs": [
    {
     "name": "stdout",
     "output_type": "stream",
     "text": [
      "Unique values in furniture are :['furnished' 'not furnished']\n",
      "Mode of furniture is not furnished\n",
      "Number of missing values in furniture is  0\n"
     ]
    }
   ],
   "source": [
    "info_of_cat('furniture')"
   ]
  },
  {
   "cell_type": "code",
   "execution_count": 21,
   "id": "40e4f02d",
   "metadata": {},
   "outputs": [
    {
     "data": {
      "image/png": "[encoded data removed]",
      "text/plain": [
       "<Figure size 1080x504 with 2 Axes>"
      ]
     },
     "metadata": {
      "needs_background": "light"
     },
     "output_type": "display_data"
    }
   ],
   "source": [
    "fig, ax = plt.subplots(1,2,figsize = (15,7)) \n",
    "data= df[\"furniture\"].value_counts()   \n",
    "labels = data.keys()\n",
    "\n",
    "sns.countplot(x = df[\"furniture\"],ax = ax[0])\n",
    "plt.pie(x=data, autopct  = \"%0.2f%%\",labels=labels,pctdistance= 0.5)\n",
    "\n",
    "plt.show()"
   ]
  },
  {
   "cell_type": "markdown",
   "id": "ec333d85",
   "metadata": {},
   "source": [
    "### Interpretation : The result show that only 24.4% of furnished we have rest are not furnished"
   ]
  },
  {
   "cell_type": "markdown",
   "id": "18c8ef08",
   "metadata": {},
   "source": [
    "##                                   Univariate Analysis of Numerical Variables"
   ]
  },
  {
   "cell_type": "markdown",
   "id": "12577d12",
   "metadata": {},
   "source": [
    "### Level 1 Analysis of Numerical columns\n",
    "Check if the variable is discrete or continuous                  \n",
    "Measures of central tendency (mean, median)                                      \n",
    "Measure of dispersion                                 \n",
    "Check for missing values                                  \n",
    "Check for skewness                                                        \n",
    "Check for outliers                                                       \n",
    "How could the missing values be treated?                                                \n",
    "what kind of graph/chart can be plotted using this data?                                              "
   ]
  },
  {
   "cell_type": "code",
   "execution_count": 22,
   "id": "89b1f80f",
   "metadata": {},
   "outputs": [],
   "source": [
    "def info_of_numerical(col):\n",
    "    print(f\"The mean of the {col} is {df[col].mean()}\")\n",
    "    print(f\"The median of the {col} is {df[col].median()}\")\n",
    "    print(f\"The mode of the {col} is {df[col].mode()[0]}\")\n",
    "    print(f\"The standard deviation of the {col} is {df[col].std()}\")\n",
    "    print(f\"Number of missing values in the {col} is {df[col].isnull().sum()}\")"
   ]
  },
  {
   "cell_type": "markdown",
   "id": "40992bc4",
   "metadata": {},
   "source": [
    "## Names of Numberical Variables"
   ]
  },
  {
   "cell_type": "code",
   "execution_count": 23,
   "id": "37f88394",
   "metadata": {},
   "outputs": [
    {
     "data": {
      "text/html": [
       "<div>\n",
       "<style scoped>\n",
       "    .dataframe tbody tr th:only-of-type {\n",
       "        vertical-align: middle;\n",
       "    }\n",
       "\n",
       "    .dataframe tbody tr th {\n",
       "        vertical-align: top;\n",
       "    }\n",
       "\n",
       "    .dataframe thead th {\n",
       "        text-align: right;\n",
       "    }\n",
       "</style>\n",
       "<table border=\"1\" class=\"dataframe\">\n",
       "  <thead>\n",
       "    <tr style=\"text-align: right;\">\n",
       "      <th></th>\n",
       "    </tr>\n",
       "  </thead>\n",
       "  <tbody>\n",
       "    <tr>\n",
       "      <th>area</th>\n",
       "    </tr>\n",
       "    <tr>\n",
       "      <th>rooms</th>\n",
       "    </tr>\n",
       "    <tr>\n",
       "      <th>bathroom</th>\n",
       "    </tr>\n",
       "    <tr>\n",
       "      <th>parking spaces</th>\n",
       "    </tr>\n",
       "    <tr>\n",
       "      <th>floor</th>\n",
       "    </tr>\n",
       "    <tr>\n",
       "      <th>hoa (R$)</th>\n",
       "    </tr>\n",
       "    <tr>\n",
       "      <th>rent amount (R$)</th>\n",
       "    </tr>\n",
       "    <tr>\n",
       "      <th>property tax (R$)</th>\n",
       "    </tr>\n",
       "    <tr>\n",
       "      <th>fire insurance (R$)</th>\n",
       "    </tr>\n",
       "    <tr>\n",
       "      <th>total (R$)</th>\n",
       "    </tr>\n",
       "  </tbody>\n",
       "</table>\n",
       "</div>"
      ],
      "text/plain": [
       "Empty DataFrame\n",
       "Columns: []\n",
       "Index: [area, rooms, bathroom, parking spaces, floor, hoa (R$), rent amount (R$), property tax (R$), fire insurance (R$), total (R$)]"
      ]
     },
     "execution_count": 23,
     "metadata": {},
     "output_type": "execute_result"
    }
   ],
   "source": [
    "a.head(0).T"
   ]
  },
  {
   "cell_type": "markdown",
   "id": "62e9e662",
   "metadata": {},
   "source": [
    "## 4. Analysis of the area:\n",
    "LEVEL 1 Analysis of Numerical Data (Univarte Analysis)"
   ]
  },
  {
   "cell_type": "code",
   "execution_count": 24,
   "id": "99ce5be1",
   "metadata": {},
   "outputs": [
    {
     "name": "stdout",
     "output_type": "stream",
     "text": [
      "The mean of the area is 149.21791994014217\n",
      "The median of the area is 90.0\n",
      "The mode of the area is 50\n",
      "The standard deviation of the area is 537.0169423364867\n",
      "Number of missing values in the area is 0\n"
     ]
    }
   ],
   "source": [
    "info_of_numerical(\"area\")"
   ]
  },
  {
   "cell_type": "code",
   "execution_count": 25,
   "id": "99a9bc62",
   "metadata": {},
   "outputs": [
    {
     "data": {
      "image/png": "[encoded data removed]",
      "text/plain": [
       "<Figure size 1440x504 with 2 Axes>"
      ]
     },
     "metadata": {
      "needs_background": "light"
     },
     "output_type": "display_data"
    }
   ],
   "source": [
    "#Distribution of customer age \n",
    "fig, ax = plt.subplots(1,2, figsize= (20,7))\n",
    "sns.histplot(x = df[\"area\"],ax=ax[1],color=\"m\")  #ax[1] mean plot has secound image\n",
    "sns.boxplot(x = df[\"area\"],ax=ax[0],color=\"g\")  #ax[0] mean plot has first image\n",
    "plt.show()"
   ]
  },
  {
   "cell_type": "markdown",
   "id": "98e90cdf",
   "metadata": {},
   "source": [
    "### We do not have a good distribution the point above 10000 are skewing our data."
   ]
  },
  {
   "cell_type": "code",
   "execution_count": 26,
   "id": "110fb0f5",
   "metadata": {},
   "outputs": [
    {
     "data": {
      "text/plain": [
       "count    10692.000000\n",
       "mean       149.217920\n",
       "std        537.016942\n",
       "min         11.000000\n",
       "25%         56.000000\n",
       "50%         90.000000\n",
       "75%        182.000000\n",
       "max      46335.000000\n",
       "Name: area, dtype: float64"
      ]
     },
     "execution_count": 26,
     "metadata": {},
     "output_type": "execute_result"
    }
   ],
   "source": [
    "df['area'].describe() #so we check the details"
   ]
  },
  {
   "cell_type": "code",
   "execution_count": 27,
   "id": "1d352bfe",
   "metadata": {},
   "outputs": [
    {
     "data": {
      "text/plain": [
       "array([   70,   320,    80,    51,    25,   376,    72,   213,   152,\n",
       "          35,    26,    46,    36,    55,   100,   330,   110,    88,\n",
       "          56,   600,    42,   160,    90,    49,    41,    64,   208,\n",
       "          20,    32,    45,   350,    38,    30,    40,   300,   240,\n",
       "         200,   360,   250,    48,   150,    60,    31,   210,   280,\n",
       "          93,    75,   194,    65,   278,    61,   130,   164,   220,\n",
       "         108,   128,    47,   170,    68,    63,   145,    85,   254,\n",
       "         296,   133,    44,    22,    50,    67,   109,   400,   284,\n",
       "         309,    73,   155,    58,    94,    76,   192,   217,    95,\n",
       "         900,    34,    62,   180,   140,    52,   999,   270,    71,\n",
       "         500,    96,   660,   107,   105,   287,    24,   154,   101,\n",
       "         384,    57,    39,    78,    28,    83,   750,   258,   123,\n",
       "         127,   219,   420,    59,   225,   480,    53,   121,    43,\n",
       "         570,    89,   173,    91,   530,    87,   136,   308,   260,\n",
       "         120,    33,   131,   161,   720,   236,    81,   125,    37,\n",
       "         230,   450,   234,   135,   395,    92,   412,   190,   165,\n",
       "         380,    19,   124,   115,   700,    15,   204,   540,    23,\n",
       "         178,   114,   113,    69,   306,   187,   385,   355,   181,\n",
       "         168,   378,   362,    16,   488,   290,   266,   590,    86,\n",
       "          84,   198,   129,   312,    17,   214,   205,    66,    77,\n",
       "         440,    74,   417,   142,   377,   147,   157,    97,   548,\n",
       "         193,   428,   103,   238,   580,   106,   156,   177,   398,\n",
       "         176,   680,   196,   275,   206,   311,   138,   117,    29,\n",
       "         650,   119,   316,  1000,   185,   550,  1600,   405,   365,\n",
       "         207,    82,   383,   257,   179,    79,   322,   620,   325,\n",
       "         197,   172,   341,    98,   345,   158,   277,    11,   162,\n",
       "         279,   298,   293,   305,   367,    54,   340,   148,   840,\n",
       "         212,   184,   368,   126,   347,   201,   216,   183,   274,\n",
       "         845,   800,    18,   263,   166,   390,   118,   174,   134,\n",
       "         188,   272,   227,   116,   144,   111,   151,   288,   642,\n",
       "         850,   315,   102,   629,   427,   286,   211,   497,   386,\n",
       "         137,   242,   139,   199,   169,   573,   515,   143,   265,\n",
       "         336,   565,   112,   981,   226,   334,   267,   237,    13,\n",
       "         460,   189,   418,   223,   353,   182,   175,   255,   104,\n",
       "         149,   410,    27,   640,   301,   276,   159,   246,   560,\n",
       "         218,   462,    99,   318,   167,    21,   310,   319,   430,\n",
       "         486,   221,   239,   622,   132,   998,   375,   553,   195,\n",
       "         470,   235,   171,   572,   463,   297,   244,   248,   153,\n",
       "         373,   215,   820,   389,   339,   229, 46335,   264,   233,\n",
       "        1020,   348,   521,   408,   563,   452,   396,   649,   241,\n",
       "         163,   544,   122,   429,   685,   391,   245,   222,   413,\n",
       "         332,   432,   556,   285,   485,   402,   425,   359,   281,\n",
       "         271,   253,   282,   202,   249,   403,   424,   454,   394,\n",
       "         209,   186,   370,   490,   251,   273,   262,   423,   289,\n",
       "         520,   292,   327,   366,  1100,   682,   247,   372,   421,\n",
       "         950,   469,   625,   256,   307,   502,   578,   495,   299,\n",
       "         243,   479,   524,   294,   224,   268,   444,   356,   342,\n",
       "         630,   326,   512,   465,   346,   830,   302,   335,   146,\n",
       "         269,   203,   388,   323,   525,  2000,   328,   387,   406,\n",
       "         474,   343,   510,   442,   303,   252, 24606,   344,   321,\n",
       "         351,   455,   472,   141,   333,   329,   191,   291,   471,\n",
       "         645,   445,   434,   616,    12,   513,   441,   354,   744,\n",
       "         790,   457,   834,   506,   659,   415,   890,   884,   363,\n",
       "         439,   358,   784,   449,   352,   416,   651,   438,   678,\n",
       "         856,   717,   758,   692,   261,   443,   596,   314,   374,\n",
       "         483,   458,   392,   690,   338, 12732,   503,   231,   313,\n",
       "         382,   482,   505,   295,   802,   476,   369,   228,   437,\n",
       "         456,   399,   431,   411], dtype=int64)"
      ]
     },
     "execution_count": 27,
     "metadata": {},
     "output_type": "execute_result"
    }
   ],
   "source": [
    " df['area'].unique()"
   ]
  },
  {
   "cell_type": "code",
   "execution_count": 28,
   "id": "dd513161",
   "metadata": {},
   "outputs": [
    {
     "data": {
      "text/html": [
       "<div>\n",
       "<style scoped>\n",
       "    .dataframe tbody tr th:only-of-type {\n",
       "        vertical-align: middle;\n",
       "    }\n",
       "\n",
       "    .dataframe tbody tr th {\n",
       "        vertical-align: top;\n",
       "    }\n",
       "\n",
       "    .dataframe thead th {\n",
       "        text-align: right;\n",
       "    }\n",
       "</style>\n",
       "<table border=\"1\" class=\"dataframe\">\n",
       "  <thead>\n",
       "    <tr style=\"text-align: right;\">\n",
       "      <th></th>\n",
       "      <th>city</th>\n",
       "      <th>area</th>\n",
       "      <th>rooms</th>\n",
       "      <th>bathroom</th>\n",
       "      <th>parking spaces</th>\n",
       "      <th>floor</th>\n",
       "      <th>animal</th>\n",
       "      <th>furniture</th>\n",
       "      <th>hoa (R$)</th>\n",
       "      <th>rent amount (R$)</th>\n",
       "      <th>property tax (R$)</th>\n",
       "      <th>fire insurance (R$)</th>\n",
       "      <th>total (R$)</th>\n",
       "    </tr>\n",
       "  </thead>\n",
       "  <tbody>\n",
       "    <tr>\n",
       "      <th>332</th>\n",
       "      <td>Belo Horizonte</td>\n",
       "      <td>19</td>\n",
       "      <td>1</td>\n",
       "      <td>1</td>\n",
       "      <td>0</td>\n",
       "      <td>5</td>\n",
       "      <td>acept</td>\n",
       "      <td>not furnished</td>\n",
       "      <td>620</td>\n",
       "      <td>1100</td>\n",
       "      <td>85</td>\n",
       "      <td>15</td>\n",
       "      <td>1820</td>\n",
       "    </tr>\n",
       "    <tr>\n",
       "      <th>340</th>\n",
       "      <td>Belo Horizonte</td>\n",
       "      <td>15</td>\n",
       "      <td>1</td>\n",
       "      <td>1</td>\n",
       "      <td>0</td>\n",
       "      <td>3</td>\n",
       "      <td>not acept</td>\n",
       "      <td>furnished</td>\n",
       "      <td>0</td>\n",
       "      <td>1100</td>\n",
       "      <td>0</td>\n",
       "      <td>15</td>\n",
       "      <td>1115</td>\n",
       "    </tr>\n",
       "    <tr>\n",
       "      <th>356</th>\n",
       "      <td>São Paulo</td>\n",
       "      <td>15</td>\n",
       "      <td>1</td>\n",
       "      <td>1</td>\n",
       "      <td>0</td>\n",
       "      <td>0</td>\n",
       "      <td>not acept</td>\n",
       "      <td>furnished</td>\n",
       "      <td>0</td>\n",
       "      <td>2500</td>\n",
       "      <td>0</td>\n",
       "      <td>32</td>\n",
       "      <td>2532</td>\n",
       "    </tr>\n",
       "    <tr>\n",
       "      <th>412</th>\n",
       "      <td>São Paulo</td>\n",
       "      <td>16</td>\n",
       "      <td>1</td>\n",
       "      <td>1</td>\n",
       "      <td>0</td>\n",
       "      <td>1</td>\n",
       "      <td>not acept</td>\n",
       "      <td>not furnished</td>\n",
       "      <td>0</td>\n",
       "      <td>850</td>\n",
       "      <td>30</td>\n",
       "      <td>11</td>\n",
       "      <td>891</td>\n",
       "    </tr>\n",
       "    <tr>\n",
       "      <th>449</th>\n",
       "      <td>São Paulo</td>\n",
       "      <td>17</td>\n",
       "      <td>1</td>\n",
       "      <td>1</td>\n",
       "      <td>0</td>\n",
       "      <td>1</td>\n",
       "      <td>acept</td>\n",
       "      <td>not furnished</td>\n",
       "      <td>0</td>\n",
       "      <td>2700</td>\n",
       "      <td>5</td>\n",
       "      <td>35</td>\n",
       "      <td>2740</td>\n",
       "    </tr>\n",
       "    <tr>\n",
       "      <th>...</th>\n",
       "      <td>...</td>\n",
       "      <td>...</td>\n",
       "      <td>...</td>\n",
       "      <td>...</td>\n",
       "      <td>...</td>\n",
       "      <td>...</td>\n",
       "      <td>...</td>\n",
       "      <td>...</td>\n",
       "      <td>...</td>\n",
       "      <td>...</td>\n",
       "      <td>...</td>\n",
       "      <td>...</td>\n",
       "      <td>...</td>\n",
       "    </tr>\n",
       "    <tr>\n",
       "      <th>9898</th>\n",
       "      <td>São Paulo</td>\n",
       "      <td>19</td>\n",
       "      <td>1</td>\n",
       "      <td>1</td>\n",
       "      <td>0</td>\n",
       "      <td>0</td>\n",
       "      <td>not acept</td>\n",
       "      <td>not furnished</td>\n",
       "      <td>0</td>\n",
       "      <td>1200</td>\n",
       "      <td>41</td>\n",
       "      <td>16</td>\n",
       "      <td>1257</td>\n",
       "    </tr>\n",
       "    <tr>\n",
       "      <th>9996</th>\n",
       "      <td>São Paulo</td>\n",
       "      <td>19</td>\n",
       "      <td>1</td>\n",
       "      <td>1</td>\n",
       "      <td>0</td>\n",
       "      <td>0</td>\n",
       "      <td>not acept</td>\n",
       "      <td>not furnished</td>\n",
       "      <td>0</td>\n",
       "      <td>1200</td>\n",
       "      <td>41</td>\n",
       "      <td>16</td>\n",
       "      <td>1257</td>\n",
       "    </tr>\n",
       "    <tr>\n",
       "      <th>10164</th>\n",
       "      <td>Rio de Janeiro</td>\n",
       "      <td>15</td>\n",
       "      <td>1</td>\n",
       "      <td>1</td>\n",
       "      <td>0</td>\n",
       "      <td>4</td>\n",
       "      <td>not acept</td>\n",
       "      <td>not furnished</td>\n",
       "      <td>0</td>\n",
       "      <td>908</td>\n",
       "      <td>0</td>\n",
       "      <td>12</td>\n",
       "      <td>920</td>\n",
       "    </tr>\n",
       "    <tr>\n",
       "      <th>10425</th>\n",
       "      <td>Belo Horizonte</td>\n",
       "      <td>15</td>\n",
       "      <td>1</td>\n",
       "      <td>1</td>\n",
       "      <td>0</td>\n",
       "      <td>3</td>\n",
       "      <td>not acept</td>\n",
       "      <td>furnished</td>\n",
       "      <td>0</td>\n",
       "      <td>1100</td>\n",
       "      <td>0</td>\n",
       "      <td>15</td>\n",
       "      <td>1115</td>\n",
       "    </tr>\n",
       "    <tr>\n",
       "      <th>10632</th>\n",
       "      <td>Porto Alegre</td>\n",
       "      <td>18</td>\n",
       "      <td>1</td>\n",
       "      <td>1</td>\n",
       "      <td>0</td>\n",
       "      <td>3</td>\n",
       "      <td>not acept</td>\n",
       "      <td>furnished</td>\n",
       "      <td>370</td>\n",
       "      <td>1090</td>\n",
       "      <td>0</td>\n",
       "      <td>16</td>\n",
       "      <td>1476</td>\n",
       "    </tr>\n",
       "  </tbody>\n",
       "</table>\n",
       "<p>66 rows × 13 columns</p>\n",
       "</div>"
      ],
      "text/plain": [
       "                 city  area  rooms  bathroom  parking spaces  floor  \\\n",
       "332    Belo Horizonte    19      1         1               0      5   \n",
       "340    Belo Horizonte    15      1         1               0      3   \n",
       "356         São Paulo    15      1         1               0      0   \n",
       "412         São Paulo    16      1         1               0      1   \n",
       "449         São Paulo    17      1         1               0      1   \n",
       "...               ...   ...    ...       ...             ...    ...   \n",
       "9898        São Paulo    19      1         1               0      0   \n",
       "9996        São Paulo    19      1         1               0      0   \n",
       "10164  Rio de Janeiro    15      1         1               0      4   \n",
       "10425  Belo Horizonte    15      1         1               0      3   \n",
       "10632    Porto Alegre    18      1         1               0      3   \n",
       "\n",
       "          animal      furniture  hoa (R$)  rent amount (R$)  \\\n",
       "332        acept  not furnished       620              1100   \n",
       "340    not acept      furnished         0              1100   \n",
       "356    not acept      furnished         0              2500   \n",
       "412    not acept  not furnished         0               850   \n",
       "449        acept  not furnished         0              2700   \n",
       "...          ...            ...       ...               ...   \n",
       "9898   not acept  not furnished         0              1200   \n",
       "9996   not acept  not furnished         0              1200   \n",
       "10164  not acept  not furnished         0               908   \n",
       "10425  not acept      furnished         0              1100   \n",
       "10632  not acept      furnished       370              1090   \n",
       "\n",
       "       property tax (R$)  fire insurance (R$)  total (R$)  \n",
       "332                   85                   15        1820  \n",
       "340                    0                   15        1115  \n",
       "356                    0                   32        2532  \n",
       "412                   30                   11         891  \n",
       "449                    5                   35        2740  \n",
       "...                  ...                  ...         ...  \n",
       "9898                  41                   16        1257  \n",
       "9996                  41                   16        1257  \n",
       "10164                  0                   12         920  \n",
       "10425                  0                   15        1115  \n",
       "10632                  0                   16        1476  \n",
       "\n",
       "[66 rows x 13 columns]"
      ]
     },
     "execution_count": 28,
     "metadata": {},
     "output_type": "execute_result"
    }
   ],
   "source": [
    "df[(df.area<20)]"
   ]
  },
  {
   "cell_type": "code",
   "execution_count": 29,
   "id": "b372689e",
   "metadata": {},
   "outputs": [
    {
     "data": {
      "text/plain": [
       "50      334\n",
       "70      329\n",
       "60      297\n",
       "100     253\n",
       "80      253\n",
       "       ... \n",
       "366       1\n",
       "1100      1\n",
       "682       1\n",
       "421       1\n",
       "411       1\n",
       "Name: area, Length: 517, dtype: int64"
      ]
     },
     "execution_count": 29,
     "metadata": {},
     "output_type": "execute_result"
    }
   ],
   "source": [
    "df['area'].value_counts()"
   ]
  },
  {
   "cell_type": "code",
   "execution_count": 30,
   "id": "fe4a3c71",
   "metadata": {},
   "outputs": [],
   "source": [
    "mean = int(df.area.mean())\n",
    "#accessing the data lesser than 20\n",
    "x=df[df[\"area\"]>20].index\n",
    "df.loc[x,\"Customer_Age\"]=mean"
   ]
  },
  {
   "cell_type": "markdown",
   "id": "29cd0e5b",
   "metadata": {},
   "source": [
    "### There are only 66 value under 20 out of 10692. which is very less so decided to drop."
   ]
  },
  {
   "cell_type": "code",
   "execution_count": 31,
   "id": "ffacaa21",
   "metadata": {},
   "outputs": [
    {
     "data": {
      "text/html": [
       "<div>\n",
       "<style scoped>\n",
       "    .dataframe tbody tr th:only-of-type {\n",
       "        vertical-align: middle;\n",
       "    }\n",
       "\n",
       "    .dataframe tbody tr th {\n",
       "        vertical-align: top;\n",
       "    }\n",
       "\n",
       "    .dataframe thead th {\n",
       "        text-align: right;\n",
       "    }\n",
       "</style>\n",
       "<table border=\"1\" class=\"dataframe\">\n",
       "  <thead>\n",
       "    <tr style=\"text-align: right;\">\n",
       "      <th></th>\n",
       "      <th>city</th>\n",
       "      <th>area</th>\n",
       "      <th>rooms</th>\n",
       "      <th>bathroom</th>\n",
       "      <th>parking spaces</th>\n",
       "      <th>floor</th>\n",
       "      <th>animal</th>\n",
       "      <th>furniture</th>\n",
       "      <th>hoa (R$)</th>\n",
       "      <th>rent amount (R$)</th>\n",
       "      <th>property tax (R$)</th>\n",
       "      <th>fire insurance (R$)</th>\n",
       "      <th>total (R$)</th>\n",
       "      <th>Customer_Age</th>\n",
       "    </tr>\n",
       "  </thead>\n",
       "  <tbody>\n",
       "    <tr>\n",
       "      <th>654</th>\n",
       "      <td>São Paulo</td>\n",
       "      <td>1600</td>\n",
       "      <td>6</td>\n",
       "      <td>6</td>\n",
       "      <td>6</td>\n",
       "      <td>0</td>\n",
       "      <td>acept</td>\n",
       "      <td>furnished</td>\n",
       "      <td>0</td>\n",
       "      <td>7600</td>\n",
       "      <td>1834</td>\n",
       "      <td>115</td>\n",
       "      <td>9549</td>\n",
       "      <td>149.0</td>\n",
       "    </tr>\n",
       "    <tr>\n",
       "      <th>2397</th>\n",
       "      <td>Belo Horizonte</td>\n",
       "      <td>46335</td>\n",
       "      <td>4</td>\n",
       "      <td>8</td>\n",
       "      <td>5</td>\n",
       "      <td>11</td>\n",
       "      <td>acept</td>\n",
       "      <td>furnished</td>\n",
       "      <td>960</td>\n",
       "      <td>8500</td>\n",
       "      <td>646</td>\n",
       "      <td>114</td>\n",
       "      <td>10220</td>\n",
       "      <td>149.0</td>\n",
       "    </tr>\n",
       "    <tr>\n",
       "      <th>2423</th>\n",
       "      <td>Belo Horizonte</td>\n",
       "      <td>1020</td>\n",
       "      <td>5</td>\n",
       "      <td>4</td>\n",
       "      <td>6</td>\n",
       "      <td>0</td>\n",
       "      <td>acept</td>\n",
       "      <td>furnished</td>\n",
       "      <td>0</td>\n",
       "      <td>6520</td>\n",
       "      <td>654</td>\n",
       "      <td>107</td>\n",
       "      <td>7281</td>\n",
       "      <td>149.0</td>\n",
       "    </tr>\n",
       "    <tr>\n",
       "      <th>3559</th>\n",
       "      <td>São Paulo</td>\n",
       "      <td>1100</td>\n",
       "      <td>4</td>\n",
       "      <td>6</td>\n",
       "      <td>10</td>\n",
       "      <td>0</td>\n",
       "      <td>acept</td>\n",
       "      <td>not furnished</td>\n",
       "      <td>3000</td>\n",
       "      <td>14000</td>\n",
       "      <td>2000</td>\n",
       "      <td>211</td>\n",
       "      <td>19210</td>\n",
       "      <td>149.0</td>\n",
       "    </tr>\n",
       "    <tr>\n",
       "      <th>4813</th>\n",
       "      <td>São Paulo</td>\n",
       "      <td>1600</td>\n",
       "      <td>4</td>\n",
       "      <td>5</td>\n",
       "      <td>12</td>\n",
       "      <td>0</td>\n",
       "      <td>acept</td>\n",
       "      <td>not furnished</td>\n",
       "      <td>1</td>\n",
       "      <td>6900</td>\n",
       "      <td>5000</td>\n",
       "      <td>104</td>\n",
       "      <td>12010</td>\n",
       "      <td>149.0</td>\n",
       "    </tr>\n",
       "    <tr>\n",
       "      <th>5129</th>\n",
       "      <td>Belo Horizonte</td>\n",
       "      <td>2000</td>\n",
       "      <td>4</td>\n",
       "      <td>2</td>\n",
       "      <td>3</td>\n",
       "      <td>0</td>\n",
       "      <td>acept</td>\n",
       "      <td>not furnished</td>\n",
       "      <td>0</td>\n",
       "      <td>4956</td>\n",
       "      <td>200</td>\n",
       "      <td>82</td>\n",
       "      <td>5238</td>\n",
       "      <td>149.0</td>\n",
       "    </tr>\n",
       "    <tr>\n",
       "      <th>5915</th>\n",
       "      <td>São Paulo</td>\n",
       "      <td>24606</td>\n",
       "      <td>5</td>\n",
       "      <td>4</td>\n",
       "      <td>4</td>\n",
       "      <td>12</td>\n",
       "      <td>acept</td>\n",
       "      <td>not furnished</td>\n",
       "      <td>2254</td>\n",
       "      <td>8100</td>\n",
       "      <td>7859</td>\n",
       "      <td>103</td>\n",
       "      <td>18320</td>\n",
       "      <td>149.0</td>\n",
       "    </tr>\n",
       "    <tr>\n",
       "      <th>8790</th>\n",
       "      <td>Belo Horizonte</td>\n",
       "      <td>2000</td>\n",
       "      <td>3</td>\n",
       "      <td>3</td>\n",
       "      <td>2</td>\n",
       "      <td>2</td>\n",
       "      <td>acept</td>\n",
       "      <td>furnished</td>\n",
       "      <td>3000</td>\n",
       "      <td>5000</td>\n",
       "      <td>200</td>\n",
       "      <td>67</td>\n",
       "      <td>8267</td>\n",
       "      <td>149.0</td>\n",
       "    </tr>\n",
       "    <tr>\n",
       "      <th>9241</th>\n",
       "      <td>Campinas</td>\n",
       "      <td>12732</td>\n",
       "      <td>3</td>\n",
       "      <td>2</td>\n",
       "      <td>0</td>\n",
       "      <td>3</td>\n",
       "      <td>acept</td>\n",
       "      <td>not furnished</td>\n",
       "      <td>700</td>\n",
       "      <td>1600</td>\n",
       "      <td>96</td>\n",
       "      <td>21</td>\n",
       "      <td>2417</td>\n",
       "      <td>149.0</td>\n",
       "    </tr>\n",
       "  </tbody>\n",
       "</table>\n",
       "</div>"
      ],
      "text/plain": [
       "                city   area  rooms  bathroom  parking spaces  floor animal  \\\n",
       "654        São Paulo   1600      6         6               6      0  acept   \n",
       "2397  Belo Horizonte  46335      4         8               5     11  acept   \n",
       "2423  Belo Horizonte   1020      5         4               6      0  acept   \n",
       "3559       São Paulo   1100      4         6              10      0  acept   \n",
       "4813       São Paulo   1600      4         5              12      0  acept   \n",
       "5129  Belo Horizonte   2000      4         2               3      0  acept   \n",
       "5915       São Paulo  24606      5         4               4     12  acept   \n",
       "8790  Belo Horizonte   2000      3         3               2      2  acept   \n",
       "9241        Campinas  12732      3         2               0      3  acept   \n",
       "\n",
       "          furniture  hoa (R$)  rent amount (R$)  property tax (R$)  \\\n",
       "654       furnished         0              7600               1834   \n",
       "2397      furnished       960              8500                646   \n",
       "2423      furnished         0              6520                654   \n",
       "3559  not furnished      3000             14000               2000   \n",
       "4813  not furnished         1              6900               5000   \n",
       "5129  not furnished         0              4956                200   \n",
       "5915  not furnished      2254              8100               7859   \n",
       "8790      furnished      3000              5000                200   \n",
       "9241  not furnished       700              1600                 96   \n",
       "\n",
       "      fire insurance (R$)  total (R$)  Customer_Age  \n",
       "654                   115        9549         149.0  \n",
       "2397                  114       10220         149.0  \n",
       "2423                  107        7281         149.0  \n",
       "3559                  211       19210         149.0  \n",
       "4813                  104       12010         149.0  \n",
       "5129                   82        5238         149.0  \n",
       "5915                  103       18320         149.0  \n",
       "8790                   67        8267         149.0  \n",
       "9241                   21        2417         149.0  "
      ]
     },
     "execution_count": 31,
     "metadata": {},
     "output_type": "execute_result"
    }
   ],
   "source": [
    "Area_above_1000=df[(df.area>1000)]\n",
    "Area_above_1000   #there are only 9 value"
   ]
  },
  {
   "cell_type": "code",
   "execution_count": 32,
   "id": "ee27dea0",
   "metadata": {},
   "outputs": [
    {
     "data": {
      "text/plain": [
       "1600     2\n",
       "2000     2\n",
       "46335    1\n",
       "1020     1\n",
       "1100     1\n",
       "24606    1\n",
       "12732    1\n",
       "Name: area, dtype: int64"
      ]
     },
     "execution_count": 32,
     "metadata": {},
     "output_type": "execute_result"
    }
   ],
   "source": [
    "Area_above_1000['area'].value_counts()"
   ]
  },
  {
   "cell_type": "code",
   "execution_count": 33,
   "id": "19e9801f",
   "metadata": {},
   "outputs": [
    {
     "data": {
      "text/html": [
       "<div>\n",
       "<style scoped>\n",
       "    .dataframe tbody tr th:only-of-type {\n",
       "        vertical-align: middle;\n",
       "    }\n",
       "\n",
       "    .dataframe tbody tr th {\n",
       "        vertical-align: top;\n",
       "    }\n",
       "\n",
       "    .dataframe thead th {\n",
       "        text-align: right;\n",
       "    }\n",
       "</style>\n",
       "<table border=\"1\" class=\"dataframe\">\n",
       "  <thead>\n",
       "    <tr style=\"text-align: right;\">\n",
       "      <th></th>\n",
       "      <th>city</th>\n",
       "      <th>area</th>\n",
       "      <th>rooms</th>\n",
       "      <th>bathroom</th>\n",
       "      <th>parking spaces</th>\n",
       "      <th>floor</th>\n",
       "      <th>animal</th>\n",
       "      <th>furniture</th>\n",
       "      <th>hoa (R$)</th>\n",
       "      <th>rent amount (R$)</th>\n",
       "      <th>property tax (R$)</th>\n",
       "      <th>fire insurance (R$)</th>\n",
       "      <th>total (R$)</th>\n",
       "      <th>Customer_Age</th>\n",
       "    </tr>\n",
       "  </thead>\n",
       "  <tbody>\n",
       "    <tr>\n",
       "      <th>0</th>\n",
       "      <td>São Paulo</td>\n",
       "      <td>70</td>\n",
       "      <td>2</td>\n",
       "      <td>1</td>\n",
       "      <td>1</td>\n",
       "      <td>7</td>\n",
       "      <td>acept</td>\n",
       "      <td>furnished</td>\n",
       "      <td>2065</td>\n",
       "      <td>3300</td>\n",
       "      <td>211</td>\n",
       "      <td>42</td>\n",
       "      <td>5618</td>\n",
       "      <td>149.0</td>\n",
       "    </tr>\n",
       "    <tr>\n",
       "      <th>1</th>\n",
       "      <td>São Paulo</td>\n",
       "      <td>320</td>\n",
       "      <td>4</td>\n",
       "      <td>4</td>\n",
       "      <td>0</td>\n",
       "      <td>20</td>\n",
       "      <td>acept</td>\n",
       "      <td>not furnished</td>\n",
       "      <td>1200</td>\n",
       "      <td>4960</td>\n",
       "      <td>1750</td>\n",
       "      <td>63</td>\n",
       "      <td>7973</td>\n",
       "      <td>149.0</td>\n",
       "    </tr>\n",
       "    <tr>\n",
       "      <th>2</th>\n",
       "      <td>Porto Alegre</td>\n",
       "      <td>80</td>\n",
       "      <td>1</td>\n",
       "      <td>1</td>\n",
       "      <td>1</td>\n",
       "      <td>6</td>\n",
       "      <td>acept</td>\n",
       "      <td>not furnished</td>\n",
       "      <td>1000</td>\n",
       "      <td>2800</td>\n",
       "      <td>0</td>\n",
       "      <td>41</td>\n",
       "      <td>3841</td>\n",
       "      <td>149.0</td>\n",
       "    </tr>\n",
       "  </tbody>\n",
       "</table>\n",
       "</div>"
      ],
      "text/plain": [
       "           city  area  rooms  bathroom  parking spaces  floor animal  \\\n",
       "0     São Paulo    70      2         1               1      7  acept   \n",
       "1     São Paulo   320      4         4               0     20  acept   \n",
       "2  Porto Alegre    80      1         1               1      6  acept   \n",
       "\n",
       "       furniture  hoa (R$)  rent amount (R$)  property tax (R$)  \\\n",
       "0      furnished      2065              3300                211   \n",
       "1  not furnished      1200              4960               1750   \n",
       "2  not furnished      1000              2800                  0   \n",
       "\n",
       "   fire insurance (R$)  total (R$)  Customer_Age  \n",
       "0                   42        5618         149.0  \n",
       "1                   63        7973         149.0  \n",
       "2                   41        3841         149.0  "
      ]
     },
     "execution_count": 33,
     "metadata": {},
     "output_type": "execute_result"
    }
   ],
   "source": [
    "df = df[(df.area<1000)]     #updateing the area < 1000 to main data frame\n",
    "df.head(3)"
   ]
  },
  {
   "cell_type": "code",
   "execution_count": 34,
   "id": "321b410d",
   "metadata": {},
   "outputs": [
    {
     "data": {
      "image/png": "[encoded data removed]",
      "text/plain": [
       "<Figure size 1440x504 with 2 Axes>"
      ]
     },
     "metadata": {
      "needs_background": "light"
     },
     "output_type": "display_data"
    }
   ],
   "source": [
    "# Distribution of customer age \n",
    "fig, ax = plt.subplots(1,2, figsize = (20,7))\n",
    "sns.histplot(x=df[\"area\"], ax = ax [1],kde=True, color = \"m\")  #ax[1] mean image will plot secound plot\n",
    "sns.boxplot(x=df[\"area\"],ax=ax[0],color = \"g\") #ax[0] mean image will plot at the fist plot\n",
    "plt.show()"
   ]
  },
  {
   "cell_type": "code",
   "execution_count": 35,
   "id": "d3ea5cf1",
   "metadata": {},
   "outputs": [
    {
     "data": {
      "text/plain": [
       "count    10677.000000\n",
       "mean       140.155943\n",
       "std        128.256791\n",
       "min         11.000000\n",
       "25%         56.000000\n",
       "50%         90.000000\n",
       "75%        181.000000\n",
       "max        999.000000\n",
       "Name: area, dtype: float64"
      ]
     },
     "execution_count": 35,
     "metadata": {},
     "output_type": "execute_result"
    }
   ],
   "source": [
    "df['area'].describe()  # here we check the details that"
   ]
  },
  {
   "cell_type": "markdown",
   "id": "cb014540",
   "metadata": {},
   "source": [
    "### There we can observed there is no much change in data ."
   ]
  },
  {
   "cell_type": "markdown",
   "id": "6a8e03ab",
   "metadata": {},
   "source": [
    "## 5. Analysis of the Employees room."
   ]
  },
  {
   "cell_type": "code",
   "execution_count": 36,
   "id": "bd75a59c",
   "metadata": {},
   "outputs": [
    {
     "name": "stdout",
     "output_type": "stream",
     "text": [
      "The mean of the rooms is 2.503699541069589\n",
      "The median of the rooms is 2.0\n",
      "The mode of the rooms is 3\n",
      "The standard deviation of the rooms is 1.169949060614594\n",
      "Number of missing values in the rooms is 0\n"
     ]
    }
   ],
   "source": [
    "info_of_numerical(\"rooms\")"
   ]
  },
  {
   "cell_type": "code",
   "execution_count": 37,
   "id": "45d22659",
   "metadata": {},
   "outputs": [
    {
     "data": {
      "image/png": "[encoded data removed]",
      "text/plain": [
       "<Figure size 1440x504 with 2 Axes>"
      ]
     },
     "metadata": {
      "needs_background": "light"
     },
     "output_type": "display_data"
    }
   ],
   "source": [
    "# Distribution of room\n",
    "fig, ax = plt.subplots(1,2, figsize = (20,7))\n",
    "sns.histplot(x=df[\"rooms\"], ax = ax [1],kde=True, color = \"m\")  #ax[1] mean image will plot secound plot\n",
    "sns.boxplot(x=df[\"rooms\"],ax=ax[0],color = \"g\") #ax[0] mean image will plot at the fist plot\n",
    "plt.show()"
   ]
  },
  {
   "cell_type": "code",
   "execution_count": 38,
   "id": "632e2cb6",
   "metadata": {},
   "outputs": [
    {
     "data": {
      "text/plain": [
       "count    10677.000000\n",
       "mean         2.503700\n",
       "std          1.169949\n",
       "min          1.000000\n",
       "25%          2.000000\n",
       "50%          2.000000\n",
       "75%          3.000000\n",
       "max         13.000000\n",
       "Name: rooms, dtype: float64"
      ]
     },
     "execution_count": 38,
     "metadata": {},
     "output_type": "execute_result"
    }
   ],
   "source": [
    "df['rooms'].describe() "
   ]
  },
  {
   "cell_type": "code",
   "execution_count": 39,
   "id": "79ed01f5",
   "metadata": {},
   "outputs": [
    {
     "data": {
      "text/plain": [
       "array([ 2,  4,  1,  3,  7,  5,  8,  6, 10, 13,  9], dtype=int64)"
      ]
     },
     "execution_count": 39,
     "metadata": {},
     "output_type": "execute_result"
    }
   ],
   "source": [
    "df['rooms'].unique()"
   ]
  },
  {
   "cell_type": "code",
   "execution_count": 40,
   "id": "a6e95e6a",
   "metadata": {},
   "outputs": [
    {
     "data": {
      "text/plain": [
       "3     30.589117\n",
       "2     27.863632\n",
       "1     22.983984\n",
       "4     14.788798\n",
       "5      2.659923\n",
       "6      0.627517\n",
       "7      0.337173\n",
       "8      0.103025\n",
       "10     0.028098\n",
       "13     0.009366\n",
       "9      0.009366\n",
       "Name: rooms, dtype: float64"
      ]
     },
     "execution_count": 40,
     "metadata": {},
     "output_type": "execute_result"
    }
   ],
   "source": [
    "df['rooms'].value_counts('rooms')*100"
   ]
  },
  {
   "cell_type": "markdown",
   "id": "7fe41be2",
   "metadata": {},
   "source": [
    "### Interpretation : In above we can see that room above 6 are very less and in cityes people not perfed much big houses. also we observed that 1,2,3 are most common in city and acquared 81.436733 % of property."
   ]
  },
  {
   "cell_type": "markdown",
   "id": "81dcf524",
   "metadata": {},
   "source": [
    "## 6.Analysis of the employees bathroom"
   ]
  },
  {
   "cell_type": "code",
   "execution_count": 41,
   "id": "d2f1b325",
   "metadata": {},
   "outputs": [
    {
     "name": "stdout",
     "output_type": "stream",
     "text": [
      "The mean of the bathroom is 2.233492554088227\n",
      "The median of the bathroom is 2.0\n",
      "The mode of the bathroom is 1\n",
      "The standard deviation of the bathroom is 1.4036730927256003\n",
      "Number of missing values in the bathroom is 0\n"
     ]
    }
   ],
   "source": [
    "info_of_numerical(\"bathroom\")"
   ]
  },
  {
   "cell_type": "code",
   "execution_count": 42,
   "id": "a6e302b8",
   "metadata": {},
   "outputs": [
    {
     "data": {
      "text/plain": [
       "array([ 1,  4,  3,  2,  6,  5,  7,  9,  8, 10], dtype=int64)"
      ]
     },
     "execution_count": 42,
     "metadata": {},
     "output_type": "execute_result"
    }
   ],
   "source": [
    "df['bathroom'].unique()"
   ]
  },
  {
   "cell_type": "code",
   "execution_count": 43,
   "id": "6f26186e",
   "metadata": {},
   "outputs": [
    {
     "data": {
      "text/plain": [
       "count    10677.000000\n",
       "mean         2.233493\n",
       "std          1.403673\n",
       "min          1.000000\n",
       "25%          1.000000\n",
       "50%          2.000000\n",
       "75%          3.000000\n",
       "max         10.000000\n",
       "Name: bathroom, dtype: float64"
      ]
     },
     "execution_count": 43,
     "metadata": {},
     "output_type": "execute_result"
    }
   ],
   "source": [
    "df['bathroom'].describe() "
   ]
  },
  {
   "cell_type": "code",
   "execution_count": 44,
   "id": "59ffbfce",
   "metadata": {},
   "outputs": [
    {
     "data": {
      "image/png": "[encoded data removed]",
      "text/plain": [
       "<Figure size 1440x504 with 2 Axes>"
      ]
     },
     "metadata": {
      "needs_background": "light"
     },
     "output_type": "display_data"
    }
   ],
   "source": [
    "# Distribution of bathroom\n",
    "fig, ax = plt.subplots(1,2, figsize = (20,7))\n",
    "sns.histplot(x=df[\"bathroom\"], ax = ax [1],kde=True, color = \"g\")  #ax[1] mean image will plot secound plot\n",
    "sns.boxplot(x=df[\"bathroom\"],ax=ax[0],color = \"b\") #ax[0] mean image will plot at the fist plot\n",
    "plt.show()"
   ]
  },
  {
   "cell_type": "code",
   "execution_count": 45,
   "id": "c1df5bb1",
   "metadata": {},
   "outputs": [],
   "source": [
    "# we can say room data is ordinal data also we can observed the bathroom above the 6  are very less also we will replace this value "
   ]
  },
  {
   "cell_type": "code",
   "execution_count": 46,
   "id": "a3e2e42e",
   "metadata": {},
   "outputs": [
    {
     "data": {
      "text/html": [
       "<div>\n",
       "<style scoped>\n",
       "    .dataframe tbody tr th:only-of-type {\n",
       "        vertical-align: middle;\n",
       "    }\n",
       "\n",
       "    .dataframe tbody tr th {\n",
       "        vertical-align: top;\n",
       "    }\n",
       "\n",
       "    .dataframe thead th {\n",
       "        text-align: right;\n",
       "    }\n",
       "</style>\n",
       "<table border=\"1\" class=\"dataframe\">\n",
       "  <thead>\n",
       "    <tr style=\"text-align: right;\">\n",
       "      <th></th>\n",
       "      <th>city</th>\n",
       "      <th>area</th>\n",
       "      <th>rooms</th>\n",
       "      <th>bathroom</th>\n",
       "      <th>parking spaces</th>\n",
       "      <th>floor</th>\n",
       "      <th>animal</th>\n",
       "      <th>furniture</th>\n",
       "      <th>hoa (R$)</th>\n",
       "      <th>rent amount (R$)</th>\n",
       "      <th>property tax (R$)</th>\n",
       "      <th>fire insurance (R$)</th>\n",
       "      <th>total (R$)</th>\n",
       "      <th>Customer_Age</th>\n",
       "    </tr>\n",
       "  </thead>\n",
       "  <tbody>\n",
       "    <tr>\n",
       "      <th>59</th>\n",
       "      <td>São Paulo</td>\n",
       "      <td>194</td>\n",
       "      <td>3</td>\n",
       "      <td>4</td>\n",
       "      <td>3</td>\n",
       "      <td>0</td>\n",
       "      <td>acept</td>\n",
       "      <td>not furnished</td>\n",
       "      <td>0</td>\n",
       "      <td>4000</td>\n",
       "      <td>70</td>\n",
       "      <td>61</td>\n",
       "      <td>4131</td>\n",
       "      <td>149.0</td>\n",
       "    </tr>\n",
       "    <tr>\n",
       "      <th>88</th>\n",
       "      <td>São Paulo</td>\n",
       "      <td>145</td>\n",
       "      <td>3</td>\n",
       "      <td>4</td>\n",
       "      <td>3</td>\n",
       "      <td>1</td>\n",
       "      <td>not acept</td>\n",
       "      <td>not furnished</td>\n",
       "      <td>1200</td>\n",
       "      <td>6000</td>\n",
       "      <td>750</td>\n",
       "      <td>77</td>\n",
       "      <td>8027</td>\n",
       "      <td>149.0</td>\n",
       "    </tr>\n",
       "    <tr>\n",
       "      <th>97</th>\n",
       "      <td>Campinas</td>\n",
       "      <td>240</td>\n",
       "      <td>3</td>\n",
       "      <td>4</td>\n",
       "      <td>2</td>\n",
       "      <td>0</td>\n",
       "      <td>acept</td>\n",
       "      <td>not furnished</td>\n",
       "      <td>0</td>\n",
       "      <td>3000</td>\n",
       "      <td>250</td>\n",
       "      <td>46</td>\n",
       "      <td>3296</td>\n",
       "      <td>149.0</td>\n",
       "    </tr>\n",
       "    <tr>\n",
       "      <th>111</th>\n",
       "      <td>São Paulo</td>\n",
       "      <td>360</td>\n",
       "      <td>3</td>\n",
       "      <td>4</td>\n",
       "      <td>1</td>\n",
       "      <td>10</td>\n",
       "      <td>acept</td>\n",
       "      <td>not furnished</td>\n",
       "      <td>2300</td>\n",
       "      <td>10000</td>\n",
       "      <td>584</td>\n",
       "      <td>127</td>\n",
       "      <td>13010</td>\n",
       "      <td>149.0</td>\n",
       "    </tr>\n",
       "    <tr>\n",
       "      <th>117</th>\n",
       "      <td>São Paulo</td>\n",
       "      <td>155</td>\n",
       "      <td>3</td>\n",
       "      <td>4</td>\n",
       "      <td>2</td>\n",
       "      <td>4</td>\n",
       "      <td>acept</td>\n",
       "      <td>not furnished</td>\n",
       "      <td>1500</td>\n",
       "      <td>2000</td>\n",
       "      <td>150</td>\n",
       "      <td>26</td>\n",
       "      <td>3676</td>\n",
       "      <td>149.0</td>\n",
       "    </tr>\n",
       "    <tr>\n",
       "      <th>...</th>\n",
       "      <td>...</td>\n",
       "      <td>...</td>\n",
       "      <td>...</td>\n",
       "      <td>...</td>\n",
       "      <td>...</td>\n",
       "      <td>...</td>\n",
       "      <td>...</td>\n",
       "      <td>...</td>\n",
       "      <td>...</td>\n",
       "      <td>...</td>\n",
       "      <td>...</td>\n",
       "      <td>...</td>\n",
       "      <td>...</td>\n",
       "      <td>...</td>\n",
       "    </tr>\n",
       "    <tr>\n",
       "      <th>10612</th>\n",
       "      <td>São Paulo</td>\n",
       "      <td>240</td>\n",
       "      <td>3</td>\n",
       "      <td>4</td>\n",
       "      <td>3</td>\n",
       "      <td>0</td>\n",
       "      <td>acept</td>\n",
       "      <td>not furnished</td>\n",
       "      <td>2140</td>\n",
       "      <td>5500</td>\n",
       "      <td>750</td>\n",
       "      <td>83</td>\n",
       "      <td>8473</td>\n",
       "      <td>149.0</td>\n",
       "    </tr>\n",
       "    <tr>\n",
       "      <th>10630</th>\n",
       "      <td>São Paulo</td>\n",
       "      <td>380</td>\n",
       "      <td>3</td>\n",
       "      <td>5</td>\n",
       "      <td>4</td>\n",
       "      <td>0</td>\n",
       "      <td>acept</td>\n",
       "      <td>not furnished</td>\n",
       "      <td>0</td>\n",
       "      <td>5500</td>\n",
       "      <td>1200</td>\n",
       "      <td>83</td>\n",
       "      <td>6783</td>\n",
       "      <td>149.0</td>\n",
       "    </tr>\n",
       "    <tr>\n",
       "      <th>10646</th>\n",
       "      <td>Rio de Janeiro</td>\n",
       "      <td>300</td>\n",
       "      <td>3</td>\n",
       "      <td>4</td>\n",
       "      <td>1</td>\n",
       "      <td>10</td>\n",
       "      <td>acept</td>\n",
       "      <td>furnished</td>\n",
       "      <td>1983</td>\n",
       "      <td>9100</td>\n",
       "      <td>700</td>\n",
       "      <td>118</td>\n",
       "      <td>11900</td>\n",
       "      <td>149.0</td>\n",
       "    </tr>\n",
       "    <tr>\n",
       "      <th>10678</th>\n",
       "      <td>São Paulo</td>\n",
       "      <td>141</td>\n",
       "      <td>3</td>\n",
       "      <td>5</td>\n",
       "      <td>0</td>\n",
       "      <td>4</td>\n",
       "      <td>acept</td>\n",
       "      <td>not furnished</td>\n",
       "      <td>909</td>\n",
       "      <td>10140</td>\n",
       "      <td>772</td>\n",
       "      <td>129</td>\n",
       "      <td>11950</td>\n",
       "      <td>149.0</td>\n",
       "    </tr>\n",
       "    <tr>\n",
       "      <th>10681</th>\n",
       "      <td>São Paulo</td>\n",
       "      <td>230</td>\n",
       "      <td>3</td>\n",
       "      <td>5</td>\n",
       "      <td>3</td>\n",
       "      <td>3</td>\n",
       "      <td>not acept</td>\n",
       "      <td>not furnished</td>\n",
       "      <td>3800</td>\n",
       "      <td>11000</td>\n",
       "      <td>1100</td>\n",
       "      <td>140</td>\n",
       "      <td>16040</td>\n",
       "      <td>149.0</td>\n",
       "    </tr>\n",
       "  </tbody>\n",
       "</table>\n",
       "<p>658 rows × 14 columns</p>\n",
       "</div>"
      ],
      "text/plain": [
       "                 city  area  rooms  bathroom  parking spaces  floor  \\\n",
       "59          São Paulo   194      3         4               3      0   \n",
       "88          São Paulo   145      3         4               3      1   \n",
       "97           Campinas   240      3         4               2      0   \n",
       "111         São Paulo   360      3         4               1     10   \n",
       "117         São Paulo   155      3         4               2      4   \n",
       "...               ...   ...    ...       ...             ...    ...   \n",
       "10612       São Paulo   240      3         4               3      0   \n",
       "10630       São Paulo   380      3         5               4      0   \n",
       "10646  Rio de Janeiro   300      3         4               1     10   \n",
       "10678       São Paulo   141      3         5               0      4   \n",
       "10681       São Paulo   230      3         5               3      3   \n",
       "\n",
       "          animal      furniture  hoa (R$)  rent amount (R$)  \\\n",
       "59         acept  not furnished         0              4000   \n",
       "88     not acept  not furnished      1200              6000   \n",
       "97         acept  not furnished         0              3000   \n",
       "111        acept  not furnished      2300             10000   \n",
       "117        acept  not furnished      1500              2000   \n",
       "...          ...            ...       ...               ...   \n",
       "10612      acept  not furnished      2140              5500   \n",
       "10630      acept  not furnished         0              5500   \n",
       "10646      acept      furnished      1983              9100   \n",
       "10678      acept  not furnished       909             10140   \n",
       "10681  not acept  not furnished      3800             11000   \n",
       "\n",
       "       property tax (R$)  fire insurance (R$)  total (R$)  Customer_Age  \n",
       "59                    70                   61        4131         149.0  \n",
       "88                   750                   77        8027         149.0  \n",
       "97                   250                   46        3296         149.0  \n",
       "111                  584                  127       13010         149.0  \n",
       "117                  150                   26        3676         149.0  \n",
       "...                  ...                  ...         ...           ...  \n",
       "10612                750                   83        8473         149.0  \n",
       "10630               1200                   83        6783         149.0  \n",
       "10646                700                  118       11900         149.0  \n",
       "10678                772                  129       11950         149.0  \n",
       "10681               1100                  140       16040         149.0  \n",
       "\n",
       "[658 rows x 14 columns]"
      ]
     },
     "execution_count": 46,
     "metadata": {},
     "output_type": "execute_result"
    }
   ],
   "source": [
    "bat = df[(df.rooms==  3) & (df.bathroom > 3)]\n",
    "bat #mode of rooms = 3 and we have avrage bathroom 2.33 so will be consider that 3"
   ]
  },
  {
   "cell_type": "markdown",
   "id": "5ece507c",
   "metadata": {},
   "source": [
    "### Interpretation : In above we found that there are properties which having more bathroom than room which wired thing."
   ]
  },
  {
   "cell_type": "markdown",
   "id": "8201574e",
   "metadata": {},
   "source": [
    "### 7. Analysis of the employees parking spaces:\n",
    "LEVEL 1 Analysis of Numerical Data (Univarte Analysis)"
   ]
  },
  {
   "cell_type": "code",
   "execution_count": 47,
   "id": "f35d9da3",
   "metadata": {},
   "outputs": [
    {
     "name": "stdout",
     "output_type": "stream",
     "text": [
      "The mean of the parking spaces is 1.6039149573850333\n",
      "The median of the parking spaces is 1.0\n",
      "The mode of the parking spaces is 1\n",
      "The standard deviation of the parking spaces is 1.5800708409375623\n",
      "Number of missing values in the parking spaces is 0\n"
     ]
    }
   ],
   "source": [
    "info_of_numerical(\"parking spaces\")"
   ]
  },
  {
   "cell_type": "code",
   "execution_count": 48,
   "id": "cc3b0f70",
   "metadata": {},
   "outputs": [
    {
     "data": {
      "text/plain": [
       "array([ 1,  0,  7,  4,  2,  6,  3,  8,  5, 10], dtype=int64)"
      ]
     },
     "execution_count": 48,
     "metadata": {},
     "output_type": "execute_result"
    }
   ],
   "source": [
    "df['parking spaces'].unique()"
   ]
  },
  {
   "cell_type": "code",
   "execution_count": 49,
   "id": "b62eac97",
   "metadata": {},
   "outputs": [
    {
     "data": {
      "text/plain": [
       "count    10677.000000\n",
       "mean         1.603915\n",
       "std          1.580071\n",
       "min          0.000000\n",
       "25%          0.000000\n",
       "50%          1.000000\n",
       "75%          2.000000\n",
       "max         10.000000\n",
       "Name: parking spaces, dtype: float64"
      ]
     },
     "execution_count": 49,
     "metadata": {},
     "output_type": "execute_result"
    }
   ],
   "source": [
    "df['parking spaces'].describe() "
   ]
  },
  {
   "cell_type": "code",
   "execution_count": 50,
   "id": "b10d0989",
   "metadata": {},
   "outputs": [
    {
     "data": {
      "image/png": "[encoded data removed]",
      "text/plain": [
       "<Figure size 1440x504 with 2 Axes>"
      ]
     },
     "metadata": {
      "needs_background": "light"
     },
     "output_type": "display_data"
    }
   ],
   "source": [
    "# Distribution of parking spaces\n",
    "fig, ax = plt.subplots(1,2, figsize = (20,7))\n",
    "sns.histplot(x=df[\"parking spaces\"], ax = ax [1],kde=True, color = \"Orange\")  #ax[1] mean image will plot secound plot\n",
    "sns.boxplot(x=df[\"parking spaces\"],ax=ax[0],color = \"gray\") #ax[0] mean image will plot at the fist plot\n",
    "plt.show()"
   ]
  },
  {
   "cell_type": "markdown",
   "id": "18891f76",
   "metadata": {},
   "source": [
    "### Interpretation - our data is distributed between 1 and 3 , with max value 10."
   ]
  },
  {
   "cell_type": "markdown",
   "id": "2cc878e0",
   "metadata": {},
   "source": [
    "## 8.Analysis of the employee's floor\n",
    "LEVEL 1 Analysis of Numerical Data (Univarte Analysis)"
   ]
  },
  {
   "cell_type": "code",
   "execution_count": 51,
   "id": "34f23981",
   "metadata": {},
   "outputs": [
    {
     "name": "stdout",
     "output_type": "stream",
     "text": [
      "The mean of the floor is 5.069682495082889\n",
      "The median of the floor is 3.0\n",
      "The mode of the floor is 0\n",
      "The standard deviation of the floor is 6.070030892039703\n",
      "Number of missing values in the floor is 0\n"
     ]
    }
   ],
   "source": [
    "info_of_numerical(\"floor\")"
   ]
  },
  {
   "cell_type": "code",
   "execution_count": 52,
   "id": "27fdc1a5",
   "metadata": {},
   "outputs": [
    {
     "data": {
      "text/plain": [
       "count    10677.000000\n",
       "mean         5.069682\n",
       "std          6.070031\n",
       "min          0.000000\n",
       "25%          1.000000\n",
       "50%          3.000000\n",
       "75%          8.000000\n",
       "max        301.000000\n",
       "Name: floor, dtype: float64"
      ]
     },
     "execution_count": 52,
     "metadata": {},
     "output_type": "execute_result"
    }
   ],
   "source": [
    "df['floor'].describe() "
   ]
  },
  {
   "cell_type": "code",
   "execution_count": 53,
   "id": "6f04d16d",
   "metadata": {},
   "outputs": [
    {
     "data": {
      "image/png": "[encoded data removed]",
      "text/plain": [
       "<Figure size 1440x504 with 2 Axes>"
      ]
     },
     "metadata": {
      "needs_background": "light"
     },
     "output_type": "display_data"
    }
   ],
   "source": [
    "# Distribution of floor\n",
    "fig, ax = plt.subplots(1,2, figsize = (20,7))\n",
    "sns.histplot(x=df[\"floor\"], ax = ax [1],kde=True, color = \"RED\")  #ax[1] mean image will plot secound plot\n",
    "sns.boxplot(x=df[\"floor\"],ax=ax[0],color = \"gray\") #ax[0] mean image will plot at the fist plot\n",
    "plt.show()"
   ]
  },
  {
   "cell_type": "code",
   "execution_count": 54,
   "id": "b3bafd57",
   "metadata": {},
   "outputs": [
    {
     "data": {
      "text/plain": [
       "0      22.974618\n",
       "1      10.124567\n",
       "2       9.216072\n",
       "3       8.710312\n",
       "4       7.005713\n",
       "5       5.610190\n",
       "6       5.048235\n",
       "7       4.654866\n",
       "8       4.589304\n",
       "9       3.456027\n",
       "10      3.334270\n",
       "11      2.828510\n",
       "12      2.397677\n",
       "13      1.873185\n",
       "14      1.592208\n",
       "15      1.367425\n",
       "16      1.020886\n",
       "17      0.899129\n",
       "18      0.702445\n",
       "19      0.496394\n",
       "20      0.412101\n",
       "21      0.393369\n",
       "25      0.234148\n",
       "23      0.234148\n",
       "22      0.224782\n",
       "26      0.187319\n",
       "24      0.177953\n",
       "27      0.074927\n",
       "28      0.056196\n",
       "29      0.046830\n",
       "32      0.018732\n",
       "35      0.009366\n",
       "46      0.009366\n",
       "301     0.009366\n",
       "51      0.009366\n",
       "Name: floor, dtype: float64"
      ]
     },
     "execution_count": 54,
     "metadata": {},
     "output_type": "execute_result"
    }
   ],
   "source": [
    "df['floor'].value_counts('floor')*100"
   ]
  },
  {
   "cell_type": "code",
   "execution_count": 55,
   "id": "03d526e8",
   "metadata": {},
   "outputs": [
    {
     "data": {
      "text/html": [
       "<div>\n",
       "<style scoped>\n",
       "    .dataframe tbody tr th:only-of-type {\n",
       "        vertical-align: middle;\n",
       "    }\n",
       "\n",
       "    .dataframe tbody tr th {\n",
       "        vertical-align: top;\n",
       "    }\n",
       "\n",
       "    .dataframe thead th {\n",
       "        text-align: right;\n",
       "    }\n",
       "</style>\n",
       "<table border=\"1\" class=\"dataframe\">\n",
       "  <thead>\n",
       "    <tr style=\"text-align: right;\">\n",
       "      <th></th>\n",
       "      <th>city</th>\n",
       "      <th>area</th>\n",
       "      <th>rooms</th>\n",
       "      <th>bathroom</th>\n",
       "      <th>parking spaces</th>\n",
       "      <th>floor</th>\n",
       "      <th>animal</th>\n",
       "      <th>furniture</th>\n",
       "      <th>hoa (R$)</th>\n",
       "      <th>rent amount (R$)</th>\n",
       "      <th>property tax (R$)</th>\n",
       "      <th>fire insurance (R$)</th>\n",
       "      <th>total (R$)</th>\n",
       "      <th>Customer_Age</th>\n",
       "    </tr>\n",
       "  </thead>\n",
       "  <tbody>\n",
       "    <tr>\n",
       "      <th>0</th>\n",
       "      <td>São Paulo</td>\n",
       "      <td>70</td>\n",
       "      <td>2</td>\n",
       "      <td>1</td>\n",
       "      <td>1</td>\n",
       "      <td>7</td>\n",
       "      <td>acept</td>\n",
       "      <td>furnished</td>\n",
       "      <td>2065</td>\n",
       "      <td>3300</td>\n",
       "      <td>211</td>\n",
       "      <td>42</td>\n",
       "      <td>5618</td>\n",
       "      <td>149.0</td>\n",
       "    </tr>\n",
       "    <tr>\n",
       "      <th>2</th>\n",
       "      <td>Porto Alegre</td>\n",
       "      <td>80</td>\n",
       "      <td>1</td>\n",
       "      <td>1</td>\n",
       "      <td>1</td>\n",
       "      <td>6</td>\n",
       "      <td>acept</td>\n",
       "      <td>not furnished</td>\n",
       "      <td>1000</td>\n",
       "      <td>2800</td>\n",
       "      <td>0</td>\n",
       "      <td>41</td>\n",
       "      <td>3841</td>\n",
       "      <td>149.0</td>\n",
       "    </tr>\n",
       "    <tr>\n",
       "      <th>3</th>\n",
       "      <td>Porto Alegre</td>\n",
       "      <td>51</td>\n",
       "      <td>2</td>\n",
       "      <td>1</td>\n",
       "      <td>0</td>\n",
       "      <td>2</td>\n",
       "      <td>acept</td>\n",
       "      <td>not furnished</td>\n",
       "      <td>270</td>\n",
       "      <td>1112</td>\n",
       "      <td>22</td>\n",
       "      <td>17</td>\n",
       "      <td>1421</td>\n",
       "      <td>149.0</td>\n",
       "    </tr>\n",
       "    <tr>\n",
       "      <th>4</th>\n",
       "      <td>São Paulo</td>\n",
       "      <td>25</td>\n",
       "      <td>1</td>\n",
       "      <td>1</td>\n",
       "      <td>0</td>\n",
       "      <td>1</td>\n",
       "      <td>not acept</td>\n",
       "      <td>not furnished</td>\n",
       "      <td>0</td>\n",
       "      <td>800</td>\n",
       "      <td>25</td>\n",
       "      <td>11</td>\n",
       "      <td>836</td>\n",
       "      <td>149.0</td>\n",
       "    </tr>\n",
       "    <tr>\n",
       "      <th>5</th>\n",
       "      <td>São Paulo</td>\n",
       "      <td>376</td>\n",
       "      <td>3</td>\n",
       "      <td>3</td>\n",
       "      <td>7</td>\n",
       "      <td>0</td>\n",
       "      <td>acept</td>\n",
       "      <td>not furnished</td>\n",
       "      <td>0</td>\n",
       "      <td>8000</td>\n",
       "      <td>834</td>\n",
       "      <td>121</td>\n",
       "      <td>8955</td>\n",
       "      <td>149.0</td>\n",
       "    </tr>\n",
       "  </tbody>\n",
       "</table>\n",
       "</div>"
      ],
      "text/plain": [
       "           city  area  rooms  bathroom  parking spaces  floor     animal  \\\n",
       "0     São Paulo    70      2         1               1      7      acept   \n",
       "2  Porto Alegre    80      1         1               1      6      acept   \n",
       "3  Porto Alegre    51      2         1               0      2      acept   \n",
       "4     São Paulo    25      1         1               0      1  not acept   \n",
       "5     São Paulo   376      3         3               7      0      acept   \n",
       "\n",
       "       furniture  hoa (R$)  rent amount (R$)  property tax (R$)  \\\n",
       "0      furnished      2065              3300                211   \n",
       "2  not furnished      1000              2800                  0   \n",
       "3  not furnished       270              1112                 22   \n",
       "4  not furnished         0               800                 25   \n",
       "5  not furnished         0              8000                834   \n",
       "\n",
       "   fire insurance (R$)  total (R$)  Customer_Age  \n",
       "0                   42        5618         149.0  \n",
       "2                   41        3841         149.0  \n",
       "3                   17        1421         149.0  \n",
       "4                   11         836         149.0  \n",
       "5                  121        8955         149.0  "
      ]
     },
     "execution_count": 55,
     "metadata": {},
     "output_type": "execute_result"
    }
   ],
   "source": [
    "#as we say that there is very less no count floor with gretterthen 17\n",
    "df = df[(df.floor<17)]\n",
    "# updating the floor < 17 to main dataframe\n",
    "df.head()"
   ]
  },
  {
   "cell_type": "code",
   "execution_count": 56,
   "id": "9202b4f9",
   "metadata": {},
   "outputs": [
    {
     "data": {
      "image/png": "[encoded data removed]",
      "text/plain": [
       "<Figure size 1440x504 with 2 Axes>"
      ]
     },
     "metadata": {
      "needs_background": "light"
     },
     "output_type": "display_data"
    }
   ],
   "source": [
    "# Distribution of Floor\n",
    "fig, ax = plt.subplots(1,2, figsize = (20,7))\n",
    "sns.histplot(x=df[\"floor\"], ax = ax [1],kde=True, color = \"red\")  #ax[1] mean image will plot secound plot\n",
    "sns.boxplot(x=df[\"floor\"],ax=ax[0],color = \"blue\") #ax[0] mean image will plot at the fist plot\n",
    "plt.show()"
   ]
  },
  {
   "cell_type": "markdown",
   "id": "08570990",
   "metadata": {},
   "source": [
    "### Interpretation :- we can observed that the data is right screwed and maximum people live in 1 to 7 floor "
   ]
  },
  {
   "cell_type": "markdown",
   "id": "5fd8f2d7",
   "metadata": {},
   "source": [
    "## 9. Analysis of the hoa R$\n",
    "LEVEL 1 Analysis of Numerical Data (Univarte Analysis)"
   ]
  },
  {
   "cell_type": "code",
   "execution_count": 57,
   "id": "7f84c959",
   "metadata": {},
   "outputs": [
    {
     "data": {
      "text/html": [
       "<div>\n",
       "<style scoped>\n",
       "    .dataframe tbody tr th:only-of-type {\n",
       "        vertical-align: middle;\n",
       "    }\n",
       "\n",
       "    .dataframe tbody tr th {\n",
       "        vertical-align: top;\n",
       "    }\n",
       "\n",
       "    .dataframe thead th {\n",
       "        text-align: right;\n",
       "    }\n",
       "</style>\n",
       "<table border=\"1\" class=\"dataframe\">\n",
       "  <thead>\n",
       "    <tr style=\"text-align: right;\">\n",
       "      <th></th>\n",
       "      <th>count</th>\n",
       "      <th>mean</th>\n",
       "      <th>std</th>\n",
       "      <th>min</th>\n",
       "      <th>25%</th>\n",
       "      <th>50%</th>\n",
       "      <th>75%</th>\n",
       "      <th>max</th>\n",
       "    </tr>\n",
       "  </thead>\n",
       "  <tbody>\n",
       "    <tr>\n",
       "      <th>hoa (R$)</th>\n",
       "      <td>10229.0</td>\n",
       "      <td>1153.572979</td>\n",
       "      <td>15937.963806</td>\n",
       "      <td>0.0</td>\n",
       "      <td>130.0</td>\n",
       "      <td>543.0</td>\n",
       "      <td>1200.0</td>\n",
       "      <td>1117000.0</td>\n",
       "    </tr>\n",
       "    <tr>\n",
       "      <th>rent amount (R$)</th>\n",
       "      <td>10229.0</td>\n",
       "      <td>3810.717568</td>\n",
       "      <td>3350.531171</td>\n",
       "      <td>450.0</td>\n",
       "      <td>1500.0</td>\n",
       "      <td>2600.0</td>\n",
       "      <td>4860.0</td>\n",
       "      <td>45000.0</td>\n",
       "    </tr>\n",
       "    <tr>\n",
       "      <th>property tax (R$)</th>\n",
       "      <td>10229.0</td>\n",
       "      <td>356.003715</td>\n",
       "      <td>3171.236078</td>\n",
       "      <td>0.0</td>\n",
       "      <td>35.0</td>\n",
       "      <td>123.0</td>\n",
       "      <td>360.0</td>\n",
       "      <td>313700.0</td>\n",
       "    </tr>\n",
       "    <tr>\n",
       "      <th>fire insurance (R$)</th>\n",
       "      <td>10229.0</td>\n",
       "      <td>52.356731</td>\n",
       "      <td>47.320496</td>\n",
       "      <td>3.0</td>\n",
       "      <td>20.0</td>\n",
       "      <td>35.0</td>\n",
       "      <td>65.0</td>\n",
       "      <td>677.0</td>\n",
       "    </tr>\n",
       "  </tbody>\n",
       "</table>\n",
       "</div>"
      ],
      "text/plain": [
       "                       count         mean           std    min     25%  \\\n",
       "hoa (R$)             10229.0  1153.572979  15937.963806    0.0   130.0   \n",
       "rent amount (R$)     10229.0  3810.717568   3350.531171  450.0  1500.0   \n",
       "property tax (R$)    10229.0   356.003715   3171.236078    0.0    35.0   \n",
       "fire insurance (R$)  10229.0    52.356731     47.320496    3.0    20.0   \n",
       "\n",
       "                        50%     75%        max  \n",
       "hoa (R$)              543.0  1200.0  1117000.0  \n",
       "rent amount (R$)     2600.0  4860.0    45000.0  \n",
       "property tax (R$)     123.0   360.0   313700.0  \n",
       "fire insurance (R$)    35.0    65.0      677.0  "
      ]
     },
     "execution_count": 57,
     "metadata": {},
     "output_type": "execute_result"
    }
   ],
   "source": [
    "df[['hoa (R$)','rent amount (R$)','property tax (R$)','fire insurance (R$)']].describe().T"
   ]
  },
  {
   "cell_type": "code",
   "execution_count": 58,
   "id": "ca27b9bc",
   "metadata": {},
   "outputs": [
    {
     "data": {
      "text/html": [
       "<div>\n",
       "<style scoped>\n",
       "    .dataframe tbody tr th:only-of-type {\n",
       "        vertical-align: middle;\n",
       "    }\n",
       "\n",
       "    .dataframe tbody tr th {\n",
       "        vertical-align: top;\n",
       "    }\n",
       "\n",
       "    .dataframe thead th {\n",
       "        text-align: right;\n",
       "    }\n",
       "</style>\n",
       "<table border=\"1\" class=\"dataframe\">\n",
       "  <thead>\n",
       "    <tr style=\"text-align: right;\">\n",
       "      <th></th>\n",
       "      <th>hoa (R$)</th>\n",
       "    </tr>\n",
       "  </thead>\n",
       "  <tbody>\n",
       "    <tr>\n",
       "      <th>count</th>\n",
       "      <td>1.022900e+04</td>\n",
       "    </tr>\n",
       "    <tr>\n",
       "      <th>mean</th>\n",
       "      <td>1.153573e+03</td>\n",
       "    </tr>\n",
       "    <tr>\n",
       "      <th>std</th>\n",
       "      <td>1.593796e+04</td>\n",
       "    </tr>\n",
       "    <tr>\n",
       "      <th>min</th>\n",
       "      <td>0.000000e+00</td>\n",
       "    </tr>\n",
       "    <tr>\n",
       "      <th>25%</th>\n",
       "      <td>1.300000e+02</td>\n",
       "    </tr>\n",
       "    <tr>\n",
       "      <th>50%</th>\n",
       "      <td>5.430000e+02</td>\n",
       "    </tr>\n",
       "    <tr>\n",
       "      <th>75%</th>\n",
       "      <td>1.200000e+03</td>\n",
       "    </tr>\n",
       "    <tr>\n",
       "      <th>max</th>\n",
       "      <td>1.117000e+06</td>\n",
       "    </tr>\n",
       "  </tbody>\n",
       "</table>\n",
       "</div>"
      ],
      "text/plain": [
       "           hoa (R$)\n",
       "count  1.022900e+04\n",
       "mean   1.153573e+03\n",
       "std    1.593796e+04\n",
       "min    0.000000e+00\n",
       "25%    1.300000e+02\n",
       "50%    5.430000e+02\n",
       "75%    1.200000e+03\n",
       "max    1.117000e+06"
      ]
     },
     "execution_count": 58,
     "metadata": {},
     "output_type": "execute_result"
    }
   ],
   "source": [
    "df[['hoa (R$)']].describe()"
   ]
  },
  {
   "cell_type": "code",
   "execution_count": 59,
   "id": "70a3195a",
   "metadata": {},
   "outputs": [
    {
     "data": {
      "image/png": "[encoded data removed]",
      "text/plain": [
       "<Figure size 1440x504 with 2 Axes>"
      ]
     },
     "metadata": {
      "needs_background": "light"
     },
     "output_type": "display_data"
    }
   ],
   "source": [
    "# Distribution of hoa\n",
    "fig, ax = plt.subplots(1,2, figsize = (20,7))\n",
    "sns.histplot(x=df[\"hoa (R$)\"], ax = ax [1],kde=True, color = \"RED\")  #ax[1] mean image will plot secound plot\n",
    "sns.boxplot(x=df[\"hoa (R$)\"],ax=ax[0],color = \"gray\") #ax[0] mean image will plot at the fist plot\n",
    "plt.show()"
   ]
  },
  {
   "cell_type": "markdown",
   "id": "8574403f",
   "metadata": {},
   "source": [
    "### Here we can observed that data is un even an have outliers"
   ]
  },
  {
   "cell_type": "code",
   "execution_count": 60,
   "id": "c5165cd3",
   "metadata": {},
   "outputs": [
    {
     "data": {
      "text/plain": [
       "0       23.100987\n",
       "400      1.701046\n",
       "300      1.632613\n",
       "500      1.544628\n",
       "600      1.329553\n",
       "          ...    \n",
       "1764     0.009776\n",
       "1132     0.009776\n",
       "1809     0.009776\n",
       "1459     0.009776\n",
       "3519     0.009776\n",
       "Name: hoa (R$), Length: 1605, dtype: float64"
      ]
     },
     "execution_count": 60,
     "metadata": {},
     "output_type": "execute_result"
    }
   ],
   "source": [
    "df['hoa (R$)'].value_counts('hoa (R$)')*100"
   ]
  },
  {
   "cell_type": "code",
   "execution_count": 61,
   "id": "87b07c18",
   "metadata": {},
   "outputs": [
    {
     "data": {
      "text/html": [
       "<div>\n",
       "<style scoped>\n",
       "    .dataframe tbody tr th:only-of-type {\n",
       "        vertical-align: middle;\n",
       "    }\n",
       "\n",
       "    .dataframe tbody tr th {\n",
       "        vertical-align: top;\n",
       "    }\n",
       "\n",
       "    .dataframe thead th {\n",
       "        text-align: right;\n",
       "    }\n",
       "</style>\n",
       "<table border=\"1\" class=\"dataframe\">\n",
       "  <thead>\n",
       "    <tr style=\"text-align: right;\">\n",
       "      <th></th>\n",
       "      <th>city</th>\n",
       "      <th>area</th>\n",
       "      <th>rooms</th>\n",
       "      <th>bathroom</th>\n",
       "      <th>parking spaces</th>\n",
       "      <th>floor</th>\n",
       "      <th>animal</th>\n",
       "      <th>furniture</th>\n",
       "      <th>hoa (R$)</th>\n",
       "      <th>rent amount (R$)</th>\n",
       "      <th>property tax (R$)</th>\n",
       "      <th>fire insurance (R$)</th>\n",
       "      <th>total (R$)</th>\n",
       "      <th>Customer_Age</th>\n",
       "    </tr>\n",
       "  </thead>\n",
       "  <tbody>\n",
       "    <tr>\n",
       "      <th>0</th>\n",
       "      <td>São Paulo</td>\n",
       "      <td>70</td>\n",
       "      <td>2</td>\n",
       "      <td>1</td>\n",
       "      <td>1</td>\n",
       "      <td>7</td>\n",
       "      <td>acept</td>\n",
       "      <td>furnished</td>\n",
       "      <td>2065</td>\n",
       "      <td>3300</td>\n",
       "      <td>211</td>\n",
       "      <td>42</td>\n",
       "      <td>5618</td>\n",
       "      <td>149.0</td>\n",
       "    </tr>\n",
       "    <tr>\n",
       "      <th>2</th>\n",
       "      <td>Porto Alegre</td>\n",
       "      <td>80</td>\n",
       "      <td>1</td>\n",
       "      <td>1</td>\n",
       "      <td>1</td>\n",
       "      <td>6</td>\n",
       "      <td>acept</td>\n",
       "      <td>not furnished</td>\n",
       "      <td>1000</td>\n",
       "      <td>2800</td>\n",
       "      <td>0</td>\n",
       "      <td>41</td>\n",
       "      <td>3841</td>\n",
       "      <td>149.0</td>\n",
       "    </tr>\n",
       "    <tr>\n",
       "      <th>3</th>\n",
       "      <td>Porto Alegre</td>\n",
       "      <td>51</td>\n",
       "      <td>2</td>\n",
       "      <td>1</td>\n",
       "      <td>0</td>\n",
       "      <td>2</td>\n",
       "      <td>acept</td>\n",
       "      <td>not furnished</td>\n",
       "      <td>270</td>\n",
       "      <td>1112</td>\n",
       "      <td>22</td>\n",
       "      <td>17</td>\n",
       "      <td>1421</td>\n",
       "      <td>149.0</td>\n",
       "    </tr>\n",
       "    <tr>\n",
       "      <th>4</th>\n",
       "      <td>São Paulo</td>\n",
       "      <td>25</td>\n",
       "      <td>1</td>\n",
       "      <td>1</td>\n",
       "      <td>0</td>\n",
       "      <td>1</td>\n",
       "      <td>not acept</td>\n",
       "      <td>not furnished</td>\n",
       "      <td>0</td>\n",
       "      <td>800</td>\n",
       "      <td>25</td>\n",
       "      <td>11</td>\n",
       "      <td>836</td>\n",
       "      <td>149.0</td>\n",
       "    </tr>\n",
       "    <tr>\n",
       "      <th>5</th>\n",
       "      <td>São Paulo</td>\n",
       "      <td>376</td>\n",
       "      <td>3</td>\n",
       "      <td>3</td>\n",
       "      <td>7</td>\n",
       "      <td>0</td>\n",
       "      <td>acept</td>\n",
       "      <td>not furnished</td>\n",
       "      <td>0</td>\n",
       "      <td>8000</td>\n",
       "      <td>834</td>\n",
       "      <td>121</td>\n",
       "      <td>8955</td>\n",
       "      <td>149.0</td>\n",
       "    </tr>\n",
       "    <tr>\n",
       "      <th>...</th>\n",
       "      <td>...</td>\n",
       "      <td>...</td>\n",
       "      <td>...</td>\n",
       "      <td>...</td>\n",
       "      <td>...</td>\n",
       "      <td>...</td>\n",
       "      <td>...</td>\n",
       "      <td>...</td>\n",
       "      <td>...</td>\n",
       "      <td>...</td>\n",
       "      <td>...</td>\n",
       "      <td>...</td>\n",
       "      <td>...</td>\n",
       "      <td>...</td>\n",
       "    </tr>\n",
       "    <tr>\n",
       "      <th>10686</th>\n",
       "      <td>São Paulo</td>\n",
       "      <td>150</td>\n",
       "      <td>3</td>\n",
       "      <td>3</td>\n",
       "      <td>2</td>\n",
       "      <td>8</td>\n",
       "      <td>not acept</td>\n",
       "      <td>furnished</td>\n",
       "      <td>0</td>\n",
       "      <td>13500</td>\n",
       "      <td>0</td>\n",
       "      <td>172</td>\n",
       "      <td>13670</td>\n",
       "      <td>149.0</td>\n",
       "    </tr>\n",
       "    <tr>\n",
       "      <th>10687</th>\n",
       "      <td>Porto Alegre</td>\n",
       "      <td>63</td>\n",
       "      <td>2</td>\n",
       "      <td>1</td>\n",
       "      <td>1</td>\n",
       "      <td>5</td>\n",
       "      <td>not acept</td>\n",
       "      <td>furnished</td>\n",
       "      <td>402</td>\n",
       "      <td>1478</td>\n",
       "      <td>24</td>\n",
       "      <td>22</td>\n",
       "      <td>1926</td>\n",
       "      <td>149.0</td>\n",
       "    </tr>\n",
       "    <tr>\n",
       "      <th>10689</th>\n",
       "      <td>Rio de Janeiro</td>\n",
       "      <td>70</td>\n",
       "      <td>3</td>\n",
       "      <td>3</td>\n",
       "      <td>0</td>\n",
       "      <td>8</td>\n",
       "      <td>not acept</td>\n",
       "      <td>furnished</td>\n",
       "      <td>980</td>\n",
       "      <td>6000</td>\n",
       "      <td>332</td>\n",
       "      <td>78</td>\n",
       "      <td>7390</td>\n",
       "      <td>149.0</td>\n",
       "    </tr>\n",
       "    <tr>\n",
       "      <th>10690</th>\n",
       "      <td>Rio de Janeiro</td>\n",
       "      <td>120</td>\n",
       "      <td>2</td>\n",
       "      <td>2</td>\n",
       "      <td>2</td>\n",
       "      <td>8</td>\n",
       "      <td>acept</td>\n",
       "      <td>furnished</td>\n",
       "      <td>1585</td>\n",
       "      <td>12000</td>\n",
       "      <td>279</td>\n",
       "      <td>155</td>\n",
       "      <td>14020</td>\n",
       "      <td>149.0</td>\n",
       "    </tr>\n",
       "    <tr>\n",
       "      <th>10691</th>\n",
       "      <td>São Paulo</td>\n",
       "      <td>80</td>\n",
       "      <td>2</td>\n",
       "      <td>1</td>\n",
       "      <td>0</td>\n",
       "      <td>0</td>\n",
       "      <td>acept</td>\n",
       "      <td>not furnished</td>\n",
       "      <td>0</td>\n",
       "      <td>1400</td>\n",
       "      <td>165</td>\n",
       "      <td>22</td>\n",
       "      <td>1587</td>\n",
       "      <td>149.0</td>\n",
       "    </tr>\n",
       "  </tbody>\n",
       "</table>\n",
       "<p>10229 rows × 14 columns</p>\n",
       "</div>"
      ],
      "text/plain": [
       "                 city  area  rooms  bathroom  parking spaces  floor  \\\n",
       "0           São Paulo    70      2         1               1      7   \n",
       "2        Porto Alegre    80      1         1               1      6   \n",
       "3        Porto Alegre    51      2         1               0      2   \n",
       "4           São Paulo    25      1         1               0      1   \n",
       "5           São Paulo   376      3         3               7      0   \n",
       "...               ...   ...    ...       ...             ...    ...   \n",
       "10686       São Paulo   150      3         3               2      8   \n",
       "10687    Porto Alegre    63      2         1               1      5   \n",
       "10689  Rio de Janeiro    70      3         3               0      8   \n",
       "10690  Rio de Janeiro   120      2         2               2      8   \n",
       "10691       São Paulo    80      2         1               0      0   \n",
       "\n",
       "          animal      furniture  hoa (R$)  rent amount (R$)  \\\n",
       "0          acept      furnished      2065              3300   \n",
       "2          acept  not furnished      1000              2800   \n",
       "3          acept  not furnished       270              1112   \n",
       "4      not acept  not furnished         0               800   \n",
       "5          acept  not furnished         0              8000   \n",
       "...          ...            ...       ...               ...   \n",
       "10686  not acept      furnished         0             13500   \n",
       "10687  not acept      furnished       402              1478   \n",
       "10689  not acept      furnished       980              6000   \n",
       "10690      acept      furnished      1585             12000   \n",
       "10691      acept  not furnished         0              1400   \n",
       "\n",
       "       property tax (R$)  fire insurance (R$)  total (R$)  Customer_Age  \n",
       "0                    211                   42        5618         149.0  \n",
       "2                      0                   41        3841         149.0  \n",
       "3                     22                   17        1421         149.0  \n",
       "4                     25                   11         836         149.0  \n",
       "5                    834                  121        8955         149.0  \n",
       "...                  ...                  ...         ...           ...  \n",
       "10686                  0                  172       13670         149.0  \n",
       "10687                 24                   22        1926         149.0  \n",
       "10689                332                   78        7390         149.0  \n",
       "10690                279                  155       14020         149.0  \n",
       "10691                165                   22        1587         149.0  \n",
       "\n",
       "[10229 rows x 14 columns]"
      ]
     },
     "execution_count": 61,
     "metadata": {},
     "output_type": "execute_result"
    }
   ],
   "source": [
    "df"
   ]
  },
  {
   "cell_type": "code",
   "execution_count": 62,
   "id": "e107edaf",
   "metadata": {},
   "outputs": [],
   "source": [
    "df['hoa (R$)']= df.rename({'hoa (R$)':'hoa'},axis=1, inplace=True)"
   ]
  },
  {
   "cell_type": "code",
   "execution_count": 63,
   "id": "a8efb6e2",
   "metadata": {},
   "outputs": [
    {
     "data": {
      "text/html": [
       "<div>\n",
       "<style scoped>\n",
       "    .dataframe tbody tr th:only-of-type {\n",
       "        vertical-align: middle;\n",
       "    }\n",
       "\n",
       "    .dataframe tbody tr th {\n",
       "        vertical-align: top;\n",
       "    }\n",
       "\n",
       "    .dataframe thead th {\n",
       "        text-align: right;\n",
       "    }\n",
       "</style>\n",
       "<table border=\"1\" class=\"dataframe\">\n",
       "  <thead>\n",
       "    <tr style=\"text-align: right;\">\n",
       "      <th></th>\n",
       "      <th>city</th>\n",
       "      <th>area</th>\n",
       "      <th>rooms</th>\n",
       "      <th>bathroom</th>\n",
       "      <th>parking spaces</th>\n",
       "      <th>floor</th>\n",
       "      <th>animal</th>\n",
       "      <th>furniture</th>\n",
       "      <th>hoa</th>\n",
       "      <th>rent amount (R$)</th>\n",
       "      <th>property tax (R$)</th>\n",
       "      <th>fire insurance (R$)</th>\n",
       "      <th>total (R$)</th>\n",
       "      <th>Customer_Age</th>\n",
       "      <th>hoa (R$)</th>\n",
       "    </tr>\n",
       "  </thead>\n",
       "  <tbody>\n",
       "    <tr>\n",
       "      <th>0</th>\n",
       "      <td>São Paulo</td>\n",
       "      <td>70</td>\n",
       "      <td>2</td>\n",
       "      <td>1</td>\n",
       "      <td>1</td>\n",
       "      <td>7</td>\n",
       "      <td>acept</td>\n",
       "      <td>furnished</td>\n",
       "      <td>2065</td>\n",
       "      <td>3300</td>\n",
       "      <td>211</td>\n",
       "      <td>42</td>\n",
       "      <td>5618</td>\n",
       "      <td>149.0</td>\n",
       "      <td>None</td>\n",
       "    </tr>\n",
       "    <tr>\n",
       "      <th>2</th>\n",
       "      <td>Porto Alegre</td>\n",
       "      <td>80</td>\n",
       "      <td>1</td>\n",
       "      <td>1</td>\n",
       "      <td>1</td>\n",
       "      <td>6</td>\n",
       "      <td>acept</td>\n",
       "      <td>not furnished</td>\n",
       "      <td>1000</td>\n",
       "      <td>2800</td>\n",
       "      <td>0</td>\n",
       "      <td>41</td>\n",
       "      <td>3841</td>\n",
       "      <td>149.0</td>\n",
       "      <td>None</td>\n",
       "    </tr>\n",
       "  </tbody>\n",
       "</table>\n",
       "</div>"
      ],
      "text/plain": [
       "           city  area  rooms  bathroom  parking spaces  floor animal  \\\n",
       "0     São Paulo    70      2         1               1      7  acept   \n",
       "2  Porto Alegre    80      1         1               1      6  acept   \n",
       "\n",
       "       furniture   hoa  rent amount (R$)  property tax (R$)  \\\n",
       "0      furnished  2065              3300                211   \n",
       "2  not furnished  1000              2800                  0   \n",
       "\n",
       "   fire insurance (R$)  total (R$)  Customer_Age hoa (R$)  \n",
       "0                   42        5618         149.0     None  \n",
       "2                   41        3841         149.0     None  "
      ]
     },
     "execution_count": 63,
     "metadata": {},
     "output_type": "execute_result"
    }
   ],
   "source": [
    "df.head(2)"
   ]
  },
  {
   "cell_type": "code",
   "execution_count": 64,
   "id": "864b8b99",
   "metadata": {},
   "outputs": [],
   "source": [
    "df = df.drop('hoa (R$)',axis=1)"
   ]
  },
  {
   "cell_type": "code",
   "execution_count": 65,
   "id": "42cdc159",
   "metadata": {},
   "outputs": [
    {
     "data": {
      "text/html": [
       "<div>\n",
       "<style scoped>\n",
       "    .dataframe tbody tr th:only-of-type {\n",
       "        vertical-align: middle;\n",
       "    }\n",
       "\n",
       "    .dataframe tbody tr th {\n",
       "        vertical-align: top;\n",
       "    }\n",
       "\n",
       "    .dataframe thead th {\n",
       "        text-align: right;\n",
       "    }\n",
       "</style>\n",
       "<table border=\"1\" class=\"dataframe\">\n",
       "  <thead>\n",
       "    <tr style=\"text-align: right;\">\n",
       "      <th></th>\n",
       "      <th>city</th>\n",
       "      <th>area</th>\n",
       "      <th>rooms</th>\n",
       "      <th>bathroom</th>\n",
       "      <th>parking spaces</th>\n",
       "      <th>floor</th>\n",
       "      <th>animal</th>\n",
       "      <th>furniture</th>\n",
       "      <th>hoa</th>\n",
       "      <th>rent amount (R$)</th>\n",
       "      <th>property tax (R$)</th>\n",
       "      <th>fire insurance (R$)</th>\n",
       "      <th>total (R$)</th>\n",
       "      <th>Customer_Age</th>\n",
       "    </tr>\n",
       "  </thead>\n",
       "  <tbody>\n",
       "    <tr>\n",
       "      <th>0</th>\n",
       "      <td>São Paulo</td>\n",
       "      <td>70</td>\n",
       "      <td>2</td>\n",
       "      <td>1</td>\n",
       "      <td>1</td>\n",
       "      <td>7</td>\n",
       "      <td>acept</td>\n",
       "      <td>furnished</td>\n",
       "      <td>2065</td>\n",
       "      <td>3300</td>\n",
       "      <td>211</td>\n",
       "      <td>42</td>\n",
       "      <td>5618</td>\n",
       "      <td>149.0</td>\n",
       "    </tr>\n",
       "  </tbody>\n",
       "</table>\n",
       "</div>"
      ],
      "text/plain": [
       "        city  area  rooms  bathroom  parking spaces  floor animal  furniture  \\\n",
       "0  São Paulo    70      2         1               1      7  acept  furnished   \n",
       "\n",
       "    hoa  rent amount (R$)  property tax (R$)  fire insurance (R$)  total (R$)  \\\n",
       "0  2065              3300                211                   42        5618   \n",
       "\n",
       "   Customer_Age  \n",
       "0         149.0  "
      ]
     },
     "execution_count": 65,
     "metadata": {},
     "output_type": "execute_result"
    }
   ],
   "source": [
    "df.head(1)"
   ]
  },
  {
   "cell_type": "code",
   "execution_count": 66,
   "id": "ccad40ff",
   "metadata": {
    "scrolled": true
   },
   "outputs": [
    {
     "data": {
      "text/html": [
       "<div>\n",
       "<style scoped>\n",
       "    .dataframe tbody tr th:only-of-type {\n",
       "        vertical-align: middle;\n",
       "    }\n",
       "\n",
       "    .dataframe tbody tr th {\n",
       "        vertical-align: top;\n",
       "    }\n",
       "\n",
       "    .dataframe thead th {\n",
       "        text-align: right;\n",
       "    }\n",
       "</style>\n",
       "<table border=\"1\" class=\"dataframe\">\n",
       "  <thead>\n",
       "    <tr style=\"text-align: right;\">\n",
       "      <th></th>\n",
       "      <th>city</th>\n",
       "      <th>area</th>\n",
       "      <th>rooms</th>\n",
       "      <th>bathroom</th>\n",
       "      <th>parking spaces</th>\n",
       "      <th>floor</th>\n",
       "      <th>animal</th>\n",
       "      <th>furniture</th>\n",
       "      <th>hoa</th>\n",
       "      <th>rent amount (R$)</th>\n",
       "      <th>property tax (R$)</th>\n",
       "      <th>fire insurance (R$)</th>\n",
       "      <th>total (R$)</th>\n",
       "      <th>Customer_Age</th>\n",
       "    </tr>\n",
       "  </thead>\n",
       "  <tbody>\n",
       "    <tr>\n",
       "      <th>254</th>\n",
       "      <td>São Paulo</td>\n",
       "      <td>530</td>\n",
       "      <td>5</td>\n",
       "      <td>6</td>\n",
       "      <td>4</td>\n",
       "      <td>2</td>\n",
       "      <td>acept</td>\n",
       "      <td>furnished</td>\n",
       "      <td>8300</td>\n",
       "      <td>15000</td>\n",
       "      <td>5000</td>\n",
       "      <td>191</td>\n",
       "      <td>28490</td>\n",
       "      <td>149.0</td>\n",
       "    </tr>\n",
       "    <tr>\n",
       "      <th>255</th>\n",
       "      <td>Belo Horizonte</td>\n",
       "      <td>155</td>\n",
       "      <td>1</td>\n",
       "      <td>4</td>\n",
       "      <td>0</td>\n",
       "      <td>4</td>\n",
       "      <td>not acept</td>\n",
       "      <td>not furnished</td>\n",
       "      <td>1117000</td>\n",
       "      <td>2790</td>\n",
       "      <td>64</td>\n",
       "      <td>38</td>\n",
       "      <td>1120000</td>\n",
       "      <td>149.0</td>\n",
       "    </tr>\n",
       "    <tr>\n",
       "      <th>415</th>\n",
       "      <td>São Paulo</td>\n",
       "      <td>488</td>\n",
       "      <td>4</td>\n",
       "      <td>3</td>\n",
       "      <td>3</td>\n",
       "      <td>0</td>\n",
       "      <td>acept</td>\n",
       "      <td>not furnished</td>\n",
       "      <td>14130</td>\n",
       "      <td>6400</td>\n",
       "      <td>1214</td>\n",
       "      <td>82</td>\n",
       "      <td>21820</td>\n",
       "      <td>149.0</td>\n",
       "    </tr>\n",
       "    <tr>\n",
       "      <th>547</th>\n",
       "      <td>São Paulo</td>\n",
       "      <td>580</td>\n",
       "      <td>5</td>\n",
       "      <td>5</td>\n",
       "      <td>4</td>\n",
       "      <td>4</td>\n",
       "      <td>acept</td>\n",
       "      <td>not furnished</td>\n",
       "      <td>9900</td>\n",
       "      <td>15000</td>\n",
       "      <td>2200</td>\n",
       "      <td>191</td>\n",
       "      <td>27290</td>\n",
       "      <td>149.0</td>\n",
       "    </tr>\n",
       "    <tr>\n",
       "      <th>722</th>\n",
       "      <td>São Paulo</td>\n",
       "      <td>620</td>\n",
       "      <td>4</td>\n",
       "      <td>6</td>\n",
       "      <td>4</td>\n",
       "      <td>1</td>\n",
       "      <td>acept</td>\n",
       "      <td>not furnished</td>\n",
       "      <td>8133</td>\n",
       "      <td>15000</td>\n",
       "      <td>4520</td>\n",
       "      <td>191</td>\n",
       "      <td>27840</td>\n",
       "      <td>149.0</td>\n",
       "    </tr>\n",
       "    <tr>\n",
       "      <th>974</th>\n",
       "      <td>São Paulo</td>\n",
       "      <td>600</td>\n",
       "      <td>6</td>\n",
       "      <td>7</td>\n",
       "      <td>4</td>\n",
       "      <td>0</td>\n",
       "      <td>acept</td>\n",
       "      <td>furnished</td>\n",
       "      <td>10000</td>\n",
       "      <td>15000</td>\n",
       "      <td>84</td>\n",
       "      <td>226</td>\n",
       "      <td>25310</td>\n",
       "      <td>149.0</td>\n",
       "    </tr>\n",
       "    <tr>\n",
       "      <th>1072</th>\n",
       "      <td>São Paulo</td>\n",
       "      <td>390</td>\n",
       "      <td>4</td>\n",
       "      <td>4</td>\n",
       "      <td>5</td>\n",
       "      <td>8</td>\n",
       "      <td>not acept</td>\n",
       "      <td>furnished</td>\n",
       "      <td>8500</td>\n",
       "      <td>8600</td>\n",
       "      <td>3917</td>\n",
       "      <td>109</td>\n",
       "      <td>21130</td>\n",
       "      <td>149.0</td>\n",
       "    </tr>\n",
       "    <tr>\n",
       "      <th>1213</th>\n",
       "      <td>São Paulo</td>\n",
       "      <td>850</td>\n",
       "      <td>6</td>\n",
       "      <td>7</td>\n",
       "      <td>4</td>\n",
       "      <td>0</td>\n",
       "      <td>not acept</td>\n",
       "      <td>not furnished</td>\n",
       "      <td>15000</td>\n",
       "      <td>13000</td>\n",
       "      <td>2465</td>\n",
       "      <td>196</td>\n",
       "      <td>30660</td>\n",
       "      <td>149.0</td>\n",
       "    </tr>\n",
       "    <tr>\n",
       "      <th>1444</th>\n",
       "      <td>Porto Alegre</td>\n",
       "      <td>42</td>\n",
       "      <td>1</td>\n",
       "      <td>1</td>\n",
       "      <td>0</td>\n",
       "      <td>10</td>\n",
       "      <td>acept</td>\n",
       "      <td>not furnished</td>\n",
       "      <td>32000</td>\n",
       "      <td>700</td>\n",
       "      <td>40</td>\n",
       "      <td>11</td>\n",
       "      <td>32750</td>\n",
       "      <td>149.0</td>\n",
       "    </tr>\n",
       "    <tr>\n",
       "      <th>1862</th>\n",
       "      <td>São Paulo</td>\n",
       "      <td>560</td>\n",
       "      <td>4</td>\n",
       "      <td>4</td>\n",
       "      <td>7</td>\n",
       "      <td>2</td>\n",
       "      <td>acept</td>\n",
       "      <td>not furnished</td>\n",
       "      <td>8600</td>\n",
       "      <td>15000</td>\n",
       "      <td>5000</td>\n",
       "      <td>191</td>\n",
       "      <td>28790</td>\n",
       "      <td>149.0</td>\n",
       "    </tr>\n",
       "    <tr>\n",
       "      <th>2859</th>\n",
       "      <td>São Paulo</td>\n",
       "      <td>285</td>\n",
       "      <td>4</td>\n",
       "      <td>5</td>\n",
       "      <td>4</td>\n",
       "      <td>6</td>\n",
       "      <td>acept</td>\n",
       "      <td>furnished</td>\n",
       "      <td>200000</td>\n",
       "      <td>20000</td>\n",
       "      <td>1834</td>\n",
       "      <td>254</td>\n",
       "      <td>222100</td>\n",
       "      <td>149.0</td>\n",
       "    </tr>\n",
       "    <tr>\n",
       "      <th>2928</th>\n",
       "      <td>Rio de Janeiro</td>\n",
       "      <td>35</td>\n",
       "      <td>1</td>\n",
       "      <td>1</td>\n",
       "      <td>0</td>\n",
       "      <td>1</td>\n",
       "      <td>acept</td>\n",
       "      <td>furnished</td>\n",
       "      <td>81150</td>\n",
       "      <td>4500</td>\n",
       "      <td>9900</td>\n",
       "      <td>58</td>\n",
       "      <td>95610</td>\n",
       "      <td>149.0</td>\n",
       "    </tr>\n",
       "    <tr>\n",
       "      <th>5293</th>\n",
       "      <td>São Paulo</td>\n",
       "      <td>850</td>\n",
       "      <td>5</td>\n",
       "      <td>7</td>\n",
       "      <td>8</td>\n",
       "      <td>1</td>\n",
       "      <td>not acept</td>\n",
       "      <td>not furnished</td>\n",
       "      <td>14000</td>\n",
       "      <td>4000</td>\n",
       "      <td>0</td>\n",
       "      <td>51</td>\n",
       "      <td>18050</td>\n",
       "      <td>149.0</td>\n",
       "    </tr>\n",
       "    <tr>\n",
       "      <th>6185</th>\n",
       "      <td>São Paulo</td>\n",
       "      <td>455</td>\n",
       "      <td>4</td>\n",
       "      <td>5</td>\n",
       "      <td>4</td>\n",
       "      <td>5</td>\n",
       "      <td>acept</td>\n",
       "      <td>not furnished</td>\n",
       "      <td>8500</td>\n",
       "      <td>19500</td>\n",
       "      <td>3334</td>\n",
       "      <td>248</td>\n",
       "      <td>31580</td>\n",
       "      <td>149.0</td>\n",
       "    </tr>\n",
       "    <tr>\n",
       "      <th>6230</th>\n",
       "      <td>São Paulo</td>\n",
       "      <td>340</td>\n",
       "      <td>5</td>\n",
       "      <td>4</td>\n",
       "      <td>2</td>\n",
       "      <td>7</td>\n",
       "      <td>acept</td>\n",
       "      <td>not furnished</td>\n",
       "      <td>220000</td>\n",
       "      <td>12000</td>\n",
       "      <td>1000</td>\n",
       "      <td>153</td>\n",
       "      <td>233200</td>\n",
       "      <td>149.0</td>\n",
       "    </tr>\n",
       "    <tr>\n",
       "      <th>6979</th>\n",
       "      <td>Belo Horizonte</td>\n",
       "      <td>155</td>\n",
       "      <td>1</td>\n",
       "      <td>4</td>\n",
       "      <td>0</td>\n",
       "      <td>4</td>\n",
       "      <td>not acept</td>\n",
       "      <td>not furnished</td>\n",
       "      <td>1117000</td>\n",
       "      <td>2790</td>\n",
       "      <td>64</td>\n",
       "      <td>38</td>\n",
       "      <td>1120000</td>\n",
       "      <td>149.0</td>\n",
       "    </tr>\n",
       "    <tr>\n",
       "      <th>7020</th>\n",
       "      <td>São Paulo</td>\n",
       "      <td>224</td>\n",
       "      <td>4</td>\n",
       "      <td>5</td>\n",
       "      <td>3</td>\n",
       "      <td>12</td>\n",
       "      <td>acept</td>\n",
       "      <td>not furnished</td>\n",
       "      <td>9500</td>\n",
       "      <td>9500</td>\n",
       "      <td>1650</td>\n",
       "      <td>121</td>\n",
       "      <td>20770</td>\n",
       "      <td>149.0</td>\n",
       "    </tr>\n",
       "    <tr>\n",
       "      <th>7679</th>\n",
       "      <td>São Paulo</td>\n",
       "      <td>884</td>\n",
       "      <td>5</td>\n",
       "      <td>7</td>\n",
       "      <td>6</td>\n",
       "      <td>8</td>\n",
       "      <td>acept</td>\n",
       "      <td>not furnished</td>\n",
       "      <td>9000</td>\n",
       "      <td>12750</td>\n",
       "      <td>5917</td>\n",
       "      <td>162</td>\n",
       "      <td>27830</td>\n",
       "      <td>149.0</td>\n",
       "    </tr>\n",
       "    <tr>\n",
       "      <th>8858</th>\n",
       "      <td>São Paulo</td>\n",
       "      <td>800</td>\n",
       "      <td>4</td>\n",
       "      <td>7</td>\n",
       "      <td>8</td>\n",
       "      <td>0</td>\n",
       "      <td>not acept</td>\n",
       "      <td>not furnished</td>\n",
       "      <td>10000</td>\n",
       "      <td>8500</td>\n",
       "      <td>209</td>\n",
       "      <td>128</td>\n",
       "      <td>18840</td>\n",
       "      <td>149.0</td>\n",
       "    </tr>\n",
       "    <tr>\n",
       "      <th>9706</th>\n",
       "      <td>São Paulo</td>\n",
       "      <td>420</td>\n",
       "      <td>3</td>\n",
       "      <td>3</td>\n",
       "      <td>4</td>\n",
       "      <td>7</td>\n",
       "      <td>acept</td>\n",
       "      <td>not furnished</td>\n",
       "      <td>8043</td>\n",
       "      <td>12000</td>\n",
       "      <td>2936</td>\n",
       "      <td>153</td>\n",
       "      <td>23130</td>\n",
       "      <td>149.0</td>\n",
       "    </tr>\n",
       "  </tbody>\n",
       "</table>\n",
       "</div>"
      ],
      "text/plain": [
       "                city  area  rooms  bathroom  parking spaces  floor     animal  \\\n",
       "254        São Paulo   530      5         6               4      2      acept   \n",
       "255   Belo Horizonte   155      1         4               0      4  not acept   \n",
       "415        São Paulo   488      4         3               3      0      acept   \n",
       "547        São Paulo   580      5         5               4      4      acept   \n",
       "722        São Paulo   620      4         6               4      1      acept   \n",
       "974        São Paulo   600      6         7               4      0      acept   \n",
       "1072       São Paulo   390      4         4               5      8  not acept   \n",
       "1213       São Paulo   850      6         7               4      0  not acept   \n",
       "1444    Porto Alegre    42      1         1               0     10      acept   \n",
       "1862       São Paulo   560      4         4               7      2      acept   \n",
       "2859       São Paulo   285      4         5               4      6      acept   \n",
       "2928  Rio de Janeiro    35      1         1               0      1      acept   \n",
       "5293       São Paulo   850      5         7               8      1  not acept   \n",
       "6185       São Paulo   455      4         5               4      5      acept   \n",
       "6230       São Paulo   340      5         4               2      7      acept   \n",
       "6979  Belo Horizonte   155      1         4               0      4  not acept   \n",
       "7020       São Paulo   224      4         5               3     12      acept   \n",
       "7679       São Paulo   884      5         7               6      8      acept   \n",
       "8858       São Paulo   800      4         7               8      0  not acept   \n",
       "9706       São Paulo   420      3         3               4      7      acept   \n",
       "\n",
       "          furniture      hoa  rent amount (R$)  property tax (R$)  \\\n",
       "254       furnished     8300             15000               5000   \n",
       "255   not furnished  1117000              2790                 64   \n",
       "415   not furnished    14130              6400               1214   \n",
       "547   not furnished     9900             15000               2200   \n",
       "722   not furnished     8133             15000               4520   \n",
       "974       furnished    10000             15000                 84   \n",
       "1072      furnished     8500              8600               3917   \n",
       "1213  not furnished    15000             13000               2465   \n",
       "1444  not furnished    32000               700                 40   \n",
       "1862  not furnished     8600             15000               5000   \n",
       "2859      furnished   200000             20000               1834   \n",
       "2928      furnished    81150              4500               9900   \n",
       "5293  not furnished    14000              4000                  0   \n",
       "6185  not furnished     8500             19500               3334   \n",
       "6230  not furnished   220000             12000               1000   \n",
       "6979  not furnished  1117000              2790                 64   \n",
       "7020  not furnished     9500              9500               1650   \n",
       "7679  not furnished     9000             12750               5917   \n",
       "8858  not furnished    10000              8500                209   \n",
       "9706  not furnished     8043             12000               2936   \n",
       "\n",
       "      fire insurance (R$)  total (R$)  Customer_Age  \n",
       "254                   191       28490         149.0  \n",
       "255                    38     1120000         149.0  \n",
       "415                    82       21820         149.0  \n",
       "547                   191       27290         149.0  \n",
       "722                   191       27840         149.0  \n",
       "974                   226       25310         149.0  \n",
       "1072                  109       21130         149.0  \n",
       "1213                  196       30660         149.0  \n",
       "1444                   11       32750         149.0  \n",
       "1862                  191       28790         149.0  \n",
       "2859                  254      222100         149.0  \n",
       "2928                   58       95610         149.0  \n",
       "5293                   51       18050         149.0  \n",
       "6185                  248       31580         149.0  \n",
       "6230                  153      233200         149.0  \n",
       "6979                   38     1120000         149.0  \n",
       "7020                  121       20770         149.0  \n",
       "7679                  162       27830         149.0  \n",
       "8858                  128       18840         149.0  \n",
       "9706                  153       23130         149.0  "
      ]
     },
     "execution_count": 66,
     "metadata": {},
     "output_type": "execute_result"
    }
   ],
   "source": [
    "fit = df[(df.hoa>8000)]\n",
    "fit # we found that there is only 20 value so drop it ."
   ]
  },
  {
   "cell_type": "code",
   "execution_count": 67,
   "id": "91d495bd",
   "metadata": {},
   "outputs": [
    {
     "data": {
      "text/html": [
       "<div>\n",
       "<style scoped>\n",
       "    .dataframe tbody tr th:only-of-type {\n",
       "        vertical-align: middle;\n",
       "    }\n",
       "\n",
       "    .dataframe tbody tr th {\n",
       "        vertical-align: top;\n",
       "    }\n",
       "\n",
       "    .dataframe thead th {\n",
       "        text-align: right;\n",
       "    }\n",
       "</style>\n",
       "<table border=\"1\" class=\"dataframe\">\n",
       "  <thead>\n",
       "    <tr style=\"text-align: right;\">\n",
       "      <th></th>\n",
       "      <th>hoa</th>\n",
       "    </tr>\n",
       "  </thead>\n",
       "  <tbody>\n",
       "    <tr>\n",
       "      <th>count</th>\n",
       "      <td>1.022900e+04</td>\n",
       "    </tr>\n",
       "    <tr>\n",
       "      <th>mean</th>\n",
       "      <td>1.153573e+03</td>\n",
       "    </tr>\n",
       "    <tr>\n",
       "      <th>std</th>\n",
       "      <td>1.593796e+04</td>\n",
       "    </tr>\n",
       "    <tr>\n",
       "      <th>min</th>\n",
       "      <td>0.000000e+00</td>\n",
       "    </tr>\n",
       "    <tr>\n",
       "      <th>25%</th>\n",
       "      <td>1.300000e+02</td>\n",
       "    </tr>\n",
       "    <tr>\n",
       "      <th>50%</th>\n",
       "      <td>5.430000e+02</td>\n",
       "    </tr>\n",
       "    <tr>\n",
       "      <th>75%</th>\n",
       "      <td>1.200000e+03</td>\n",
       "    </tr>\n",
       "    <tr>\n",
       "      <th>max</th>\n",
       "      <td>1.117000e+06</td>\n",
       "    </tr>\n",
       "  </tbody>\n",
       "</table>\n",
       "</div>"
      ],
      "text/plain": [
       "                hoa\n",
       "count  1.022900e+04\n",
       "mean   1.153573e+03\n",
       "std    1.593796e+04\n",
       "min    0.000000e+00\n",
       "25%    1.300000e+02\n",
       "50%    5.430000e+02\n",
       "75%    1.200000e+03\n",
       "max    1.117000e+06"
      ]
     },
     "execution_count": 67,
     "metadata": {},
     "output_type": "execute_result"
    }
   ],
   "source": [
    "df[['hoa']].describe()"
   ]
  },
  {
   "cell_type": "code",
   "execution_count": 68,
   "id": "34997732",
   "metadata": {},
   "outputs": [
    {
     "data": {
      "image/png": "[encoded data removed]",
      "text/plain": [
       "<Figure size 1440x504 with 2 Axes>"
      ]
     },
     "metadata": {
      "needs_background": "light"
     },
     "output_type": "display_data"
    }
   ],
   "source": [
    "# Distribution of hoa\n",
    "fig, ax = plt.subplots(1,2, figsize = (20,7))\n",
    "sns.histplot(x=df[\"hoa\"], ax = ax [1],kde=True, color = \"RED\")  #ax[1] mean image will plot secound plot\n",
    "sns.boxplot(x=df[\"hoa\"],ax=ax[0],color = \"gray\") #ax[0] mean image will plot at the fist plot\n",
    "plt.show()"
   ]
  },
  {
   "cell_type": "markdown",
   "id": "c270794b",
   "metadata": {},
   "source": [
    "## 10. Analysis of the total (R$)\n",
    "LEVEL 1 Analysis of Numerical Data (Univarte Analysis)"
   ]
  },
  {
   "cell_type": "code",
   "execution_count": 69,
   "id": "fa340719",
   "metadata": {},
   "outputs": [
    {
     "data": {
      "text/html": [
       "<div>\n",
       "<style scoped>\n",
       "    .dataframe tbody tr th:only-of-type {\n",
       "        vertical-align: middle;\n",
       "    }\n",
       "\n",
       "    .dataframe tbody tr th {\n",
       "        vertical-align: top;\n",
       "    }\n",
       "\n",
       "    .dataframe thead th {\n",
       "        text-align: right;\n",
       "    }\n",
       "</style>\n",
       "<table border=\"1\" class=\"dataframe\">\n",
       "  <thead>\n",
       "    <tr style=\"text-align: right;\">\n",
       "      <th></th>\n",
       "      <th>total (R$)</th>\n",
       "    </tr>\n",
       "  </thead>\n",
       "  <tbody>\n",
       "    <tr>\n",
       "      <th>count</th>\n",
       "      <td>1.022900e+04</td>\n",
       "    </tr>\n",
       "    <tr>\n",
       "      <th>mean</th>\n",
       "      <td>5.372863e+03</td>\n",
       "    </tr>\n",
       "    <tr>\n",
       "      <th>std</th>\n",
       "      <td>1.680027e+04</td>\n",
       "    </tr>\n",
       "    <tr>\n",
       "      <th>min</th>\n",
       "      <td>4.990000e+02</td>\n",
       "    </tr>\n",
       "    <tr>\n",
       "      <th>25%</th>\n",
       "      <td>2.026000e+03</td>\n",
       "    </tr>\n",
       "    <tr>\n",
       "      <th>50%</th>\n",
       "      <td>3.508000e+03</td>\n",
       "    </tr>\n",
       "    <tr>\n",
       "      <th>75%</th>\n",
       "      <td>6.550000e+03</td>\n",
       "    </tr>\n",
       "    <tr>\n",
       "      <th>max</th>\n",
       "      <td>1.120000e+06</td>\n",
       "    </tr>\n",
       "  </tbody>\n",
       "</table>\n",
       "</div>"
      ],
      "text/plain": [
       "         total (R$)\n",
       "count  1.022900e+04\n",
       "mean   5.372863e+03\n",
       "std    1.680027e+04\n",
       "min    4.990000e+02\n",
       "25%    2.026000e+03\n",
       "50%    3.508000e+03\n",
       "75%    6.550000e+03\n",
       "max    1.120000e+06"
      ]
     },
     "execution_count": 69,
     "metadata": {},
     "output_type": "execute_result"
    }
   ],
   "source": [
    "df[['total (R$)']].describe()"
   ]
  },
  {
   "cell_type": "code",
   "execution_count": 70,
   "id": "8e60fd96",
   "metadata": {},
   "outputs": [
    {
     "data": {
      "image/png": "[encoded data removed]",
      "text/plain": [
       "<Figure size 1440x504 with 2 Axes>"
      ]
     },
     "metadata": {
      "needs_background": "light"
     },
     "output_type": "display_data"
    }
   ],
   "source": [
    "# Distribution of total \n",
    "fig, ax = plt.subplots(1,2, figsize = (20,7))\n",
    "sns.histplot(x = df['hoa'], ax = ax[1],kde=True, color = \"#E3CF57\")\n",
    "sns.boxplot(x=df[\"hoa\"],ax=ax[0],color = \"#E3CF57\")\n",
    "plt.show()"
   ]
  },
  {
   "cell_type": "markdown",
   "id": "57db3b69",
   "metadata": {},
   "source": [
    "### Interpretation :- We can observed that data is right screwed and max value lies between 0 to 2000"
   ]
  },
  {
   "cell_type": "markdown",
   "id": "18326aec",
   "metadata": {},
   "source": [
    "## Exploratory Data Analysis      \n",
    "Level 2 Analysis (Getting closer to the BIG QUESTION : City Selection)                                                         \n",
    "What other columns could be clubbed with city to ask further question?                                                         \n",
    "The below is the variables list of coiumns/features in the given data.                                                         "
   ]
  },
  {
   "cell_type": "code",
   "execution_count": 71,
   "id": "68711bfe",
   "metadata": {},
   "outputs": [
    {
     "name": "stdout",
     "output_type": "stream",
     "text": [
      "categorical    continuous\n",
      "-------------  -------------------\n",
      "city           area\n",
      "animal         rooms\n",
      "furniture      bathroom\n",
      "               parking spaces\n",
      "               floor\n",
      "               hoa (R$)\n",
      "               rent amount (R$)\n",
      "               property tax (R$)\n",
      "               fire insurance (R$)\n",
      "               total (R$)\n"
     ]
    }
   ],
   "source": [
    "a_lst=list(a.columns)\n",
    "b_lst=list(b.columns)\n",
    "\n",
    "table = [b_lst, a_lst]\n",
    "\n",
    "print(tabulate({\"Categorical\" :b_lst,\n",
    "               \"continuous\": a_lst}, headers=[\"categorical\",\"continuous\"]))"
   ]
  },
  {
   "cell_type": "markdown",
   "id": "de5325c2",
   "metadata": {},
   "source": [
    "## Question on by-varient analysis"
   ]
  },
  {
   "cell_type": "markdown",
   "id": "05b05b18",
   "metadata": {},
   "source": [
    "## in which city we can get easyliy get furniture flat?"
   ]
  },
  {
   "cell_type": "code",
   "execution_count": 72,
   "id": "373aedb4",
   "metadata": {},
   "outputs": [
    {
     "data": {
      "text/plain": [
       "<AxesSubplot:xlabel='city', ylabel='count'>"
      ]
     },
     "execution_count": 72,
     "metadata": {},
     "output_type": "execute_result"
    },
    {
     "data": {
      "image/png": "[encoded data removed]",
      "text/plain": [
       "<Figure size 432x288 with 1 Axes>"
      ]
     },
     "metadata": {
      "needs_background": "light"
     },
     "output_type": "display_data"
    }
   ],
   "source": [
    "sns.countplot(x = 'city' , hue = 'furniture', data = df)"
   ]
  },
  {
   "cell_type": "code",
   "execution_count": 73,
   "id": "eac1e1d4",
   "metadata": {},
   "outputs": [
    {
     "ename": "SyntaxError",
     "evalue": "unexpected EOF while parsing (264332901.py, line 1)",
     "output_type": "error",
     "traceback": [
      "\u001b[1;36m  Input \u001b[1;32mIn [73]\u001b[1;36m\u001b[0m\n\u001b[1;33m    (df[\"city\"].groupby(df[\"furniture\"]).value_counts()()\u001b[0m\n\u001b[1;37m                                                         ^\u001b[0m\n\u001b[1;31mSyntaxError\u001b[0m\u001b[1;31m:\u001b[0m unexpected EOF while parsing\n"
     ]
    }
   ],
   "source": [
    "/(df[\"city\"].groupby(df[\"furniture\"]).value_counts()"
   ]
  },
  {
   "cell_type": "code",
   "execution_count": null,
   "id": "1c4a893b",
   "metadata": {},
   "outputs": [],
   "source": [
    "print(f\"percentage of getting furniture flat in Porto Alegre :{round(858/(858+315),2)}%\")\n",
    "print(f\"percentage of getting furniture flat in Rio de Janeiro :{round(1077/(1077+403),2)}%\")\n",
    "print(f\"percentage of getting furniture flat in Campians :{round(731/(731+107),2)}%\")\n",
    "print(f\"percentage of getting furniture flat in Belo Horizonte :{round(1060/(1060+167),2)}%\")"
   ]
  },
  {
   "cell_type": "markdown",
   "id": "60c65124",
   "metadata": {},
   "source": [
    "### Interpretation :- we can observed that of alternative city with furniture flat, the campinas stood first the presentage of getting furniture is 0.87%"
   ]
  },
  {
   "cell_type": "markdown",
   "id": "c8f17c92",
   "metadata": {},
   "source": [
    "## Q2. Which city cost high and low on bases of total cost wise ?"
   ]
  },
  {
   "cell_type": "code",
   "execution_count": 74,
   "id": "ee0201e5",
   "metadata": {},
   "outputs": [
    {
     "data": {
      "image/png": "[encoded data removed]",
      "text/plain": [
       "<Figure size 720x504 with 1 Axes>"
      ]
     },
     "metadata": {
      "needs_background": "light"
     },
     "output_type": "display_data"
    }
   ],
   "source": [
    "#distribution of city \n",
    "fig, ax= plt.subplots(figsize=(10,7))\n",
    "sns.barplot(x=df['city'], y=df['total (R$)']);\n",
    "plt.show()"
   ]
  },
  {
   "cell_type": "code",
   "execution_count": 75,
   "id": "3b9746b7",
   "metadata": {},
   "outputs": [
    {
     "data": {
      "image/png": "[encoded data removed]",
      "text/plain": [
       "<Figure size 1080x504 with 1 Axes>"
      ]
     },
     "metadata": {},
     "output_type": "display_data"
    }
   ],
   "source": [
    "fig, ax = plt.subplots( figsize =(15,7))\n",
    "ax.set_title('city')                         #set the title of the graph\n",
    "percentage = df[\"city\"].value_counts()       #value_count: return the count of values in series: return series\n",
    "labels = list(df[\"city\"].value_counts().index) # converting the index of the value count into list\n",
    "\n",
    "plt.pie(percentage,labels = labels,autopct = \"%.2f%%\") #autopct: to print the percentage on pie wedge . 2 decimalpoint used\n",
    "\n",
    "plt.show()"
   ]
  },
  {
   "cell_type": "markdown",
   "id": "26cf49f3",
   "metadata": {},
   "source": [
    "### Interpretation:- we can say that cost wise the campinas city will be the best alternative to sao paulo where it will be averagely cost around 3500/-"
   ]
  },
  {
   "cell_type": "markdown",
   "id": "b99c23e8",
   "metadata": {},
   "source": [
    "## Q3. In which city i can get room on first floor?"
   ]
  },
  {
   "cell_type": "code",
   "execution_count": 76,
   "id": "c507742b",
   "metadata": {},
   "outputs": [
    {
     "data": {
      "text/plain": [
       "<AxesSubplot:xlabel='city', ylabel='count'>"
      ]
     },
     "execution_count": 76,
     "metadata": {},
     "output_type": "execute_result"
    },
    {
     "data": {
      "image/png": "[encoded data removed]",
      "text/plain": [
       "<Figure size 1080x504 with 1 Axes>"
      ]
     },
     "metadata": {
      "needs_background": "light"
     },
     "output_type": "display_data"
    }
   ],
   "source": [
    "fig, ax = plt.subplots( figsize =(15,7))\n",
    "sns.countplot(x= \"city\",hue = 'floor',data = df)"
   ]
  },
  {
   "cell_type": "markdown",
   "id": "736a15eb",
   "metadata": {},
   "source": [
    "### Interpretation:- In belo horizontal we can easily get the room in 1,2,3 floor, and secound would be secound campinas."
   ]
  },
  {
   "cell_type": "markdown",
   "id": "ebfd48ce",
   "metadata": {},
   "source": [
    "## Q4. Analysis of city wise area available?"
   ]
  },
  {
   "cell_type": "code",
   "execution_count": 77,
   "id": "c325e98e",
   "metadata": {},
   "outputs": [
    {
     "data": {
      "text/plain": [
       "city\n",
       "Belo Horizonte    163.835639\n",
       "São Paulo         154.033594\n",
       "Campinas          122.194511\n",
       "Rio de Janeiro    105.064146\n",
       "Porto Alegre      104.045997\n",
       "Name: area, dtype: float64"
      ]
     },
     "execution_count": 77,
     "metadata": {},
     "output_type": "execute_result"
    }
   ],
   "source": [
    "a=df.groupby('city')['area'].mean().sort_values(ascending = False)\n",
    "a"
   ]
  },
  {
   "cell_type": "code",
   "execution_count": 78,
   "id": "46d015f3",
   "metadata": {
    "scrolled": true
   },
   "outputs": [
    {
     "data": {
      "text/plain": [
       "<AxesSubplot:xlabel='city', ylabel='area'>"
      ]
     },
     "execution_count": 78,
     "metadata": {},
     "output_type": "execute_result"
    },
    {
     "data": {
      "image/png": "[encoded data removed]",
      "text/plain": [
       "<Figure size 432x288 with 1 Axes>"
      ]
     },
     "metadata": {
      "needs_background": "light"
     },
     "output_type": "display_data"
    }
   ],
   "source": [
    "sns.barplot(data=df,x=\"city\",y='area',estimator=np.mean)"
   ]
  },
  {
   "cell_type": "markdown",
   "id": "906ff600",
   "metadata": {},
   "source": [
    "### Interpretation:- Area wise we can observe that belo horizonte will be best choice and the second choise will be campinas"
   ]
  },
  {
   "cell_type": "markdown",
   "id": "de6938cd",
   "metadata": {},
   "source": [
    "## Q5. Does animal impact price of houses price?"
   ]
  },
  {
   "cell_type": "code",
   "execution_count": 79,
   "id": "f5e88e0f",
   "metadata": {},
   "outputs": [
    {
     "data": {
      "text/html": [
       "<div>\n",
       "<style scoped>\n",
       "    .dataframe tbody tr th:only-of-type {\n",
       "        vertical-align: middle;\n",
       "    }\n",
       "\n",
       "    .dataframe tbody tr th {\n",
       "        vertical-align: top;\n",
       "    }\n",
       "\n",
       "    .dataframe thead th {\n",
       "        text-align: right;\n",
       "    }\n",
       "</style>\n",
       "<table border=\"1\" class=\"dataframe\">\n",
       "  <thead>\n",
       "    <tr style=\"text-align: right;\">\n",
       "      <th></th>\n",
       "      <th>mean</th>\n",
       "      <th>median</th>\n",
       "    </tr>\n",
       "    <tr>\n",
       "      <th>animal</th>\n",
       "      <th></th>\n",
       "      <th></th>\n",
       "    </tr>\n",
       "  </thead>\n",
       "  <tbody>\n",
       "    <tr>\n",
       "      <th>acept</th>\n",
       "      <td>5301.589129</td>\n",
       "      <td>3623.0</td>\n",
       "    </tr>\n",
       "    <tr>\n",
       "      <th>not acept</th>\n",
       "      <td>5623.756518</td>\n",
       "      <td>3097.0</td>\n",
       "    </tr>\n",
       "  </tbody>\n",
       "</table>\n",
       "</div>"
      ],
      "text/plain": [
       "                  mean  median\n",
       "animal                        \n",
       "acept      5301.589129  3623.0\n",
       "not acept  5623.756518  3097.0"
      ]
     },
     "execution_count": 79,
     "metadata": {},
     "output_type": "execute_result"
    }
   ],
   "source": [
    "pet = df.groupby('animal')['total (R$)']\n",
    "pet1=pet.agg(['mean','median'])\n",
    "pet1"
   ]
  },
  {
   "cell_type": "code",
   "execution_count": 80,
   "id": "1ce7c3b4",
   "metadata": {
    "scrolled": true
   },
   "outputs": [
    {
     "data": {
      "image/png": "[encoded data removed]",
      "text/plain": [
       "<Figure size 432x288 with 1 Axes>"
      ]
     },
     "metadata": {
      "needs_background": "light"
     },
     "output_type": "display_data"
    }
   ],
   "source": [
    "sns.barplot(x=df['city'],y=df['rent amount (R$)'],hue=df[\"animal\"],ci=False,estimator=np.mean);"
   ]
  },
  {
   "cell_type": "code",
   "execution_count": 81,
   "id": "cd9baf99",
   "metadata": {},
   "outputs": [
    {
     "data": {
      "text/plain": [
       "593.3012439999993"
      ]
     },
     "execution_count": 81,
     "metadata": {},
     "output_type": "execute_result"
    }
   ],
   "source": [
    "5200.248962-4606.947718"
   ]
  },
  {
   "cell_type": "markdown",
   "id": "a391cae5",
   "metadata": {},
   "source": [
    "### Interpretation:- The bela horizontal will be the first chosse if you have a pet , we can say yes the price will incress as they accept the animal avergely around 600 rs more."
   ]
  },
  {
   "cell_type": "markdown",
   "id": "dd5cd455",
   "metadata": {},
   "source": [
    "## Further Analysis (level 3)"
   ]
  },
  {
   "cell_type": "markdown",
   "id": "12fd9b4e",
   "metadata": {},
   "source": [
    "## Exploratory Data Analysis"
   ]
  },
  {
   "cell_type": "markdown",
   "id": "23f08c73",
   "metadata": {},
   "source": [
    "## Level 3 Analysis (Getting closer to the BIG QUESTION : City Selection)\n",
    "What others columns could be clubbed with city to ask further question?                                                  \n",
    "The below is the variables list of columns/features in the given data"
   ]
  },
  {
   "cell_type": "code",
   "execution_count": 82,
   "id": "2234434a",
   "metadata": {},
   "outputs": [
    {
     "data": {
      "text/plain": [
       "Index(['city', 'area', 'rooms', 'bathroom', 'parking spaces', 'floor',\n",
       "       'animal', 'furniture', 'hoa', 'rent amount (R$)', 'property tax (R$)',\n",
       "       'fire insurance (R$)', 'total (R$)', 'Customer_Age'],\n",
       "      dtype='object')"
      ]
     },
     "execution_count": 82,
     "metadata": {},
     "output_type": "execute_result"
    }
   ],
   "source": [
    "df.columns"
   ]
  },
  {
   "cell_type": "markdown",
   "id": "894edcd0",
   "metadata": {},
   "source": [
    "## Q1.Analysis of the city of on total cost with furniture flat?"
   ]
  },
  {
   "cell_type": "code",
   "execution_count": 83,
   "id": "5fcfc903",
   "metadata": {},
   "outputs": [
    {
     "data": {
      "text/plain": [
       "array(['furnished', 'not furnished'], dtype=object)"
      ]
     },
     "execution_count": 83,
     "metadata": {},
     "output_type": "execute_result"
    }
   ],
   "source": [
    "df[\"furniture\"].unique()"
   ]
  },
  {
   "cell_type": "code",
   "execution_count": 84,
   "id": "b01bc1c4",
   "metadata": {},
   "outputs": [
    {
     "data": {
      "text/plain": [
       "<AxesSubplot:title={'center':'city vs total cost va furniture flat'}, xlabel='city', ylabel='total (R$)'>"
      ]
     },
     "execution_count": 84,
     "metadata": {},
     "output_type": "execute_result"
    },
    {
     "data": {
      "image/png": "[encoded data removed]",
      "text/plain": [
       "<Figure size 1800x720 with 1 Axes>"
      ]
     },
     "metadata": {
      "needs_background": "light"
     },
     "output_type": "display_data"
    }
   ],
   "source": [
    "T1L2=df[(df['furniture']=='furnished')]\n",
    "plt.figure(figsize=(25,10))\n",
    "plt.title('city vs total cost va furniture flat')\n",
    "sns.barplot(x = \"city\", y=\"total (R$)\",estimator=np.mean,data=T1L2 ,palette='cool')"
   ]
  },
  {
   "cell_type": "markdown",
   "id": "49d188fc",
   "metadata": {},
   "source": [
    "### Interpretation:- We observed that campinas will cost low in terms of furniture flat."
   ]
  },
  {
   "cell_type": "markdown",
   "id": "0f3fe58c",
   "metadata": {},
   "source": [
    "## Q2. Analysis of the city Campinas,Belo Horizonte ,Porto alegre on the ability of parking spaces and impact on rent value?"
   ]
  },
  {
   "cell_type": "code",
   "execution_count": 85,
   "id": "0bc390c3",
   "metadata": {},
   "outputs": [
    {
     "ename": "SyntaxError",
     "evalue": "invalid syntax (517847903.py, line 1)",
     "output_type": "error",
     "traceback": [
      "\u001b[1;36m  Input \u001b[1;32mIn [85]\u001b[1;36m\u001b[0m\n\u001b[1;33m    .mean(df['city'].unique()\u001b[0m\n\u001b[1;37m    ^\u001b[0m\n\u001b[1;31mSyntaxError\u001b[0m\u001b[1;31m:\u001b[0m invalid syntax\n"
     ]
    }
   ],
   "source": [
    ".mean(df['city'].unique()"
   ]
  },
  {
   "cell_type": "code",
   "execution_count": 86,
   "id": "0ad1b660",
   "metadata": {},
   "outputs": [
    {
     "data": {
      "text/html": [
       "<div>\n",
       "<style scoped>\n",
       "    .dataframe tbody tr th:only-of-type {\n",
       "        vertical-align: middle;\n",
       "    }\n",
       "\n",
       "    .dataframe tbody tr th {\n",
       "        vertical-align: top;\n",
       "    }\n",
       "\n",
       "    .dataframe thead th {\n",
       "        text-align: right;\n",
       "    }\n",
       "</style>\n",
       "<table border=\"1\" class=\"dataframe\">\n",
       "  <thead>\n",
       "    <tr style=\"text-align: right;\">\n",
       "      <th></th>\n",
       "      <th>city</th>\n",
       "      <th>area</th>\n",
       "      <th>rooms</th>\n",
       "      <th>bathroom</th>\n",
       "      <th>parking spaces</th>\n",
       "      <th>floor</th>\n",
       "      <th>animal</th>\n",
       "      <th>furniture</th>\n",
       "      <th>hoa</th>\n",
       "      <th>rent amount (R$)</th>\n",
       "      <th>property tax (R$)</th>\n",
       "      <th>fire insurance (R$)</th>\n",
       "      <th>total (R$)</th>\n",
       "      <th>Customer_Age</th>\n",
       "    </tr>\n",
       "  </thead>\n",
       "  <tbody>\n",
       "    <tr>\n",
       "      <th>2</th>\n",
       "      <td>Porto Alegre</td>\n",
       "      <td>80</td>\n",
       "      <td>1</td>\n",
       "      <td>1</td>\n",
       "      <td>1</td>\n",
       "      <td>6</td>\n",
       "      <td>acept</td>\n",
       "      <td>not furnished</td>\n",
       "      <td>1000</td>\n",
       "      <td>2800</td>\n",
       "      <td>0</td>\n",
       "      <td>41</td>\n",
       "      <td>3841</td>\n",
       "      <td>149.0</td>\n",
       "    </tr>\n",
       "    <tr>\n",
       "      <th>3</th>\n",
       "      <td>Porto Alegre</td>\n",
       "      <td>51</td>\n",
       "      <td>2</td>\n",
       "      <td>1</td>\n",
       "      <td>0</td>\n",
       "      <td>2</td>\n",
       "      <td>acept</td>\n",
       "      <td>not furnished</td>\n",
       "      <td>270</td>\n",
       "      <td>1112</td>\n",
       "      <td>22</td>\n",
       "      <td>17</td>\n",
       "      <td>1421</td>\n",
       "      <td>149.0</td>\n",
       "    </tr>\n",
       "  </tbody>\n",
       "</table>\n",
       "</div>"
      ],
      "text/plain": [
       "           city  area  rooms  bathroom  parking spaces  floor animal  \\\n",
       "2  Porto Alegre    80      1         1               1      6  acept   \n",
       "3  Porto Alegre    51      2         1               0      2  acept   \n",
       "\n",
       "       furniture   hoa  rent amount (R$)  property tax (R$)  \\\n",
       "2  not furnished  1000              2800                  0   \n",
       "3  not furnished   270              1112                 22   \n",
       "\n",
       "   fire insurance (R$)  total (R$)  Customer_Age  \n",
       "2                   41        3841         149.0  \n",
       "3                   17        1421         149.0  "
      ]
     },
     "execution_count": 86,
     "metadata": {},
     "output_type": "execute_result"
    }
   ],
   "source": [
    "T2l3=df[(df['city']=='Campinas') | (df['city']=='Belo Horizonte') | (df['city']=='Porto Alegre')]\n",
    "T2l3.head(2)"
   ]
  },
  {
   "cell_type": "code",
   "execution_count": 87,
   "id": "8ae2b319",
   "metadata": {},
   "outputs": [
    {
     "data": {
      "text/plain": [
       "parking spaces\n",
       "6    8256.944444\n",
       "5    7642.215686\n",
       "7    7603.333333\n",
       "8    7303.048780\n",
       "4    6716.273196\n",
       "3    5552.952991\n",
       "2    3216.241275\n",
       "0    1655.865979\n",
       "1    1617.846092\n",
       "Name: rent amount (R$), dtype: float64"
      ]
     },
     "execution_count": 87,
     "metadata": {},
     "output_type": "execute_result"
    }
   ],
   "source": [
    "T2l3.groupby('parking spaces')['rent amount (R$)'].mean().sort_values(ascending = False)"
   ]
  },
  {
   "cell_type": "code",
   "execution_count": 88,
   "id": "b29402d8",
   "metadata": {},
   "outputs": [
    {
     "data": {
      "text/plain": [
       "<AxesSubplot:xlabel='parking spaces', ylabel='total (R$)'>"
      ]
     },
     "execution_count": 88,
     "metadata": {},
     "output_type": "execute_result"
    },
    {
     "data": {
      "image/png": "[encoded data removed]",
      "text/plain": [
       "<Figure size 1080x504 with 1 Axes>"
      ]
     },
     "metadata": {
      "needs_background": "light"
     },
     "output_type": "display_data"
    }
   ],
   "source": [
    "plt.figure(figsize=(15,7))\n",
    "sns.barplot(x= 'parking spaces',hue=\"city\",y=\"total (R$)\", data=T2l3)"
   ]
  },
  {
   "cell_type": "markdown",
   "id": "fb57a019",
   "metadata": {},
   "source": [
    "### Interpretation:- From above graph we can see that campinas is having better parking space in less amount."
   ]
  },
  {
   "cell_type": "markdown",
   "id": "a7632d57",
   "metadata": {},
   "source": [
    "### Final Interpretation :- \n",
    "1. The best alternative city with furniture flat is campinas with 0.08%.\n",
    "2. The Total cost wise campinas city will be the best and secound sao paulo , and averagly the total cost will be 3500.\n",
    "3. Belo horizintal campinas we can easily get room in starting floor.\n",
    "4. we observerd that campinas will cost low in terms of furniture flat.\n",
    "5. Campinas is having better Parking space in less amount \n",
    "\n",
    "Thats my all final Interpretation"
   ]
  },
  {
   "cell_type": "code",
   "execution_count": null,
   "id": "4c3731ba",
   "metadata": {},
   "outputs": [],
   "source": []
  }
 ],
 "metadata": {
  "kernelspec": {
   "display_name": "Python 3 (ipykernel)",
   "language": "python",
   "name": "python3"
  },
  "language_info": {
   "codemirror_mode": {
    "name": "ipython",
    "version": 3
   },
   "file_extension": ".py",
   "mimetype": "text/x-python",
   "name": "python",
   "nbconvert_exporter": "python",
   "pygments_lexer": "ipython3",
   "version": "3.9.12"
  }
 },
 "nbformat": 4,
 "nbformat_minor": 5
}
