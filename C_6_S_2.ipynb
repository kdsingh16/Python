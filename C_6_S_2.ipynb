{
 "cells": [
  {
   "cell_type": "code",
   "execution_count": 3,
   "id": "29247be4",
   "metadata": {},
   "outputs": [],
   "source": [
    "import matplotlib.pyplot as plt            \n",
    "from tabulate import tabulate                                   \n",
    "import seaborn as sb                      \n",
    "import pandas as pd                         \n",
    "import numpy as np     \n",
    "import math\n",
    "from scipy.stats import f\n",
    "import statistics as st"
   ]
  },
  {
   "cell_type": "code",
   "execution_count": 4,
   "id": "b768bf00",
   "metadata": {},
   "outputs": [],
   "source": [
    "emp = pd.read_csv(\"data.csv\") "
   ]
  },
  {
   "cell_type": "code",
   "execution_count": 5,
   "id": "a4dac7ef",
   "metadata": {},
   "outputs": [
    {
     "data": {
      "text/html": [
       "<div>\n",
       "<style scoped>\n",
       "    .dataframe tbody tr th:only-of-type {\n",
       "        vertical-align: middle;\n",
       "    }\n",
       "\n",
       "    .dataframe tbody tr th {\n",
       "        vertical-align: top;\n",
       "    }\n",
       "\n",
       "    .dataframe thead th {\n",
       "        text-align: right;\n",
       "    }\n",
       "</style>\n",
       "<table border=\"1\" class=\"dataframe\">\n",
       "  <thead>\n",
       "    <tr style=\"text-align: right;\">\n",
       "      <th></th>\n",
       "      <th>Age</th>\n",
       "      <th>Attrition</th>\n",
       "      <th>BusinessTravel</th>\n",
       "      <th>Department</th>\n",
       "      <th>DistanceFromHome</th>\n",
       "      <th>EducationField</th>\n",
       "      <th>EmployeeNumber</th>\n",
       "      <th>EnvironmentSatisfaction</th>\n",
       "      <th>Gender</th>\n",
       "      <th>HourlyRate</th>\n",
       "      <th>...</th>\n",
       "      <th>OverTime</th>\n",
       "      <th>PerformanceRating</th>\n",
       "      <th>RelationshipSatisfaction</th>\n",
       "      <th>TotalWorkingYears</th>\n",
       "      <th>TrainingTimesLastYear</th>\n",
       "      <th>WorkLifeBalance</th>\n",
       "      <th>YearsAtCompany</th>\n",
       "      <th>YearsInCurrentRole</th>\n",
       "      <th>YearsSinceLastPromotion</th>\n",
       "      <th>YearsWithCurrManager</th>\n",
       "    </tr>\n",
       "  </thead>\n",
       "  <tbody>\n",
       "    <tr>\n",
       "      <th>0</th>\n",
       "      <td>41.0</td>\n",
       "      <td>Yes</td>\n",
       "      <td>Travel_Rarely</td>\n",
       "      <td>Sales</td>\n",
       "      <td>1</td>\n",
       "      <td>Life Sciences</td>\n",
       "      <td>1</td>\n",
       "      <td>2</td>\n",
       "      <td>Female</td>\n",
       "      <td>94</td>\n",
       "      <td>...</td>\n",
       "      <td>Yes</td>\n",
       "      <td>3</td>\n",
       "      <td>1</td>\n",
       "      <td>8</td>\n",
       "      <td>0</td>\n",
       "      <td>1</td>\n",
       "      <td>6</td>\n",
       "      <td>4</td>\n",
       "      <td>0</td>\n",
       "      <td>5</td>\n",
       "    </tr>\n",
       "    <tr>\n",
       "      <th>1</th>\n",
       "      <td>49.0</td>\n",
       "      <td>No</td>\n",
       "      <td>Travel_Frequently</td>\n",
       "      <td>Research &amp; Development</td>\n",
       "      <td>8</td>\n",
       "      <td>Life Sciences</td>\n",
       "      <td>2</td>\n",
       "      <td>3</td>\n",
       "      <td>Male</td>\n",
       "      <td>61</td>\n",
       "      <td>...</td>\n",
       "      <td>No</td>\n",
       "      <td>4</td>\n",
       "      <td>4</td>\n",
       "      <td>10</td>\n",
       "      <td>3</td>\n",
       "      <td>3</td>\n",
       "      <td>10</td>\n",
       "      <td>7</td>\n",
       "      <td>1</td>\n",
       "      <td>7</td>\n",
       "    </tr>\n",
       "    <tr>\n",
       "      <th>2</th>\n",
       "      <td>37.0</td>\n",
       "      <td>Yes</td>\n",
       "      <td>Travel_Rarely</td>\n",
       "      <td>Research &amp; Development</td>\n",
       "      <td>2</td>\n",
       "      <td>Other</td>\n",
       "      <td>4</td>\n",
       "      <td>4</td>\n",
       "      <td>Male</td>\n",
       "      <td>92</td>\n",
       "      <td>...</td>\n",
       "      <td>Yes</td>\n",
       "      <td>3</td>\n",
       "      <td>2</td>\n",
       "      <td>7</td>\n",
       "      <td>3</td>\n",
       "      <td>3</td>\n",
       "      <td>0</td>\n",
       "      <td>0</td>\n",
       "      <td>0</td>\n",
       "      <td>0</td>\n",
       "    </tr>\n",
       "    <tr>\n",
       "      <th>3</th>\n",
       "      <td>33.0</td>\n",
       "      <td>No</td>\n",
       "      <td>Travel_Frequently</td>\n",
       "      <td>Research &amp; Development</td>\n",
       "      <td>3</td>\n",
       "      <td>Life Sciences</td>\n",
       "      <td>5</td>\n",
       "      <td>4</td>\n",
       "      <td>Female</td>\n",
       "      <td>56</td>\n",
       "      <td>...</td>\n",
       "      <td>Yes</td>\n",
       "      <td>3</td>\n",
       "      <td>3</td>\n",
       "      <td>8</td>\n",
       "      <td>3</td>\n",
       "      <td>3</td>\n",
       "      <td>8</td>\n",
       "      <td>7</td>\n",
       "      <td>3</td>\n",
       "      <td>0</td>\n",
       "    </tr>\n",
       "    <tr>\n",
       "      <th>4</th>\n",
       "      <td>27.0</td>\n",
       "      <td>No</td>\n",
       "      <td>Travel_Rarely</td>\n",
       "      <td>Research &amp; Development</td>\n",
       "      <td>2</td>\n",
       "      <td>Medical</td>\n",
       "      <td>7</td>\n",
       "      <td>1</td>\n",
       "      <td>Male</td>\n",
       "      <td>40</td>\n",
       "      <td>...</td>\n",
       "      <td>No</td>\n",
       "      <td>3</td>\n",
       "      <td>4</td>\n",
       "      <td>6</td>\n",
       "      <td>3</td>\n",
       "      <td>3</td>\n",
       "      <td>2</td>\n",
       "      <td>2</td>\n",
       "      <td>2</td>\n",
       "      <td>2</td>\n",
       "    </tr>\n",
       "    <tr>\n",
       "      <th>...</th>\n",
       "      <td>...</td>\n",
       "      <td>...</td>\n",
       "      <td>...</td>\n",
       "      <td>...</td>\n",
       "      <td>...</td>\n",
       "      <td>...</td>\n",
       "      <td>...</td>\n",
       "      <td>...</td>\n",
       "      <td>...</td>\n",
       "      <td>...</td>\n",
       "      <td>...</td>\n",
       "      <td>...</td>\n",
       "      <td>...</td>\n",
       "      <td>...</td>\n",
       "      <td>...</td>\n",
       "      <td>...</td>\n",
       "      <td>...</td>\n",
       "      <td>...</td>\n",
       "      <td>...</td>\n",
       "      <td>...</td>\n",
       "      <td>...</td>\n",
       "    </tr>\n",
       "    <tr>\n",
       "      <th>1465</th>\n",
       "      <td>36.0</td>\n",
       "      <td>No</td>\n",
       "      <td>NaN</td>\n",
       "      <td>Research &amp; Development</td>\n",
       "      <td>23</td>\n",
       "      <td>Medical</td>\n",
       "      <td>2061</td>\n",
       "      <td>3</td>\n",
       "      <td>Male</td>\n",
       "      <td>41</td>\n",
       "      <td>...</td>\n",
       "      <td>No</td>\n",
       "      <td>3</td>\n",
       "      <td>3</td>\n",
       "      <td>17</td>\n",
       "      <td>3</td>\n",
       "      <td>3</td>\n",
       "      <td>5</td>\n",
       "      <td>2</td>\n",
       "      <td>0</td>\n",
       "      <td>3</td>\n",
       "    </tr>\n",
       "    <tr>\n",
       "      <th>1466</th>\n",
       "      <td>39.0</td>\n",
       "      <td>No</td>\n",
       "      <td>Travel_Rarely</td>\n",
       "      <td>Research &amp; Development</td>\n",
       "      <td>6</td>\n",
       "      <td>Medical</td>\n",
       "      <td>2062</td>\n",
       "      <td>4</td>\n",
       "      <td>Male</td>\n",
       "      <td>42</td>\n",
       "      <td>...</td>\n",
       "      <td>No</td>\n",
       "      <td>3</td>\n",
       "      <td>1</td>\n",
       "      <td>9</td>\n",
       "      <td>5</td>\n",
       "      <td>3</td>\n",
       "      <td>7</td>\n",
       "      <td>7</td>\n",
       "      <td>1</td>\n",
       "      <td>7</td>\n",
       "    </tr>\n",
       "    <tr>\n",
       "      <th>1467</th>\n",
       "      <td>27.0</td>\n",
       "      <td>No</td>\n",
       "      <td>Travel_Rarely</td>\n",
       "      <td>Research &amp; Development</td>\n",
       "      <td>4</td>\n",
       "      <td>Life Sciences</td>\n",
       "      <td>2064</td>\n",
       "      <td>2</td>\n",
       "      <td>Male</td>\n",
       "      <td>87</td>\n",
       "      <td>...</td>\n",
       "      <td>Yes</td>\n",
       "      <td>4</td>\n",
       "      <td>2</td>\n",
       "      <td>6</td>\n",
       "      <td>0</td>\n",
       "      <td>3</td>\n",
       "      <td>6</td>\n",
       "      <td>2</td>\n",
       "      <td>0</td>\n",
       "      <td>3</td>\n",
       "    </tr>\n",
       "    <tr>\n",
       "      <th>1468</th>\n",
       "      <td>49.0</td>\n",
       "      <td>No</td>\n",
       "      <td>Travel_Frequently</td>\n",
       "      <td>Sales</td>\n",
       "      <td>2</td>\n",
       "      <td>Medical</td>\n",
       "      <td>2065</td>\n",
       "      <td>4</td>\n",
       "      <td>Male</td>\n",
       "      <td>63</td>\n",
       "      <td>...</td>\n",
       "      <td>No</td>\n",
       "      <td>3</td>\n",
       "      <td>4</td>\n",
       "      <td>17</td>\n",
       "      <td>3</td>\n",
       "      <td>2</td>\n",
       "      <td>9</td>\n",
       "      <td>6</td>\n",
       "      <td>0</td>\n",
       "      <td>8</td>\n",
       "    </tr>\n",
       "    <tr>\n",
       "      <th>1469</th>\n",
       "      <td>34.0</td>\n",
       "      <td>No</td>\n",
       "      <td>Travel_Rarely</td>\n",
       "      <td>Research &amp; Development</td>\n",
       "      <td>8</td>\n",
       "      <td>Medical</td>\n",
       "      <td>2068</td>\n",
       "      <td>2</td>\n",
       "      <td>Male</td>\n",
       "      <td>82</td>\n",
       "      <td>...</td>\n",
       "      <td>No</td>\n",
       "      <td>3</td>\n",
       "      <td>1</td>\n",
       "      <td>6</td>\n",
       "      <td>3</td>\n",
       "      <td>4</td>\n",
       "      <td>4</td>\n",
       "      <td>3</td>\n",
       "      <td>1</td>\n",
       "      <td>2</td>\n",
       "    </tr>\n",
       "  </tbody>\n",
       "</table>\n",
       "<p>1470 rows × 27 columns</p>\n",
       "</div>"
      ],
      "text/plain": [
       "       Age Attrition     BusinessTravel              Department  \\\n",
       "0     41.0       Yes      Travel_Rarely                   Sales   \n",
       "1     49.0        No  Travel_Frequently  Research & Development   \n",
       "2     37.0       Yes      Travel_Rarely  Research & Development   \n",
       "3     33.0        No  Travel_Frequently  Research & Development   \n",
       "4     27.0        No      Travel_Rarely  Research & Development   \n",
       "...    ...       ...                ...                     ...   \n",
       "1465  36.0        No                NaN  Research & Development   \n",
       "1466  39.0        No      Travel_Rarely  Research & Development   \n",
       "1467  27.0        No      Travel_Rarely  Research & Development   \n",
       "1468  49.0        No  Travel_Frequently                   Sales   \n",
       "1469  34.0        No      Travel_Rarely  Research & Development   \n",
       "\n",
       "      DistanceFromHome EducationField  EmployeeNumber  \\\n",
       "0                    1  Life Sciences               1   \n",
       "1                    8  Life Sciences               2   \n",
       "2                    2          Other               4   \n",
       "3                    3  Life Sciences               5   \n",
       "4                    2        Medical               7   \n",
       "...                ...            ...             ...   \n",
       "1465                23        Medical            2061   \n",
       "1466                 6        Medical            2062   \n",
       "1467                 4  Life Sciences            2064   \n",
       "1468                 2        Medical            2065   \n",
       "1469                 8        Medical            2068   \n",
       "\n",
       "      EnvironmentSatisfaction  Gender  HourlyRate  ...  OverTime  \\\n",
       "0                           2  Female          94  ...       Yes   \n",
       "1                           3    Male          61  ...        No   \n",
       "2                           4    Male          92  ...       Yes   \n",
       "3                           4  Female          56  ...       Yes   \n",
       "4                           1    Male          40  ...        No   \n",
       "...                       ...     ...         ...  ...       ...   \n",
       "1465                        3    Male          41  ...        No   \n",
       "1466                        4    Male          42  ...        No   \n",
       "1467                        2    Male          87  ...       Yes   \n",
       "1468                        4    Male          63  ...        No   \n",
       "1469                        2    Male          82  ...        No   \n",
       "\n",
       "     PerformanceRating  RelationshipSatisfaction TotalWorkingYears  \\\n",
       "0                    3                         1                 8   \n",
       "1                    4                         4                10   \n",
       "2                    3                         2                 7   \n",
       "3                    3                         3                 8   \n",
       "4                    3                         4                 6   \n",
       "...                ...                       ...               ...   \n",
       "1465                 3                         3                17   \n",
       "1466                 3                         1                 9   \n",
       "1467                 4                         2                 6   \n",
       "1468                 3                         4                17   \n",
       "1469                 3                         1                 6   \n",
       "\n",
       "      TrainingTimesLastYear  WorkLifeBalance YearsAtCompany  \\\n",
       "0                         0                1              6   \n",
       "1                         3                3             10   \n",
       "2                         3                3              0   \n",
       "3                         3                3              8   \n",
       "4                         3                3              2   \n",
       "...                     ...              ...            ...   \n",
       "1465                      3                3              5   \n",
       "1466                      5                3              7   \n",
       "1467                      0                3              6   \n",
       "1468                      3                2              9   \n",
       "1469                      3                4              4   \n",
       "\n",
       "     YearsInCurrentRole  YearsSinceLastPromotion  YearsWithCurrManager  \n",
       "0                     4                        0                     5  \n",
       "1                     7                        1                     7  \n",
       "2                     0                        0                     0  \n",
       "3                     7                        3                     0  \n",
       "4                     2                        2                     2  \n",
       "...                 ...                      ...                   ...  \n",
       "1465                  2                        0                     3  \n",
       "1466                  7                        1                     7  \n",
       "1467                  2                        0                     3  \n",
       "1468                  6                        0                     8  \n",
       "1469                  3                        1                     2  \n",
       "\n",
       "[1470 rows x 27 columns]"
      ]
     },
     "execution_count": 5,
     "metadata": {},
     "output_type": "execute_result"
    }
   ],
   "source": [
    "emp"
   ]
  },
  {
   "cell_type": "markdown",
   "id": "77cdac87",
   "metadata": {},
   "source": [
    "## 1. Analysis of Business Travel on Attrition\n",
    "One could consider analyzing all the above columns for the employees who are traveling rarely. However it could be a waste of time, hence it is better to consult the domain expert to choose the appropriate columns for further analysis."
   ]
  },
  {
   "cell_type": "code",
   "execution_count": 6,
   "id": "25e4cd5e",
   "metadata": {},
   "outputs": [
    {
     "data": {
      "text/html": [
       "<div>\n",
       "<style scoped>\n",
       "    .dataframe tbody tr th:only-of-type {\n",
       "        vertical-align: middle;\n",
       "    }\n",
       "\n",
       "    .dataframe tbody tr th {\n",
       "        vertical-align: top;\n",
       "    }\n",
       "\n",
       "    .dataframe thead th {\n",
       "        text-align: right;\n",
       "    }\n",
       "</style>\n",
       "<table border=\"1\" class=\"dataframe\">\n",
       "  <thead>\n",
       "    <tr style=\"text-align: right;\">\n",
       "      <th>BusinessTravel</th>\n",
       "      <th>Non-Travel</th>\n",
       "      <th>Travel_Frequently</th>\n",
       "      <th>Travel_Rarely</th>\n",
       "    </tr>\n",
       "    <tr>\n",
       "      <th>Attrition</th>\n",
       "      <th></th>\n",
       "      <th></th>\n",
       "      <th></th>\n",
       "    </tr>\n",
       "  </thead>\n",
       "  <tbody>\n",
       "    <tr>\n",
       "      <th>No</th>\n",
       "      <td>137</td>\n",
       "      <td>201</td>\n",
       "      <td>869</td>\n",
       "    </tr>\n",
       "    <tr>\n",
       "      <th>Yes</th>\n",
       "      <td>11</td>\n",
       "      <td>67</td>\n",
       "      <td>155</td>\n",
       "    </tr>\n",
       "  </tbody>\n",
       "</table>\n",
       "</div>"
      ],
      "text/plain": [
       "BusinessTravel  Non-Travel  Travel_Frequently  Travel_Rarely\n",
       "Attrition                                                   \n",
       "No                     137                201            869\n",
       "Yes                     11                 67            155"
      ]
     },
     "execution_count": 6,
     "metadata": {},
     "output_type": "execute_result"
    }
   ],
   "source": [
    "pd.crosstab(emp.Attrition,emp.BusinessTravel)"
   ]
  },
  {
   "cell_type": "code",
   "execution_count": 7,
   "id": "dadb0e9e",
   "metadata": {},
   "outputs": [
    {
     "data": {
      "text/plain": [
       "<AxesSubplot:xlabel='Attrition'>"
      ]
     },
     "execution_count": 7,
     "metadata": {},
     "output_type": "execute_result"
    },
    {
     "data": {
      "image/png": "[encoded data removed]",
      "text/plain": [
       "<Figure size 432x288 with 1 Axes>"
      ]
     },
     "metadata": {
      "needs_background": "light"
     },
     "output_type": "display_data"
    }
   ],
   "source": [
    "pd.crosstab(emp.Attrition,emp.BusinessTravel).plot.bar()"
   ]
  },
  {
   "cell_type": "code",
   "execution_count": 8,
   "id": "dc560f5f",
   "metadata": {},
   "outputs": [],
   "source": [
    "#From the cross table and graph we can say that the emp who are travelling rarely and are attrited "
   ]
  },
  {
   "cell_type": "code",
   "execution_count": 9,
   "id": "b03db431",
   "metadata": {},
   "outputs": [
    {
     "data": {
      "text/plain": [
       "Research & Development    666\n",
       "Sales                     310\n",
       "Human Resources            45\n",
       "Name: Department, dtype: int64"
      ]
     },
     "execution_count": 9,
     "metadata": {},
     "output_type": "execute_result"
    }
   ],
   "source": [
    "emp1=emp[(emp.BusinessTravel=='Travel_Rarely')]\n",
    "emp1['Department'].value_counts()"
   ]
  },
  {
   "cell_type": "code",
   "execution_count": 10,
   "id": "f0752d07",
   "metadata": {},
   "outputs": [
    {
     "data": {
      "text/plain": [
       "<AxesSubplot:>"
      ]
     },
     "execution_count": 10,
     "metadata": {},
     "output_type": "execute_result"
    },
    {
     "data": {
      "image/png": "[encoded data removed]",
      "text/plain": [
       "<Figure size 432x288 with 1 Axes>"
      ]
     },
     "metadata": {
      "needs_background": "light"
     },
     "output_type": "display_data"
    }
   ],
   "source": [
    "emp1['Department'].value_counts().plot.bar()"
   ]
  },
  {
   "cell_type": "code",
   "execution_count": 11,
   "id": "90624157",
   "metadata": {},
   "outputs": [
    {
     "data": {
      "text/plain": [
       "Sales Executive              223\n",
       "Research Scientist           205\n",
       "Laboratory Technician        178\n",
       "Manufacturing Director       101\n",
       "Healthcare Representative     85\n",
       "Manager                       76\n",
       "Research Director             59\n",
       "Sales Representative          55\n",
       "Human Resources               37\n",
       "Name: JobRole, dtype: int64"
      ]
     },
     "execution_count": 11,
     "metadata": {},
     "output_type": "execute_result"
    }
   ],
   "source": [
    "emp1['JobRole'].value_counts()"
   ]
  },
  {
   "cell_type": "code",
   "execution_count": 12,
   "id": "f557529f",
   "metadata": {},
   "outputs": [
    {
     "data": {
      "text/plain": [
       "<AxesSubplot:>"
      ]
     },
     "execution_count": 12,
     "metadata": {},
     "output_type": "execute_result"
    },
    {
     "data": {
      "image/png": "[encoded data removed]",
      "text/plain": [
       "<Figure size 432x288 with 1 Axes>"
      ]
     },
     "metadata": {
      "needs_background": "light"
     },
     "output_type": "display_data"
    }
   ],
   "source": [
    "emp1['JobRole'].value_counts().plot.bar()"
   ]
  },
  {
   "cell_type": "code",
   "execution_count": 13,
   "id": "a3e00664",
   "metadata": {},
   "outputs": [
    {
     "data": {
      "text/plain": [
       "3    603\n",
       "2    264\n",
       "4    105\n",
       "1     52\n",
       "Name: JobInvolvement, dtype: int64"
      ]
     },
     "execution_count": 13,
     "metadata": {},
     "output_type": "execute_result"
    }
   ],
   "source": [
    "emp1['JobInvolvement'].value_counts()"
   ]
  },
  {
   "cell_type": "code",
   "execution_count": 14,
   "id": "10fcf605",
   "metadata": {},
   "outputs": [
    {
     "data": {
      "text/plain": [
       "<AxesSubplot:>"
      ]
     },
     "execution_count": 14,
     "metadata": {},
     "output_type": "execute_result"
    },
    {
     "data": {
      "image/png": "[encoded data removed]",
      "text/plain": [
       "<Figure size 432x288 with 1 Axes>"
      ]
     },
     "metadata": {
      "needs_background": "light"
     },
     "output_type": "display_data"
    }
   ],
   "source": [
    "emp1['JobInvolvement'].value_counts().plot.bar()"
   ]
  },
  {
   "cell_type": "markdown",
   "id": "4d510a3f",
   "metadata": {},
   "source": [
    "## 2. Analysis of EducationField with Attrition\n",
    "One could consider analyzing all the above columns for the employees who are from Medical and Life Science backgrounds.\n",
    "However it could be a waste of time, hence it is better to consult the domain expert to choose the appropriate columns \n",
    "for further analysis.\n",
    "Let's consider the following columns:\n",
    "1. Monthly Income\n",
    "2. Years in current role\n",
    "3. Years at company"
   ]
  },
  {
   "cell_type": "code",
   "execution_count": 15,
   "id": "8e82f7a8",
   "metadata": {},
   "outputs": [
    {
     "data": {
      "text/html": [
       "<div>\n",
       "<style scoped>\n",
       "    .dataframe tbody tr th:only-of-type {\n",
       "        vertical-align: middle;\n",
       "    }\n",
       "\n",
       "    .dataframe tbody tr th {\n",
       "        vertical-align: top;\n",
       "    }\n",
       "\n",
       "    .dataframe thead th {\n",
       "        text-align: right;\n",
       "    }\n",
       "</style>\n",
       "<table border=\"1\" class=\"dataframe\">\n",
       "  <thead>\n",
       "    <tr style=\"text-align: right;\">\n",
       "      <th>EducationField</th>\n",
       "      <th>Human Resources</th>\n",
       "      <th>Life Sciences</th>\n",
       "      <th>Marketing</th>\n",
       "      <th>Medical</th>\n",
       "      <th>Other</th>\n",
       "      <th>Technical Degree</th>\n",
       "    </tr>\n",
       "    <tr>\n",
       "      <th>Attrition</th>\n",
       "      <th></th>\n",
       "      <th></th>\n",
       "      <th></th>\n",
       "      <th></th>\n",
       "      <th></th>\n",
       "      <th></th>\n",
       "    </tr>\n",
       "  </thead>\n",
       "  <tbody>\n",
       "    <tr>\n",
       "      <th>No</th>\n",
       "      <td>20</td>\n",
       "      <td>514</td>\n",
       "      <td>121</td>\n",
       "      <td>400</td>\n",
       "      <td>70</td>\n",
       "      <td>100</td>\n",
       "    </tr>\n",
       "    <tr>\n",
       "      <th>Yes</th>\n",
       "      <td>7</td>\n",
       "      <td>88</td>\n",
       "      <td>34</td>\n",
       "      <td>63</td>\n",
       "      <td>11</td>\n",
       "      <td>30</td>\n",
       "    </tr>\n",
       "  </tbody>\n",
       "</table>\n",
       "</div>"
      ],
      "text/plain": [
       "EducationField  Human Resources  Life Sciences  Marketing  Medical  Other  \\\n",
       "Attrition                                                                   \n",
       "No                           20            514        121      400     70   \n",
       "Yes                           7             88         34       63     11   \n",
       "\n",
       "EducationField  Technical Degree  \n",
       "Attrition                         \n",
       "No                           100  \n",
       "Yes                           30  "
      ]
     },
     "execution_count": 15,
     "metadata": {},
     "output_type": "execute_result"
    }
   ],
   "source": [
    "pd.crosstab(emp.Attrition,emp.EducationField)"
   ]
  },
  {
   "cell_type": "code",
   "execution_count": 16,
   "id": "09badad1",
   "metadata": {},
   "outputs": [
    {
     "data": {
      "text/plain": [
       "<AxesSubplot:xlabel='Attrition'>"
      ]
     },
     "execution_count": 16,
     "metadata": {},
     "output_type": "execute_result"
    },
    {
     "data": {
      "image/png": "[encoded data removed]",
      "text/plain": [
       "<Figure size 432x288 with 1 Axes>"
      ]
     },
     "metadata": {
      "needs_background": "light"
     },
     "output_type": "display_data"
    }
   ],
   "source": [
    "pd.crosstab(emp.Attrition,emp.EducationField).plot.bar()"
   ]
  },
  {
   "cell_type": "code",
   "execution_count": 17,
   "id": "b68b52a4",
   "metadata": {},
   "outputs": [],
   "source": [
    "#employees of life sciences and medical are most attrited"
   ]
  },
  {
   "cell_type": "markdown",
   "id": "20401667",
   "metadata": {},
   "source": [
    "### Most emp who have attrited are from life sciences , medical and most Who havent attrited are also from life sciences and medical"
   ]
  },
  {
   "cell_type": "code",
   "execution_count": 18,
   "id": "e5c17ae8",
   "metadata": {},
   "outputs": [],
   "source": [
    "emp1=emp[(emp.EducationField=='Life Sciences')| (emp.EducationField=='Medical')]"
   ]
  },
  {
   "cell_type": "code",
   "execution_count": 19,
   "id": "4f6d7c0d",
   "metadata": {},
   "outputs": [
    {
     "data": {
      "text/html": [
       "<div>\n",
       "<style scoped>\n",
       "    .dataframe tbody tr th:only-of-type {\n",
       "        vertical-align: middle;\n",
       "    }\n",
       "\n",
       "    .dataframe tbody tr th {\n",
       "        vertical-align: top;\n",
       "    }\n",
       "\n",
       "    .dataframe thead th {\n",
       "        text-align: right;\n",
       "    }\n",
       "</style>\n",
       "<table border=\"1\" class=\"dataframe\">\n",
       "  <thead>\n",
       "    <tr style=\"text-align: right;\">\n",
       "      <th>Attrition</th>\n",
       "      <th>No</th>\n",
       "      <th>Yes</th>\n",
       "    </tr>\n",
       "    <tr>\n",
       "      <th>Department</th>\n",
       "      <th></th>\n",
       "      <th></th>\n",
       "    </tr>\n",
       "  </thead>\n",
       "  <tbody>\n",
       "    <tr>\n",
       "      <th>Human Resources</th>\n",
       "      <td>26</td>\n",
       "      <td>3</td>\n",
       "    </tr>\n",
       "    <tr>\n",
       "      <th>Research &amp; Development</th>\n",
       "      <td>691</td>\n",
       "      <td>105</td>\n",
       "    </tr>\n",
       "    <tr>\n",
       "      <th>Sales</th>\n",
       "      <td>193</td>\n",
       "      <td>43</td>\n",
       "    </tr>\n",
       "  </tbody>\n",
       "</table>\n",
       "</div>"
      ],
      "text/plain": [
       "Attrition                No  Yes\n",
       "Department                      \n",
       "Human Resources          26    3\n",
       "Research & Development  691  105\n",
       "Sales                   193   43"
      ]
     },
     "execution_count": 19,
     "metadata": {},
     "output_type": "execute_result"
    }
   ],
   "source": [
    "pd.crosstab(emp1.Department,emp1.Attrition)"
   ]
  },
  {
   "cell_type": "code",
   "execution_count": 20,
   "id": "0d2152fd",
   "metadata": {},
   "outputs": [
    {
     "data": {
      "text/plain": [
       "<AxesSubplot:xlabel='Department'>"
      ]
     },
     "execution_count": 20,
     "metadata": {},
     "output_type": "execute_result"
    },
    {
     "data": {
      "image/png": "[encoded data removed]",
      "text/plain": [
       "<Figure size 432x288 with 1 Axes>"
      ]
     },
     "metadata": {
      "needs_background": "light"
     },
     "output_type": "display_data"
    }
   ],
   "source": [
    "pd.crosstab(emp1.Department,emp1.Attrition).plot.bar()"
   ]
  },
  {
   "cell_type": "code",
   "execution_count": 21,
   "id": "28ea985e",
   "metadata": {},
   "outputs": [],
   "source": [
    "#Research and development has got most attrited and HR department are least attrited"
   ]
  },
  {
   "cell_type": "code",
   "execution_count": 22,
   "id": "0d249590",
   "metadata": {},
   "outputs": [
    {
     "data": {
      "text/plain": [
       "EducationField\n",
       "Human Resources     60.888889\n",
       "Life Sciences       66.880399\n",
       "Marketing           66.251613\n",
       "Medical             65.257019\n",
       "Other               62.629630\n",
       "Technical Degree    66.692308\n",
       "Name: HourlyRate, dtype: float64"
      ]
     },
     "execution_count": 22,
     "metadata": {},
     "output_type": "execute_result"
    }
   ],
   "source": [
    "emp.groupby(['EducationField'])['HourlyRate'].mean()"
   ]
  },
  {
   "cell_type": "code",
   "execution_count": 23,
   "id": "872821c5",
   "metadata": {},
   "outputs": [
    {
     "data": {
      "text/plain": [
       "<AxesSubplot:xlabel='EducationField', ylabel='HourlyRate'>"
      ]
     },
     "execution_count": 23,
     "metadata": {},
     "output_type": "execute_result"
    },
    {
     "data": {
      "image/png": "[encoded data removed]",
      "text/plain": [
       "<Figure size 1080x432 with 1 Axes>"
      ]
     },
     "metadata": {
      "needs_background": "light"
     },
     "output_type": "display_data"
    }
   ],
   "source": [
    "plt.figure(figsize=(15,6))\n",
    "sb.barplot(data=emp,x='EducationField',y='HourlyRate',estimator=np.mean)"
   ]
  },
  {
   "cell_type": "code",
   "execution_count": 24,
   "id": "9bd74e8a",
   "metadata": {},
   "outputs": [],
   "source": [
    "#from this graph we can see average hourly rate of all the different education field"
   ]
  },
  {
   "cell_type": "code",
   "execution_count": 25,
   "id": "6585fc3b",
   "metadata": {},
   "outputs": [
    {
     "data": {
      "text/plain": [
       "<AxesSubplot:title={'center':'MonthlyIncome'}, xlabel='EducationField'>"
      ]
     },
     "execution_count": 25,
     "metadata": {},
     "output_type": "execute_result"
    },
    {
     "data": {
      "text/plain": [
       "<Figure size 1080x720 with 0 Axes>"
      ]
     },
     "metadata": {},
     "output_type": "display_data"
    },
    {
     "data": {
      "image/png": "[encoded data removed]",
      "text/plain": [
       "<Figure size 432x288 with 1 Axes>"
      ]
     },
     "metadata": {
      "needs_background": "light"
     },
     "output_type": "display_data"
    }
   ],
   "source": [
    "plt.figure(figsize=(15,10))\n",
    "emp.boxplot(by='EducationField',column=['MonthlyIncome'])"
   ]
  },
  {
   "cell_type": "markdown",
   "id": "11fae32f",
   "metadata": {},
   "source": [
    "## 3. Is there any relation between the Employee's Attrition and the Department?\n",
    "One could consider analyzing all the above columns for the employees who from the sales department. However it could be a waste of time, hence it is better to consult the domain expert to choose the appropriate columns for further analysis.\n",
    "Let's consider the following columns:\n",
    "\n",
    "1.Attrition\n",
    "2.Gender\n",
    "3.Hourly Rate"
   ]
  },
  {
   "cell_type": "code",
   "execution_count": 26,
   "id": "b6256b68",
   "metadata": {},
   "outputs": [
    {
     "data": {
      "text/html": [
       "<div>\n",
       "<style scoped>\n",
       "    .dataframe tbody tr th:only-of-type {\n",
       "        vertical-align: middle;\n",
       "    }\n",
       "\n",
       "    .dataframe tbody tr th {\n",
       "        vertical-align: top;\n",
       "    }\n",
       "\n",
       "    .dataframe thead th {\n",
       "        text-align: right;\n",
       "    }\n",
       "</style>\n",
       "<table border=\"1\" class=\"dataframe\">\n",
       "  <thead>\n",
       "    <tr style=\"text-align: right;\">\n",
       "      <th>Department</th>\n",
       "      <th>Human Resources</th>\n",
       "      <th>Research &amp; Development</th>\n",
       "      <th>Sales</th>\n",
       "    </tr>\n",
       "    <tr>\n",
       "      <th>Attrition</th>\n",
       "      <th></th>\n",
       "      <th></th>\n",
       "      <th></th>\n",
       "    </tr>\n",
       "  </thead>\n",
       "  <tbody>\n",
       "    <tr>\n",
       "      <th>No</th>\n",
       "      <td>51</td>\n",
       "      <td>824</td>\n",
       "      <td>354</td>\n",
       "    </tr>\n",
       "    <tr>\n",
       "      <th>Yes</th>\n",
       "      <td>12</td>\n",
       "      <td>133</td>\n",
       "      <td>92</td>\n",
       "    </tr>\n",
       "  </tbody>\n",
       "</table>\n",
       "</div>"
      ],
      "text/plain": [
       "Department  Human Resources  Research & Development  Sales\n",
       "Attrition                                                 \n",
       "No                       51                     824    354\n",
       "Yes                      12                     133     92"
      ]
     },
     "execution_count": 26,
     "metadata": {},
     "output_type": "execute_result"
    }
   ],
   "source": [
    "pd.crosstab(emp.Attrition,emp.Department)"
   ]
  },
  {
   "cell_type": "code",
   "execution_count": 27,
   "id": "79f97d6d",
   "metadata": {},
   "outputs": [
    {
     "data": {
      "text/plain": [
       "<AxesSubplot:xlabel='Attrition'>"
      ]
     },
     "execution_count": 27,
     "metadata": {},
     "output_type": "execute_result"
    },
    {
     "data": {
      "image/png": "[encoded data removed]",
      "text/plain": [
       "<Figure size 432x288 with 1 Axes>"
      ]
     },
     "metadata": {
      "needs_background": "light"
     },
     "output_type": "display_data"
    }
   ],
   "source": [
    "pd.crosstab(emp.Attrition,emp.Department).plot.bar()"
   ]
  },
  {
   "cell_type": "code",
   "execution_count": 28,
   "id": "d98d8b8b",
   "metadata": {},
   "outputs": [],
   "source": [
    "#Most employees who are attrited are from reserch and devlopment and most employee not attrited are also from research and development"
   ]
  },
  {
   "cell_type": "code",
   "execution_count": 29,
   "id": "726e4191",
   "metadata": {},
   "outputs": [
    {
     "data": {
      "text/plain": [
       "<AxesSubplot:xlabel='Gender', ylabel='count'>"
      ]
     },
     "execution_count": 29,
     "metadata": {},
     "output_type": "execute_result"
    },
    {
     "data": {
      "image/png": "[encoded data removed]",
      "text/plain": [
       "<Figure size 432x288 with 1 Axes>"
      ]
     },
     "metadata": {
      "needs_background": "light"
     },
     "output_type": "display_data"
    }
   ],
   "source": [
    "sb.countplot(x = 'Gender', hue=\"Attrition\",data=emp)"
   ]
  },
  {
   "cell_type": "code",
   "execution_count": 30,
   "id": "1b26f926",
   "metadata": {},
   "outputs": [
    {
     "data": {
      "text/html": [
       "<div>\n",
       "<style scoped>\n",
       "    .dataframe tbody tr th:only-of-type {\n",
       "        vertical-align: middle;\n",
       "    }\n",
       "\n",
       "    .dataframe tbody tr th {\n",
       "        vertical-align: top;\n",
       "    }\n",
       "\n",
       "    .dataframe thead th {\n",
       "        text-align: right;\n",
       "    }\n",
       "</style>\n",
       "<table border=\"1\" class=\"dataframe\">\n",
       "  <thead>\n",
       "    <tr style=\"text-align: right;\">\n",
       "      <th>Attrition</th>\n",
       "      <th>No</th>\n",
       "      <th>Yes</th>\n",
       "    </tr>\n",
       "    <tr>\n",
       "      <th>Gender</th>\n",
       "      <th></th>\n",
       "      <th></th>\n",
       "    </tr>\n",
       "  </thead>\n",
       "  <tbody>\n",
       "    <tr>\n",
       "      <th>Female</th>\n",
       "      <td>491</td>\n",
       "      <td>85</td>\n",
       "    </tr>\n",
       "    <tr>\n",
       "      <th>Male</th>\n",
       "      <td>704</td>\n",
       "      <td>145</td>\n",
       "    </tr>\n",
       "  </tbody>\n",
       "</table>\n",
       "</div>"
      ],
      "text/plain": [
       "Attrition   No  Yes\n",
       "Gender             \n",
       "Female     491   85\n",
       "Male       704  145"
      ]
     },
     "execution_count": 30,
     "metadata": {},
     "output_type": "execute_result"
    }
   ],
   "source": [
    "pd.crosstab(emp.Gender,emp.Attrition)"
   ]
  },
  {
   "cell_type": "code",
   "execution_count": 31,
   "id": "76160601",
   "metadata": {},
   "outputs": [
    {
     "data": {
      "text/html": [
       "<div>\n",
       "<style scoped>\n",
       "    .dataframe tbody tr th:only-of-type {\n",
       "        vertical-align: middle;\n",
       "    }\n",
       "\n",
       "    .dataframe tbody tr th {\n",
       "        vertical-align: top;\n",
       "    }\n",
       "\n",
       "    .dataframe thead th {\n",
       "        text-align: right;\n",
       "    }\n",
       "</style>\n",
       "<table border=\"1\" class=\"dataframe\">\n",
       "  <thead>\n",
       "    <tr style=\"text-align: right;\">\n",
       "      <th></th>\n",
       "      <th>Age</th>\n",
       "      <th>Attrition</th>\n",
       "      <th>BusinessTravel</th>\n",
       "      <th>Department</th>\n",
       "      <th>DistanceFromHome</th>\n",
       "      <th>EducationField</th>\n",
       "      <th>EmployeeNumber</th>\n",
       "      <th>EnvironmentSatisfaction</th>\n",
       "      <th>Gender</th>\n",
       "      <th>HourlyRate</th>\n",
       "      <th>...</th>\n",
       "      <th>OverTime</th>\n",
       "      <th>PerformanceRating</th>\n",
       "      <th>RelationshipSatisfaction</th>\n",
       "      <th>TotalWorkingYears</th>\n",
       "      <th>TrainingTimesLastYear</th>\n",
       "      <th>WorkLifeBalance</th>\n",
       "      <th>YearsAtCompany</th>\n",
       "      <th>YearsInCurrentRole</th>\n",
       "      <th>YearsSinceLastPromotion</th>\n",
       "      <th>YearsWithCurrManager</th>\n",
       "    </tr>\n",
       "  </thead>\n",
       "  <tbody>\n",
       "    <tr>\n",
       "      <th>0</th>\n",
       "      <td>41.0</td>\n",
       "      <td>Yes</td>\n",
       "      <td>Travel_Rarely</td>\n",
       "      <td>Sales</td>\n",
       "      <td>1</td>\n",
       "      <td>Life Sciences</td>\n",
       "      <td>1</td>\n",
       "      <td>2</td>\n",
       "      <td>Female</td>\n",
       "      <td>94</td>\n",
       "      <td>...</td>\n",
       "      <td>Yes</td>\n",
       "      <td>3</td>\n",
       "      <td>1</td>\n",
       "      <td>8</td>\n",
       "      <td>0</td>\n",
       "      <td>1</td>\n",
       "      <td>6</td>\n",
       "      <td>4</td>\n",
       "      <td>0</td>\n",
       "      <td>5</td>\n",
       "    </tr>\n",
       "    <tr>\n",
       "      <th>18</th>\n",
       "      <td>53.0</td>\n",
       "      <td>No</td>\n",
       "      <td>Travel_Rarely</td>\n",
       "      <td>Sales</td>\n",
       "      <td>2</td>\n",
       "      <td>Life Sciences</td>\n",
       "      <td>23</td>\n",
       "      <td>1</td>\n",
       "      <td>Female</td>\n",
       "      <td>78</td>\n",
       "      <td>...</td>\n",
       "      <td>No</td>\n",
       "      <td>3</td>\n",
       "      <td>3</td>\n",
       "      <td>31</td>\n",
       "      <td>3</td>\n",
       "      <td>3</td>\n",
       "      <td>25</td>\n",
       "      <td>8</td>\n",
       "      <td>3</td>\n",
       "      <td>7</td>\n",
       "    </tr>\n",
       "    <tr>\n",
       "      <th>21</th>\n",
       "      <td>36.0</td>\n",
       "      <td>Yes</td>\n",
       "      <td>Travel_Rarely</td>\n",
       "      <td>Sales</td>\n",
       "      <td>9</td>\n",
       "      <td>Life Sciences</td>\n",
       "      <td>27</td>\n",
       "      <td>3</td>\n",
       "      <td>Male</td>\n",
       "      <td>82</td>\n",
       "      <td>...</td>\n",
       "      <td>No</td>\n",
       "      <td>4</td>\n",
       "      <td>2</td>\n",
       "      <td>10</td>\n",
       "      <td>4</td>\n",
       "      <td>3</td>\n",
       "      <td>5</td>\n",
       "      <td>3</td>\n",
       "      <td>0</td>\n",
       "      <td>3</td>\n",
       "    </tr>\n",
       "    <tr>\n",
       "      <th>27</th>\n",
       "      <td>42.0</td>\n",
       "      <td>No</td>\n",
       "      <td>Travel_Rarely</td>\n",
       "      <td>Sales</td>\n",
       "      <td>8</td>\n",
       "      <td>Marketing</td>\n",
       "      <td>35</td>\n",
       "      <td>3</td>\n",
       "      <td>Male</td>\n",
       "      <td>48</td>\n",
       "      <td>...</td>\n",
       "      <td>No</td>\n",
       "      <td>3</td>\n",
       "      <td>4</td>\n",
       "      <td>10</td>\n",
       "      <td>2</td>\n",
       "      <td>3</td>\n",
       "      <td>9</td>\n",
       "      <td>7</td>\n",
       "      <td>4</td>\n",
       "      <td>2</td>\n",
       "    </tr>\n",
       "    <tr>\n",
       "      <th>29</th>\n",
       "      <td>46.0</td>\n",
       "      <td>No</td>\n",
       "      <td>Travel_Rarely</td>\n",
       "      <td>Sales</td>\n",
       "      <td>2</td>\n",
       "      <td>Marketing</td>\n",
       "      <td>38</td>\n",
       "      <td>2</td>\n",
       "      <td>Female</td>\n",
       "      <td>83</td>\n",
       "      <td>...</td>\n",
       "      <td>No</td>\n",
       "      <td>3</td>\n",
       "      <td>4</td>\n",
       "      <td>22</td>\n",
       "      <td>2</td>\n",
       "      <td>2</td>\n",
       "      <td>2</td>\n",
       "      <td>2</td>\n",
       "      <td>2</td>\n",
       "      <td>1</td>\n",
       "    </tr>\n",
       "    <tr>\n",
       "      <th>...</th>\n",
       "      <td>...</td>\n",
       "      <td>...</td>\n",
       "      <td>...</td>\n",
       "      <td>...</td>\n",
       "      <td>...</td>\n",
       "      <td>...</td>\n",
       "      <td>...</td>\n",
       "      <td>...</td>\n",
       "      <td>...</td>\n",
       "      <td>...</td>\n",
       "      <td>...</td>\n",
       "      <td>...</td>\n",
       "      <td>...</td>\n",
       "      <td>...</td>\n",
       "      <td>...</td>\n",
       "      <td>...</td>\n",
       "      <td>...</td>\n",
       "      <td>...</td>\n",
       "      <td>...</td>\n",
       "      <td>...</td>\n",
       "      <td>...</td>\n",
       "    </tr>\n",
       "    <tr>\n",
       "      <th>1454</th>\n",
       "      <td>45.0</td>\n",
       "      <td>No</td>\n",
       "      <td>Travel_Rarely</td>\n",
       "      <td>Sales</td>\n",
       "      <td>20</td>\n",
       "      <td>Life Sciences</td>\n",
       "      <td>2046</td>\n",
       "      <td>4</td>\n",
       "      <td>Female</td>\n",
       "      <td>50</td>\n",
       "      <td>...</td>\n",
       "      <td>No</td>\n",
       "      <td>3</td>\n",
       "      <td>3</td>\n",
       "      <td>8</td>\n",
       "      <td>3</td>\n",
       "      <td>3</td>\n",
       "      <td>5</td>\n",
       "      <td>3</td>\n",
       "      <td>0</td>\n",
       "      <td>1</td>\n",
       "    </tr>\n",
       "    <tr>\n",
       "      <th>1461</th>\n",
       "      <td>50.0</td>\n",
       "      <td>Yes</td>\n",
       "      <td>Travel_Rarely</td>\n",
       "      <td>Sales</td>\n",
       "      <td>28</td>\n",
       "      <td>Marketing</td>\n",
       "      <td>2055</td>\n",
       "      <td>4</td>\n",
       "      <td>Male</td>\n",
       "      <td>39</td>\n",
       "      <td>...</td>\n",
       "      <td>Yes</td>\n",
       "      <td>3</td>\n",
       "      <td>2</td>\n",
       "      <td>20</td>\n",
       "      <td>3</td>\n",
       "      <td>3</td>\n",
       "      <td>3</td>\n",
       "      <td>2</td>\n",
       "      <td>2</td>\n",
       "      <td>0</td>\n",
       "    </tr>\n",
       "    <tr>\n",
       "      <th>1462</th>\n",
       "      <td>39.0</td>\n",
       "      <td>No</td>\n",
       "      <td>Travel_Rarely</td>\n",
       "      <td>Sales</td>\n",
       "      <td>24</td>\n",
       "      <td>NaN</td>\n",
       "      <td>2056</td>\n",
       "      <td>2</td>\n",
       "      <td>Female</td>\n",
       "      <td>60</td>\n",
       "      <td>...</td>\n",
       "      <td>No</td>\n",
       "      <td>3</td>\n",
       "      <td>1</td>\n",
       "      <td>21</td>\n",
       "      <td>2</td>\n",
       "      <td>2</td>\n",
       "      <td>20</td>\n",
       "      <td>9</td>\n",
       "      <td>9</td>\n",
       "      <td>6</td>\n",
       "    </tr>\n",
       "    <tr>\n",
       "      <th>1464</th>\n",
       "      <td>26.0</td>\n",
       "      <td>No</td>\n",
       "      <td>Travel_Rarely</td>\n",
       "      <td>Sales</td>\n",
       "      <td>5</td>\n",
       "      <td>Other</td>\n",
       "      <td>2060</td>\n",
       "      <td>4</td>\n",
       "      <td>Female</td>\n",
       "      <td>30</td>\n",
       "      <td>...</td>\n",
       "      <td>No</td>\n",
       "      <td>3</td>\n",
       "      <td>4</td>\n",
       "      <td>5</td>\n",
       "      <td>2</td>\n",
       "      <td>3</td>\n",
       "      <td>4</td>\n",
       "      <td>2</td>\n",
       "      <td>0</td>\n",
       "      <td>0</td>\n",
       "    </tr>\n",
       "    <tr>\n",
       "      <th>1468</th>\n",
       "      <td>49.0</td>\n",
       "      <td>No</td>\n",
       "      <td>Travel_Frequently</td>\n",
       "      <td>Sales</td>\n",
       "      <td>2</td>\n",
       "      <td>Medical</td>\n",
       "      <td>2065</td>\n",
       "      <td>4</td>\n",
       "      <td>Male</td>\n",
       "      <td>63</td>\n",
       "      <td>...</td>\n",
       "      <td>No</td>\n",
       "      <td>3</td>\n",
       "      <td>4</td>\n",
       "      <td>17</td>\n",
       "      <td>3</td>\n",
       "      <td>2</td>\n",
       "      <td>9</td>\n",
       "      <td>6</td>\n",
       "      <td>0</td>\n",
       "      <td>8</td>\n",
       "    </tr>\n",
       "  </tbody>\n",
       "</table>\n",
       "<p>446 rows × 27 columns</p>\n",
       "</div>"
      ],
      "text/plain": [
       "       Age Attrition     BusinessTravel Department  DistanceFromHome  \\\n",
       "0     41.0       Yes      Travel_Rarely      Sales                 1   \n",
       "18    53.0        No      Travel_Rarely      Sales                 2   \n",
       "21    36.0       Yes      Travel_Rarely      Sales                 9   \n",
       "27    42.0        No      Travel_Rarely      Sales                 8   \n",
       "29    46.0        No      Travel_Rarely      Sales                 2   \n",
       "...    ...       ...                ...        ...               ...   \n",
       "1454  45.0        No      Travel_Rarely      Sales                20   \n",
       "1461  50.0       Yes      Travel_Rarely      Sales                28   \n",
       "1462  39.0        No      Travel_Rarely      Sales                24   \n",
       "1464  26.0        No      Travel_Rarely      Sales                 5   \n",
       "1468  49.0        No  Travel_Frequently      Sales                 2   \n",
       "\n",
       "     EducationField  EmployeeNumber  EnvironmentSatisfaction  Gender  \\\n",
       "0     Life Sciences               1                        2  Female   \n",
       "18    Life Sciences              23                        1  Female   \n",
       "21    Life Sciences              27                        3    Male   \n",
       "27        Marketing              35                        3    Male   \n",
       "29        Marketing              38                        2  Female   \n",
       "...             ...             ...                      ...     ...   \n",
       "1454  Life Sciences            2046                        4  Female   \n",
       "1461      Marketing            2055                        4    Male   \n",
       "1462            NaN            2056                        2  Female   \n",
       "1464          Other            2060                        4  Female   \n",
       "1468        Medical            2065                        4    Male   \n",
       "\n",
       "      HourlyRate  ...  OverTime PerformanceRating  RelationshipSatisfaction  \\\n",
       "0             94  ...       Yes                 3                         1   \n",
       "18            78  ...        No                 3                         3   \n",
       "21            82  ...        No                 4                         2   \n",
       "27            48  ...        No                 3                         4   \n",
       "29            83  ...        No                 3                         4   \n",
       "...          ...  ...       ...               ...                       ...   \n",
       "1454          50  ...        No                 3                         3   \n",
       "1461          39  ...       Yes                 3                         2   \n",
       "1462          60  ...        No                 3                         1   \n",
       "1464          30  ...        No                 3                         4   \n",
       "1468          63  ...        No                 3                         4   \n",
       "\n",
       "     TotalWorkingYears  TrainingTimesLastYear  WorkLifeBalance YearsAtCompany  \\\n",
       "0                    8                      0                1              6   \n",
       "18                  31                      3                3             25   \n",
       "21                  10                      4                3              5   \n",
       "27                  10                      2                3              9   \n",
       "29                  22                      2                2              2   \n",
       "...                ...                    ...              ...            ...   \n",
       "1454                 8                      3                3              5   \n",
       "1461                20                      3                3              3   \n",
       "1462                21                      2                2             20   \n",
       "1464                 5                      2                3              4   \n",
       "1468                17                      3                2              9   \n",
       "\n",
       "     YearsInCurrentRole  YearsSinceLastPromotion  YearsWithCurrManager  \n",
       "0                     4                        0                     5  \n",
       "18                    8                        3                     7  \n",
       "21                    3                        0                     3  \n",
       "27                    7                        4                     2  \n",
       "29                    2                        2                     1  \n",
       "...                 ...                      ...                   ...  \n",
       "1454                  3                        0                     1  \n",
       "1461                  2                        2                     0  \n",
       "1462                  9                        9                     6  \n",
       "1464                  2                        0                     0  \n",
       "1468                  6                        0                     8  \n",
       "\n",
       "[446 rows x 27 columns]"
      ]
     },
     "execution_count": 31,
     "metadata": {},
     "output_type": "execute_result"
    }
   ],
   "source": [
    "emp1=emp[(emp.Department=='Sales')]\n",
    "emp1"
   ]
  },
  {
   "cell_type": "code",
   "execution_count": 32,
   "id": "d0c84bdd",
   "metadata": {},
   "outputs": [
    {
     "data": {
      "text/html": [
       "<div>\n",
       "<style scoped>\n",
       "    .dataframe tbody tr th:only-of-type {\n",
       "        vertical-align: middle;\n",
       "    }\n",
       "\n",
       "    .dataframe tbody tr th {\n",
       "        vertical-align: top;\n",
       "    }\n",
       "\n",
       "    .dataframe thead th {\n",
       "        text-align: right;\n",
       "    }\n",
       "</style>\n",
       "<table border=\"1\" class=\"dataframe\">\n",
       "  <thead>\n",
       "    <tr style=\"text-align: right;\">\n",
       "      <th>Attrition</th>\n",
       "      <th>No</th>\n",
       "      <th>Yes</th>\n",
       "    </tr>\n",
       "    <tr>\n",
       "      <th>Gender</th>\n",
       "      <th></th>\n",
       "      <th></th>\n",
       "    </tr>\n",
       "  </thead>\n",
       "  <tbody>\n",
       "    <tr>\n",
       "      <th>Female</th>\n",
       "      <td>147</td>\n",
       "      <td>38</td>\n",
       "    </tr>\n",
       "    <tr>\n",
       "      <th>Male</th>\n",
       "      <td>197</td>\n",
       "      <td>53</td>\n",
       "    </tr>\n",
       "  </tbody>\n",
       "</table>\n",
       "</div>"
      ],
      "text/plain": [
       "Attrition   No  Yes\n",
       "Gender             \n",
       "Female     147   38\n",
       "Male       197   53"
      ]
     },
     "execution_count": 32,
     "metadata": {},
     "output_type": "execute_result"
    }
   ],
   "source": [
    "pd.crosstab(emp1.Gender,emp1.Attrition)"
   ]
  },
  {
   "cell_type": "code",
   "execution_count": 33,
   "id": "a0f81573",
   "metadata": {},
   "outputs": [
    {
     "data": {
      "text/plain": [
       "<AxesSubplot:xlabel='Gender'>"
      ]
     },
     "execution_count": 33,
     "metadata": {},
     "output_type": "execute_result"
    },
    {
     "data": {
      "image/png": "[encoded data removed]",
      "text/plain": [
       "<Figure size 432x288 with 1 Axes>"
      ]
     },
     "metadata": {
      "needs_background": "light"
     },
     "output_type": "display_data"
    }
   ],
   "source": [
    "pd.crosstab(emp1.Gender,emp1.Attrition).plot.bar()"
   ]
  },
  {
   "cell_type": "code",
   "execution_count": 34,
   "id": "701e7fd0",
   "metadata": {},
   "outputs": [
    {
     "name": "stdout",
     "output_type": "stream",
     "text": [
      "Persentage of female attrition : 20.54054054054054\n",
      "Persentage of male attrition : 21.2\n"
     ]
    }
   ],
   "source": [
    "print('Persentage of female attrition :',(38/185)*100)\n",
    "print('Persentage of male attrition :',(53/250)*100)"
   ]
  },
  {
   "cell_type": "code",
   "execution_count": 35,
   "id": "99ead79e",
   "metadata": {},
   "outputs": [],
   "source": [
    "# we can say that males have bit of batte chance to get attrited in sales department compared  to males "
   ]
  },
  {
   "cell_type": "code",
   "execution_count": 36,
   "id": "bb7d0568",
   "metadata": {},
   "outputs": [
    {
     "data": {
      "text/plain": [
       "<AxesSubplot:ylabel='Attrition'>"
      ]
     },
     "execution_count": 36,
     "metadata": {},
     "output_type": "execute_result"
    },
    {
     "data": {
      "image/png": "[encoded data removed]",
      "text/plain": [
       "<Figure size 432x288 with 1 Axes>"
      ]
     },
     "metadata": {},
     "output_type": "display_data"
    }
   ],
   "source": [
    "emp1['Attrition'].value_counts().plot(kind='pie',autopct='%.3f%%')"
   ]
  },
  {
   "cell_type": "code",
   "execution_count": 37,
   "id": "4ac003ed",
   "metadata": {},
   "outputs": [],
   "source": [
    "#20.6 % of employee is sales department have been attrited and 79% of employee  in sales havent been attrited "
   ]
  },
  {
   "cell_type": "markdown",
   "id": "3bf754ec",
   "metadata": {},
   "source": [
    "## 4. Analysis of Environment Satisfaction with the Attrition\n",
    "\n",
    "\n",
    "One could consider analyzing all the above columns for the employees who have lower environment satisfaction. However it could be a waste of time, hence it is better to consult the domain expert to choose the appropriate columns for further analysis.\n",
    "Let's consider the following columns:\n",
    "\n",
    "JobRole\n",
    "Department\n",
    "HourlyRate"
   ]
  },
  {
   "cell_type": "code",
   "execution_count": 38,
   "id": "87382e85",
   "metadata": {},
   "outputs": [
    {
     "data": {
      "text/plain": [
       "<AxesSubplot:xlabel='EnvironmentSatisfaction', ylabel='count'>"
      ]
     },
     "execution_count": 38,
     "metadata": {},
     "output_type": "execute_result"
    },
    {
     "data": {
      "image/png": "[encoded data removed]",
      "text/plain": [
       "<Figure size 432x288 with 1 Axes>"
      ]
     },
     "metadata": {
      "needs_background": "light"
     },
     "output_type": "display_data"
    }
   ],
   "source": [
    "sb.countplot(x='EnvironmentSatisfaction',hue='Attrition',data=emp)"
   ]
  },
  {
   "cell_type": "code",
   "execution_count": 39,
   "id": "b7be1130",
   "metadata": {},
   "outputs": [
    {
     "data": {
      "text/html": [
       "<div>\n",
       "<style scoped>\n",
       "    .dataframe tbody tr th:only-of-type {\n",
       "        vertical-align: middle;\n",
       "    }\n",
       "\n",
       "    .dataframe tbody tr th {\n",
       "        vertical-align: top;\n",
       "    }\n",
       "\n",
       "    .dataframe thead th {\n",
       "        text-align: right;\n",
       "    }\n",
       "</style>\n",
       "<table border=\"1\" class=\"dataframe\">\n",
       "  <thead>\n",
       "    <tr style=\"text-align: right;\">\n",
       "      <th></th>\n",
       "      <th>Age</th>\n",
       "      <th>Attrition</th>\n",
       "      <th>BusinessTravel</th>\n",
       "      <th>Department</th>\n",
       "      <th>DistanceFromHome</th>\n",
       "      <th>EducationField</th>\n",
       "      <th>EmployeeNumber</th>\n",
       "      <th>EnvironmentSatisfaction</th>\n",
       "      <th>Gender</th>\n",
       "      <th>HourlyRate</th>\n",
       "      <th>...</th>\n",
       "      <th>OverTime</th>\n",
       "      <th>PerformanceRating</th>\n",
       "      <th>RelationshipSatisfaction</th>\n",
       "      <th>TotalWorkingYears</th>\n",
       "      <th>TrainingTimesLastYear</th>\n",
       "      <th>WorkLifeBalance</th>\n",
       "      <th>YearsAtCompany</th>\n",
       "      <th>YearsInCurrentRole</th>\n",
       "      <th>YearsSinceLastPromotion</th>\n",
       "      <th>YearsWithCurrManager</th>\n",
       "    </tr>\n",
       "  </thead>\n",
       "  <tbody>\n",
       "    <tr>\n",
       "      <th>0</th>\n",
       "      <td>41.0</td>\n",
       "      <td>Yes</td>\n",
       "      <td>Travel_Rarely</td>\n",
       "      <td>Sales</td>\n",
       "      <td>1</td>\n",
       "      <td>Life Sciences</td>\n",
       "      <td>1</td>\n",
       "      <td>2</td>\n",
       "      <td>Female</td>\n",
       "      <td>94</td>\n",
       "      <td>...</td>\n",
       "      <td>Yes</td>\n",
       "      <td>3</td>\n",
       "      <td>1</td>\n",
       "      <td>8</td>\n",
       "      <td>0</td>\n",
       "      <td>1</td>\n",
       "      <td>6</td>\n",
       "      <td>4</td>\n",
       "      <td>0</td>\n",
       "      <td>5</td>\n",
       "    </tr>\n",
       "    <tr>\n",
       "      <th>4</th>\n",
       "      <td>27.0</td>\n",
       "      <td>No</td>\n",
       "      <td>Travel_Rarely</td>\n",
       "      <td>Research &amp; Development</td>\n",
       "      <td>2</td>\n",
       "      <td>Medical</td>\n",
       "      <td>7</td>\n",
       "      <td>1</td>\n",
       "      <td>Male</td>\n",
       "      <td>40</td>\n",
       "      <td>...</td>\n",
       "      <td>No</td>\n",
       "      <td>3</td>\n",
       "      <td>4</td>\n",
       "      <td>6</td>\n",
       "      <td>3</td>\n",
       "      <td>3</td>\n",
       "      <td>2</td>\n",
       "      <td>2</td>\n",
       "      <td>2</td>\n",
       "      <td>2</td>\n",
       "    </tr>\n",
       "    <tr>\n",
       "      <th>10</th>\n",
       "      <td>35.0</td>\n",
       "      <td>No</td>\n",
       "      <td>Travel_Rarely</td>\n",
       "      <td>Research &amp; Development</td>\n",
       "      <td>16</td>\n",
       "      <td>Medical</td>\n",
       "      <td>14</td>\n",
       "      <td>1</td>\n",
       "      <td>Male</td>\n",
       "      <td>84</td>\n",
       "      <td>...</td>\n",
       "      <td>No</td>\n",
       "      <td>3</td>\n",
       "      <td>3</td>\n",
       "      <td>6</td>\n",
       "      <td>5</td>\n",
       "      <td>3</td>\n",
       "      <td>5</td>\n",
       "      <td>4</td>\n",
       "      <td>0</td>\n",
       "      <td>3</td>\n",
       "    </tr>\n",
       "    <tr>\n",
       "      <th>12</th>\n",
       "      <td>31.0</td>\n",
       "      <td>No</td>\n",
       "      <td>Travel_Rarely</td>\n",
       "      <td>Research &amp; Development</td>\n",
       "      <td>26</td>\n",
       "      <td>Life Sciences</td>\n",
       "      <td>16</td>\n",
       "      <td>1</td>\n",
       "      <td>Male</td>\n",
       "      <td>31</td>\n",
       "      <td>...</td>\n",
       "      <td>No</td>\n",
       "      <td>3</td>\n",
       "      <td>4</td>\n",
       "      <td>5</td>\n",
       "      <td>1</td>\n",
       "      <td>2</td>\n",
       "      <td>5</td>\n",
       "      <td>2</td>\n",
       "      <td>4</td>\n",
       "      <td>3</td>\n",
       "    </tr>\n",
       "    <tr>\n",
       "      <th>13</th>\n",
       "      <td>34.0</td>\n",
       "      <td>No</td>\n",
       "      <td>Travel_Rarely</td>\n",
       "      <td>Research &amp; Development</td>\n",
       "      <td>19</td>\n",
       "      <td>Medical</td>\n",
       "      <td>18</td>\n",
       "      <td>2</td>\n",
       "      <td>Male</td>\n",
       "      <td>93</td>\n",
       "      <td>...</td>\n",
       "      <td>No</td>\n",
       "      <td>3</td>\n",
       "      <td>3</td>\n",
       "      <td>3</td>\n",
       "      <td>2</td>\n",
       "      <td>3</td>\n",
       "      <td>2</td>\n",
       "      <td>2</td>\n",
       "      <td>1</td>\n",
       "      <td>2</td>\n",
       "    </tr>\n",
       "    <tr>\n",
       "      <th>...</th>\n",
       "      <td>...</td>\n",
       "      <td>...</td>\n",
       "      <td>...</td>\n",
       "      <td>...</td>\n",
       "      <td>...</td>\n",
       "      <td>...</td>\n",
       "      <td>...</td>\n",
       "      <td>...</td>\n",
       "      <td>...</td>\n",
       "      <td>...</td>\n",
       "      <td>...</td>\n",
       "      <td>...</td>\n",
       "      <td>...</td>\n",
       "      <td>...</td>\n",
       "      <td>...</td>\n",
       "      <td>...</td>\n",
       "      <td>...</td>\n",
       "      <td>...</td>\n",
       "      <td>...</td>\n",
       "      <td>...</td>\n",
       "      <td>...</td>\n",
       "    </tr>\n",
       "    <tr>\n",
       "      <th>1453</th>\n",
       "      <td>36.0</td>\n",
       "      <td>No</td>\n",
       "      <td>Travel_Rarely</td>\n",
       "      <td>Sales</td>\n",
       "      <td>11</td>\n",
       "      <td>Marketing</td>\n",
       "      <td>2045</td>\n",
       "      <td>2</td>\n",
       "      <td>Female</td>\n",
       "      <td>100</td>\n",
       "      <td>...</td>\n",
       "      <td>No</td>\n",
       "      <td>3</td>\n",
       "      <td>1</td>\n",
       "      <td>8</td>\n",
       "      <td>2</td>\n",
       "      <td>2</td>\n",
       "      <td>6</td>\n",
       "      <td>3</td>\n",
       "      <td>0</td>\n",
       "      <td>0</td>\n",
       "    </tr>\n",
       "    <tr>\n",
       "      <th>1462</th>\n",
       "      <td>39.0</td>\n",
       "      <td>No</td>\n",
       "      <td>Travel_Rarely</td>\n",
       "      <td>Sales</td>\n",
       "      <td>24</td>\n",
       "      <td>NaN</td>\n",
       "      <td>2056</td>\n",
       "      <td>2</td>\n",
       "      <td>Female</td>\n",
       "      <td>60</td>\n",
       "      <td>...</td>\n",
       "      <td>No</td>\n",
       "      <td>3</td>\n",
       "      <td>1</td>\n",
       "      <td>21</td>\n",
       "      <td>2</td>\n",
       "      <td>2</td>\n",
       "      <td>20</td>\n",
       "      <td>9</td>\n",
       "      <td>9</td>\n",
       "      <td>6</td>\n",
       "    </tr>\n",
       "    <tr>\n",
       "      <th>1463</th>\n",
       "      <td>31.0</td>\n",
       "      <td>No</td>\n",
       "      <td>Non-Travel</td>\n",
       "      <td>Research &amp; Development</td>\n",
       "      <td>5</td>\n",
       "      <td>Medical</td>\n",
       "      <td>2057</td>\n",
       "      <td>2</td>\n",
       "      <td>Male</td>\n",
       "      <td>74</td>\n",
       "      <td>...</td>\n",
       "      <td>No</td>\n",
       "      <td>3</td>\n",
       "      <td>2</td>\n",
       "      <td>10</td>\n",
       "      <td>2</td>\n",
       "      <td>3</td>\n",
       "      <td>9</td>\n",
       "      <td>4</td>\n",
       "      <td>1</td>\n",
       "      <td>7</td>\n",
       "    </tr>\n",
       "    <tr>\n",
       "      <th>1467</th>\n",
       "      <td>27.0</td>\n",
       "      <td>No</td>\n",
       "      <td>Travel_Rarely</td>\n",
       "      <td>Research &amp; Development</td>\n",
       "      <td>4</td>\n",
       "      <td>Life Sciences</td>\n",
       "      <td>2064</td>\n",
       "      <td>2</td>\n",
       "      <td>Male</td>\n",
       "      <td>87</td>\n",
       "      <td>...</td>\n",
       "      <td>Yes</td>\n",
       "      <td>4</td>\n",
       "      <td>2</td>\n",
       "      <td>6</td>\n",
       "      <td>0</td>\n",
       "      <td>3</td>\n",
       "      <td>6</td>\n",
       "      <td>2</td>\n",
       "      <td>0</td>\n",
       "      <td>3</td>\n",
       "    </tr>\n",
       "    <tr>\n",
       "      <th>1469</th>\n",
       "      <td>34.0</td>\n",
       "      <td>No</td>\n",
       "      <td>Travel_Rarely</td>\n",
       "      <td>Research &amp; Development</td>\n",
       "      <td>8</td>\n",
       "      <td>Medical</td>\n",
       "      <td>2068</td>\n",
       "      <td>2</td>\n",
       "      <td>Male</td>\n",
       "      <td>82</td>\n",
       "      <td>...</td>\n",
       "      <td>No</td>\n",
       "      <td>3</td>\n",
       "      <td>1</td>\n",
       "      <td>6</td>\n",
       "      <td>3</td>\n",
       "      <td>4</td>\n",
       "      <td>4</td>\n",
       "      <td>3</td>\n",
       "      <td>1</td>\n",
       "      <td>2</td>\n",
       "    </tr>\n",
       "  </tbody>\n",
       "</table>\n",
       "<p>571 rows × 27 columns</p>\n",
       "</div>"
      ],
      "text/plain": [
       "       Age Attrition BusinessTravel              Department  DistanceFromHome  \\\n",
       "0     41.0       Yes  Travel_Rarely                   Sales                 1   \n",
       "4     27.0        No  Travel_Rarely  Research & Development                 2   \n",
       "10    35.0        No  Travel_Rarely  Research & Development                16   \n",
       "12    31.0        No  Travel_Rarely  Research & Development                26   \n",
       "13    34.0        No  Travel_Rarely  Research & Development                19   \n",
       "...    ...       ...            ...                     ...               ...   \n",
       "1453  36.0        No  Travel_Rarely                   Sales                11   \n",
       "1462  39.0        No  Travel_Rarely                   Sales                24   \n",
       "1463  31.0        No     Non-Travel  Research & Development                 5   \n",
       "1467  27.0        No  Travel_Rarely  Research & Development                 4   \n",
       "1469  34.0        No  Travel_Rarely  Research & Development                 8   \n",
       "\n",
       "     EducationField  EmployeeNumber  EnvironmentSatisfaction  Gender  \\\n",
       "0     Life Sciences               1                        2  Female   \n",
       "4           Medical               7                        1    Male   \n",
       "10          Medical              14                        1    Male   \n",
       "12    Life Sciences              16                        1    Male   \n",
       "13          Medical              18                        2    Male   \n",
       "...             ...             ...                      ...     ...   \n",
       "1453      Marketing            2045                        2  Female   \n",
       "1462            NaN            2056                        2  Female   \n",
       "1463        Medical            2057                        2    Male   \n",
       "1467  Life Sciences            2064                        2    Male   \n",
       "1469        Medical            2068                        2    Male   \n",
       "\n",
       "      HourlyRate  ...  OverTime PerformanceRating  RelationshipSatisfaction  \\\n",
       "0             94  ...       Yes                 3                         1   \n",
       "4             40  ...        No                 3                         4   \n",
       "10            84  ...        No                 3                         3   \n",
       "12            31  ...        No                 3                         4   \n",
       "13            93  ...        No                 3                         3   \n",
       "...          ...  ...       ...               ...                       ...   \n",
       "1453         100  ...        No                 3                         1   \n",
       "1462          60  ...        No                 3                         1   \n",
       "1463          74  ...        No                 3                         2   \n",
       "1467          87  ...       Yes                 4                         2   \n",
       "1469          82  ...        No                 3                         1   \n",
       "\n",
       "     TotalWorkingYears  TrainingTimesLastYear  WorkLifeBalance YearsAtCompany  \\\n",
       "0                    8                      0                1              6   \n",
       "4                    6                      3                3              2   \n",
       "10                   6                      5                3              5   \n",
       "12                   5                      1                2              5   \n",
       "13                   3                      2                3              2   \n",
       "...                ...                    ...              ...            ...   \n",
       "1453                 8                      2                2              6   \n",
       "1462                21                      2                2             20   \n",
       "1463                10                      2                3              9   \n",
       "1467                 6                      0                3              6   \n",
       "1469                 6                      3                4              4   \n",
       "\n",
       "     YearsInCurrentRole  YearsSinceLastPromotion  YearsWithCurrManager  \n",
       "0                     4                        0                     5  \n",
       "4                     2                        2                     2  \n",
       "10                    4                        0                     3  \n",
       "12                    2                        4                     3  \n",
       "13                    2                        1                     2  \n",
       "...                 ...                      ...                   ...  \n",
       "1453                  3                        0                     0  \n",
       "1462                  9                        9                     6  \n",
       "1463                  4                        1                     7  \n",
       "1467                  2                        0                     3  \n",
       "1469                  3                        1                     2  \n",
       "\n",
       "[571 rows x 27 columns]"
      ]
     },
     "execution_count": 39,
     "metadata": {},
     "output_type": "execute_result"
    }
   ],
   "source": [
    "emp1=emp[(emp.EnvironmentSatisfaction==1)|(emp.EnvironmentSatisfaction==2)]\n",
    "emp1"
   ]
  },
  {
   "cell_type": "code",
   "execution_count": 40,
   "id": "c3d8b391",
   "metadata": {},
   "outputs": [
    {
     "data": {
      "text/plain": [
       "<AxesSubplot:>"
      ]
     },
     "execution_count": 40,
     "metadata": {},
     "output_type": "execute_result"
    },
    {
     "data": {
      "image/png": "[encoded data removed]",
      "text/plain": [
       "<Figure size 432x288 with 1 Axes>"
      ]
     },
     "metadata": {
      "needs_background": "light"
     },
     "output_type": "display_data"
    }
   ],
   "source": [
    "emp1['Department'].value_counts().plot.bar()"
   ]
  },
  {
   "cell_type": "code",
   "execution_count": 41,
   "id": "8cb4c610",
   "metadata": {},
   "outputs": [],
   "source": [
    "#empioyeez who have low envirment satisfaction most of them are in reaserch and development department"
   ]
  },
  {
   "cell_type": "code",
   "execution_count": 42,
   "id": "fecbd2ad",
   "metadata": {},
   "outputs": [
    {
     "data": {
      "text/plain": [
       "<AxesSubplot:>"
      ]
     },
     "execution_count": 42,
     "metadata": {},
     "output_type": "execute_result"
    },
    {
     "data": {
      "image/png": "[encoded data removed]",
      "text/plain": [
       "<Figure size 432x288 with 1 Axes>"
      ]
     },
     "metadata": {
      "needs_background": "light"
     },
     "output_type": "display_data"
    }
   ],
   "source": [
    "emp1['JobRole'].value_counts().plot.bar()"
   ]
  },
  {
   "cell_type": "code",
   "execution_count": 43,
   "id": "c65b7765",
   "metadata": {},
   "outputs": [],
   "source": [
    "# employee who have low envirment satisfaction most of these are in role of sales executive "
   ]
  },
  {
   "cell_type": "code",
   "execution_count": 47,
   "id": "b2d64e0a",
   "metadata": {},
   "outputs": [
    {
     "data": {
      "text/plain": [
       "<AxesSubplot:xlabel='HourlyRate', ylabel='Count'>"
      ]
     },
     "execution_count": 47,
     "metadata": {},
     "output_type": "execute_result"
    },
    {
     "data": {
      "image/png": "[encoded data removed]",
      "text/plain": [
       "<Figure size 432x288 with 1 Axes>"
      ]
     },
     "metadata": {
      "needs_background": "light"
     },
     "output_type": "display_data"
    }
   ],
   "source": [
    "sb.histplot(emp1['HourlyRate'],bins=4,color='Red')"
   ]
  },
  {
   "cell_type": "code",
   "execution_count": 48,
   "id": "cc4ad086",
   "metadata": {},
   "outputs": [
    {
     "data": {
      "text/plain": [
       "<AxesSubplot:xlabel='EnvironmentSatisfaction', ylabel='HourlyRate'>"
      ]
     },
     "execution_count": 48,
     "metadata": {},
     "output_type": "execute_result"
    },
    {
     "data": {
      "image/png": "[encoded data removed]",
      "text/plain": [
       "<Figure size 1080x432 with 1 Axes>"
      ]
     },
     "metadata": {
      "needs_background": "light"
     },
     "output_type": "display_data"
    }
   ],
   "source": [
    "plt.figure(figsize=(15,6))\n",
    "sb.barplot(data=emp,x='EnvironmentSatisfaction',y='HourlyRate',estimator=np.mean)"
   ]
  },
  {
   "cell_type": "code",
   "execution_count": 49,
   "id": "b675e513",
   "metadata": {},
   "outputs": [
    {
     "data": {
      "text/plain": [
       "EnvironmentSatisfaction\n",
       "1    66.838028\n",
       "2    66.940767\n",
       "3    66.373068\n",
       "4    64.123318\n",
       "Name: HourlyRate, dtype: float64"
      ]
     },
     "execution_count": 49,
     "metadata": {},
     "output_type": "execute_result"
    }
   ],
   "source": [
    "emp.groupby(['EnvironmentSatisfaction'])['HourlyRate'].mean()"
   ]
  },
  {
   "cell_type": "code",
   "execution_count": 50,
   "id": "1dcd2665",
   "metadata": {},
   "outputs": [],
   "source": [
    "#avg hourly rate is similor for every either low eniverment satisfaction or high eniverment satifaction "
   ]
  },
  {
   "cell_type": "code",
   "execution_count": 51,
   "id": "f7a8b2d9",
   "metadata": {},
   "outputs": [],
   "source": [
    "# Most employees with low envirment satisfaction have hourly rate less than 80"
   ]
  },
  {
   "cell_type": "markdown",
   "id": "95a5049d",
   "metadata": {},
   "source": [
    "## 5. Gender analysis on Attrition of the employees who left the firm and those who are still with it"
   ]
  },
  {
   "cell_type": "code",
   "execution_count": 52,
   "id": "b1ac763f",
   "metadata": {},
   "outputs": [
    {
     "data": {
      "text/plain": [
       "<AxesSubplot:xlabel='Gender', ylabel='count'>"
      ]
     },
     "execution_count": 52,
     "metadata": {},
     "output_type": "execute_result"
    },
    {
     "data": {
      "image/png": "[encoded data removed]",
      "text/plain": [
       "<Figure size 432x288 with 1 Axes>"
      ]
     },
     "metadata": {
      "needs_background": "light"
     },
     "output_type": "display_data"
    }
   ],
   "source": [
    "sb.countplot(x='Gender',hue='Attrition',data=emp)"
   ]
  },
  {
   "cell_type": "code",
   "execution_count": 53,
   "id": "12d81297",
   "metadata": {},
   "outputs": [
    {
     "data": {
      "text/plain": [
       "Attrition  Gender\n",
       "No         Male      704\n",
       "           Female    491\n",
       "Yes        Male      145\n",
       "           Female     85\n",
       "Name: Gender, dtype: int64"
      ]
     },
     "execution_count": 53,
     "metadata": {},
     "output_type": "execute_result"
    }
   ],
   "source": [
    "emp.groupby(['Attrition'])['Gender'].value_counts()"
   ]
  },
  {
   "cell_type": "code",
   "execution_count": 54,
   "id": "6acfabe3",
   "metadata": {},
   "outputs": [
    {
     "data": {
      "text/plain": [
       "<AxesSubplot:ylabel='Gender'>"
      ]
     },
     "execution_count": 54,
     "metadata": {},
     "output_type": "execute_result"
    },
    {
     "data": {
      "image/png": "[encoded data removed]",
      "text/plain": [
       "<Figure size 432x288 with 1 Axes>"
      ]
     },
     "metadata": {},
     "output_type": "display_data"
    }
   ],
   "source": [
    "emp.groupby(['Attrition'])['Gender'].value_counts().plot(kind='pie',autopct='%.2f%%')"
   ]
  },
  {
   "cell_type": "code",
   "execution_count": 55,
   "id": "92642dee",
   "metadata": {},
   "outputs": [],
   "source": [
    "#49% of total employee are male and not s , 35% of female are not attrited and are females\n",
    "#10.18% of total employee are male and attrited for attrition males have higher chances than female"
   ]
  },
  {
   "cell_type": "code",
   "execution_count": 56,
   "id": "795d6887",
   "metadata": {},
   "outputs": [
    {
     "data": {
      "text/plain": [
       "<AxesSubplot:xlabel='Age', ylabel='Count'>"
      ]
     },
     "execution_count": 56,
     "metadata": {},
     "output_type": "execute_result"
    },
    {
     "data": {
      "image/png": "[encoded data removed]",
      "text/plain": [
       "<Figure size 432x288 with 1 Axes>"
      ]
     },
     "metadata": {
      "needs_background": "light"
     },
     "output_type": "display_data"
    }
   ],
   "source": [
    "emp1=emp[(emp.Gender=='Male') & (emp.Attrition=='Yes')]\n",
    "sb.histplot(emp1['Age'],color='Green')"
   ]
  },
  {
   "cell_type": "code",
   "execution_count": 57,
   "id": "9b5468bc",
   "metadata": {},
   "outputs": [],
   "source": [
    "# most male employee who are attired have age between 25-35"
   ]
  },
  {
   "cell_type": "code",
   "execution_count": 58,
   "id": "cf920f52",
   "metadata": {},
   "outputs": [
    {
     "data": {
      "text/plain": [
       "<AxesSubplot:xlabel='Department', ylabel='count'>"
      ]
     },
     "execution_count": 58,
     "metadata": {},
     "output_type": "execute_result"
    },
    {
     "data": {
      "image/png": "[encoded data removed]",
      "text/plain": [
       "<Figure size 432x288 with 1 Axes>"
      ]
     },
     "metadata": {
      "needs_background": "light"
     },
     "output_type": "display_data"
    }
   ],
   "source": [
    "sb.countplot(x=\"Department\",hue='Attrition',data=emp1)"
   ]
  },
  {
   "cell_type": "code",
   "execution_count": 59,
   "id": "dd4b1cc4",
   "metadata": {},
   "outputs": [],
   "source": [
    "# Most of employee who have attired are in research and sales department , least of them are in the human resourse department"
   ]
  },
  {
   "cell_type": "code",
   "execution_count": 60,
   "id": "79826773",
   "metadata": {},
   "outputs": [],
   "source": [
    "emp1=emp[(emp.Gender=='Male')]"
   ]
  },
  {
   "cell_type": "code",
   "execution_count": 62,
   "id": "0cc7f656",
   "metadata": {},
   "outputs": [
    {
     "data": {
      "text/plain": [
       "<AxesSubplot:xlabel='Attrition', ylabel='HourlyRate'>"
      ]
     },
     "execution_count": 62,
     "metadata": {},
     "output_type": "execute_result"
    },
    {
     "data": {
      "image/png": "[encoded data removed]",
      "text/plain": [
       "<Figure size 432x288 with 1 Axes>"
      ]
     },
     "metadata": {
      "needs_background": "light"
     },
     "output_type": "display_data"
    }
   ],
   "source": [
    "sb.barplot(data= emp,x='Attrition',y='HourlyRate',estimator=np.mean)\n",
    "#not only for male "
   ]
  },
  {
   "cell_type": "markdown",
   "id": "cf7f02dc",
   "metadata": {},
   "source": [
    "## 6.Marital Status analysis of the employees who have left and who are still with the firm"
   ]
  },
  {
   "cell_type": "code",
   "execution_count": 63,
   "id": "1c1f387f",
   "metadata": {},
   "outputs": [
    {
     "data": {
      "text/plain": [
       "<AxesSubplot:xlabel='MaritalStatus', ylabel='count'>"
      ]
     },
     "execution_count": 63,
     "metadata": {},
     "output_type": "execute_result"
    },
    {
     "data": {
      "image/png": "[encoded data removed]",
      "text/plain": [
       "<Figure size 432x288 with 1 Axes>"
      ]
     },
     "metadata": {
      "needs_background": "light"
     },
     "output_type": "display_data"
    }
   ],
   "source": [
    "sb.countplot(x='MaritalStatus',hue='Attrition',data=emp)"
   ]
  },
  {
   "cell_type": "code",
   "execution_count": 64,
   "id": "cd3179f5",
   "metadata": {},
   "outputs": [],
   "source": [
    "# Most employee of attrited are married"
   ]
  },
  {
   "cell_type": "code",
   "execution_count": 66,
   "id": "660af585",
   "metadata": {},
   "outputs": [
    {
     "data": {
      "text/html": [
       "<div>\n",
       "<style scoped>\n",
       "    .dataframe tbody tr th:only-of-type {\n",
       "        vertical-align: middle;\n",
       "    }\n",
       "\n",
       "    .dataframe tbody tr th {\n",
       "        vertical-align: top;\n",
       "    }\n",
       "\n",
       "    .dataframe thead th {\n",
       "        text-align: right;\n",
       "    }\n",
       "</style>\n",
       "<table border=\"1\" class=\"dataframe\">\n",
       "  <thead>\n",
       "    <tr style=\"text-align: right;\">\n",
       "      <th></th>\n",
       "      <th>Age</th>\n",
       "      <th>Attrition</th>\n",
       "      <th>BusinessTravel</th>\n",
       "      <th>Department</th>\n",
       "      <th>DistanceFromHome</th>\n",
       "      <th>EducationField</th>\n",
       "      <th>EmployeeNumber</th>\n",
       "      <th>EnvironmentSatisfaction</th>\n",
       "      <th>Gender</th>\n",
       "      <th>HourlyRate</th>\n",
       "      <th>...</th>\n",
       "      <th>OverTime</th>\n",
       "      <th>PerformanceRating</th>\n",
       "      <th>RelationshipSatisfaction</th>\n",
       "      <th>TotalWorkingYears</th>\n",
       "      <th>TrainingTimesLastYear</th>\n",
       "      <th>WorkLifeBalance</th>\n",
       "      <th>YearsAtCompany</th>\n",
       "      <th>YearsInCurrentRole</th>\n",
       "      <th>YearsSinceLastPromotion</th>\n",
       "      <th>YearsWithCurrManager</th>\n",
       "    </tr>\n",
       "  </thead>\n",
       "  <tbody>\n",
       "    <tr>\n",
       "      <th>0</th>\n",
       "      <td>41.0</td>\n",
       "      <td>Yes</td>\n",
       "      <td>Travel_Rarely</td>\n",
       "      <td>Sales</td>\n",
       "      <td>1</td>\n",
       "      <td>Life Sciences</td>\n",
       "      <td>1</td>\n",
       "      <td>2</td>\n",
       "      <td>Female</td>\n",
       "      <td>94</td>\n",
       "      <td>...</td>\n",
       "      <td>Yes</td>\n",
       "      <td>3</td>\n",
       "      <td>1</td>\n",
       "      <td>8</td>\n",
       "      <td>0</td>\n",
       "      <td>1</td>\n",
       "      <td>6</td>\n",
       "      <td>4</td>\n",
       "      <td>0</td>\n",
       "      <td>5</td>\n",
       "    </tr>\n",
       "    <tr>\n",
       "      <th>2</th>\n",
       "      <td>37.0</td>\n",
       "      <td>Yes</td>\n",
       "      <td>Travel_Rarely</td>\n",
       "      <td>Research &amp; Development</td>\n",
       "      <td>2</td>\n",
       "      <td>Other</td>\n",
       "      <td>4</td>\n",
       "      <td>4</td>\n",
       "      <td>Male</td>\n",
       "      <td>92</td>\n",
       "      <td>...</td>\n",
       "      <td>Yes</td>\n",
       "      <td>3</td>\n",
       "      <td>2</td>\n",
       "      <td>7</td>\n",
       "      <td>3</td>\n",
       "      <td>3</td>\n",
       "      <td>0</td>\n",
       "      <td>0</td>\n",
       "      <td>0</td>\n",
       "      <td>0</td>\n",
       "    </tr>\n",
       "    <tr>\n",
       "      <th>14</th>\n",
       "      <td>28.0</td>\n",
       "      <td>Yes</td>\n",
       "      <td>Travel_Rarely</td>\n",
       "      <td>Research &amp; Development</td>\n",
       "      <td>24</td>\n",
       "      <td>Life Sciences</td>\n",
       "      <td>19</td>\n",
       "      <td>3</td>\n",
       "      <td>Male</td>\n",
       "      <td>50</td>\n",
       "      <td>...</td>\n",
       "      <td>Yes</td>\n",
       "      <td>3</td>\n",
       "      <td>2</td>\n",
       "      <td>6</td>\n",
       "      <td>4</td>\n",
       "      <td>3</td>\n",
       "      <td>4</td>\n",
       "      <td>2</td>\n",
       "      <td>0</td>\n",
       "      <td>3</td>\n",
       "    </tr>\n",
       "    <tr>\n",
       "      <th>21</th>\n",
       "      <td>36.0</td>\n",
       "      <td>Yes</td>\n",
       "      <td>Travel_Rarely</td>\n",
       "      <td>Sales</td>\n",
       "      <td>9</td>\n",
       "      <td>Life Sciences</td>\n",
       "      <td>27</td>\n",
       "      <td>3</td>\n",
       "      <td>Male</td>\n",
       "      <td>82</td>\n",
       "      <td>...</td>\n",
       "      <td>No</td>\n",
       "      <td>4</td>\n",
       "      <td>2</td>\n",
       "      <td>10</td>\n",
       "      <td>4</td>\n",
       "      <td>3</td>\n",
       "      <td>5</td>\n",
       "      <td>3</td>\n",
       "      <td>0</td>\n",
       "      <td>3</td>\n",
       "    </tr>\n",
       "    <tr>\n",
       "      <th>24</th>\n",
       "      <td>34.0</td>\n",
       "      <td>Yes</td>\n",
       "      <td>Travel_Rarely</td>\n",
       "      <td>Research &amp; Development</td>\n",
       "      <td>6</td>\n",
       "      <td>Medical</td>\n",
       "      <td>31</td>\n",
       "      <td>2</td>\n",
       "      <td>Male</td>\n",
       "      <td>83</td>\n",
       "      <td>...</td>\n",
       "      <td>No</td>\n",
       "      <td>3</td>\n",
       "      <td>3</td>\n",
       "      <td>8</td>\n",
       "      <td>2</td>\n",
       "      <td>3</td>\n",
       "      <td>4</td>\n",
       "      <td>2</td>\n",
       "      <td>1</td>\n",
       "      <td>3</td>\n",
       "    </tr>\n",
       "    <tr>\n",
       "      <th>...</th>\n",
       "      <td>...</td>\n",
       "      <td>...</td>\n",
       "      <td>...</td>\n",
       "      <td>...</td>\n",
       "      <td>...</td>\n",
       "      <td>...</td>\n",
       "      <td>...</td>\n",
       "      <td>...</td>\n",
       "      <td>...</td>\n",
       "      <td>...</td>\n",
       "      <td>...</td>\n",
       "      <td>...</td>\n",
       "      <td>...</td>\n",
       "      <td>...</td>\n",
       "      <td>...</td>\n",
       "      <td>...</td>\n",
       "      <td>...</td>\n",
       "      <td>...</td>\n",
       "      <td>...</td>\n",
       "      <td>...</td>\n",
       "      <td>...</td>\n",
       "    </tr>\n",
       "    <tr>\n",
       "      <th>1354</th>\n",
       "      <td>56.0</td>\n",
       "      <td>Yes</td>\n",
       "      <td>Travel_Rarely</td>\n",
       "      <td>Research &amp; Development</td>\n",
       "      <td>24</td>\n",
       "      <td>Life Sciences</td>\n",
       "      <td>1907</td>\n",
       "      <td>1</td>\n",
       "      <td>Male</td>\n",
       "      <td>97</td>\n",
       "      <td>...</td>\n",
       "      <td>No</td>\n",
       "      <td>3</td>\n",
       "      <td>4</td>\n",
       "      <td>5</td>\n",
       "      <td>3</td>\n",
       "      <td>3</td>\n",
       "      <td>4</td>\n",
       "      <td>2</td>\n",
       "      <td>1</td>\n",
       "      <td>0</td>\n",
       "    </tr>\n",
       "    <tr>\n",
       "      <th>1365</th>\n",
       "      <td>29.0</td>\n",
       "      <td>Yes</td>\n",
       "      <td>Travel_Frequently</td>\n",
       "      <td>Sales</td>\n",
       "      <td>24</td>\n",
       "      <td>Technical Degree</td>\n",
       "      <td>1928</td>\n",
       "      <td>3</td>\n",
       "      <td>Male</td>\n",
       "      <td>45</td>\n",
       "      <td>...</td>\n",
       "      <td>No</td>\n",
       "      <td>3</td>\n",
       "      <td>4</td>\n",
       "      <td>1</td>\n",
       "      <td>3</td>\n",
       "      <td>3</td>\n",
       "      <td>1</td>\n",
       "      <td>0</td>\n",
       "      <td>0</td>\n",
       "      <td>0</td>\n",
       "    </tr>\n",
       "    <tr>\n",
       "      <th>1369</th>\n",
       "      <td>28.0</td>\n",
       "      <td>Yes</td>\n",
       "      <td>Travel_Rarely</td>\n",
       "      <td>Sales</td>\n",
       "      <td>13</td>\n",
       "      <td>Marketing</td>\n",
       "      <td>1933</td>\n",
       "      <td>4</td>\n",
       "      <td>Female</td>\n",
       "      <td>84</td>\n",
       "      <td>...</td>\n",
       "      <td>Yes</td>\n",
       "      <td>3</td>\n",
       "      <td>4</td>\n",
       "      <td>6</td>\n",
       "      <td>0</td>\n",
       "      <td>3</td>\n",
       "      <td>2</td>\n",
       "      <td>0</td>\n",
       "      <td>2</td>\n",
       "      <td>2</td>\n",
       "    </tr>\n",
       "    <tr>\n",
       "      <th>1375</th>\n",
       "      <td>32.0</td>\n",
       "      <td>Yes</td>\n",
       "      <td>Travel_Frequently</td>\n",
       "      <td>Research &amp; Development</td>\n",
       "      <td>5</td>\n",
       "      <td>Life Sciences</td>\n",
       "      <td>1939</td>\n",
       "      <td>1</td>\n",
       "      <td>Female</td>\n",
       "      <td>47</td>\n",
       "      <td>...</td>\n",
       "      <td>Yes</td>\n",
       "      <td>3</td>\n",
       "      <td>1</td>\n",
       "      <td>8</td>\n",
       "      <td>2</td>\n",
       "      <td>3</td>\n",
       "      <td>4</td>\n",
       "      <td>1</td>\n",
       "      <td>0</td>\n",
       "      <td>3</td>\n",
       "    </tr>\n",
       "    <tr>\n",
       "      <th>1396</th>\n",
       "      <td>53.0</td>\n",
       "      <td>Yes</td>\n",
       "      <td>Travel_Rarely</td>\n",
       "      <td>Sales</td>\n",
       "      <td>24</td>\n",
       "      <td>Life Sciences</td>\n",
       "      <td>1968</td>\n",
       "      <td>1</td>\n",
       "      <td>Male</td>\n",
       "      <td>66</td>\n",
       "      <td>...</td>\n",
       "      <td>Yes</td>\n",
       "      <td>3</td>\n",
       "      <td>2</td>\n",
       "      <td>15</td>\n",
       "      <td>2</td>\n",
       "      <td>2</td>\n",
       "      <td>2</td>\n",
       "      <td>2</td>\n",
       "      <td>2</td>\n",
       "      <td>2</td>\n",
       "    </tr>\n",
       "  </tbody>\n",
       "</table>\n",
       "<p>112 rows × 27 columns</p>\n",
       "</div>"
      ],
      "text/plain": [
       "       Age Attrition     BusinessTravel              Department  \\\n",
       "0     41.0       Yes      Travel_Rarely                   Sales   \n",
       "2     37.0       Yes      Travel_Rarely  Research & Development   \n",
       "14    28.0       Yes      Travel_Rarely  Research & Development   \n",
       "21    36.0       Yes      Travel_Rarely                   Sales   \n",
       "24    34.0       Yes      Travel_Rarely  Research & Development   \n",
       "...    ...       ...                ...                     ...   \n",
       "1354  56.0       Yes      Travel_Rarely  Research & Development   \n",
       "1365  29.0       Yes  Travel_Frequently                   Sales   \n",
       "1369  28.0       Yes      Travel_Rarely                   Sales   \n",
       "1375  32.0       Yes  Travel_Frequently  Research & Development   \n",
       "1396  53.0       Yes      Travel_Rarely                   Sales   \n",
       "\n",
       "      DistanceFromHome    EducationField  EmployeeNumber  \\\n",
       "0                    1     Life Sciences               1   \n",
       "2                    2             Other               4   \n",
       "14                  24     Life Sciences              19   \n",
       "21                   9     Life Sciences              27   \n",
       "24                   6           Medical              31   \n",
       "...                ...               ...             ...   \n",
       "1354                24     Life Sciences            1907   \n",
       "1365                24  Technical Degree            1928   \n",
       "1369                13         Marketing            1933   \n",
       "1375                 5     Life Sciences            1939   \n",
       "1396                24     Life Sciences            1968   \n",
       "\n",
       "      EnvironmentSatisfaction  Gender  HourlyRate  ...  OverTime  \\\n",
       "0                           2  Female          94  ...       Yes   \n",
       "2                           4    Male          92  ...       Yes   \n",
       "14                          3    Male          50  ...       Yes   \n",
       "21                          3    Male          82  ...        No   \n",
       "24                          2    Male          83  ...        No   \n",
       "...                       ...     ...         ...  ...       ...   \n",
       "1354                        1    Male          97  ...        No   \n",
       "1365                        3    Male          45  ...        No   \n",
       "1369                        4  Female          84  ...       Yes   \n",
       "1375                        1  Female          47  ...       Yes   \n",
       "1396                        1    Male          66  ...       Yes   \n",
       "\n",
       "     PerformanceRating  RelationshipSatisfaction TotalWorkingYears  \\\n",
       "0                    3                         1                 8   \n",
       "2                    3                         2                 7   \n",
       "14                   3                         2                 6   \n",
       "21                   4                         2                10   \n",
       "24                   3                         3                 8   \n",
       "...                ...                       ...               ...   \n",
       "1354                 3                         4                 5   \n",
       "1365                 3                         4                 1   \n",
       "1369                 3                         4                 6   \n",
       "1375                 3                         1                 8   \n",
       "1396                 3                         2                15   \n",
       "\n",
       "      TrainingTimesLastYear  WorkLifeBalance YearsAtCompany  \\\n",
       "0                         0                1              6   \n",
       "2                         3                3              0   \n",
       "14                        4                3              4   \n",
       "21                        4                3              5   \n",
       "24                        2                3              4   \n",
       "...                     ...              ...            ...   \n",
       "1354                      3                3              4   \n",
       "1365                      3                3              1   \n",
       "1369                      0                3              2   \n",
       "1375                      2                3              4   \n",
       "1396                      2                2              2   \n",
       "\n",
       "     YearsInCurrentRole  YearsSinceLastPromotion  YearsWithCurrManager  \n",
       "0                     4                        0                     5  \n",
       "2                     0                        0                     0  \n",
       "14                    2                        0                     3  \n",
       "21                    3                        0                     3  \n",
       "24                    2                        1                     3  \n",
       "...                 ...                      ...                   ...  \n",
       "1354                  2                        1                     0  \n",
       "1365                  0                        0                     0  \n",
       "1369                  0                        2                     2  \n",
       "1375                  1                        0                     3  \n",
       "1396                  2                        2                     2  \n",
       "\n",
       "[112 rows x 27 columns]"
      ]
     },
     "execution_count": 66,
     "metadata": {},
     "output_type": "execute_result"
    }
   ],
   "source": [
    "emp1=emp[(emp.MaritalStatus=='Single')&(emp.Attrition=='Yes')]\n",
    "emp1"
   ]
  },
  {
   "cell_type": "code",
   "execution_count": 67,
   "id": "dc87e145",
   "metadata": {},
   "outputs": [
    {
     "data": {
      "text/plain": [
       "<AxesSubplot:xlabel='Age', ylabel='Count'>"
      ]
     },
     "execution_count": 67,
     "metadata": {},
     "output_type": "execute_result"
    },
    {
     "data": {
      "image/png": "[encoded data removed]",
      "text/plain": [
       "<Figure size 432x288 with 1 Axes>"
      ]
     },
     "metadata": {
      "needs_background": "light"
     },
     "output_type": "display_data"
    }
   ],
   "source": [
    "sb.histplot(emp1['Age'])"
   ]
  },
  {
   "cell_type": "code",
   "execution_count": 68,
   "id": "00957488",
   "metadata": {},
   "outputs": [],
   "source": [
    "#most of employee who are single and attrited are age group of 25-35"
   ]
  },
  {
   "cell_type": "code",
   "execution_count": 69,
   "id": "531c6307",
   "metadata": {},
   "outputs": [],
   "source": [
    "emp2=emp[(emp.MaritalStatus=='Single')]"
   ]
  },
  {
   "cell_type": "code",
   "execution_count": 70,
   "id": "e61ec912",
   "metadata": {},
   "outputs": [
    {
     "data": {
      "text/plain": [
       "<AxesSubplot:xlabel='JobSatisfaction', ylabel='count'>"
      ]
     },
     "execution_count": 70,
     "metadata": {},
     "output_type": "execute_result"
    },
    {
     "data": {
      "image/png": "[encoded data removed]",
      "text/plain": [
       "<Figure size 432x288 with 1 Axes>"
      ]
     },
     "metadata": {
      "needs_background": "light"
     },
     "output_type": "display_data"
    }
   ],
   "source": [
    "sb.countplot(x='JobSatisfaction',hue='Attrition',data=emp2)"
   ]
  },
  {
   "cell_type": "code",
   "execution_count": 71,
   "id": "281fc9a3",
   "metadata": {},
   "outputs": [
    {
     "data": {
      "text/plain": [
       "<AxesSubplot:title={'center':'MonthlyIncome'}, xlabel='MaritalStatus'>"
      ]
     },
     "execution_count": 71,
     "metadata": {},
     "output_type": "execute_result"
    },
    {
     "data": {
      "image/png": "[encoded data removed]",
      "text/plain": [
       "<Figure size 432x288 with 1 Axes>"
      ]
     },
     "metadata": {
      "needs_background": "light"
     },
     "output_type": "display_data"
    }
   ],
   "source": [
    "emp.boxplot(by='MaritalStatus',column=['MonthlyIncome'])"
   ]
  },
  {
   "cell_type": "code",
   "execution_count": 72,
   "id": "3260f10e",
   "metadata": {},
   "outputs": [],
   "source": [
    "# who are attrited and single have low job satisfaction & who are married and divorced have a better spread of salary"
   ]
  },
  {
   "cell_type": "markdown",
   "id": "349d3b1c",
   "metadata": {},
   "source": [
    "## 7.Effect of the Performance Rating with the Attrition"
   ]
  },
  {
   "cell_type": "code",
   "execution_count": 73,
   "id": "24d74f0a",
   "metadata": {},
   "outputs": [
    {
     "data": {
      "text/html": [
       "<div>\n",
       "<style scoped>\n",
       "    .dataframe tbody tr th:only-of-type {\n",
       "        vertical-align: middle;\n",
       "    }\n",
       "\n",
       "    .dataframe tbody tr th {\n",
       "        vertical-align: top;\n",
       "    }\n",
       "\n",
       "    .dataframe thead th {\n",
       "        text-align: right;\n",
       "    }\n",
       "</style>\n",
       "<table border=\"1\" class=\"dataframe\">\n",
       "  <thead>\n",
       "    <tr style=\"text-align: right;\">\n",
       "      <th></th>\n",
       "      <th>Age</th>\n",
       "      <th>Attrition</th>\n",
       "      <th>BusinessTravel</th>\n",
       "      <th>Department</th>\n",
       "      <th>DistanceFromHome</th>\n",
       "      <th>EducationField</th>\n",
       "      <th>EmployeeNumber</th>\n",
       "      <th>EnvironmentSatisfaction</th>\n",
       "      <th>Gender</th>\n",
       "      <th>HourlyRate</th>\n",
       "      <th>...</th>\n",
       "      <th>OverTime</th>\n",
       "      <th>PerformanceRating</th>\n",
       "      <th>RelationshipSatisfaction</th>\n",
       "      <th>TotalWorkingYears</th>\n",
       "      <th>TrainingTimesLastYear</th>\n",
       "      <th>WorkLifeBalance</th>\n",
       "      <th>YearsAtCompany</th>\n",
       "      <th>YearsInCurrentRole</th>\n",
       "      <th>YearsSinceLastPromotion</th>\n",
       "      <th>YearsWithCurrManager</th>\n",
       "    </tr>\n",
       "  </thead>\n",
       "  <tbody>\n",
       "    <tr>\n",
       "      <th>0</th>\n",
       "      <td>41.0</td>\n",
       "      <td>Yes</td>\n",
       "      <td>Travel_Rarely</td>\n",
       "      <td>Sales</td>\n",
       "      <td>1</td>\n",
       "      <td>Life Sciences</td>\n",
       "      <td>1</td>\n",
       "      <td>2</td>\n",
       "      <td>Female</td>\n",
       "      <td>94</td>\n",
       "      <td>...</td>\n",
       "      <td>Yes</td>\n",
       "      <td>3</td>\n",
       "      <td>1</td>\n",
       "      <td>8</td>\n",
       "      <td>0</td>\n",
       "      <td>1</td>\n",
       "      <td>6</td>\n",
       "      <td>4</td>\n",
       "      <td>0</td>\n",
       "      <td>5</td>\n",
       "    </tr>\n",
       "    <tr>\n",
       "      <th>1</th>\n",
       "      <td>49.0</td>\n",
       "      <td>No</td>\n",
       "      <td>Travel_Frequently</td>\n",
       "      <td>Research &amp; Development</td>\n",
       "      <td>8</td>\n",
       "      <td>Life Sciences</td>\n",
       "      <td>2</td>\n",
       "      <td>3</td>\n",
       "      <td>Male</td>\n",
       "      <td>61</td>\n",
       "      <td>...</td>\n",
       "      <td>No</td>\n",
       "      <td>4</td>\n",
       "      <td>4</td>\n",
       "      <td>10</td>\n",
       "      <td>3</td>\n",
       "      <td>3</td>\n",
       "      <td>10</td>\n",
       "      <td>7</td>\n",
       "      <td>1</td>\n",
       "      <td>7</td>\n",
       "    </tr>\n",
       "    <tr>\n",
       "      <th>2</th>\n",
       "      <td>37.0</td>\n",
       "      <td>Yes</td>\n",
       "      <td>Travel_Rarely</td>\n",
       "      <td>Research &amp; Development</td>\n",
       "      <td>2</td>\n",
       "      <td>Other</td>\n",
       "      <td>4</td>\n",
       "      <td>4</td>\n",
       "      <td>Male</td>\n",
       "      <td>92</td>\n",
       "      <td>...</td>\n",
       "      <td>Yes</td>\n",
       "      <td>3</td>\n",
       "      <td>2</td>\n",
       "      <td>7</td>\n",
       "      <td>3</td>\n",
       "      <td>3</td>\n",
       "      <td>0</td>\n",
       "      <td>0</td>\n",
       "      <td>0</td>\n",
       "      <td>0</td>\n",
       "    </tr>\n",
       "    <tr>\n",
       "      <th>3</th>\n",
       "      <td>33.0</td>\n",
       "      <td>No</td>\n",
       "      <td>Travel_Frequently</td>\n",
       "      <td>Research &amp; Development</td>\n",
       "      <td>3</td>\n",
       "      <td>Life Sciences</td>\n",
       "      <td>5</td>\n",
       "      <td>4</td>\n",
       "      <td>Female</td>\n",
       "      <td>56</td>\n",
       "      <td>...</td>\n",
       "      <td>Yes</td>\n",
       "      <td>3</td>\n",
       "      <td>3</td>\n",
       "      <td>8</td>\n",
       "      <td>3</td>\n",
       "      <td>3</td>\n",
       "      <td>8</td>\n",
       "      <td>7</td>\n",
       "      <td>3</td>\n",
       "      <td>0</td>\n",
       "    </tr>\n",
       "    <tr>\n",
       "      <th>4</th>\n",
       "      <td>27.0</td>\n",
       "      <td>No</td>\n",
       "      <td>Travel_Rarely</td>\n",
       "      <td>Research &amp; Development</td>\n",
       "      <td>2</td>\n",
       "      <td>Medical</td>\n",
       "      <td>7</td>\n",
       "      <td>1</td>\n",
       "      <td>Male</td>\n",
       "      <td>40</td>\n",
       "      <td>...</td>\n",
       "      <td>No</td>\n",
       "      <td>3</td>\n",
       "      <td>4</td>\n",
       "      <td>6</td>\n",
       "      <td>3</td>\n",
       "      <td>3</td>\n",
       "      <td>2</td>\n",
       "      <td>2</td>\n",
       "      <td>2</td>\n",
       "      <td>2</td>\n",
       "    </tr>\n",
       "    <tr>\n",
       "      <th>...</th>\n",
       "      <td>...</td>\n",
       "      <td>...</td>\n",
       "      <td>...</td>\n",
       "      <td>...</td>\n",
       "      <td>...</td>\n",
       "      <td>...</td>\n",
       "      <td>...</td>\n",
       "      <td>...</td>\n",
       "      <td>...</td>\n",
       "      <td>...</td>\n",
       "      <td>...</td>\n",
       "      <td>...</td>\n",
       "      <td>...</td>\n",
       "      <td>...</td>\n",
       "      <td>...</td>\n",
       "      <td>...</td>\n",
       "      <td>...</td>\n",
       "      <td>...</td>\n",
       "      <td>...</td>\n",
       "      <td>...</td>\n",
       "      <td>...</td>\n",
       "    </tr>\n",
       "    <tr>\n",
       "      <th>1465</th>\n",
       "      <td>36.0</td>\n",
       "      <td>No</td>\n",
       "      <td>NaN</td>\n",
       "      <td>Research &amp; Development</td>\n",
       "      <td>23</td>\n",
       "      <td>Medical</td>\n",
       "      <td>2061</td>\n",
       "      <td>3</td>\n",
       "      <td>Male</td>\n",
       "      <td>41</td>\n",
       "      <td>...</td>\n",
       "      <td>No</td>\n",
       "      <td>3</td>\n",
       "      <td>3</td>\n",
       "      <td>17</td>\n",
       "      <td>3</td>\n",
       "      <td>3</td>\n",
       "      <td>5</td>\n",
       "      <td>2</td>\n",
       "      <td>0</td>\n",
       "      <td>3</td>\n",
       "    </tr>\n",
       "    <tr>\n",
       "      <th>1466</th>\n",
       "      <td>39.0</td>\n",
       "      <td>No</td>\n",
       "      <td>Travel_Rarely</td>\n",
       "      <td>Research &amp; Development</td>\n",
       "      <td>6</td>\n",
       "      <td>Medical</td>\n",
       "      <td>2062</td>\n",
       "      <td>4</td>\n",
       "      <td>Male</td>\n",
       "      <td>42</td>\n",
       "      <td>...</td>\n",
       "      <td>No</td>\n",
       "      <td>3</td>\n",
       "      <td>1</td>\n",
       "      <td>9</td>\n",
       "      <td>5</td>\n",
       "      <td>3</td>\n",
       "      <td>7</td>\n",
       "      <td>7</td>\n",
       "      <td>1</td>\n",
       "      <td>7</td>\n",
       "    </tr>\n",
       "    <tr>\n",
       "      <th>1467</th>\n",
       "      <td>27.0</td>\n",
       "      <td>No</td>\n",
       "      <td>Travel_Rarely</td>\n",
       "      <td>Research &amp; Development</td>\n",
       "      <td>4</td>\n",
       "      <td>Life Sciences</td>\n",
       "      <td>2064</td>\n",
       "      <td>2</td>\n",
       "      <td>Male</td>\n",
       "      <td>87</td>\n",
       "      <td>...</td>\n",
       "      <td>Yes</td>\n",
       "      <td>4</td>\n",
       "      <td>2</td>\n",
       "      <td>6</td>\n",
       "      <td>0</td>\n",
       "      <td>3</td>\n",
       "      <td>6</td>\n",
       "      <td>2</td>\n",
       "      <td>0</td>\n",
       "      <td>3</td>\n",
       "    </tr>\n",
       "    <tr>\n",
       "      <th>1468</th>\n",
       "      <td>49.0</td>\n",
       "      <td>No</td>\n",
       "      <td>Travel_Frequently</td>\n",
       "      <td>Sales</td>\n",
       "      <td>2</td>\n",
       "      <td>Medical</td>\n",
       "      <td>2065</td>\n",
       "      <td>4</td>\n",
       "      <td>Male</td>\n",
       "      <td>63</td>\n",
       "      <td>...</td>\n",
       "      <td>No</td>\n",
       "      <td>3</td>\n",
       "      <td>4</td>\n",
       "      <td>17</td>\n",
       "      <td>3</td>\n",
       "      <td>2</td>\n",
       "      <td>9</td>\n",
       "      <td>6</td>\n",
       "      <td>0</td>\n",
       "      <td>8</td>\n",
       "    </tr>\n",
       "    <tr>\n",
       "      <th>1469</th>\n",
       "      <td>34.0</td>\n",
       "      <td>No</td>\n",
       "      <td>Travel_Rarely</td>\n",
       "      <td>Research &amp; Development</td>\n",
       "      <td>8</td>\n",
       "      <td>Medical</td>\n",
       "      <td>2068</td>\n",
       "      <td>2</td>\n",
       "      <td>Male</td>\n",
       "      <td>82</td>\n",
       "      <td>...</td>\n",
       "      <td>No</td>\n",
       "      <td>3</td>\n",
       "      <td>1</td>\n",
       "      <td>6</td>\n",
       "      <td>3</td>\n",
       "      <td>4</td>\n",
       "      <td>4</td>\n",
       "      <td>3</td>\n",
       "      <td>1</td>\n",
       "      <td>2</td>\n",
       "    </tr>\n",
       "  </tbody>\n",
       "</table>\n",
       "<p>1470 rows × 27 columns</p>\n",
       "</div>"
      ],
      "text/plain": [
       "       Age Attrition     BusinessTravel              Department  \\\n",
       "0     41.0       Yes      Travel_Rarely                   Sales   \n",
       "1     49.0        No  Travel_Frequently  Research & Development   \n",
       "2     37.0       Yes      Travel_Rarely  Research & Development   \n",
       "3     33.0        No  Travel_Frequently  Research & Development   \n",
       "4     27.0        No      Travel_Rarely  Research & Development   \n",
       "...    ...       ...                ...                     ...   \n",
       "1465  36.0        No                NaN  Research & Development   \n",
       "1466  39.0        No      Travel_Rarely  Research & Development   \n",
       "1467  27.0        No      Travel_Rarely  Research & Development   \n",
       "1468  49.0        No  Travel_Frequently                   Sales   \n",
       "1469  34.0        No      Travel_Rarely  Research & Development   \n",
       "\n",
       "      DistanceFromHome EducationField  EmployeeNumber  \\\n",
       "0                    1  Life Sciences               1   \n",
       "1                    8  Life Sciences               2   \n",
       "2                    2          Other               4   \n",
       "3                    3  Life Sciences               5   \n",
       "4                    2        Medical               7   \n",
       "...                ...            ...             ...   \n",
       "1465                23        Medical            2061   \n",
       "1466                 6        Medical            2062   \n",
       "1467                 4  Life Sciences            2064   \n",
       "1468                 2        Medical            2065   \n",
       "1469                 8        Medical            2068   \n",
       "\n",
       "      EnvironmentSatisfaction  Gender  HourlyRate  ...  OverTime  \\\n",
       "0                           2  Female          94  ...       Yes   \n",
       "1                           3    Male          61  ...        No   \n",
       "2                           4    Male          92  ...       Yes   \n",
       "3                           4  Female          56  ...       Yes   \n",
       "4                           1    Male          40  ...        No   \n",
       "...                       ...     ...         ...  ...       ...   \n",
       "1465                        3    Male          41  ...        No   \n",
       "1466                        4    Male          42  ...        No   \n",
       "1467                        2    Male          87  ...       Yes   \n",
       "1468                        4    Male          63  ...        No   \n",
       "1469                        2    Male          82  ...        No   \n",
       "\n",
       "     PerformanceRating  RelationshipSatisfaction TotalWorkingYears  \\\n",
       "0                    3                         1                 8   \n",
       "1                    4                         4                10   \n",
       "2                    3                         2                 7   \n",
       "3                    3                         3                 8   \n",
       "4                    3                         4                 6   \n",
       "...                ...                       ...               ...   \n",
       "1465                 3                         3                17   \n",
       "1466                 3                         1                 9   \n",
       "1467                 4                         2                 6   \n",
       "1468                 3                         4                17   \n",
       "1469                 3                         1                 6   \n",
       "\n",
       "      TrainingTimesLastYear  WorkLifeBalance YearsAtCompany  \\\n",
       "0                         0                1              6   \n",
       "1                         3                3             10   \n",
       "2                         3                3              0   \n",
       "3                         3                3              8   \n",
       "4                         3                3              2   \n",
       "...                     ...              ...            ...   \n",
       "1465                      3                3              5   \n",
       "1466                      5                3              7   \n",
       "1467                      0                3              6   \n",
       "1468                      3                2              9   \n",
       "1469                      3                4              4   \n",
       "\n",
       "     YearsInCurrentRole  YearsSinceLastPromotion  YearsWithCurrManager  \n",
       "0                     4                        0                     5  \n",
       "1                     7                        1                     7  \n",
       "2                     0                        0                     0  \n",
       "3                     7                        3                     0  \n",
       "4                     2                        2                     2  \n",
       "...                 ...                      ...                   ...  \n",
       "1465                  2                        0                     3  \n",
       "1466                  7                        1                     7  \n",
       "1467                  2                        0                     3  \n",
       "1468                  6                        0                     8  \n",
       "1469                  3                        1                     2  \n",
       "\n",
       "[1470 rows x 27 columns]"
      ]
     },
     "execution_count": 73,
     "metadata": {},
     "output_type": "execute_result"
    }
   ],
   "source": [
    "emp"
   ]
  },
  {
   "cell_type": "code",
   "execution_count": 74,
   "id": "5e87e902",
   "metadata": {},
   "outputs": [
    {
     "data": {
      "text/plain": [
       "<AxesSubplot:xlabel='PerformanceRating', ylabel='count'>"
      ]
     },
     "execution_count": 74,
     "metadata": {},
     "output_type": "execute_result"
    },
    {
     "data": {
      "image/png": "[encoded data removed]",
      "text/plain": [
       "<Figure size 432x288 with 1 Axes>"
      ]
     },
     "metadata": {
      "needs_background": "light"
     },
     "output_type": "display_data"
    }
   ],
   "source": [
    "sb.countplot(x='PerformanceRating',hue='Attrition',data=emp)"
   ]
  },
  {
   "cell_type": "code",
   "execution_count": 76,
   "id": "757269e0",
   "metadata": {},
   "outputs": [
    {
     "data": {
      "text/plain": [
       "<AxesSubplot:xlabel='Age', ylabel='Count'>"
      ]
     },
     "execution_count": 76,
     "metadata": {},
     "output_type": "execute_result"
    },
    {
     "data": {
      "image/png": "[encoded data removed]",
      "text/plain": [
       "<Figure size 432x288 with 1 Axes>"
      ]
     },
     "metadata": {
      "needs_background": "light"
     },
     "output_type": "display_data"
    }
   ],
   "source": [
    "emp1=emp[(emp.PerformanceRating==3)]\n",
    "sb.histplot(emp1['Age'],bins=5,color='Red')"
   ]
  },
  {
   "cell_type": "code",
   "execution_count": 77,
   "id": "10579abe",
   "metadata": {},
   "outputs": [],
   "source": [
    "#Emmployees with lowest PerformanceRatingnmost are most are age group is 25-45"
   ]
  },
  {
   "cell_type": "code",
   "execution_count": 78,
   "id": "4a819f55",
   "metadata": {},
   "outputs": [
    {
     "data": {
      "text/plain": [
       "<AxesSubplot:xlabel='PerformanceRating', ylabel='count'>"
      ]
     },
     "execution_count": 78,
     "metadata": {},
     "output_type": "execute_result"
    },
    {
     "data": {
      "image/png": "[encoded data removed]",
      "text/plain": [
       "<Figure size 432x288 with 1 Axes>"
      ]
     },
     "metadata": {
      "needs_background": "light"
     },
     "output_type": "display_data"
    }
   ],
   "source": [
    "sb.countplot(x='PerformanceRating',hue='JobRole',data=emp)"
   ]
  },
  {
   "cell_type": "code",
   "execution_count": 79,
   "id": "208378cd",
   "metadata": {},
   "outputs": [],
   "source": [
    "#employee having low perfomance rating in the departmenet sales excicutive and research scientist"
   ]
  },
  {
   "cell_type": "code",
   "execution_count": 80,
   "id": "6f5e43e8",
   "metadata": {},
   "outputs": [
    {
     "data": {
      "text/plain": [
       "<AxesSubplot:xlabel='PerformanceRating', ylabel='count'>"
      ]
     },
     "execution_count": 80,
     "metadata": {},
     "output_type": "execute_result"
    },
    {
     "data": {
      "image/png": "[encoded data removed]",
      "text/plain": [
       "<Figure size 720x504 with 1 Axes>"
      ]
     },
     "metadata": {
      "needs_background": "light"
     },
     "output_type": "display_data"
    }
   ],
   "source": [
    "fig, ax = plt.subplots(figsize=(10,7))\n",
    "sb.countplot(x='PerformanceRating',hue='YearsWithCurrManager',data=emp1)"
   ]
  },
  {
   "cell_type": "code",
   "execution_count": 81,
   "id": "3233c4ae",
   "metadata": {},
   "outputs": [],
   "source": [
    "#employee with low performance rating most are the less than 5 years with current manager"
   ]
  },
  {
   "cell_type": "markdown",
   "id": "6e1d5278",
   "metadata": {},
   "source": [
    "## 8. Job Satisfaction analysis of the employees who have left and who are still with the firm"
   ]
  },
  {
   "cell_type": "code",
   "execution_count": 82,
   "id": "5085a5a8",
   "metadata": {},
   "outputs": [
    {
     "data": {
      "text/plain": [
       "<AxesSubplot:xlabel='JobSatisfaction', ylabel='count'>"
      ]
     },
     "execution_count": 82,
     "metadata": {},
     "output_type": "execute_result"
    },
    {
     "data": {
      "image/png": "[encoded data removed]",
      "text/plain": [
       "<Figure size 432x288 with 1 Axes>"
      ]
     },
     "metadata": {
      "needs_background": "light"
     },
     "output_type": "display_data"
    }
   ],
   "source": [
    "sb.countplot(x='JobSatisfaction',hue='Attrition',data=emp)"
   ]
  },
  {
   "cell_type": "code",
   "execution_count": 83,
   "id": "b6914cff",
   "metadata": {},
   "outputs": [
    {
     "data": {
      "text/plain": [
       "<AxesSubplot:xlabel='JobSatisfaction', ylabel='count'>"
      ]
     },
     "execution_count": 83,
     "metadata": {},
     "output_type": "execute_result"
    },
    {
     "data": {
      "image/png": "[encoded data removed]",
      "text/plain": [
       "<Figure size 1440x720 with 1 Axes>"
      ]
     },
     "metadata": {
      "needs_background": "light"
     },
     "output_type": "display_data"
    }
   ],
   "source": [
    "fig, ax = plt.subplots(figsize=(20,10))\n",
    "sb.countplot(x='JobSatisfaction',hue='JobRole',data=emp)"
   ]
  },
  {
   "cell_type": "code",
   "execution_count": 84,
   "id": "899a932c",
   "metadata": {},
   "outputs": [],
   "source": [
    "#employee with lower performance rating have jobrole of sales excutive and research scientist"
   ]
  },
  {
   "cell_type": "code",
   "execution_count": 85,
   "id": "e383fb3f",
   "metadata": {},
   "outputs": [
    {
     "data": {
      "text/html": [
       "<div>\n",
       "<style scoped>\n",
       "    .dataframe tbody tr th:only-of-type {\n",
       "        vertical-align: middle;\n",
       "    }\n",
       "\n",
       "    .dataframe tbody tr th {\n",
       "        vertical-align: top;\n",
       "    }\n",
       "\n",
       "    .dataframe thead th {\n",
       "        text-align: right;\n",
       "    }\n",
       "</style>\n",
       "<table border=\"1\" class=\"dataframe\">\n",
       "  <thead>\n",
       "    <tr style=\"text-align: right;\">\n",
       "      <th></th>\n",
       "      <th>Age</th>\n",
       "      <th>Attrition</th>\n",
       "      <th>BusinessTravel</th>\n",
       "      <th>Department</th>\n",
       "      <th>DistanceFromHome</th>\n",
       "      <th>EducationField</th>\n",
       "      <th>EmployeeNumber</th>\n",
       "      <th>EnvironmentSatisfaction</th>\n",
       "      <th>Gender</th>\n",
       "      <th>HourlyRate</th>\n",
       "      <th>...</th>\n",
       "      <th>OverTime</th>\n",
       "      <th>PerformanceRating</th>\n",
       "      <th>RelationshipSatisfaction</th>\n",
       "      <th>TotalWorkingYears</th>\n",
       "      <th>TrainingTimesLastYear</th>\n",
       "      <th>WorkLifeBalance</th>\n",
       "      <th>YearsAtCompany</th>\n",
       "      <th>YearsInCurrentRole</th>\n",
       "      <th>YearsSinceLastPromotion</th>\n",
       "      <th>YearsWithCurrManager</th>\n",
       "    </tr>\n",
       "  </thead>\n",
       "  <tbody>\n",
       "    <tr>\n",
       "      <th>1</th>\n",
       "      <td>49.0</td>\n",
       "      <td>No</td>\n",
       "      <td>Travel_Frequently</td>\n",
       "      <td>Research &amp; Development</td>\n",
       "      <td>8</td>\n",
       "      <td>Life Sciences</td>\n",
       "      <td>2</td>\n",
       "      <td>3</td>\n",
       "      <td>Male</td>\n",
       "      <td>61</td>\n",
       "      <td>...</td>\n",
       "      <td>No</td>\n",
       "      <td>4</td>\n",
       "      <td>4</td>\n",
       "      <td>10</td>\n",
       "      <td>3</td>\n",
       "      <td>3</td>\n",
       "      <td>10</td>\n",
       "      <td>7</td>\n",
       "      <td>1</td>\n",
       "      <td>7</td>\n",
       "    </tr>\n",
       "    <tr>\n",
       "      <th>4</th>\n",
       "      <td>27.0</td>\n",
       "      <td>No</td>\n",
       "      <td>Travel_Rarely</td>\n",
       "      <td>Research &amp; Development</td>\n",
       "      <td>2</td>\n",
       "      <td>Medical</td>\n",
       "      <td>7</td>\n",
       "      <td>1</td>\n",
       "      <td>Male</td>\n",
       "      <td>40</td>\n",
       "      <td>...</td>\n",
       "      <td>No</td>\n",
       "      <td>3</td>\n",
       "      <td>4</td>\n",
       "      <td>6</td>\n",
       "      <td>3</td>\n",
       "      <td>3</td>\n",
       "      <td>2</td>\n",
       "      <td>2</td>\n",
       "      <td>2</td>\n",
       "      <td>2</td>\n",
       "    </tr>\n",
       "    <tr>\n",
       "      <th>6</th>\n",
       "      <td>59.0</td>\n",
       "      <td>No</td>\n",
       "      <td>Travel_Rarely</td>\n",
       "      <td>Research &amp; Development</td>\n",
       "      <td>3</td>\n",
       "      <td>Medical</td>\n",
       "      <td>10</td>\n",
       "      <td>3</td>\n",
       "      <td>Female</td>\n",
       "      <td>81</td>\n",
       "      <td>...</td>\n",
       "      <td>Yes</td>\n",
       "      <td>4</td>\n",
       "      <td>1</td>\n",
       "      <td>12</td>\n",
       "      <td>3</td>\n",
       "      <td>2</td>\n",
       "      <td>1</td>\n",
       "      <td>0</td>\n",
       "      <td>0</td>\n",
       "      <td>0</td>\n",
       "    </tr>\n",
       "    <tr>\n",
       "      <th>10</th>\n",
       "      <td>35.0</td>\n",
       "      <td>No</td>\n",
       "      <td>Travel_Rarely</td>\n",
       "      <td>Research &amp; Development</td>\n",
       "      <td>16</td>\n",
       "      <td>Medical</td>\n",
       "      <td>14</td>\n",
       "      <td>1</td>\n",
       "      <td>Male</td>\n",
       "      <td>84</td>\n",
       "      <td>...</td>\n",
       "      <td>No</td>\n",
       "      <td>3</td>\n",
       "      <td>3</td>\n",
       "      <td>6</td>\n",
       "      <td>5</td>\n",
       "      <td>3</td>\n",
       "      <td>5</td>\n",
       "      <td>4</td>\n",
       "      <td>0</td>\n",
       "      <td>3</td>\n",
       "    </tr>\n",
       "    <tr>\n",
       "      <th>15</th>\n",
       "      <td>29.0</td>\n",
       "      <td>No</td>\n",
       "      <td>Travel_Rarely</td>\n",
       "      <td>Research &amp; Development</td>\n",
       "      <td>21</td>\n",
       "      <td>Life Sciences</td>\n",
       "      <td>20</td>\n",
       "      <td>2</td>\n",
       "      <td>Female</td>\n",
       "      <td>51</td>\n",
       "      <td>...</td>\n",
       "      <td>No</td>\n",
       "      <td>3</td>\n",
       "      <td>3</td>\n",
       "      <td>10</td>\n",
       "      <td>1</td>\n",
       "      <td>3</td>\n",
       "      <td>10</td>\n",
       "      <td>9</td>\n",
       "      <td>8</td>\n",
       "      <td>8</td>\n",
       "    </tr>\n",
       "    <tr>\n",
       "      <th>...</th>\n",
       "      <td>...</td>\n",
       "      <td>...</td>\n",
       "      <td>...</td>\n",
       "      <td>...</td>\n",
       "      <td>...</td>\n",
       "      <td>...</td>\n",
       "      <td>...</td>\n",
       "      <td>...</td>\n",
       "      <td>...</td>\n",
       "      <td>...</td>\n",
       "      <td>...</td>\n",
       "      <td>...</td>\n",
       "      <td>...</td>\n",
       "      <td>...</td>\n",
       "      <td>...</td>\n",
       "      <td>...</td>\n",
       "      <td>...</td>\n",
       "      <td>...</td>\n",
       "      <td>...</td>\n",
       "      <td>...</td>\n",
       "      <td>...</td>\n",
       "    </tr>\n",
       "    <tr>\n",
       "      <th>1461</th>\n",
       "      <td>50.0</td>\n",
       "      <td>Yes</td>\n",
       "      <td>Travel_Rarely</td>\n",
       "      <td>Sales</td>\n",
       "      <td>28</td>\n",
       "      <td>Marketing</td>\n",
       "      <td>2055</td>\n",
       "      <td>4</td>\n",
       "      <td>Male</td>\n",
       "      <td>39</td>\n",
       "      <td>...</td>\n",
       "      <td>Yes</td>\n",
       "      <td>3</td>\n",
       "      <td>2</td>\n",
       "      <td>20</td>\n",
       "      <td>3</td>\n",
       "      <td>3</td>\n",
       "      <td>3</td>\n",
       "      <td>2</td>\n",
       "      <td>2</td>\n",
       "      <td>0</td>\n",
       "    </tr>\n",
       "    <tr>\n",
       "      <th>1463</th>\n",
       "      <td>31.0</td>\n",
       "      <td>No</td>\n",
       "      <td>Non-Travel</td>\n",
       "      <td>Research &amp; Development</td>\n",
       "      <td>5</td>\n",
       "      <td>Medical</td>\n",
       "      <td>2057</td>\n",
       "      <td>2</td>\n",
       "      <td>Male</td>\n",
       "      <td>74</td>\n",
       "      <td>...</td>\n",
       "      <td>No</td>\n",
       "      <td>3</td>\n",
       "      <td>2</td>\n",
       "      <td>10</td>\n",
       "      <td>2</td>\n",
       "      <td>3</td>\n",
       "      <td>9</td>\n",
       "      <td>4</td>\n",
       "      <td>1</td>\n",
       "      <td>7</td>\n",
       "    </tr>\n",
       "    <tr>\n",
       "      <th>1466</th>\n",
       "      <td>39.0</td>\n",
       "      <td>No</td>\n",
       "      <td>Travel_Rarely</td>\n",
       "      <td>Research &amp; Development</td>\n",
       "      <td>6</td>\n",
       "      <td>Medical</td>\n",
       "      <td>2062</td>\n",
       "      <td>4</td>\n",
       "      <td>Male</td>\n",
       "      <td>42</td>\n",
       "      <td>...</td>\n",
       "      <td>No</td>\n",
       "      <td>3</td>\n",
       "      <td>1</td>\n",
       "      <td>9</td>\n",
       "      <td>5</td>\n",
       "      <td>3</td>\n",
       "      <td>7</td>\n",
       "      <td>7</td>\n",
       "      <td>1</td>\n",
       "      <td>7</td>\n",
       "    </tr>\n",
       "    <tr>\n",
       "      <th>1467</th>\n",
       "      <td>27.0</td>\n",
       "      <td>No</td>\n",
       "      <td>Travel_Rarely</td>\n",
       "      <td>Research &amp; Development</td>\n",
       "      <td>4</td>\n",
       "      <td>Life Sciences</td>\n",
       "      <td>2064</td>\n",
       "      <td>2</td>\n",
       "      <td>Male</td>\n",
       "      <td>87</td>\n",
       "      <td>...</td>\n",
       "      <td>Yes</td>\n",
       "      <td>4</td>\n",
       "      <td>2</td>\n",
       "      <td>6</td>\n",
       "      <td>0</td>\n",
       "      <td>3</td>\n",
       "      <td>6</td>\n",
       "      <td>2</td>\n",
       "      <td>0</td>\n",
       "      <td>3</td>\n",
       "    </tr>\n",
       "    <tr>\n",
       "      <th>1468</th>\n",
       "      <td>49.0</td>\n",
       "      <td>No</td>\n",
       "      <td>Travel_Frequently</td>\n",
       "      <td>Sales</td>\n",
       "      <td>2</td>\n",
       "      <td>Medical</td>\n",
       "      <td>2065</td>\n",
       "      <td>4</td>\n",
       "      <td>Male</td>\n",
       "      <td>63</td>\n",
       "      <td>...</td>\n",
       "      <td>No</td>\n",
       "      <td>3</td>\n",
       "      <td>4</td>\n",
       "      <td>17</td>\n",
       "      <td>3</td>\n",
       "      <td>2</td>\n",
       "      <td>9</td>\n",
       "      <td>6</td>\n",
       "      <td>0</td>\n",
       "      <td>8</td>\n",
       "    </tr>\n",
       "  </tbody>\n",
       "</table>\n",
       "<p>569 rows × 27 columns</p>\n",
       "</div>"
      ],
      "text/plain": [
       "       Age Attrition     BusinessTravel              Department  \\\n",
       "1     49.0        No  Travel_Frequently  Research & Development   \n",
       "4     27.0        No      Travel_Rarely  Research & Development   \n",
       "6     59.0        No      Travel_Rarely  Research & Development   \n",
       "10    35.0        No      Travel_Rarely  Research & Development   \n",
       "15    29.0        No      Travel_Rarely  Research & Development   \n",
       "...    ...       ...                ...                     ...   \n",
       "1461  50.0       Yes      Travel_Rarely                   Sales   \n",
       "1463  31.0        No         Non-Travel  Research & Development   \n",
       "1466  39.0        No      Travel_Rarely  Research & Development   \n",
       "1467  27.0        No      Travel_Rarely  Research & Development   \n",
       "1468  49.0        No  Travel_Frequently                   Sales   \n",
       "\n",
       "      DistanceFromHome EducationField  EmployeeNumber  \\\n",
       "1                    8  Life Sciences               2   \n",
       "4                    2        Medical               7   \n",
       "6                    3        Medical              10   \n",
       "10                  16        Medical              14   \n",
       "15                  21  Life Sciences              20   \n",
       "...                ...            ...             ...   \n",
       "1461                28      Marketing            2055   \n",
       "1463                 5        Medical            2057   \n",
       "1466                 6        Medical            2062   \n",
       "1467                 4  Life Sciences            2064   \n",
       "1468                 2        Medical            2065   \n",
       "\n",
       "      EnvironmentSatisfaction  Gender  HourlyRate  ...  OverTime  \\\n",
       "1                           3    Male          61  ...        No   \n",
       "4                           1    Male          40  ...        No   \n",
       "6                           3  Female          81  ...       Yes   \n",
       "10                          1    Male          84  ...        No   \n",
       "15                          2  Female          51  ...        No   \n",
       "...                       ...     ...         ...  ...       ...   \n",
       "1461                        4    Male          39  ...       Yes   \n",
       "1463                        2    Male          74  ...        No   \n",
       "1466                        4    Male          42  ...        No   \n",
       "1467                        2    Male          87  ...       Yes   \n",
       "1468                        4    Male          63  ...        No   \n",
       "\n",
       "     PerformanceRating  RelationshipSatisfaction TotalWorkingYears  \\\n",
       "1                    4                         4                10   \n",
       "4                    3                         4                 6   \n",
       "6                    4                         1                12   \n",
       "10                   3                         3                 6   \n",
       "15                   3                         3                10   \n",
       "...                ...                       ...               ...   \n",
       "1461                 3                         2                20   \n",
       "1463                 3                         2                10   \n",
       "1466                 3                         1                 9   \n",
       "1467                 4                         2                 6   \n",
       "1468                 3                         4                17   \n",
       "\n",
       "      TrainingTimesLastYear  WorkLifeBalance YearsAtCompany  \\\n",
       "1                         3                3             10   \n",
       "4                         3                3              2   \n",
       "6                         3                2              1   \n",
       "10                        5                3              5   \n",
       "15                        1                3             10   \n",
       "...                     ...              ...            ...   \n",
       "1461                      3                3              3   \n",
       "1463                      2                3              9   \n",
       "1466                      5                3              7   \n",
       "1467                      0                3              6   \n",
       "1468                      3                2              9   \n",
       "\n",
       "     YearsInCurrentRole  YearsSinceLastPromotion  YearsWithCurrManager  \n",
       "1                     7                        1                     7  \n",
       "4                     2                        2                     2  \n",
       "6                     0                        0                     0  \n",
       "10                    4                        0                     3  \n",
       "15                    9                        8                     8  \n",
       "...                 ...                      ...                   ...  \n",
       "1461                  2                        2                     0  \n",
       "1463                  4                        1                     7  \n",
       "1466                  7                        1                     7  \n",
       "1467                  2                        0                     3  \n",
       "1468                  6                        0                     8  \n",
       "\n",
       "[569 rows x 27 columns]"
      ]
     },
     "execution_count": 85,
     "metadata": {},
     "output_type": "execute_result"
    }
   ],
   "source": [
    "emp1=emp[(emp.JobSatisfaction<3)]\n",
    "emp1"
   ]
  },
  {
   "cell_type": "code",
   "execution_count": 89,
   "id": "c553c318",
   "metadata": {},
   "outputs": [
    {
     "data": {
      "text/plain": [
       "<AxesSubplot:xlabel='Department', ylabel='count'>"
      ]
     },
     "execution_count": 89,
     "metadata": {},
     "output_type": "execute_result"
    },
    {
     "data": {
      "image/png": "[encoded data removed]",
      "text/plain": [
       "<Figure size 720x504 with 1 Axes>"
      ]
     },
     "metadata": {
      "needs_background": "light"
     },
     "output_type": "display_data"
    }
   ],
   "source": [
    "fig, ax = plt.subplots(figsize=(10,7))\n",
    "sb.countplot(x='Department',hue='Attrition',data=emp1)"
   ]
  },
  {
   "cell_type": "code",
   "execution_count": 90,
   "id": "6bcbd755",
   "metadata": {},
   "outputs": [],
   "source": [
    "#employee who have low performance ratings most of the attrited employees are in the reserch and development department \n",
    "#and employee not atrited most are in resarch and development"
   ]
  },
  {
   "cell_type": "code",
   "execution_count": 92,
   "id": "00a4df05",
   "metadata": {},
   "outputs": [
    {
     "data": {
      "text/plain": [
       "<AxesSubplot:xlabel='Attrition', ylabel='HourlyRate'>"
      ]
     },
     "execution_count": 92,
     "metadata": {},
     "output_type": "execute_result"
    },
    {
     "data": {
      "image/png": "[encoded data removed]",
      "text/plain": [
       "<Figure size 432x288 with 1 Axes>"
      ]
     },
     "metadata": {
      "needs_background": "light"
     },
     "output_type": "display_data"
    }
   ],
   "source": [
    "sb.barplot(data=emp1,x='Attrition',y='HourlyRate',estimator=np.mean)"
   ]
  },
  {
   "cell_type": "code",
   "execution_count": 93,
   "id": "f9438675",
   "metadata": {},
   "outputs": [],
   "source": [
    "#avg hourly rate and attrition doesnt matter for lower performance rated employees"
   ]
  },
  {
   "cell_type": "markdown",
   "id": "d5cacef6",
   "metadata": {},
   "source": [
    "## 9. Employee's Age analysis with their customers who have left and who are still with the firm"
   ]
  },
  {
   "cell_type": "code",
   "execution_count": 94,
   "id": "48c7d242",
   "metadata": {},
   "outputs": [
    {
     "data": {
      "text/plain": [
       "<AxesSubplot:title={'center':'Age'}, xlabel='Attrition'>"
      ]
     },
     "execution_count": 94,
     "metadata": {},
     "output_type": "execute_result"
    },
    {
     "data": {
      "image/png": "[encoded data removed]",
      "text/plain": [
       "<Figure size 432x288 with 1 Axes>"
      ]
     },
     "metadata": {
      "needs_background": "light"
     },
     "output_type": "display_data"
    }
   ],
   "source": [
    "emp.boxplot(by='Attrition',column=['Age'])"
   ]
  },
  {
   "cell_type": "code",
   "execution_count": 96,
   "id": "88b2ac9e",
   "metadata": {},
   "outputs": [
    {
     "data": {
      "text/plain": [
       "<AxesSubplot:ylabel='JobRole'>"
      ]
     },
     "execution_count": 96,
     "metadata": {},
     "output_type": "execute_result"
    },
    {
     "data": {
      "image/png": "[encoded data removed]",
      "text/plain": [
       "<Figure size 432x288 with 1 Axes>"
      ]
     },
     "metadata": {},
     "output_type": "display_data"
    }
   ],
   "source": [
    "emp1=emp[(emp.Age>=28)&(emp.Age<=40)]\n",
    "emp1['JobRole'].value_counts().plot(kind='pie',autopct='%.2f%%')"
   ]
  },
  {
   "cell_type": "code",
   "execution_count": 97,
   "id": "381a75f1",
   "metadata": {},
   "outputs": [],
   "source": [
    "#in the age group of 28-40 most employee are from job role sales executive and reserch scientist \n",
    "#least employee of this age group are in the job role manager and reserch director"
   ]
  },
  {
   "cell_type": "code",
   "execution_count": 98,
   "id": "06899a7d",
   "metadata": {},
   "outputs": [
    {
     "data": {
      "text/plain": [
       "<AxesSubplot:>"
      ]
     },
     "execution_count": 98,
     "metadata": {},
     "output_type": "execute_result"
    },
    {
     "data": {
      "image/png": "[encoded data removed]",
      "text/plain": [
       "<Figure size 432x288 with 1 Axes>"
      ]
     },
     "metadata": {
      "needs_background": "light"
     },
     "output_type": "display_data"
    }
   ],
   "source": [
    "emp1['JobRole'].value_counts().plot.bar()"
   ]
  },
  {
   "cell_type": "code",
   "execution_count": 99,
   "id": "6a7e0196",
   "metadata": {},
   "outputs": [],
   "source": [
    "#In the age group of 28 to 40 most of the employees are in the department sales executive and research scientist"
   ]
  },
  {
   "cell_type": "code",
   "execution_count": 100,
   "id": "aa80e5c1",
   "metadata": {},
   "outputs": [
    {
     "data": {
      "text/plain": [
       "<AxesSubplot:title={'center':'MonthlyIncome'}, xlabel='Attrition'>"
      ]
     },
     "execution_count": 100,
     "metadata": {},
     "output_type": "execute_result"
    },
    {
     "data": {
      "image/png": "[encoded data removed]",
      "text/plain": [
       "<Figure size 432x288 with 1 Axes>"
      ]
     },
     "metadata": {
      "needs_background": "light"
     },
     "output_type": "display_data"
    }
   ],
   "source": [
    "emp1.boxplot(by='Attrition',column=['MonthlyIncome'])"
   ]
  },
  {
   "cell_type": "code",
   "execution_count": 101,
   "id": "aee7719e",
   "metadata": {},
   "outputs": [],
   "source": [
    "# Age group of 28-40 those who are not attrited have a batter salary spread than those who are attrited"
   ]
  },
  {
   "cell_type": "markdown",
   "id": "dd25eaff",
   "metadata": {},
   "source": [
    "## 10. Is there any relation between the hourly rate of the employees with the employees who have left?"
   ]
  },
  {
   "cell_type": "code",
   "execution_count": 103,
   "id": "2289233b",
   "metadata": {},
   "outputs": [
    {
     "data": {
      "text/plain": [
       "<AxesSubplot:xlabel='YearsAtCompany', ylabel='count'>"
      ]
     },
     "execution_count": 103,
     "metadata": {},
     "output_type": "execute_result"
    },
    {
     "data": {
      "image/png": "[encoded data removed]",
      "text/plain": [
       "<Figure size 720x504 with 1 Axes>"
      ]
     },
     "metadata": {
      "needs_background": "light"
     },
     "output_type": "display_data"
    }
   ],
   "source": [
    "fig, ax = plt.subplots(figsize=(10,7))\n",
    "sb.countplot(x='YearsAtCompany',hue='Attrition',data=emp)"
   ]
  },
  {
   "cell_type": "code",
   "execution_count": 104,
   "id": "04142e2d",
   "metadata": {},
   "outputs": [],
   "source": [
    "#Most employee who are attrited have spent 0-10 year at the company "
   ]
  },
  {
   "cell_type": "code",
   "execution_count": 105,
   "id": "27a4aeab",
   "metadata": {},
   "outputs": [
    {
     "data": {
      "text/plain": [
       "<AxesSubplot:xlabel='HourlyRate', ylabel='count'>"
      ]
     },
     "execution_count": 105,
     "metadata": {},
     "output_type": "execute_result"
    },
    {
     "data": {
      "image/png": "[encoded data removed]",
      "text/plain": [
       "<Figure size 1440x864 with 1 Axes>"
      ]
     },
     "metadata": {
      "needs_background": "light"
     },
     "output_type": "display_data"
    }
   ],
   "source": [
    "fig, ax = plt.subplots(figsize=(20,12))\n",
    "sb.countplot(x='HourlyRate',hue='Attrition',data=emp)"
   ]
  },
  {
   "cell_type": "markdown",
   "id": "b4731488",
   "metadata": {},
   "source": [
    "## 11. Monthly Income analysis of the employees who have left and who are still with the firm."
   ]
  },
  {
   "cell_type": "code",
   "execution_count": 106,
   "id": "9ae0c735",
   "metadata": {},
   "outputs": [
    {
     "data": {
      "text/plain": [
       "<AxesSubplot:title={'center':'MonthlyIncome'}, xlabel='Attrition'>"
      ]
     },
     "execution_count": 106,
     "metadata": {},
     "output_type": "execute_result"
    },
    {
     "data": {
      "image/png": "[encoded data removed]",
      "text/plain": [
       "<Figure size 432x288 with 1 Axes>"
      ]
     },
     "metadata": {
      "needs_background": "light"
     },
     "output_type": "display_data"
    }
   ],
   "source": [
    "emp.boxplot(by='Attrition',column=['MonthlyIncome'])"
   ]
  },
  {
   "cell_type": "code",
   "execution_count": 107,
   "id": "93836e69",
   "metadata": {},
   "outputs": [
    {
     "data": {
      "text/plain": [
       "<AxesSubplot:ylabel='JobRole'>"
      ]
     },
     "execution_count": 107,
     "metadata": {},
     "output_type": "execute_result"
    },
    {
     "data": {
      "image/png": "[encoded data removed]",
      "text/plain": [
       "<Figure size 432x288 with 1 Axes>"
      ]
     },
     "metadata": {},
     "output_type": "display_data"
    }
   ],
   "source": [
    "emp1=emp[(emp.MonthlyIncome<6000)]\n",
    "emp1['JobRole'].value_counts().plot(kind='pie',autopct='%.2f%%')"
   ]
  },
  {
   "cell_type": "code",
   "execution_count": 108,
   "id": "6f1c32ce",
   "metadata": {},
   "outputs": [],
   "source": [
    "# Those who have monthly income less than 6000 most are in the jobroles research scientist  and  laborotory technicion"
   ]
  },
  {
   "cell_type": "code",
   "execution_count": 109,
   "id": "c16a6980",
   "metadata": {},
   "outputs": [
    {
     "data": {
      "text/plain": [
       "<AxesSubplot:>"
      ]
     },
     "execution_count": 109,
     "metadata": {},
     "output_type": "execute_result"
    },
    {
     "data": {
      "image/png": "[encoded data removed]",
      "text/plain": [
       "<Figure size 432x288 with 1 Axes>"
      ]
     },
     "metadata": {
      "needs_background": "light"
     },
     "output_type": "display_data"
    }
   ],
   "source": [
    "emp1['JobRole'].value_counts().plot.bar()"
   ]
  },
  {
   "cell_type": "code",
   "execution_count": 110,
   "id": "76c9a64b",
   "metadata": {},
   "outputs": [],
   "source": [
    "#employee with monthly income less than 6000 most are in the jobroles research scientist  and  laborotory technicion"
   ]
  },
  {
   "cell_type": "code",
   "execution_count": 111,
   "id": "ce689c6f",
   "metadata": {},
   "outputs": [],
   "source": [
    "emp1=emp[(emp.TotalWorkingYears<20)]"
   ]
  },
  {
   "cell_type": "code",
   "execution_count": 112,
   "id": "1911bf88",
   "metadata": {},
   "outputs": [
    {
     "data": {
      "text/plain": [
       "<AxesSubplot:title={'center':'MonthlyIncome'}, xlabel='TotalWorkingYears'>"
      ]
     },
     "execution_count": 112,
     "metadata": {},
     "output_type": "execute_result"
    },
    {
     "data": {
      "image/png": "[encoded data removed]",
      "text/plain": [
       "<Figure size 432x288 with 1 Axes>"
      ]
     },
     "metadata": {
      "needs_background": "light"
     },
     "output_type": "display_data"
    }
   ],
   "source": [
    "emp1.boxplot(by='TotalWorkingYears',column=['MonthlyIncome'])"
   ]
  },
  {
   "cell_type": "code",
   "execution_count": 113,
   "id": "933b88b8",
   "metadata": {},
   "outputs": [],
   "source": [
    "#less total working years have less spread of salary , i.e employee with less working years are likely to \n",
    "#get less salary resulting in them not being attrited"
   ]
  },
  {
   "cell_type": "code",
   "execution_count": 114,
   "id": "1dc9a7ba",
   "metadata": {},
   "outputs": [],
   "source": [
    "emp2=emp[(emp.Attrition=='Yes')]\n",
    "emp3=emp[(emp.Attrition=='No')]"
   ]
  },
  {
   "cell_type": "code",
   "execution_count": 115,
   "id": "f94fb393",
   "metadata": {},
   "outputs": [
    {
     "data": {
      "text/plain": [
       "<AxesSubplot:xlabel='MonthlyIncome', ylabel='TotalWorkingYears'>"
      ]
     },
     "execution_count": 115,
     "metadata": {},
     "output_type": "execute_result"
    },
    {
     "data": {
      "image/png": "[encoded data removed]",
      "text/plain": [
       "<Figure size 1080x432 with 1 Axes>"
      ]
     },
     "metadata": {
      "needs_background": "light"
     },
     "output_type": "display_data"
    }
   ],
   "source": [
    "plt.figure(figsize=(15,6))\n",
    "sb.regplot(x='MonthlyIncome',y='TotalWorkingYears',data=emp2)"
   ]
  },
  {
   "cell_type": "code",
   "execution_count": 116,
   "id": "4bf40844",
   "metadata": {},
   "outputs": [
    {
     "data": {
      "text/plain": [
       "0.7422769898762983"
      ]
     },
     "execution_count": 116,
     "metadata": {},
     "output_type": "execute_result"
    }
   ],
   "source": [
    "emp2['MonthlyIncome'].corr(emp2['TotalWorkingYears'])"
   ]
  },
  {
   "cell_type": "code",
   "execution_count": 117,
   "id": "cc171c2f",
   "metadata": {},
   "outputs": [
    {
     "data": {
      "text/plain": [
       "<AxesSubplot:xlabel='MonthlyIncome', ylabel='TotalWorkingYears'>"
      ]
     },
     "execution_count": 117,
     "metadata": {},
     "output_type": "execute_result"
    },
    {
     "data": {
      "image/png": "[encoded data removed]",
      "text/plain": [
       "<Figure size 1080x432 with 1 Axes>"
      ]
     },
     "metadata": {
      "needs_background": "light"
     },
     "output_type": "display_data"
    }
   ],
   "source": [
    "plt.figure(figsize=(15,6))\n",
    "sb.regplot(x='MonthlyIncome',y='TotalWorkingYears',data=emp3)"
   ]
  },
  {
   "cell_type": "code",
   "execution_count": 118,
   "id": "6d0c14b0",
   "metadata": {},
   "outputs": [
    {
     "data": {
      "text/plain": [
       "0.7716382910867136"
      ]
     },
     "execution_count": 118,
     "metadata": {},
     "output_type": "execute_result"
    }
   ],
   "source": [
    "emp3['MonthlyIncome'].corr(emp3['TotalWorkingYears'])"
   ]
  },
  {
   "cell_type": "code",
   "execution_count": 119,
   "id": "baa217b5",
   "metadata": {},
   "outputs": [],
   "source": [
    "#monthly income for employees who are attrited and who arent attrited are strong positively correlated with totalworkyears\n",
    "#as monthly income increase total working years increases"
   ]
  },
  {
   "cell_type": "markdown",
   "id": "9b2ed822",
   "metadata": {},
   "source": [
    "## 12. How distance from home is impacting the attrition of employees?"
   ]
  },
  {
   "cell_type": "code",
   "execution_count": 120,
   "id": "b8ea894b",
   "metadata": {},
   "outputs": [
    {
     "data": {
      "text/plain": [
       "<AxesSubplot:xlabel='DistanceFromHome', ylabel='count'>"
      ]
     },
     "execution_count": 120,
     "metadata": {},
     "output_type": "execute_result"
    },
    {
     "data": {
      "image/png": "[encoded data removed]",
      "text/plain": [
       "<Figure size 432x288 with 1 Axes>"
      ]
     },
     "metadata": {
      "needs_background": "light"
     },
     "output_type": "display_data"
    }
   ],
   "source": [
    " sb.countplot(x='DistanceFromHome',hue='Attrition',data=emp)"
   ]
  },
  {
   "cell_type": "code",
   "execution_count": 121,
   "id": "95258a24",
   "metadata": {},
   "outputs": [],
   "source": [
    "# most of employee who arent attrited have distance from home 1-10km"
   ]
  },
  {
   "cell_type": "code",
   "execution_count": 122,
   "id": "da92d0d1",
   "metadata": {},
   "outputs": [],
   "source": [
    "emp1=emp[(emp.DistanceFromHome>=7)]\n",
    "emp2=emp[(emp.DistanceFromHome<7)]"
   ]
  },
  {
   "cell_type": "code",
   "execution_count": 123,
   "id": "dd9faaab",
   "metadata": {},
   "outputs": [
    {
     "data": {
      "text/plain": [
       "Sales Executive              185\n",
       "Research Scientist           144\n",
       "Laboratory Technician        141\n",
       "Manufacturing Director        77\n",
       "Healthcare Representative     75\n",
       "Sales Representative          45\n",
       "Research Director             42\n",
       "Manager                       41\n",
       "Human Resources               24\n",
       "Name: JobRole, dtype: int64"
      ]
     },
     "execution_count": 123,
     "metadata": {},
     "output_type": "execute_result"
    }
   ],
   "source": [
    "emp1['JobRole'].value_counts()"
   ]
  },
  {
   "cell_type": "code",
   "execution_count": 124,
   "id": "2ec14267",
   "metadata": {},
   "outputs": [
    {
     "data": {
      "text/plain": [
       "<AxesSubplot:>"
      ]
     },
     "execution_count": 124,
     "metadata": {},
     "output_type": "execute_result"
    },
    {
     "data": {
      "image/png": "[encoded data removed]",
      "text/plain": [
       "<Figure size 432x288 with 1 Axes>"
      ]
     },
     "metadata": {
      "needs_background": "light"
     },
     "output_type": "display_data"
    }
   ],
   "source": [
    "emp1['JobRole'].value_counts().plot.bar()"
   ]
  },
  {
   "cell_type": "code",
   "execution_count": 125,
   "id": "c7bdd07e",
   "metadata": {},
   "outputs": [
    {
     "data": {
      "text/plain": [
       "<AxesSubplot:ylabel='JobRole'>"
      ]
     },
     "execution_count": 125,
     "metadata": {},
     "output_type": "execute_result"
    },
    {
     "data": {
      "image/png": "[encoded data removed]",
      "text/plain": [
       "<Figure size 432x288 with 1 Axes>"
      ]
     },
     "metadata": {},
     "output_type": "display_data"
    }
   ],
   "source": [
    "emp1['JobRole'].value_counts().plot(kind='pie',autopct='%.2f%%')"
   ]
  },
  {
   "cell_type": "code",
   "execution_count": 126,
   "id": "08a6c8a9",
   "metadata": {},
   "outputs": [],
   "source": [
    "#Employee have distance from home >=7km are in the jobroles sales executive and reserach scientist"
   ]
  },
  {
   "cell_type": "code",
   "execution_count": 127,
   "id": "1b3376bf",
   "metadata": {},
   "outputs": [
    {
     "data": {
      "text/plain": [
       "<AxesSubplot:title={'center':'MonthlyIncome'}, xlabel='Attrition'>"
      ]
     },
     "execution_count": 127,
     "metadata": {},
     "output_type": "execute_result"
    },
    {
     "data": {
      "image/png": "[encoded data removed]",
      "text/plain": [
       "<Figure size 432x288 with 1 Axes>"
      ]
     },
     "metadata": {
      "needs_background": "light"
     },
     "output_type": "display_data"
    }
   ],
   "source": [
    "emp1.boxplot(by='Attrition',column=['MonthlyIncome'])"
   ]
  },
  {
   "cell_type": "code",
   "execution_count": 128,
   "id": "e5f60daa",
   "metadata": {},
   "outputs": [
    {
     "data": {
      "text/plain": [
       "<AxesSubplot:title={'center':'MonthlyIncome'}, xlabel='Attrition'>"
      ]
     },
     "execution_count": 128,
     "metadata": {},
     "output_type": "execute_result"
    },
    {
     "data": {
      "image/png": "[encoded data removed]",
      "text/plain": [
       "<Figure size 432x288 with 1 Axes>"
      ]
     },
     "metadata": {
      "needs_background": "light"
     },
     "output_type": "display_data"
    }
   ],
   "source": [
    "emp2.boxplot(by='Attrition',column=['MonthlyIncome'])"
   ]
  },
  {
   "cell_type": "code",
   "execution_count": 129,
   "id": "5a665c37",
   "metadata": {},
   "outputs": [],
   "source": [
    "# those who have distance from home >7km  have batter salary spread from non attrited employees"
   ]
  },
  {
   "cell_type": "code",
   "execution_count": 130,
   "id": "5ed50a07",
   "metadata": {},
   "outputs": [
    {
     "data": {
      "text/plain": [
       "3    393\n",
       "2    194\n",
       "4     64\n",
       "1     40\n",
       "Name: JobInvolvement, dtype: int64"
      ]
     },
     "execution_count": 130,
     "metadata": {},
     "output_type": "execute_result"
    }
   ],
   "source": [
    "emp2['JobInvolvement'].value_counts()"
   ]
  },
  {
   "cell_type": "code",
   "execution_count": 132,
   "id": "97b2c652",
   "metadata": {},
   "outputs": [
    {
     "data": {
      "text/plain": [
       "<AxesSubplot:ylabel='JobInvolvement'>"
      ]
     },
     "execution_count": 132,
     "metadata": {},
     "output_type": "execute_result"
    },
    {
     "data": {
      "image/png": "[encoded data removed]",
      "text/plain": [
       "<Figure size 432x288 with 1 Axes>"
      ]
     },
     "metadata": {},
     "output_type": "display_data"
    }
   ],
   "source": [
    "emp2['JobInvolvement'].value_counts().plot(kind='pie',autopct='%.2f%%')"
   ]
  },
  {
   "cell_type": "code",
   "execution_count": 133,
   "id": "b4dfaac6",
   "metadata": {},
   "outputs": [],
   "source": [
    "# Job involvement for employee who are distance from home 7>km most of good involvement very few have the lowest involment role"
   ]
  },
  {
   "cell_type": "code",
   "execution_count": null,
   "id": "165269f5",
   "metadata": {},
   "outputs": [],
   "source": [
    "`"
   ]
  }
 ],
 "metadata": {
  "kernelspec": {
   "display_name": "Python 3 (ipykernel)",
   "language": "python",
   "name": "python3"
  },
  "language_info": {
   "codemirror_mode": {
    "name": "ipython",
    "version": 3
   },
   "file_extension": ".py",
   "mimetype": "text/x-python",
   "name": "python",
   "nbconvert_exporter": "python",
   "pygments_lexer": "ipython3",
   "version": "3.9.12"
  }
 },
 "nbformat": 4,
 "nbformat_minor": 5
}
