{
 "cells": [
  {
   "cell_type": "code",
   "execution_count": 1,
   "id": "2537d100",
   "metadata": {},
   "outputs": [],
   "source": [
    "import pandas as pd\n",
    "import numpy as np\n",
    "import statistics as st \n",
    "import matplotlib.pyplot as plt \n",
    "import seaborn as sb \n",
    "from scipy.stats import binom\n",
    "from scipy.stats import poisson\n",
    "from scipy.stats import kurtosis,skew\n",
    "from scipy.stats import norm\n",
    "\n",
    "import warnings \n",
    "warnings.filterwarnings('ignore')\n"
   ]
  },
  {
   "cell_type": "markdown",
   "id": "25b6d1d3",
   "metadata": {},
   "source": [
    "## Task 1"
   ]
  },
  {
   "cell_type": "code",
   "execution_count": 3,
   "id": "259aa465",
   "metadata": {},
   "outputs": [
    {
     "data": {
      "image/png": "[encoded data removed]",
      "text/plain": [
       "<Figure size 432x288 with 1 Axes>"
      ]
     },
     "metadata": {
      "needs_background": "light"
     },
     "output_type": "display_data"
    }
   ],
   "source": [
    "mean = 1332\n",
    "sd = 725\n",
    "lower=mean-3*sd\n",
    "upper=mean+3*sd\n",
    "\n",
    "normdist=np.arange(lower,upper)\n",
    "plt.plot(normdist,norm.pdf(normdist,mean,sd));"
   ]
  },
  {
   "cell_type": "markdown",
   "id": "fea93b09",
   "metadata": {},
   "source": [
    "## A \n",
    "Propotion of tax returns greater than $2000"
   ]
  },
  {
   "cell_type": "code",
   "execution_count": 5,
   "id": "cd61fde0",
   "metadata": {},
   "outputs": [
    {
     "name": "stdout",
     "output_type": "stream",
     "text": [
      "z-score = 0.9213793103448276\n"
     ]
    }
   ],
   "source": [
    "data=2000\n",
    "z_score=(data-mean)/sd\n",
    "print('z-score = '+str(z_score))"
   ]
  },
  {
   "cell_type": "code",
   "execution_count": 6,
   "id": "750c576c",
   "metadata": {},
   "outputs": [
    {
     "name": "stdout",
     "output_type": "stream",
     "text": [
      "Propotion of tax return greater than $2000 is  0.1784262133979203\n"
     ]
    }
   ],
   "source": [
    "print('Propotion of tax return greater than $2000 is ',(1-norm.cdf(z_score)))"
   ]
  },
  {
   "cell_type": "markdown",
   "id": "0d03b648",
   "metadata": {},
   "source": [
    "## B\n",
    "Propotion of tax indicates taxpayer owes money to govt"
   ]
  },
  {
   "cell_type": "code",
   "execution_count": 7,
   "id": "677d8ef0",
   "metadata": {},
   "outputs": [
    {
     "name": "stdout",
     "output_type": "stream",
     "text": [
      "z-score = -1.8372413793103448\n"
     ]
    }
   ],
   "source": [
    "data=0\n",
    "z_score= (data-mean)/sd\n",
    "print('z-score = '+str(z_score))"
   ]
  },
  {
   "cell_type": "code",
   "execution_count": 9,
   "id": "3135edd1",
   "metadata": {},
   "outputs": [
    {
     "name": "stdout",
     "output_type": "stream",
     "text": [
      "Propotion of tax that indicates tax payer own money to govt is   0.03308713475892688\n"
     ]
    }
   ],
   "source": [
    "print('Propotion of tax that indicates tax payer own money to govt is  ',(norm.cdf(z_score)))"
   ]
  },
  {
   "cell_type": "markdown",
   "id": "7de9addb",
   "metadata": {},
   "source": [
    "## C \n",
    "Proption of tax that indicates a refund between 100 and 700"
   ]
  },
  {
   "cell_type": "code",
   "execution_count": 17,
   "id": "59de53d4",
   "metadata": {},
   "outputs": [
    {
     "name": "stdout",
     "output_type": "stream",
     "text": [
      "probablity of occurence in between 2000and 2900 :  -0.147\n"
     ]
    }
   ],
   "source": [
    "s=100\n",
    "\n",
    "z1=(s-mean)/sd\n",
    "p=norm.cdf(z1)\n",
    "\n",
    "s1=700\n",
    "z2=(s1-mean)/sd\n",
    "p1=norm.cdf(z2)\n",
    "p2=1-p\n",
    "p3=p2+p1\n",
    "p4=1-p3\n",
    "p5=round(p4,3)\n",
    "print('probablity of occurence in between 2000and 2900 : ',p5)\n"
   ]
  },
  {
   "cell_type": "markdown",
   "id": "9350f725",
   "metadata": {},
   "source": [
    "## Task 2"
   ]
  },
  {
   "cell_type": "markdown",
   "id": "41e318bc",
   "metadata": {},
   "source": [
    "## A\n",
    "Extract sample data using an appropriate samplling technique. (make sure that minimum sample size is 50)."
   ]
  },
  {
   "cell_type": "code",
   "execution_count": 19,
   "id": "f7e1a35c",
   "metadata": {},
   "outputs": [
    {
     "data": {
      "text/html": [
       "<div>\n",
       "<style scoped>\n",
       "    .dataframe tbody tr th:only-of-type {\n",
       "        vertical-align: middle;\n",
       "    }\n",
       "\n",
       "    .dataframe tbody tr th {\n",
       "        vertical-align: top;\n",
       "    }\n",
       "\n",
       "    .dataframe thead th {\n",
       "        text-align: right;\n",
       "    }\n",
       "</style>\n",
       "<table border=\"1\" class=\"dataframe\">\n",
       "  <thead>\n",
       "    <tr style=\"text-align: right;\">\n",
       "      <th></th>\n",
       "      <th>index</th>\n",
       "      <th>price</th>\n",
       "      <th>speed</th>\n",
       "      <th>hd</th>\n",
       "      <th>ram</th>\n",
       "      <th>screen</th>\n",
       "      <th>cd</th>\n",
       "      <th>multi</th>\n",
       "      <th>premium</th>\n",
       "      <th>ads</th>\n",
       "      <th>trend</th>\n",
       "    </tr>\n",
       "  </thead>\n",
       "  <tbody>\n",
       "    <tr>\n",
       "      <th>0</th>\n",
       "      <td>1</td>\n",
       "      <td>1499</td>\n",
       "      <td>25</td>\n",
       "      <td>80</td>\n",
       "      <td>4</td>\n",
       "      <td>14</td>\n",
       "      <td>no</td>\n",
       "      <td>no</td>\n",
       "      <td>yes</td>\n",
       "      <td>94</td>\n",
       "      <td>1</td>\n",
       "    </tr>\n",
       "    <tr>\n",
       "      <th>1</th>\n",
       "      <td>2</td>\n",
       "      <td>1795</td>\n",
       "      <td>33</td>\n",
       "      <td>85</td>\n",
       "      <td>2</td>\n",
       "      <td>14</td>\n",
       "      <td>no</td>\n",
       "      <td>no</td>\n",
       "      <td>yes</td>\n",
       "      <td>94</td>\n",
       "      <td>1</td>\n",
       "    </tr>\n",
       "    <tr>\n",
       "      <th>2</th>\n",
       "      <td>3</td>\n",
       "      <td>1595</td>\n",
       "      <td>25</td>\n",
       "      <td>170</td>\n",
       "      <td>4</td>\n",
       "      <td>15</td>\n",
       "      <td>no</td>\n",
       "      <td>no</td>\n",
       "      <td>yes</td>\n",
       "      <td>94</td>\n",
       "      <td>1</td>\n",
       "    </tr>\n",
       "    <tr>\n",
       "      <th>3</th>\n",
       "      <td>4</td>\n",
       "      <td>1849</td>\n",
       "      <td>25</td>\n",
       "      <td>170</td>\n",
       "      <td>8</td>\n",
       "      <td>14</td>\n",
       "      <td>no</td>\n",
       "      <td>no</td>\n",
       "      <td>no</td>\n",
       "      <td>94</td>\n",
       "      <td>1</td>\n",
       "    </tr>\n",
       "    <tr>\n",
       "      <th>4</th>\n",
       "      <td>5</td>\n",
       "      <td>3295</td>\n",
       "      <td>33</td>\n",
       "      <td>340</td>\n",
       "      <td>16</td>\n",
       "      <td>14</td>\n",
       "      <td>no</td>\n",
       "      <td>no</td>\n",
       "      <td>yes</td>\n",
       "      <td>94</td>\n",
       "      <td>1</td>\n",
       "    </tr>\n",
       "  </tbody>\n",
       "</table>\n",
       "</div>"
      ],
      "text/plain": [
       "   index  price  speed   hd  ram  screen  cd multi premium  ads  trend\n",
       "0      1   1499     25   80    4      14  no    no     yes   94      1\n",
       "1      2   1795     33   85    2      14  no    no     yes   94      1\n",
       "2      3   1595     25  170    4      15  no    no     yes   94      1\n",
       "3      4   1849     25  170    8      14  no    no      no   94      1\n",
       "4      5   3295     33  340   16      14  no    no     yes   94      1"
      ]
     },
     "execution_count": 19,
     "metadata": {},
     "output_type": "execute_result"
    }
   ],
   "source": [
    "com_df=pd.read_csv('DS1_C5_S5_Continuous_Practice_Computers_Data.csv')\n",
    "com_df.head()"
   ]
  },
  {
   "cell_type": "code",
   "execution_count": 21,
   "id": "fcc5b4f7",
   "metadata": {
    "scrolled": true
   },
   "outputs": [
    {
     "data": {
      "text/html": [
       "<div>\n",
       "<style scoped>\n",
       "    .dataframe tbody tr th:only-of-type {\n",
       "        vertical-align: middle;\n",
       "    }\n",
       "\n",
       "    .dataframe tbody tr th {\n",
       "        vertical-align: top;\n",
       "    }\n",
       "\n",
       "    .dataframe thead th {\n",
       "        text-align: right;\n",
       "    }\n",
       "</style>\n",
       "<table border=\"1\" class=\"dataframe\">\n",
       "  <thead>\n",
       "    <tr style=\"text-align: right;\">\n",
       "      <th></th>\n",
       "      <th>index</th>\n",
       "      <th>price</th>\n",
       "      <th>speed</th>\n",
       "      <th>hd</th>\n",
       "      <th>ram</th>\n",
       "      <th>screen</th>\n",
       "      <th>cd</th>\n",
       "      <th>multi</th>\n",
       "      <th>premium</th>\n",
       "      <th>ads</th>\n",
       "      <th>trend</th>\n",
       "    </tr>\n",
       "  </thead>\n",
       "  <tbody>\n",
       "    <tr>\n",
       "      <th>5157</th>\n",
       "      <td>5158</td>\n",
       "      <td>1758</td>\n",
       "      <td>50</td>\n",
       "      <td>545</td>\n",
       "      <td>4</td>\n",
       "      <td>17</td>\n",
       "      <td>yes</td>\n",
       "      <td>no</td>\n",
       "      <td>yes</td>\n",
       "      <td>182</td>\n",
       "      <td>24</td>\n",
       "    </tr>\n",
       "    <tr>\n",
       "      <th>235</th>\n",
       "      <td>236</td>\n",
       "      <td>2295</td>\n",
       "      <td>66</td>\n",
       "      <td>130</td>\n",
       "      <td>4</td>\n",
       "      <td>14</td>\n",
       "      <td>no</td>\n",
       "      <td>no</td>\n",
       "      <td>yes</td>\n",
       "      <td>100</td>\n",
       "      <td>3</td>\n",
       "    </tr>\n",
       "    <tr>\n",
       "      <th>3980</th>\n",
       "      <td>3981</td>\n",
       "      <td>2095</td>\n",
       "      <td>66</td>\n",
       "      <td>426</td>\n",
       "      <td>8</td>\n",
       "      <td>14</td>\n",
       "      <td>yes</td>\n",
       "      <td>no</td>\n",
       "      <td>yes</td>\n",
       "      <td>273</td>\n",
       "      <td>18</td>\n",
       "    </tr>\n",
       "    <tr>\n",
       "      <th>5192</th>\n",
       "      <td>5193</td>\n",
       "      <td>1528</td>\n",
       "      <td>33</td>\n",
       "      <td>428</td>\n",
       "      <td>4</td>\n",
       "      <td>17</td>\n",
       "      <td>no</td>\n",
       "      <td>no</td>\n",
       "      <td>yes</td>\n",
       "      <td>182</td>\n",
       "      <td>24</td>\n",
       "    </tr>\n",
       "    <tr>\n",
       "      <th>905</th>\n",
       "      <td>906</td>\n",
       "      <td>1899</td>\n",
       "      <td>25</td>\n",
       "      <td>120</td>\n",
       "      <td>4</td>\n",
       "      <td>14</td>\n",
       "      <td>no</td>\n",
       "      <td>no</td>\n",
       "      <td>no</td>\n",
       "      <td>249</td>\n",
       "      <td>7</td>\n",
       "    </tr>\n",
       "    <tr>\n",
       "      <th>2763</th>\n",
       "      <td>2764</td>\n",
       "      <td>1490</td>\n",
       "      <td>33</td>\n",
       "      <td>107</td>\n",
       "      <td>2</td>\n",
       "      <td>14</td>\n",
       "      <td>no</td>\n",
       "      <td>no</td>\n",
       "      <td>yes</td>\n",
       "      <td>292</td>\n",
       "      <td>14</td>\n",
       "    </tr>\n",
       "    <tr>\n",
       "      <th>2895</th>\n",
       "      <td>2896</td>\n",
       "      <td>2299</td>\n",
       "      <td>50</td>\n",
       "      <td>450</td>\n",
       "      <td>8</td>\n",
       "      <td>15</td>\n",
       "      <td>no</td>\n",
       "      <td>no</td>\n",
       "      <td>yes</td>\n",
       "      <td>267</td>\n",
       "      <td>15</td>\n",
       "    </tr>\n",
       "    <tr>\n",
       "      <th>5056</th>\n",
       "      <td>5057</td>\n",
       "      <td>1890</td>\n",
       "      <td>33</td>\n",
       "      <td>528</td>\n",
       "      <td>8</td>\n",
       "      <td>14</td>\n",
       "      <td>yes</td>\n",
       "      <td>no</td>\n",
       "      <td>yes</td>\n",
       "      <td>182</td>\n",
       "      <td>24</td>\n",
       "    </tr>\n",
       "    <tr>\n",
       "      <th>144</th>\n",
       "      <td>145</td>\n",
       "      <td>3995</td>\n",
       "      <td>66</td>\n",
       "      <td>452</td>\n",
       "      <td>8</td>\n",
       "      <td>14</td>\n",
       "      <td>no</td>\n",
       "      <td>no</td>\n",
       "      <td>yes</td>\n",
       "      <td>95</td>\n",
       "      <td>2</td>\n",
       "    </tr>\n",
       "    <tr>\n",
       "      <th>4225</th>\n",
       "      <td>4226</td>\n",
       "      <td>2018</td>\n",
       "      <td>50</td>\n",
       "      <td>340</td>\n",
       "      <td>8</td>\n",
       "      <td>17</td>\n",
       "      <td>yes</td>\n",
       "      <td>no</td>\n",
       "      <td>yes</td>\n",
       "      <td>225</td>\n",
       "      <td>19</td>\n",
       "    </tr>\n",
       "    <tr>\n",
       "      <th>2797</th>\n",
       "      <td>2798</td>\n",
       "      <td>1495</td>\n",
       "      <td>33</td>\n",
       "      <td>212</td>\n",
       "      <td>4</td>\n",
       "      <td>14</td>\n",
       "      <td>no</td>\n",
       "      <td>no</td>\n",
       "      <td>yes</td>\n",
       "      <td>292</td>\n",
       "      <td>14</td>\n",
       "    </tr>\n",
       "    <tr>\n",
       "      <th>3462</th>\n",
       "      <td>3463</td>\n",
       "      <td>2190</td>\n",
       "      <td>50</td>\n",
       "      <td>426</td>\n",
       "      <td>8</td>\n",
       "      <td>14</td>\n",
       "      <td>yes</td>\n",
       "      <td>no</td>\n",
       "      <td>yes</td>\n",
       "      <td>339</td>\n",
       "      <td>17</td>\n",
       "    </tr>\n",
       "    <tr>\n",
       "      <th>1202</th>\n",
       "      <td>1203</td>\n",
       "      <td>2470</td>\n",
       "      <td>50</td>\n",
       "      <td>340</td>\n",
       "      <td>8</td>\n",
       "      <td>15</td>\n",
       "      <td>yes</td>\n",
       "      <td>no</td>\n",
       "      <td>yes</td>\n",
       "      <td>298</td>\n",
       "      <td>8</td>\n",
       "    </tr>\n",
       "    <tr>\n",
       "      <th>5396</th>\n",
       "      <td>5397</td>\n",
       "      <td>2338</td>\n",
       "      <td>100</td>\n",
       "      <td>850</td>\n",
       "      <td>8</td>\n",
       "      <td>17</td>\n",
       "      <td>yes</td>\n",
       "      <td>no</td>\n",
       "      <td>yes</td>\n",
       "      <td>152</td>\n",
       "      <td>26</td>\n",
       "    </tr>\n",
       "    <tr>\n",
       "      <th>5374</th>\n",
       "      <td>5375</td>\n",
       "      <td>1795</td>\n",
       "      <td>33</td>\n",
       "      <td>528</td>\n",
       "      <td>8</td>\n",
       "      <td>14</td>\n",
       "      <td>yes</td>\n",
       "      <td>no</td>\n",
       "      <td>yes</td>\n",
       "      <td>158</td>\n",
       "      <td>25</td>\n",
       "    </tr>\n",
       "    <tr>\n",
       "      <th>4453</th>\n",
       "      <td>4454</td>\n",
       "      <td>2049</td>\n",
       "      <td>66</td>\n",
       "      <td>420</td>\n",
       "      <td>8</td>\n",
       "      <td>15</td>\n",
       "      <td>yes</td>\n",
       "      <td>yes</td>\n",
       "      <td>yes</td>\n",
       "      <td>248</td>\n",
       "      <td>20</td>\n",
       "    </tr>\n",
       "    <tr>\n",
       "      <th>2962</th>\n",
       "      <td>2963</td>\n",
       "      <td>2520</td>\n",
       "      <td>66</td>\n",
       "      <td>528</td>\n",
       "      <td>8</td>\n",
       "      <td>14</td>\n",
       "      <td>yes</td>\n",
       "      <td>no</td>\n",
       "      <td>yes</td>\n",
       "      <td>267</td>\n",
       "      <td>15</td>\n",
       "    </tr>\n",
       "    <tr>\n",
       "      <th>2516</th>\n",
       "      <td>2517</td>\n",
       "      <td>2344</td>\n",
       "      <td>66</td>\n",
       "      <td>214</td>\n",
       "      <td>4</td>\n",
       "      <td>14</td>\n",
       "      <td>no</td>\n",
       "      <td>no</td>\n",
       "      <td>yes</td>\n",
       "      <td>216</td>\n",
       "      <td>13</td>\n",
       "    </tr>\n",
       "    <tr>\n",
       "      <th>252</th>\n",
       "      <td>253</td>\n",
       "      <td>2395</td>\n",
       "      <td>33</td>\n",
       "      <td>170</td>\n",
       "      <td>8</td>\n",
       "      <td>14</td>\n",
       "      <td>no</td>\n",
       "      <td>no</td>\n",
       "      <td>yes</td>\n",
       "      <td>100</td>\n",
       "      <td>3</td>\n",
       "    </tr>\n",
       "    <tr>\n",
       "      <th>3562</th>\n",
       "      <td>3563</td>\n",
       "      <td>2044</td>\n",
       "      <td>25</td>\n",
       "      <td>426</td>\n",
       "      <td>8</td>\n",
       "      <td>14</td>\n",
       "      <td>yes</td>\n",
       "      <td>no</td>\n",
       "      <td>yes</td>\n",
       "      <td>339</td>\n",
       "      <td>17</td>\n",
       "    </tr>\n",
       "    <tr>\n",
       "      <th>4764</th>\n",
       "      <td>4765</td>\n",
       "      <td>1549</td>\n",
       "      <td>33</td>\n",
       "      <td>210</td>\n",
       "      <td>4</td>\n",
       "      <td>15</td>\n",
       "      <td>yes</td>\n",
       "      <td>yes</td>\n",
       "      <td>yes</td>\n",
       "      <td>162</td>\n",
       "      <td>22</td>\n",
       "    </tr>\n",
       "    <tr>\n",
       "      <th>562</th>\n",
       "      <td>563</td>\n",
       "      <td>2999</td>\n",
       "      <td>50</td>\n",
       "      <td>240</td>\n",
       "      <td>4</td>\n",
       "      <td>14</td>\n",
       "      <td>no</td>\n",
       "      <td>no</td>\n",
       "      <td>no</td>\n",
       "      <td>176</td>\n",
       "      <td>6</td>\n",
       "    </tr>\n",
       "    <tr>\n",
       "      <th>2628</th>\n",
       "      <td>2629</td>\n",
       "      <td>2095</td>\n",
       "      <td>33</td>\n",
       "      <td>426</td>\n",
       "      <td>8</td>\n",
       "      <td>14</td>\n",
       "      <td>yes</td>\n",
       "      <td>no</td>\n",
       "      <td>yes</td>\n",
       "      <td>292</td>\n",
       "      <td>14</td>\n",
       "    </tr>\n",
       "    <tr>\n",
       "      <th>3049</th>\n",
       "      <td>3050</td>\n",
       "      <td>1644</td>\n",
       "      <td>25</td>\n",
       "      <td>214</td>\n",
       "      <td>4</td>\n",
       "      <td>14</td>\n",
       "      <td>no</td>\n",
       "      <td>no</td>\n",
       "      <td>yes</td>\n",
       "      <td>267</td>\n",
       "      <td>15</td>\n",
       "    </tr>\n",
       "    <tr>\n",
       "      <th>753</th>\n",
       "      <td>754</td>\n",
       "      <td>2694</td>\n",
       "      <td>25</td>\n",
       "      <td>452</td>\n",
       "      <td>16</td>\n",
       "      <td>14</td>\n",
       "      <td>yes</td>\n",
       "      <td>no</td>\n",
       "      <td>yes</td>\n",
       "      <td>249</td>\n",
       "      <td>7</td>\n",
       "    </tr>\n",
       "    <tr>\n",
       "      <th>1527</th>\n",
       "      <td>1528</td>\n",
       "      <td>2744</td>\n",
       "      <td>25</td>\n",
       "      <td>528</td>\n",
       "      <td>16</td>\n",
       "      <td>14</td>\n",
       "      <td>no</td>\n",
       "      <td>no</td>\n",
       "      <td>yes</td>\n",
       "      <td>283</td>\n",
       "      <td>10</td>\n",
       "    </tr>\n",
       "    <tr>\n",
       "      <th>3550</th>\n",
       "      <td>3551</td>\n",
       "      <td>2345</td>\n",
       "      <td>33</td>\n",
       "      <td>425</td>\n",
       "      <td>8</td>\n",
       "      <td>17</td>\n",
       "      <td>yes</td>\n",
       "      <td>yes</td>\n",
       "      <td>yes</td>\n",
       "      <td>339</td>\n",
       "      <td>17</td>\n",
       "    </tr>\n",
       "    <tr>\n",
       "      <th>1888</th>\n",
       "      <td>1889</td>\n",
       "      <td>1799</td>\n",
       "      <td>33</td>\n",
       "      <td>230</td>\n",
       "      <td>4</td>\n",
       "      <td>14</td>\n",
       "      <td>no</td>\n",
       "      <td>no</td>\n",
       "      <td>yes</td>\n",
       "      <td>259</td>\n",
       "      <td>11</td>\n",
       "    </tr>\n",
       "    <tr>\n",
       "      <th>1110</th>\n",
       "      <td>1111</td>\n",
       "      <td>1944</td>\n",
       "      <td>25</td>\n",
       "      <td>214</td>\n",
       "      <td>4</td>\n",
       "      <td>14</td>\n",
       "      <td>no</td>\n",
       "      <td>no</td>\n",
       "      <td>yes</td>\n",
       "      <td>298</td>\n",
       "      <td>8</td>\n",
       "    </tr>\n",
       "    <tr>\n",
       "      <th>6121</th>\n",
       "      <td>6122</td>\n",
       "      <td>2373</td>\n",
       "      <td>100</td>\n",
       "      <td>1000</td>\n",
       "      <td>16</td>\n",
       "      <td>15</td>\n",
       "      <td>yes</td>\n",
       "      <td>yes</td>\n",
       "      <td>yes</td>\n",
       "      <td>51</td>\n",
       "      <td>32</td>\n",
       "    </tr>\n",
       "    <tr>\n",
       "      <th>1031</th>\n",
       "      <td>1032</td>\n",
       "      <td>1879</td>\n",
       "      <td>50</td>\n",
       "      <td>170</td>\n",
       "      <td>4</td>\n",
       "      <td>14</td>\n",
       "      <td>no</td>\n",
       "      <td>no</td>\n",
       "      <td>yes</td>\n",
       "      <td>298</td>\n",
       "      <td>8</td>\n",
       "    </tr>\n",
       "    <tr>\n",
       "      <th>4415</th>\n",
       "      <td>4416</td>\n",
       "      <td>2109</td>\n",
       "      <td>33</td>\n",
       "      <td>270</td>\n",
       "      <td>4</td>\n",
       "      <td>14</td>\n",
       "      <td>no</td>\n",
       "      <td>no</td>\n",
       "      <td>no</td>\n",
       "      <td>248</td>\n",
       "      <td>20</td>\n",
       "    </tr>\n",
       "    <tr>\n",
       "      <th>2877</th>\n",
       "      <td>2878</td>\n",
       "      <td>1999</td>\n",
       "      <td>66</td>\n",
       "      <td>450</td>\n",
       "      <td>4</td>\n",
       "      <td>14</td>\n",
       "      <td>no</td>\n",
       "      <td>no</td>\n",
       "      <td>yes</td>\n",
       "      <td>267</td>\n",
       "      <td>15</td>\n",
       "    </tr>\n",
       "    <tr>\n",
       "      <th>3606</th>\n",
       "      <td>3607</td>\n",
       "      <td>2690</td>\n",
       "      <td>100</td>\n",
       "      <td>426</td>\n",
       "      <td>8</td>\n",
       "      <td>15</td>\n",
       "      <td>yes</td>\n",
       "      <td>no</td>\n",
       "      <td>yes</td>\n",
       "      <td>339</td>\n",
       "      <td>17</td>\n",
       "    </tr>\n",
       "    <tr>\n",
       "      <th>1337</th>\n",
       "      <td>1338</td>\n",
       "      <td>1659</td>\n",
       "      <td>25</td>\n",
       "      <td>120</td>\n",
       "      <td>4</td>\n",
       "      <td>14</td>\n",
       "      <td>no</td>\n",
       "      <td>no</td>\n",
       "      <td>no</td>\n",
       "      <td>246</td>\n",
       "      <td>9</td>\n",
       "    </tr>\n",
       "    <tr>\n",
       "      <th>2561</th>\n",
       "      <td>2562</td>\n",
       "      <td>1795</td>\n",
       "      <td>33</td>\n",
       "      <td>240</td>\n",
       "      <td>4</td>\n",
       "      <td>14</td>\n",
       "      <td>yes</td>\n",
       "      <td>yes</td>\n",
       "      <td>yes</td>\n",
       "      <td>292</td>\n",
       "      <td>14</td>\n",
       "    </tr>\n",
       "    <tr>\n",
       "      <th>6016</th>\n",
       "      <td>6017</td>\n",
       "      <td>1645</td>\n",
       "      <td>66</td>\n",
       "      <td>850</td>\n",
       "      <td>8</td>\n",
       "      <td>14</td>\n",
       "      <td>yes</td>\n",
       "      <td>no</td>\n",
       "      <td>yes</td>\n",
       "      <td>75</td>\n",
       "      <td>30</td>\n",
       "    </tr>\n",
       "    <tr>\n",
       "      <th>4412</th>\n",
       "      <td>4413</td>\n",
       "      <td>2244</td>\n",
       "      <td>100</td>\n",
       "      <td>214</td>\n",
       "      <td>4</td>\n",
       "      <td>14</td>\n",
       "      <td>no</td>\n",
       "      <td>no</td>\n",
       "      <td>yes</td>\n",
       "      <td>248</td>\n",
       "      <td>20</td>\n",
       "    </tr>\n",
       "    <tr>\n",
       "      <th>5384</th>\n",
       "      <td>5385</td>\n",
       "      <td>1368</td>\n",
       "      <td>50</td>\n",
       "      <td>428</td>\n",
       "      <td>4</td>\n",
       "      <td>15</td>\n",
       "      <td>no</td>\n",
       "      <td>no</td>\n",
       "      <td>yes</td>\n",
       "      <td>158</td>\n",
       "      <td>25</td>\n",
       "    </tr>\n",
       "    <tr>\n",
       "      <th>728</th>\n",
       "      <td>729</td>\n",
       "      <td>2425</td>\n",
       "      <td>33</td>\n",
       "      <td>545</td>\n",
       "      <td>8</td>\n",
       "      <td>14</td>\n",
       "      <td>no</td>\n",
       "      <td>no</td>\n",
       "      <td>yes</td>\n",
       "      <td>249</td>\n",
       "      <td>7</td>\n",
       "    </tr>\n",
       "    <tr>\n",
       "      <th>431</th>\n",
       "      <td>432</td>\n",
       "      <td>2695</td>\n",
       "      <td>33</td>\n",
       "      <td>452</td>\n",
       "      <td>16</td>\n",
       "      <td>14</td>\n",
       "      <td>no</td>\n",
       "      <td>no</td>\n",
       "      <td>yes</td>\n",
       "      <td>139</td>\n",
       "      <td>5</td>\n",
       "    </tr>\n",
       "    <tr>\n",
       "      <th>4074</th>\n",
       "      <td>4075</td>\n",
       "      <td>2190</td>\n",
       "      <td>66</td>\n",
       "      <td>426</td>\n",
       "      <td>8</td>\n",
       "      <td>15</td>\n",
       "      <td>yes</td>\n",
       "      <td>no</td>\n",
       "      <td>yes</td>\n",
       "      <td>225</td>\n",
       "      <td>19</td>\n",
       "    </tr>\n",
       "    <tr>\n",
       "      <th>4729</th>\n",
       "      <td>4730</td>\n",
       "      <td>3244</td>\n",
       "      <td>50</td>\n",
       "      <td>1000</td>\n",
       "      <td>24</td>\n",
       "      <td>15</td>\n",
       "      <td>yes</td>\n",
       "      <td>no</td>\n",
       "      <td>yes</td>\n",
       "      <td>162</td>\n",
       "      <td>22</td>\n",
       "    </tr>\n",
       "    <tr>\n",
       "      <th>542</th>\n",
       "      <td>543</td>\n",
       "      <td>2799</td>\n",
       "      <td>33</td>\n",
       "      <td>240</td>\n",
       "      <td>4</td>\n",
       "      <td>14</td>\n",
       "      <td>no</td>\n",
       "      <td>no</td>\n",
       "      <td>no</td>\n",
       "      <td>176</td>\n",
       "      <td>6</td>\n",
       "    </tr>\n",
       "    <tr>\n",
       "      <th>1095</th>\n",
       "      <td>1096</td>\n",
       "      <td>1490</td>\n",
       "      <td>25</td>\n",
       "      <td>107</td>\n",
       "      <td>2</td>\n",
       "      <td>14</td>\n",
       "      <td>no</td>\n",
       "      <td>no</td>\n",
       "      <td>yes</td>\n",
       "      <td>298</td>\n",
       "      <td>8</td>\n",
       "    </tr>\n",
       "    <tr>\n",
       "      <th>5507</th>\n",
       "      <td>5508</td>\n",
       "      <td>1848</td>\n",
       "      <td>66</td>\n",
       "      <td>428</td>\n",
       "      <td>4</td>\n",
       "      <td>17</td>\n",
       "      <td>yes</td>\n",
       "      <td>yes</td>\n",
       "      <td>yes</td>\n",
       "      <td>152</td>\n",
       "      <td>26</td>\n",
       "    </tr>\n",
       "    <tr>\n",
       "      <th>1478</th>\n",
       "      <td>1479</td>\n",
       "      <td>1499</td>\n",
       "      <td>25</td>\n",
       "      <td>120</td>\n",
       "      <td>4</td>\n",
       "      <td>14</td>\n",
       "      <td>no</td>\n",
       "      <td>no</td>\n",
       "      <td>yes</td>\n",
       "      <td>246</td>\n",
       "      <td>9</td>\n",
       "    </tr>\n",
       "    <tr>\n",
       "      <th>3633</th>\n",
       "      <td>3634</td>\n",
       "      <td>2490</td>\n",
       "      <td>75</td>\n",
       "      <td>426</td>\n",
       "      <td>8</td>\n",
       "      <td>14</td>\n",
       "      <td>yes</td>\n",
       "      <td>no</td>\n",
       "      <td>yes</td>\n",
       "      <td>339</td>\n",
       "      <td>17</td>\n",
       "    </tr>\n",
       "    <tr>\n",
       "      <th>1337</th>\n",
       "      <td>1338</td>\n",
       "      <td>1659</td>\n",
       "      <td>25</td>\n",
       "      <td>120</td>\n",
       "      <td>4</td>\n",
       "      <td>14</td>\n",
       "      <td>no</td>\n",
       "      <td>no</td>\n",
       "      <td>no</td>\n",
       "      <td>246</td>\n",
       "      <td>9</td>\n",
       "    </tr>\n",
       "    <tr>\n",
       "      <th>4611</th>\n",
       "      <td>4612</td>\n",
       "      <td>3790</td>\n",
       "      <td>66</td>\n",
       "      <td>1000</td>\n",
       "      <td>24</td>\n",
       "      <td>15</td>\n",
       "      <td>yes</td>\n",
       "      <td>no</td>\n",
       "      <td>yes</td>\n",
       "      <td>205</td>\n",
       "      <td>21</td>\n",
       "    </tr>\n",
       "  </tbody>\n",
       "</table>\n",
       "</div>"
      ],
      "text/plain": [
       "      index  price  speed    hd  ram  screen   cd multi premium  ads  trend\n",
       "5157   5158   1758     50   545    4      17  yes    no     yes  182     24\n",
       "235     236   2295     66   130    4      14   no    no     yes  100      3\n",
       "3980   3981   2095     66   426    8      14  yes    no     yes  273     18\n",
       "5192   5193   1528     33   428    4      17   no    no     yes  182     24\n",
       "905     906   1899     25   120    4      14   no    no      no  249      7\n",
       "2763   2764   1490     33   107    2      14   no    no     yes  292     14\n",
       "2895   2896   2299     50   450    8      15   no    no     yes  267     15\n",
       "5056   5057   1890     33   528    8      14  yes    no     yes  182     24\n",
       "144     145   3995     66   452    8      14   no    no     yes   95      2\n",
       "4225   4226   2018     50   340    8      17  yes    no     yes  225     19\n",
       "2797   2798   1495     33   212    4      14   no    no     yes  292     14\n",
       "3462   3463   2190     50   426    8      14  yes    no     yes  339     17\n",
       "1202   1203   2470     50   340    8      15  yes    no     yes  298      8\n",
       "5396   5397   2338    100   850    8      17  yes    no     yes  152     26\n",
       "5374   5375   1795     33   528    8      14  yes    no     yes  158     25\n",
       "4453   4454   2049     66   420    8      15  yes   yes     yes  248     20\n",
       "2962   2963   2520     66   528    8      14  yes    no     yes  267     15\n",
       "2516   2517   2344     66   214    4      14   no    no     yes  216     13\n",
       "252     253   2395     33   170    8      14   no    no     yes  100      3\n",
       "3562   3563   2044     25   426    8      14  yes    no     yes  339     17\n",
       "4764   4765   1549     33   210    4      15  yes   yes     yes  162     22\n",
       "562     563   2999     50   240    4      14   no    no      no  176      6\n",
       "2628   2629   2095     33   426    8      14  yes    no     yes  292     14\n",
       "3049   3050   1644     25   214    4      14   no    no     yes  267     15\n",
       "753     754   2694     25   452   16      14  yes    no     yes  249      7\n",
       "1527   1528   2744     25   528   16      14   no    no     yes  283     10\n",
       "3550   3551   2345     33   425    8      17  yes   yes     yes  339     17\n",
       "1888   1889   1799     33   230    4      14   no    no     yes  259     11\n",
       "1110   1111   1944     25   214    4      14   no    no     yes  298      8\n",
       "6121   6122   2373    100  1000   16      15  yes   yes     yes   51     32\n",
       "1031   1032   1879     50   170    4      14   no    no     yes  298      8\n",
       "4415   4416   2109     33   270    4      14   no    no      no  248     20\n",
       "2877   2878   1999     66   450    4      14   no    no     yes  267     15\n",
       "3606   3607   2690    100   426    8      15  yes    no     yes  339     17\n",
       "1337   1338   1659     25   120    4      14   no    no      no  246      9\n",
       "2561   2562   1795     33   240    4      14  yes   yes     yes  292     14\n",
       "6016   6017   1645     66   850    8      14  yes    no     yes   75     30\n",
       "4412   4413   2244    100   214    4      14   no    no     yes  248     20\n",
       "5384   5385   1368     50   428    4      15   no    no     yes  158     25\n",
       "728     729   2425     33   545    8      14   no    no     yes  249      7\n",
       "431     432   2695     33   452   16      14   no    no     yes  139      5\n",
       "4074   4075   2190     66   426    8      15  yes    no     yes  225     19\n",
       "4729   4730   3244     50  1000   24      15  yes    no     yes  162     22\n",
       "542     543   2799     33   240    4      14   no    no      no  176      6\n",
       "1095   1096   1490     25   107    2      14   no    no     yes  298      8\n",
       "5507   5508   1848     66   428    4      17  yes   yes     yes  152     26\n",
       "1478   1479   1499     25   120    4      14   no    no     yes  246      9\n",
       "3633   3634   2490     75   426    8      14  yes    no     yes  339     17\n",
       "1337   1338   1659     25   120    4      14   no    no      no  246      9\n",
       "4611   4612   3790     66  1000   24      15  yes    no     yes  205     21"
      ]
     },
     "execution_count": 21,
     "metadata": {},
     "output_type": "execute_result"
    }
   ],
   "source": [
    "sample_data = com_df.sample(n=50, random_state=1 , replace = True)\n",
    "sample_data"
   ]
  },
  {
   "cell_type": "markdown",
   "id": "18bdb872",
   "metadata": {},
   "source": [
    "## B\n",
    "Calculate the centeral tendency and dispersion for the sample and population data to check if they are equal and justify the sample's normal distribution curve"
   ]
  },
  {
   "cell_type": "code",
   "execution_count": 23,
   "id": "238184bc",
   "metadata": {},
   "outputs": [
    {
     "name": "stdout",
     "output_type": "stream",
     "text": [
      "population mean = 2219.576609682058\n",
      "population SD = 580.8039556527063\n"
     ]
    }
   ],
   "source": [
    "#population mean and std \n",
    "data_p= com_df['price'].tolist()\n",
    "p_mean = st.mean(data_p)\n",
    "print('population mean = '+str(p_mean))\n",
    "p_sd = st.stdev(data_p)\n",
    "print(\"population SD = \"+str(p_sd))"
   ]
  },
  {
   "cell_type": "code",
   "execution_count": 24,
   "id": "fb6c4fde",
   "metadata": {},
   "outputs": [
    {
     "name": "stdout",
     "output_type": "stream",
     "text": [
      "sample mean = 2172.2\n",
      "sample SD = 559.9674188772786\n"
     ]
    }
   ],
   "source": [
    "#sample mean and std \n",
    "data_s= sample_data['price'].tolist()\n",
    "s_mean = st.mean(data_s)\n",
    "print('sample mean = '+str(s_mean))\n",
    "s_sd = st.stdev(data_s)\n",
    "print(\"sample SD = \"+str(s_sd))"
   ]
  },
  {
   "cell_type": "markdown",
   "id": "10f47c05",
   "metadata": {},
   "source": [
    "## C\n",
    "Draw the normal distribution plot of the population"
   ]
  },
  {
   "cell_type": "code",
   "execution_count": 25,
   "id": "378f43e3",
   "metadata": {},
   "outputs": [
    {
     "name": "stdout",
     "output_type": "stream",
     "text": [
      "[ 477.16474272  478.16474272  479.16474272 ... 3959.16474272 3960.16474272\n",
      " 3961.16474272]\n"
     ]
    },
    {
     "data": {
      "text/plain": [
       "[<matplotlib.lines.Line2D at 0x2271db54e20>]"
      ]
     },
     "execution_count": 25,
     "metadata": {},
     "output_type": "execute_result"
    },
    {
     "data": {
      "image/png": "[encoded data removed]",
      "text/plain": [
       "<Figure size 432x288 with 1 Axes>"
      ]
     },
     "metadata": {
      "needs_background": "light"
     },
     "output_type": "display_data"
    }
   ],
   "source": [
    "lower_p = p_mean-3*p_sd\n",
    "upper_p = p_mean+3*p_sd\n",
    "\n",
    "norm_p=np.arange(lower_p,upper_p)\n",
    "print(norm_p)\n",
    "plt.plot(norm_p,norm.pdf(norm_p,p_mean,p_sd))"
   ]
  },
  {
   "cell_type": "markdown",
   "id": "62d59a36",
   "metadata": {},
   "source": [
    "## D\n",
    "Draw the normal distribution plot of the sample"
   ]
  },
  {
   "cell_type": "code",
   "execution_count": 28,
   "id": "6e3b49b0",
   "metadata": {},
   "outputs": [
    {
     "name": "stdout",
     "output_type": "stream",
     "text": [
      "[ 539.67435305  540.67435305  541.67435305 ... 3896.67435305 3897.67435305\n",
      " 3898.67435305]\n"
     ]
    },
    {
     "data": {
      "text/plain": [
       "[<matplotlib.lines.Line2D at 0x2271dcd2c40>]"
      ]
     },
     "execution_count": 28,
     "metadata": {},
     "output_type": "execute_result"
    },
    {
     "data": {
      "image/png": "[encoded data removed]",
      "text/plain": [
       "<Figure size 432x288 with 1 Axes>"
      ]
     },
     "metadata": {
      "needs_background": "light"
     },
     "output_type": "display_data"
    }
   ],
   "source": [
    "lower_s = p_mean-3*s_sd\n",
    "upper_s = p_mean+3*s_sd\n",
    "\n",
    "norm_s=np.arange(lower_s,upper_s)\n",
    "print(norm_s)\n",
    "plt.plot(norm_s,norm.pdf(norm_s,s_mean,s_sd),color='red')"
   ]
  },
  {
   "cell_type": "code",
   "execution_count": 29,
   "id": "30106d2d",
   "metadata": {},
   "outputs": [
    {
     "data": {
      "text/plain": [
       "<function matplotlib.pyplot.legend(*args, **kwargs)>"
      ]
     },
     "execution_count": 29,
     "metadata": {},
     "output_type": "execute_result"
    },
    {
     "data": {
      "image/png": "[encoded data removed]",
      "text/plain": [
       "<Figure size 720x360 with 1 Axes>"
      ]
     },
     "metadata": {
      "needs_background": "light"
     },
     "output_type": "display_data"
    }
   ],
   "source": [
    "plt.figure(figsize=(10,5))\n",
    "plt.title('population dist vs sample dist')\n",
    "plt.plot(norm_p,norm.pdf(norm_p,p_mean,p_sd))\n",
    "plt.plot(norm_s,norm.pdf(norm_s,s_mean,s_sd),color='red')\n",
    "plt.legend"
   ]
  },
  {
   "cell_type": "markdown",
   "id": "999b2ef7",
   "metadata": {},
   "source": [
    "## E\n",
    "Calculate the Z_score"
   ]
  },
  {
   "cell_type": "code",
   "execution_count": 30,
   "id": "b5356add",
   "metadata": {
    "scrolled": true
   },
   "outputs": [
    {
     "name": "stdout",
     "output_type": "stream",
     "text": [
      "z-score = 5157   -0.739686\n",
      "235     0.219298\n",
      "3980   -0.137865\n",
      "5192   -1.150424\n",
      "905    -0.487886\n",
      "2763   -1.218285\n",
      "2895    0.226442\n",
      "5056   -0.503958\n",
      "144     3.255189\n",
      "4225   -0.275373\n",
      "2797   -1.209356\n",
      "3462    0.031788\n",
      "1202    0.531817\n",
      "5396    0.296089\n",
      "5374   -0.673611\n",
      "4453   -0.220013\n",
      "2962    0.621108\n",
      "2516    0.306804\n",
      "252     0.397880\n",
      "3562   -0.228942\n",
      "4764   -1.112922\n",
      "562     1.476514\n",
      "2628   -0.137865\n",
      "3049   -0.943269\n",
      "753     0.931840\n",
      "1527    1.021131\n",
      "3550    0.308589\n",
      "1888   -0.666467\n",
      "1110   -0.407524\n",
      "6121    0.358592\n",
      "1031   -0.523602\n",
      "4415   -0.112864\n",
      "2877   -0.309304\n",
      "3606    0.924697\n",
      "1337   -0.916482\n",
      "2561   -0.673611\n",
      "6016   -0.941483\n",
      "4412    0.128222\n",
      "5384   -1.436155\n",
      "728     0.451455\n",
      "431     0.933626\n",
      "4074    0.031788\n",
      "4729    1.914040\n",
      "542     1.119351\n",
      "1095   -1.218285\n",
      "5507   -0.578962\n",
      "1478   -1.202213\n",
      "3633    0.567533\n",
      "1337   -0.916482\n",
      "4611    2.889097\n",
      "Name: price, dtype: float64\n"
     ]
    }
   ],
   "source": [
    "sample_data['price']\n",
    "z_score=(sample_data['price']-s_mean)/s_sd\n",
    "print('z-score = '+str(z_score))"
   ]
  },
  {
   "cell_type": "markdown",
   "id": "1c4e9854",
   "metadata": {},
   "source": [
    "## F\n",
    "Calculate the prob value of z-score"
   ]
  },
  {
   "cell_type": "code",
   "execution_count": 31,
   "id": "d2f64719",
   "metadata": {
    "collapsed": true
   },
   "outputs": [
    {
     "name": "stdout",
     "output_type": "stream",
     "text": [
      "[0.22974531 0.58679122 0.44517349 0.12498462 0.31281546 0.11155781\n",
      " 0.58957107 0.30714548 0.99943342 0.39151478 0.11326304 0.51267927\n",
      " 0.70257351 0.61641881 0.25027945 0.41293059 0.73273557 0.62050355\n",
      " 0.65464079 0.40945704 0.13287099 0.93009708 0.44517349 0.17277162\n",
      " 0.82429037 0.84640377 0.62118305 0.25255621 0.34181169 0.64004994\n",
      " 0.30027773 0.4550693  0.37854525 0.82243814 0.1797071  0.25027945\n",
      " 0.17322861 0.55101325 0.07547912 0.67416912 0.82475151 0.51267927\n",
      " 0.97219247 0.86850475 0.11155781 0.28130732 0.11464055 0.71482395\n",
      " 0.1797071  0.99806825]\n"
     ]
    }
   ],
   "source": [
    "p_value = norm.cdf(z_score)\n",
    "print(p_value)"
   ]
  },
  {
   "cell_type": "code",
   "execution_count": 32,
   "id": "64402cfb",
   "metadata": {},
   "outputs": [
    {
     "name": "stdout",
     "output_type": "stream",
     "text": [
      "z_mean = 3.1974423109204507e-16\n",
      "z_std = 0.9999999999999999\n"
     ]
    }
   ],
   "source": [
    "z_mean = z_score.mean()\n",
    "z_std = st.stdev(z_score)\n",
    "print('z_mean = '+str(z_mean))\n",
    "print('z_std = '+str(z_std))"
   ]
  },
  {
   "cell_type": "markdown",
   "id": "b46118d3",
   "metadata": {},
   "source": [
    "## G\n",
    "Draw a standard normal probablity distribution curve"
   ]
  },
  {
   "cell_type": "code",
   "execution_count": 33,
   "id": "06620006",
   "metadata": {},
   "outputs": [
    {
     "data": {
      "text/plain": [
       "[<matplotlib.lines.Line2D at 0x2271ddb4f70>]"
      ]
     },
     "execution_count": 33,
     "metadata": {},
     "output_type": "execute_result"
    },
    {
     "data": {
      "image/png": "[encoded data removed]",
      "text/plain": [
       "<Figure size 432x288 with 1 Axes>"
      ]
     },
     "metadata": {
      "needs_background": "light"
     },
     "output_type": "display_data"
    }
   ],
   "source": [
    "lower_3 = z_mean-3*z_std\n",
    "upper_3 = z_mean+3*z_std\n",
    "norm_3 = np.arange(lower_3,upper_3)\n",
    "plt.plot(norm_3,norm.pdf(norm_3,z_mean,z_std),color = 'pink')"
   ]
  },
  {
   "cell_type": "markdown",
   "id": "eeebf964",
   "metadata": {},
   "source": [
    "## H\n",
    "Find prob of occurences of price grater than 2700\n"
   ]
  },
  {
   "cell_type": "code",
   "execution_count": 34,
   "id": "044a7a16",
   "metadata": {},
   "outputs": [
    {
     "name": "stdout",
     "output_type": "stream",
     "text": [
      "z score is =  0.9425548383836807\n",
      "probablity associated with z  = 0.9425548383836807 is  0.8270456754881867\n"
     ]
    }
   ],
   "source": [
    "sample_data2 = 2700\n",
    "z_scoreh=(sample_data2-s_mean)/s_sd\n",
    "print(\"z score is = \",z_scoreh)\n",
    "p_valueh=norm.cdf(z_scoreh)\n",
    "print(\"probablity associated with z  = \"+str(z_scoreh)+\" is \",p_valueh)"
   ]
  },
  {
   "cell_type": "code",
   "execution_count": 35,
   "id": "b5ce134c",
   "metadata": {},
   "outputs": [
    {
     "name": "stdout",
     "output_type": "stream",
     "text": [
      "therefore prob of occ of prices grater than 2700 is  0.17295432451181325\n"
     ]
    }
   ],
   "source": [
    "print(\"therefore prob of occ of prices grater than 2700 is \",1-p_valueh)"
   ]
  },
  {
   "cell_type": "markdown",
   "id": "050c4c69",
   "metadata": {},
   "source": [
    "## I\n",
    "find prob of occurence of price less than 1301\n"
   ]
  },
  {
   "cell_type": "code",
   "execution_count": 36,
   "id": "b2fd136d",
   "metadata": {},
   "outputs": [
    {
     "name": "stdout",
     "output_type": "stream",
     "text": [
      "z score is =  -1.5558048033343352\n",
      "probablity associated with z  = -1.5558048033343352 is  0.05987725780155912\n"
     ]
    }
   ],
   "source": [
    "sample_data3 = 1301\n",
    "z_scorei=(sample_data3-s_mean)/s_sd\n",
    "print(\"z score is = \",z_scorei)\n",
    "p_valuei=norm.cdf(z_scorei)\n",
    "print(\"probablity associated with z  = \"+str(z_scorei)+\" is \",p_valuei)"
   ]
  },
  {
   "cell_type": "markdown",
   "id": "01f1aa5c",
   "metadata": {},
   "source": [
    "## J\n",
    "find the prob of occurence of price between 2000 and 2900"
   ]
  },
  {
   "cell_type": "code",
   "execution_count": 37,
   "id": "e0c1cfeb",
   "metadata": {},
   "outputs": [
    {
     "name": "stdout",
     "output_type": "stream",
     "text": [
      "z score of 2000  -0.30751789156815\n",
      "z score of 2900 1.299718475512775\n"
     ]
    }
   ],
   "source": [
    "x1=2000\n",
    "x2=2900\n",
    "\n",
    "z1=(x1-s_mean)/s_sd\n",
    "z2=(x2-s_mean)/s_sd\n",
    "print('z score of 2000 ',z1)\n",
    "print('z score of 2900',z2)\n"
   ]
  },
  {
   "cell_type": "code",
   "execution_count": 38,
   "id": "e4ecf4b3",
   "metadata": {},
   "outputs": [
    {
     "name": "stdout",
     "output_type": "stream",
     "text": [
      "probablity associated with z = -0.30751789156815is 0.3792246034335828\n",
      "probablity associated with z = 1.299718475512775is 0.9031512621306502\n"
     ]
    }
   ],
   "source": [
    "p_valuez1=norm.cdf(z1)\n",
    "p_valuez2=norm.cdf(z2)\n",
    "print('probablity associated with z = '+str(z1)+'is',p_valuez1)\n",
    "print('probablity associated with z = '+str(z2)+'is',p_valuez2)"
   ]
  },
  {
   "cell_type": "code",
   "execution_count": 39,
   "id": "0e37ca93",
   "metadata": {},
   "outputs": [
    {
     "name": "stdout",
     "output_type": "stream",
     "text": [
      "therefore prob of occ of prices betwwen 2000 and 2900 is   0.5239266586970674\n"
     ]
    }
   ],
   "source": [
    "print(\"therefore prob of occ of prices betwwen 2000 and 2900 is  \",p_valuez2-p_valuez1)"
   ]
  },
  {
   "cell_type": "code",
   "execution_count": null,
   "id": "a02f19b7",
   "metadata": {},
   "outputs": [],
   "source": []
  }
 ],
 "metadata": {
  "kernelspec": {
   "display_name": "Python 3 (ipykernel)",
   "language": "python",
   "name": "python3"
  },
  "language_info": {
   "codemirror_mode": {
    "name": "ipython",
    "version": 3
   },
   "file_extension": ".py",
   "mimetype": "text/x-python",
   "name": "python",
   "nbconvert_exporter": "python",
   "pygments_lexer": "ipython3",
   "version": "3.9.12"
  }
 },
 "nbformat": 4,
 "nbformat_minor": 5
}
